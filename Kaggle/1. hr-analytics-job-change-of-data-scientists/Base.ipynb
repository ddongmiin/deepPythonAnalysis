{
 "cells": [
  {
   "cell_type": "markdown",
   "metadata": {},
   "source": [
    "# 0. Library & Problem"
   ]
  },
  {
   "cell_type": "markdown",
   "metadata": {},
   "source": [
    "[MainPage](https://www.kaggle.com/arashnic/hr-analytics-job-change-of-data-scientists)\n",
    "\n",
    "**문제 정의**\n",
    "* 누가 이직 결심을 하고 있는지?를 찾는 것 \n",
    "* 미싱 데이터 채우기(여러 컬럼들 간의 연관성 찾기)"
   ]
  },
  {
   "cell_type": "code",
   "execution_count": 1,
   "outputs": [
    {
     "name": "stdout",
     "output_type": "stream",
     "text": [
      "32\n"
     ]
    }
   ],
   "source": [
    "print(32)"
   ],
   "metadata": {
    "collapsed": false,
    "pycharm": {
     "name": "#%%\n"
    }
   }
  },
  {
   "cell_type": "code",
   "execution_count": 3,
   "metadata": {
    "ExecuteTime": {
     "end_time": "2021-01-04T13:22:21.978609Z",
     "start_time": "2021-01-04T13:22:20.944344Z"
    }
   },
   "outputs": [],
   "source": [
    "import pandas as pd\n",
    "import numpy as np\n",
    "from IPython.display import display, HTML"
   ]
  },
  {
   "cell_type": "markdown",
   "metadata": {},
   "source": [
    "# 1. Preview"
   ]
  },
  {
   "cell_type": "code",
   "execution_count": 4,
   "metadata": {
    "ExecuteTime": {
     "end_time": "2021-01-04T13:22:52.212642Z",
     "start_time": "2021-01-04T13:22:52.160782Z"
    }
   },
   "outputs": [
    {
     "name": "stdout",
     "output_type": "stream",
     "text": [
      "train\n"
     ]
    },
    {
     "data": {
      "text/plain": "<IPython.core.display.HTML object>",
      "text/html": "<table border=\"1\" class=\"dataframe\">\n  <thead>\n    <tr style=\"text-align: right;\">\n      <th></th>\n      <th>enrollee_id</th>\n      <th>city</th>\n      <th>city_development_index</th>\n      <th>gender</th>\n      <th>relevent_experience</th>\n      <th>enrolled_university</th>\n      <th>education_level</th>\n      <th>major_discipline</th>\n      <th>experience</th>\n      <th>company_size</th>\n      <th>company_type</th>\n      <th>last_new_job</th>\n      <th>training_hours</th>\n      <th>target</th>\n    </tr>\n  </thead>\n  <tbody>\n    <tr>\n      <th>0</th>\n      <td>8949</td>\n      <td>city_103</td>\n      <td>0.920</td>\n      <td>Male</td>\n      <td>Has relevent experience</td>\n      <td>no_enrollment</td>\n      <td>Graduate</td>\n      <td>STEM</td>\n      <td>&gt;20</td>\n      <td>NaN</td>\n      <td>NaN</td>\n      <td>1</td>\n      <td>36</td>\n      <td>1.0</td>\n    </tr>\n    <tr>\n      <th>1</th>\n      <td>29725</td>\n      <td>city_40</td>\n      <td>0.776</td>\n      <td>Male</td>\n      <td>No relevent experience</td>\n      <td>no_enrollment</td>\n      <td>Graduate</td>\n      <td>STEM</td>\n      <td>15</td>\n      <td>50-99</td>\n      <td>Pvt Ltd</td>\n      <td>&gt;4</td>\n      <td>47</td>\n      <td>0.0</td>\n    </tr>\n    <tr>\n      <th>2</th>\n      <td>11561</td>\n      <td>city_21</td>\n      <td>0.624</td>\n      <td>NaN</td>\n      <td>No relevent experience</td>\n      <td>Full time course</td>\n      <td>Graduate</td>\n      <td>STEM</td>\n      <td>5</td>\n      <td>NaN</td>\n      <td>NaN</td>\n      <td>never</td>\n      <td>83</td>\n      <td>0.0</td>\n    </tr>\n    <tr>\n      <th>3</th>\n      <td>33241</td>\n      <td>city_115</td>\n      <td>0.789</td>\n      <td>NaN</td>\n      <td>No relevent experience</td>\n      <td>NaN</td>\n      <td>Graduate</td>\n      <td>Business Degree</td>\n      <td>&lt;1</td>\n      <td>NaN</td>\n      <td>Pvt Ltd</td>\n      <td>never</td>\n      <td>52</td>\n      <td>1.0</td>\n    </tr>\n    <tr>\n      <th>4</th>\n      <td>666</td>\n      <td>city_162</td>\n      <td>0.767</td>\n      <td>Male</td>\n      <td>Has relevent experience</td>\n      <td>no_enrollment</td>\n      <td>Masters</td>\n      <td>STEM</td>\n      <td>&gt;20</td>\n      <td>50-99</td>\n      <td>Funded Startup</td>\n      <td>4</td>\n      <td>8</td>\n      <td>0.0</td>\n    </tr>\n  </tbody>\n</table>"
     },
     "metadata": {},
     "output_type": "display_data"
    },
    {
     "name": "stdout",
     "output_type": "stream",
     "text": [
      "test\n"
     ]
    },
    {
     "data": {
      "text/plain": "<IPython.core.display.HTML object>",
      "text/html": "<table border=\"1\" class=\"dataframe\">\n  <thead>\n    <tr style=\"text-align: right;\">\n      <th></th>\n      <th>enrollee_id</th>\n      <th>city</th>\n      <th>city_development_index</th>\n      <th>gender</th>\n      <th>relevent_experience</th>\n      <th>enrolled_university</th>\n      <th>education_level</th>\n      <th>major_discipline</th>\n      <th>experience</th>\n      <th>company_size</th>\n      <th>company_type</th>\n      <th>last_new_job</th>\n      <th>training_hours</th>\n    </tr>\n  </thead>\n  <tbody>\n    <tr>\n      <th>0</th>\n      <td>32403</td>\n      <td>city_41</td>\n      <td>0.827</td>\n      <td>Male</td>\n      <td>Has relevent experience</td>\n      <td>Full time course</td>\n      <td>Graduate</td>\n      <td>STEM</td>\n      <td>9</td>\n      <td>&lt;10</td>\n      <td>NaN</td>\n      <td>1</td>\n      <td>21</td>\n    </tr>\n    <tr>\n      <th>1</th>\n      <td>9858</td>\n      <td>city_103</td>\n      <td>0.920</td>\n      <td>Female</td>\n      <td>Has relevent experience</td>\n      <td>no_enrollment</td>\n      <td>Graduate</td>\n      <td>STEM</td>\n      <td>5</td>\n      <td>NaN</td>\n      <td>Pvt Ltd</td>\n      <td>1</td>\n      <td>98</td>\n    </tr>\n    <tr>\n      <th>2</th>\n      <td>31806</td>\n      <td>city_21</td>\n      <td>0.624</td>\n      <td>Male</td>\n      <td>No relevent experience</td>\n      <td>no_enrollment</td>\n      <td>High School</td>\n      <td>NaN</td>\n      <td>&lt;1</td>\n      <td>NaN</td>\n      <td>Pvt Ltd</td>\n      <td>never</td>\n      <td>15</td>\n    </tr>\n    <tr>\n      <th>3</th>\n      <td>27385</td>\n      <td>city_13</td>\n      <td>0.827</td>\n      <td>Male</td>\n      <td>Has relevent experience</td>\n      <td>no_enrollment</td>\n      <td>Masters</td>\n      <td>STEM</td>\n      <td>11</td>\n      <td>10/49</td>\n      <td>Pvt Ltd</td>\n      <td>1</td>\n      <td>39</td>\n    </tr>\n    <tr>\n      <th>4</th>\n      <td>27724</td>\n      <td>city_103</td>\n      <td>0.920</td>\n      <td>Male</td>\n      <td>Has relevent experience</td>\n      <td>no_enrollment</td>\n      <td>Graduate</td>\n      <td>STEM</td>\n      <td>&gt;20</td>\n      <td>10000+</td>\n      <td>Pvt Ltd</td>\n      <td>&gt;4</td>\n      <td>72</td>\n    </tr>\n  </tbody>\n</table>"
     },
     "metadata": {},
     "output_type": "display_data"
    },
    {
     "name": "stdout",
     "output_type": "stream",
     "text": [
      "train.shape : (19158, 14)\n",
      "test.shape : (2129, 13)\n"
     ]
    }
   ],
   "source": [
    "train = pd.read_csv(\"C:/Users/HOME/Dropbox/dataset/used/hr-analytics-job-change-of-data-scientists/aug_train.csv\")\n",
    "test = pd.read_csv(\"C:/Users/HOME/Dropbox/dataset/used/hr-analytics-job-change-of-data-scientists/aug_test.csv\")\n",
    "submission = pd.read_csv(\"C:/Users/HOME/Dropbox/dataset/used/hr-analytics-job-change-of-data-scientists/sample_submission.csv\")\n",
    "print(\"train\")\n",
    "display(HTML(train.head().to_html()))\n",
    "print(\"test\")\n",
    "display(HTML(test.head().to_html()))\n",
    "print(f'train.shape : {train.shape}')\n",
    "print(f'test.shape : {test.shape}') #test는 unseen이 기본 전제이다."
   ]
  },
  {
   "cell_type": "markdown",
   "metadata": {},
   "source": [
    "* 연속적인 정보들이 별로 없다. index와 hour는 숫자형이지만 범주형적인 속성을 띄고 있다.\n"
   ]
  },
  {
   "cell_type": "code",
   "execution_count": 7,
   "metadata": {
    "ExecuteTime": {
     "end_time": "2021-01-04T13:29:20.734508Z",
     "start_time": "2021-01-04T13:29:20.716572Z"
    }
   },
   "outputs": [
    {
     "name": "stdout",
     "output_type": "stream",
     "text": [
      "<class 'pandas.core.frame.DataFrame'>\n",
      "RangeIndex: 19158 entries, 0 to 19157\n",
      "Data columns (total 14 columns):\n",
      " #   Column                  Non-Null Count  Dtype  \n",
      "---  ------                  --------------  -----  \n",
      " 0   enrollee_id             19158 non-null  int64  \n",
      " 1   city                    19158 non-null  object \n",
      " 2   city_development_index  19158 non-null  float64\n",
      " 3   gender                  14650 non-null  object \n",
      " 4   relevent_experience     19158 non-null  object \n",
      " 5   enrolled_university     18772 non-null  object \n",
      " 6   education_level         18698 non-null  object \n",
      " 7   major_discipline        16345 non-null  object \n",
      " 8   experience              19093 non-null  object \n",
      " 9   company_size            13220 non-null  object \n",
      " 10  company_type            13018 non-null  object \n",
      " 11  last_new_job            18735 non-null  object \n",
      " 12  training_hours          19158 non-null  int64  \n",
      " 13  target                  19158 non-null  float64\n",
      "dtypes: float64(2), int64(2), object(10)\n",
      "memory usage: 2.0+ MB\n",
      "None\n",
      "****************************************************************************************************\n",
      "                           0\n",
      "company_type            6140\n",
      "company_size            5938\n",
      "gender                  4508\n",
      "major_discipline        2813\n",
      "education_level          460\n",
      "last_new_job             423\n",
      "enrolled_university      386\n",
      "experience                65\n",
      "enrollee_id                0\n",
      "city                       0\n",
      "city_development_index     0\n",
      "relevent_experience        0\n",
      "training_hours             0\n",
      "target                     0\n"
     ]
    }
   ],
   "source": [
    "#NULL과 타입 정보\n",
    "print(train.info())\n",
    "print('*'*100)\n",
    "print(train.isnull().sum().to_frame().sort_values(by=0, ascending=False))"
   ]
  },
  {
   "cell_type": "markdown",
   "metadata": {},
   "source": [
    "* 대부분이 범주형 변수 NULL값이 다수인 변수 4개"
   ]
  },
  {
   "cell_type": "code",
   "execution_count": 9,
   "metadata": {
    "ExecuteTime": {
     "end_time": "2021-01-01T02:43:31.668676Z",
     "start_time": "2021-01-01T02:43:31.644166Z"
    }
   },
   "outputs": [
    {
     "name": "stdout",
     "output_type": "stream",
     "text": [
      "enrollee_id : 19158\n",
      "city : 123\n",
      "city_development_index : 93\n",
      "gender : 4, ['Male' nan 'Female' 'Other']\n",
      "relevent_experience : 2, ['Has relevent experience' 'No relevent experience']\n",
      "enrolled_university : 4, ['no_enrollment' 'Full time course' nan 'Part time course']\n",
      "education_level : 6, ['Graduate' 'Masters' 'High School' nan 'Phd' 'Primary School']\n",
      "major_discipline : 7, ['STEM' 'Business Degree' nan 'Arts' 'Humanities' 'No Major' 'Other']\n",
      "experience : 23, ['>20' '15' '5' '<1' '11' '13' '7' '17' '2' '16' '1' '4' '10' '14' '18'\n",
      " '19' '12' '3' '6' '9' '8' '20' nan]\n",
      "company_size : 9, [nan '50-99' '<10' '10000+' '5000-9999' '1000-4999' '10/49' '100-500'\n",
      " '500-999']\n",
      "company_type : 7, [nan 'Pvt Ltd' 'Funded Startup' 'Early Stage Startup' 'Other'\n",
      " 'Public Sector' 'NGO']\n",
      "last_new_job : 7, ['1' '>4' 'never' '4' '3' '2' nan]\n",
      "training_hours : 241\n",
      "target : 2, [1. 0.]\n"
     ]
    }
   ],
   "source": [
    "#유니크 정보\n",
    "for col in train:\n",
    "    if len(train[col].unique()) <= 30:\n",
    "        print(f'{col} : {len(train[col].unique())}, {train[col].unique()}')\n",
    "    else:\n",
    "        print(f'{col} : {len(train[col].unique())}')"
   ]
  },
  {
   "cell_type": "markdown",
   "metadata": {},
   "source": [
    "**분석 목적**\n",
    "* 어떤 사람들이 언제 왜 직장을 떠나고 싶어할까?\n",
    "    * 연차가 높아서?(지루함)\n",
    "    * 회사 규모?\n",
    "    * 도시 지수가 높은 사람들? 교육 수준? 등등"
   ]
  },
  {
   "cell_type": "markdown",
   "metadata": {},
   "source": [
    "# 1. Visualization1 - Depth1"
   ]
  },
  {
   "cell_type": "markdown",
   "metadata": {},
   "source": [
    "**여러 변수들의 빈도를 나타낼 수 있는 플랏**\n",
    "1. figure 객체 만들기\n",
    "2. seaborn 카운트 플랏(범주형 변수)\n",
    "3. histogram(연속형 변수)"
   ]
  },
  {
   "cell_type": "code",
   "execution_count": null,
   "metadata": {},
   "outputs": [],
   "source": []
  }
 ],
 "metadata": {
  "kernelspec": {
   "display_name": "Python 3",
   "language": "python",
   "name": "python3"
  },
  "language_info": {
   "codemirror_mode": {
    "name": "ipython",
    "version": 3
   },
   "file_extension": ".py",
   "mimetype": "text/x-python",
   "name": "python",
   "nbconvert_exporter": "python",
   "pygments_lexer": "ipython3",
   "version": "3.8.5"
  }
 },
 "nbformat": 4,
 "nbformat_minor": 4
}