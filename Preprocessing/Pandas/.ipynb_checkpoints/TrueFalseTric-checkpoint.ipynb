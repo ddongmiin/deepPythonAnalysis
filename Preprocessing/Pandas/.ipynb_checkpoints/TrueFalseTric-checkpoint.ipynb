{
 "cells": [
  {
   "cell_type": "markdown",
   "metadata": {},
   "source": [
    "Pandas MultiIndexing에 대해서 공부해봅니다."
   ]
  },
  {
   "cell_type": "code",
   "execution_count": 2,
   "metadata": {
    "ExecuteTime": {
     "end_time": "2021-08-02T12:42:13.964577Z",
     "start_time": "2021-08-02T12:42:13.960577Z"
    }
   },
   "outputs": [],
   "source": [
    "#환경세팅\n",
    "import pandas as pd\n",
    "import numpy as np"
   ]
  },
  {
   "cell_type": "markdown",
   "metadata": {},
   "source": [
    "# MultiIndex 생성 방법"
   ]
  },
  {
   "cell_type": "markdown",
   "metadata": {},
   "source": [
    "## 직접 생성"
   ]
  },
  {
   "cell_type": "code",
   "execution_count": 12,
   "metadata": {
    "ExecuteTime": {
     "end_time": "2021-08-02T12:44:23.020569Z",
     "start_time": "2021-08-02T12:44:23.011967Z"
    }
   },
   "outputs": [
    {
     "data": {
      "text/plain": [
       "num  과일\n",
       "1    사과    0.220216\n",
       "     배     0.027264\n",
       "2    배     0.677665\n",
       "     사과    0.580777\n",
       "3    수박    0.104455\n",
       "     배     0.075680\n",
       "dtype: float64"
      ]
     },
     "execution_count": 12,
     "metadata": {},
     "output_type": "execute_result"
    }
   ],
   "source": [
    "#from_array\n",
    "array = [[1, 1, 2, 2, 3, 3], ['사과', '배', '배', '사과', '수박', '배']]\n",
    "index_array = pd.MultiIndex.from_arrays(array, names=('num', '과일'))\n",
    "pd.Series(np.random.rand(6), index=index_array)"
   ]
  },
  {
   "cell_type": "code",
   "execution_count": 17,
   "metadata": {
    "ExecuteTime": {
     "end_time": "2021-08-02T12:54:04.989547Z",
     "start_time": "2021-08-02T12:54:04.973576Z"
    }
   },
   "outputs": [
    {
     "data": {
      "text/plain": [
       "num1  num2\n",
       "1     5       0.162012\n",
       "2     6       0.426254\n",
       "3     7       0.267767\n",
       "4     8       0.967863\n",
       "dtype: float64"
      ]
     },
     "execution_count": 17,
     "metadata": {},
     "output_type": "execute_result"
    }
   ],
   "source": [
    "#from_tuples\n",
    "iam_tuple = [(a, i) for a, i in zip([1, 2, 3, 4], [5, 6, 7, 8])]\n",
    "index_tuple = pd.MultiIndex.from_tuples(iam_tuple, names=('num1', 'num2'))\n",
    "pd.Series(np.random.rand(4), index=index_tuple)"
   ]
  },
  {
   "cell_type": "code",
   "execution_count": 20,
   "metadata": {
    "ExecuteTime": {
     "end_time": "2021-08-02T12:56:27.206024Z",
     "start_time": "2021-08-02T12:56:27.196991Z"
    }
   },
   "outputs": [
    {
     "data": {
      "text/plain": [
       "num1  num2\n",
       "1     4       0.404600\n",
       "      5       0.779905\n",
       "2     4       0.469609\n",
       "      5       0.097927\n",
       "3     4       0.563826\n",
       "      5       0.114029\n",
       "dtype: float64"
      ]
     },
     "execution_count": 20,
     "metadata": {},
     "output_type": "execute_result"
    }
   ],
   "source": [
    "#from_product - 카타시안 곱으로 index를 생성\n",
    "num1 = [1, 2, 3]\n",
    "num2 = [4, 5]\n",
    "index_product = pd.MultiIndex.from_product([num1, num2], names=('num1', 'num2'))\n",
    "pd.Series(np.random.rand(6), index=index_product)"
   ]
  },
  {
   "cell_type": "code",
   "execution_count": 23,
   "metadata": {
    "ExecuteTime": {
     "end_time": "2021-08-02T12:59:16.461905Z",
     "start_time": "2021-08-02T12:59:16.450903Z"
    }
   },
   "outputs": [
    {
     "data": {
      "text/plain": [
       "num1  num2\n",
       "1     5       0.323975\n",
       "2     6       0.040885\n",
       "3     7       0.973976\n",
       "4     8       0.025055\n",
       "dtype: float64"
      ]
     },
     "execution_count": 23,
     "metadata": {},
     "output_type": "execute_result"
    }
   ],
   "source": [
    "#from_frame - 데이터 프레임의 values 를 그대로 받음\n",
    "df = pd.DataFrame()\n",
    "df['num1'] = [1, 2, 3, 4]\n",
    "df['num2'] = [5, 6, 7, 8]\n",
    "index_frame = pd.MultiIndex.from_frame(df)\n",
    "pd.Series(np.random.rand(4), index=index_frame)"
   ]
  },
  {
   "cell_type": "code",
   "execution_count": null,
   "metadata": {},
   "outputs": [],
   "source": []
  }
 ],
 "metadata": {
  "kernelspec": {
   "display_name": "Python 3",
   "language": "python",
   "name": "python3"
  },
  "language_info": {
   "codemirror_mode": {
    "name": "ipython",
    "version": 3
   },
   "file_extension": ".py",
   "mimetype": "text/x-python",
   "name": "python",
   "nbconvert_exporter": "python",
   "pygments_lexer": "ipython3",
   "version": "3.8.3"
  },
  "toc": {
   "base_numbering": 1,
   "nav_menu": {},
   "number_sections": true,
   "sideBar": true,
   "skip_h1_title": false,
   "title_cell": "Table of Contents",
   "title_sidebar": "Contents",
   "toc_cell": false,
   "toc_position": {},
   "toc_section_display": true,
   "toc_window_display": false
  }
 },
 "nbformat": 4,
 "nbformat_minor": 4
}
