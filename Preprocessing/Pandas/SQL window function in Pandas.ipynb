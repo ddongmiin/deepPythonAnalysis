{
 "cells": [
  {
   "cell_type": "markdown",
   "metadata": {},
   "source": [
    "# Library Import"
   ]
  },
  {
   "cell_type": "code",
   "execution_count": 2,
   "metadata": {
    "ExecuteTime": {
     "end_time": "2021-12-27T05:42:53.599601Z",
     "start_time": "2021-12-27T05:42:51.780596Z"
    }
   },
   "outputs": [],
   "source": [
    "import numpy as np\n",
    "import pandas as pd\n",
    "import seaborn as sns"
   ]
  },
  {
   "cell_type": "markdown",
   "metadata": {},
   "source": [
    "# DataSet"
   ]
  },
  {
   "cell_type": "markdown",
   "metadata": {},
   "source": [
    "[seaborn_dataset](https://github.com/mwaskom/seaborn-data)"
   ]
  },
  {
   "cell_type": "code",
   "execution_count": 57,
   "metadata": {
    "ExecuteTime": {
     "end_time": "2021-12-27T06:13:40.620323Z",
     "start_time": "2021-12-27T06:13:40.615293Z"
    }
   },
   "outputs": [],
   "source": [
    "penguins_raw = sns.load_dataset(name = \"penguins\")"
   ]
  },
  {
   "cell_type": "code",
   "execution_count": 58,
   "metadata": {
    "ExecuteTime": {
     "end_time": "2021-12-27T06:13:40.792883Z",
     "start_time": "2021-12-27T06:13:40.782891Z"
    }
   },
   "outputs": [
    {
     "data": {
      "text/html": [
       "<div>\n",
       "<style scoped>\n",
       "    .dataframe tbody tr th:only-of-type {\n",
       "        vertical-align: middle;\n",
       "    }\n",
       "\n",
       "    .dataframe tbody tr th {\n",
       "        vertical-align: top;\n",
       "    }\n",
       "\n",
       "    .dataframe thead th {\n",
       "        text-align: right;\n",
       "    }\n",
       "</style>\n",
       "<table border=\"1\" class=\"dataframe\">\n",
       "  <thead>\n",
       "    <tr style=\"text-align: right;\">\n",
       "      <th></th>\n",
       "      <th>species</th>\n",
       "      <th>island</th>\n",
       "      <th>bill_length_mm</th>\n",
       "      <th>bill_depth_mm</th>\n",
       "      <th>flipper_length_mm</th>\n",
       "      <th>body_mass_g</th>\n",
       "      <th>sex</th>\n",
       "    </tr>\n",
       "  </thead>\n",
       "  <tbody>\n",
       "    <tr>\n",
       "      <th>0</th>\n",
       "      <td>Adelie</td>\n",
       "      <td>Torgersen</td>\n",
       "      <td>39.1</td>\n",
       "      <td>18.7</td>\n",
       "      <td>181.0</td>\n",
       "      <td>3750.0</td>\n",
       "      <td>MALE</td>\n",
       "    </tr>\n",
       "    <tr>\n",
       "      <th>1</th>\n",
       "      <td>Adelie</td>\n",
       "      <td>Torgersen</td>\n",
       "      <td>39.5</td>\n",
       "      <td>17.4</td>\n",
       "      <td>186.0</td>\n",
       "      <td>3800.0</td>\n",
       "      <td>FEMALE</td>\n",
       "    </tr>\n",
       "    <tr>\n",
       "      <th>2</th>\n",
       "      <td>Adelie</td>\n",
       "      <td>Torgersen</td>\n",
       "      <td>40.3</td>\n",
       "      <td>18.0</td>\n",
       "      <td>195.0</td>\n",
       "      <td>3250.0</td>\n",
       "      <td>FEMALE</td>\n",
       "    </tr>\n",
       "    <tr>\n",
       "      <th>3</th>\n",
       "      <td>Adelie</td>\n",
       "      <td>Torgersen</td>\n",
       "      <td>NaN</td>\n",
       "      <td>NaN</td>\n",
       "      <td>NaN</td>\n",
       "      <td>NaN</td>\n",
       "      <td>NaN</td>\n",
       "    </tr>\n",
       "    <tr>\n",
       "      <th>4</th>\n",
       "      <td>Adelie</td>\n",
       "      <td>Torgersen</td>\n",
       "      <td>36.7</td>\n",
       "      <td>19.3</td>\n",
       "      <td>193.0</td>\n",
       "      <td>3450.0</td>\n",
       "      <td>FEMALE</td>\n",
       "    </tr>\n",
       "  </tbody>\n",
       "</table>\n",
       "</div>"
      ],
      "text/plain": [
       "  species     island  bill_length_mm  bill_depth_mm  flipper_length_mm  \\\n",
       "0  Adelie  Torgersen            39.1           18.7              181.0   \n",
       "1  Adelie  Torgersen            39.5           17.4              186.0   \n",
       "2  Adelie  Torgersen            40.3           18.0              195.0   \n",
       "3  Adelie  Torgersen             NaN            NaN                NaN   \n",
       "4  Adelie  Torgersen            36.7           19.3              193.0   \n",
       "\n",
       "   body_mass_g     sex  \n",
       "0       3750.0    MALE  \n",
       "1       3800.0  FEMALE  \n",
       "2       3250.0  FEMALE  \n",
       "3          NaN     NaN  \n",
       "4       3450.0  FEMALE  "
      ]
     },
     "execution_count": 58,
     "metadata": {},
     "output_type": "execute_result"
    }
   ],
   "source": [
    "penguins_raw.head()"
   ]
  },
  {
   "cell_type": "code",
   "execution_count": 59,
   "metadata": {
    "ExecuteTime": {
     "end_time": "2021-12-27T06:13:40.939892Z",
     "start_time": "2021-12-27T06:13:40.934896Z"
    }
   },
   "outputs": [],
   "source": [
    "penguins_data = penguins_raw.copy() #원본 복사\n",
    "penguins_data = penguins_data.dropna() #null값 제거"
   ]
  },
  {
   "cell_type": "code",
   "execution_count": 61,
   "metadata": {
    "ExecuteTime": {
     "end_time": "2021-12-27T06:13:44.291268Z",
     "start_time": "2021-12-27T06:13:44.285259Z"
    }
   },
   "outputs": [],
   "source": [
    "#DataSet_tune mm -> cm \n",
    "penguins_data[[\"bill_length_mm\", \"bill_depth_mm\", \"flipper_length_mm\"]] = \\\n",
    "    penguins_data[[\"bill_length_mm\", \"bill_depth_mm\", \"flipper_length_mm\"]] \\\n",
    "        .apply(lambda x : x/10)\n",
    "\n",
    "#DataSet_tune g -> kg\n",
    "penguins_data[\"body_mass_g\"] = penguins_data[\"body_mass_g\"]/1000\n"
   ]
  },
  {
   "cell_type": "markdown",
   "metadata": {},
   "source": [
    "[stackoverflow change colname](https://stackoverflow.com/questions/11346283/renaming-column-names-in-pandas)"
   ]
  },
  {
   "cell_type": "code",
   "execution_count": 64,
   "metadata": {
    "ExecuteTime": {
     "end_time": "2021-12-27T06:18:30.711622Z",
     "start_time": "2021-12-27T06:18:30.708622Z"
    }
   },
   "outputs": [],
   "source": [
    "#DataSet_tune change colname \n",
    "penguins_data = penguins_data.rename({\"bill_length_mm\" : \"bill_length_cm\", \"bill_depth_mm\" : \"bill_depth_cm\" \\\n",
    "                                         ,\"flipper_length_mm\" : \"flipper_length_cm\", \"body_mass_g\" : \"body_mass_kg\" \\\n",
    "                                     }, axis = 1)"
   ]
  },
  {
   "cell_type": "code",
   "execution_count": 65,
   "metadata": {
    "ExecuteTime": {
     "end_time": "2021-12-27T06:18:32.878642Z",
     "start_time": "2021-12-27T06:18:32.869689Z"
    }
   },
   "outputs": [
    {
     "data": {
      "text/html": [
       "<div>\n",
       "<style scoped>\n",
       "    .dataframe tbody tr th:only-of-type {\n",
       "        vertical-align: middle;\n",
       "    }\n",
       "\n",
       "    .dataframe tbody tr th {\n",
       "        vertical-align: top;\n",
       "    }\n",
       "\n",
       "    .dataframe thead th {\n",
       "        text-align: right;\n",
       "    }\n",
       "</style>\n",
       "<table border=\"1\" class=\"dataframe\">\n",
       "  <thead>\n",
       "    <tr style=\"text-align: right;\">\n",
       "      <th></th>\n",
       "      <th>species</th>\n",
       "      <th>island</th>\n",
       "      <th>bill_length_cm</th>\n",
       "      <th>bill_depth_cm</th>\n",
       "      <th>flipper_length_cm</th>\n",
       "      <th>body_mass_kg</th>\n",
       "      <th>sex</th>\n",
       "    </tr>\n",
       "  </thead>\n",
       "  <tbody>\n",
       "    <tr>\n",
       "      <th>0</th>\n",
       "      <td>Adelie</td>\n",
       "      <td>Torgersen</td>\n",
       "      <td>3.91</td>\n",
       "      <td>1.87</td>\n",
       "      <td>18.1</td>\n",
       "      <td>3.75</td>\n",
       "      <td>MALE</td>\n",
       "    </tr>\n",
       "    <tr>\n",
       "      <th>1</th>\n",
       "      <td>Adelie</td>\n",
       "      <td>Torgersen</td>\n",
       "      <td>3.95</td>\n",
       "      <td>1.74</td>\n",
       "      <td>18.6</td>\n",
       "      <td>3.80</td>\n",
       "      <td>FEMALE</td>\n",
       "    </tr>\n",
       "    <tr>\n",
       "      <th>2</th>\n",
       "      <td>Adelie</td>\n",
       "      <td>Torgersen</td>\n",
       "      <td>4.03</td>\n",
       "      <td>1.80</td>\n",
       "      <td>19.5</td>\n",
       "      <td>3.25</td>\n",
       "      <td>FEMALE</td>\n",
       "    </tr>\n",
       "    <tr>\n",
       "      <th>4</th>\n",
       "      <td>Adelie</td>\n",
       "      <td>Torgersen</td>\n",
       "      <td>3.67</td>\n",
       "      <td>1.93</td>\n",
       "      <td>19.3</td>\n",
       "      <td>3.45</td>\n",
       "      <td>FEMALE</td>\n",
       "    </tr>\n",
       "    <tr>\n",
       "      <th>5</th>\n",
       "      <td>Adelie</td>\n",
       "      <td>Torgersen</td>\n",
       "      <td>3.93</td>\n",
       "      <td>2.06</td>\n",
       "      <td>19.0</td>\n",
       "      <td>3.65</td>\n",
       "      <td>MALE</td>\n",
       "    </tr>\n",
       "  </tbody>\n",
       "</table>\n",
       "</div>"
      ],
      "text/plain": [
       "  species     island  bill_length_cm  bill_depth_cm  flipper_length_cm  \\\n",
       "0  Adelie  Torgersen            3.91           1.87               18.1   \n",
       "1  Adelie  Torgersen            3.95           1.74               18.6   \n",
       "2  Adelie  Torgersen            4.03           1.80               19.5   \n",
       "4  Adelie  Torgersen            3.67           1.93               19.3   \n",
       "5  Adelie  Torgersen            3.93           2.06               19.0   \n",
       "\n",
       "   body_mass_kg     sex  \n",
       "0          3.75    MALE  \n",
       "1          3.80  FEMALE  \n",
       "2          3.25  FEMALE  \n",
       "4          3.45  FEMALE  \n",
       "5          3.65    MALE  "
      ]
     },
     "execution_count": 65,
     "metadata": {},
     "output_type": "execute_result"
    }
   ],
   "source": [
    "penguins_data.head()"
   ]
  },
  {
   "cell_type": "markdown",
   "metadata": {},
   "source": [
    "# Sample Statistics"
   ]
  },
  {
   "cell_type": "code",
   "execution_count": 68,
   "metadata": {
    "ExecuteTime": {
     "end_time": "2021-12-27T06:20:14.882768Z",
     "start_time": "2021-12-27T06:20:14.877772Z"
    }
   },
   "outputs": [
    {
     "name": "stdout",
     "output_type": "stream",
     "text": [
      "species : ['Adelie' 'Chinstrap' 'Gentoo']\n",
      "island ['Torgersen' 'Biscoe' 'Dream']\n"
     ]
    }
   ],
   "source": [
    "print('species :', penguins_data.species.unique())\n",
    "print('island', penguins_data.island.unique())"
   ]
  },
  {
   "cell_type": "code",
   "execution_count": 77,
   "metadata": {
    "ExecuteTime": {
     "end_time": "2021-12-27T09:50:05.807409Z",
     "start_time": "2021-12-27T09:50:05.795412Z"
    }
   },
   "outputs": [
    {
     "data": {
      "text/html": [
       "<div>\n",
       "<style scoped>\n",
       "    .dataframe tbody tr th:only-of-type {\n",
       "        vertical-align: middle;\n",
       "    }\n",
       "\n",
       "    .dataframe tbody tr th {\n",
       "        vertical-align: top;\n",
       "    }\n",
       "\n",
       "    .dataframe thead th {\n",
       "        text-align: right;\n",
       "    }\n",
       "</style>\n",
       "<table border=\"1\" class=\"dataframe\">\n",
       "  <thead>\n",
       "    <tr style=\"text-align: right;\">\n",
       "      <th></th>\n",
       "      <th>species</th>\n",
       "      <th>island</th>\n",
       "      <th>bill_length_cm</th>\n",
       "      <th>bill_depth_cm</th>\n",
       "      <th>flipper_length_cm</th>\n",
       "      <th>body_mass_kg</th>\n",
       "    </tr>\n",
       "  </thead>\n",
       "  <tbody>\n",
       "    <tr>\n",
       "      <th>0</th>\n",
       "      <td>Adelie</td>\n",
       "      <td>Biscoe</td>\n",
       "      <td>3.897500</td>\n",
       "      <td>1.837045</td>\n",
       "      <td>18.879545</td>\n",
       "      <td>3.709659</td>\n",
       "    </tr>\n",
       "    <tr>\n",
       "      <th>1</th>\n",
       "      <td>Adelie</td>\n",
       "      <td>Dream</td>\n",
       "      <td>3.852000</td>\n",
       "      <td>1.824000</td>\n",
       "      <td>18.992727</td>\n",
       "      <td>3.701364</td>\n",
       "    </tr>\n",
       "    <tr>\n",
       "      <th>2</th>\n",
       "      <td>Adelie</td>\n",
       "      <td>Torgersen</td>\n",
       "      <td>3.903830</td>\n",
       "      <td>1.845106</td>\n",
       "      <td>19.153191</td>\n",
       "      <td>3.708511</td>\n",
       "    </tr>\n",
       "    <tr>\n",
       "      <th>3</th>\n",
       "      <td>Chinstrap</td>\n",
       "      <td>Dream</td>\n",
       "      <td>4.883382</td>\n",
       "      <td>1.842059</td>\n",
       "      <td>19.582353</td>\n",
       "      <td>3.733088</td>\n",
       "    </tr>\n",
       "    <tr>\n",
       "      <th>4</th>\n",
       "      <td>Gentoo</td>\n",
       "      <td>Biscoe</td>\n",
       "      <td>4.756807</td>\n",
       "      <td>1.499664</td>\n",
       "      <td>21.723529</td>\n",
       "      <td>5.092437</td>\n",
       "    </tr>\n",
       "  </tbody>\n",
       "</table>\n",
       "</div>"
      ],
      "text/plain": [
       "     species     island  bill_length_cm  bill_depth_cm  flipper_length_cm  \\\n",
       "0     Adelie     Biscoe        3.897500       1.837045          18.879545   \n",
       "1     Adelie      Dream        3.852000       1.824000          18.992727   \n",
       "2     Adelie  Torgersen        3.903830       1.845106          19.153191   \n",
       "3  Chinstrap      Dream        4.883382       1.842059          19.582353   \n",
       "4     Gentoo     Biscoe        4.756807       1.499664          21.723529   \n",
       "\n",
       "   body_mass_kg  \n",
       "0      3.709659  \n",
       "1      3.701364  \n",
       "2      3.708511  \n",
       "3      3.733088  \n",
       "4      5.092437  "
      ]
     },
     "execution_count": 77,
     "metadata": {},
     "output_type": "execute_result"
    }
   ],
   "source": [
    "penguins_data.groupby(['species', 'island'])[[\"bill_length_cm\", \"bill_depth_cm\", \"flipper_length_cm\", \"body_mass_kg\"]] \\\n",
    "    .agg(np.mean).reset_index()"
   ]
  },
  {
   "cell_type": "code",
   "execution_count": 80,
   "metadata": {
    "ExecuteTime": {
     "end_time": "2021-12-27T10:04:36.635256Z",
     "start_time": "2021-12-27T10:04:36.627254Z"
    }
   },
   "outputs": [
    {
     "data": {
      "text/html": [
       "<div>\n",
       "<style scoped>\n",
       "    .dataframe tbody tr th:only-of-type {\n",
       "        vertical-align: middle;\n",
       "    }\n",
       "\n",
       "    .dataframe tbody tr th {\n",
       "        vertical-align: top;\n",
       "    }\n",
       "\n",
       "    .dataframe thead th {\n",
       "        text-align: right;\n",
       "    }\n",
       "</style>\n",
       "<table border=\"1\" class=\"dataframe\">\n",
       "  <thead>\n",
       "    <tr style=\"text-align: right;\">\n",
       "      <th></th>\n",
       "      <th>species</th>\n",
       "      <th>island</th>\n",
       "      <th>0</th>\n",
       "    </tr>\n",
       "  </thead>\n",
       "  <tbody>\n",
       "    <tr>\n",
       "      <th>0</th>\n",
       "      <td>Adelie</td>\n",
       "      <td>Biscoe</td>\n",
       "      <td>44</td>\n",
       "    </tr>\n",
       "    <tr>\n",
       "      <th>1</th>\n",
       "      <td>Adelie</td>\n",
       "      <td>Dream</td>\n",
       "      <td>55</td>\n",
       "    </tr>\n",
       "    <tr>\n",
       "      <th>2</th>\n",
       "      <td>Adelie</td>\n",
       "      <td>Torgersen</td>\n",
       "      <td>47</td>\n",
       "    </tr>\n",
       "    <tr>\n",
       "      <th>3</th>\n",
       "      <td>Chinstrap</td>\n",
       "      <td>Dream</td>\n",
       "      <td>68</td>\n",
       "    </tr>\n",
       "    <tr>\n",
       "      <th>4</th>\n",
       "      <td>Gentoo</td>\n",
       "      <td>Biscoe</td>\n",
       "      <td>119</td>\n",
       "    </tr>\n",
       "  </tbody>\n",
       "</table>\n",
       "</div>"
      ],
      "text/plain": [
       "     species     island    0\n",
       "0     Adelie     Biscoe   44\n",
       "1     Adelie      Dream   55\n",
       "2     Adelie  Torgersen   47\n",
       "3  Chinstrap      Dream   68\n",
       "4     Gentoo     Biscoe  119"
      ]
     },
     "execution_count": 80,
     "metadata": {},
     "output_type": "execute_result"
    }
   ],
   "source": [
    "penguins_data.groupby(['species', 'island']).size().reset_index()"
   ]
  },
  {
   "cell_type": "code",
   "execution_count": null,
   "metadata": {},
   "outputs": [],
   "source": []
  },
  {
   "cell_type": "markdown",
   "metadata": {},
   "source": [
    "# Using tranfrom method"
   ]
  },
  {
   "cell_type": "markdown",
   "metadata": {
    "ExecuteTime": {
     "end_time": "2021-12-27T10:02:31.338409Z",
     "start_time": "2021-12-27T10:02:31.333413Z"
    }
   },
   "source": [
    "몸무게가 평균 이하인 새와 평균 초과인 새 구분, 종과 섬 종류별로\n",
    "\n",
    "1. 값에서 평균을 빼주어야 함\n",
    "2. 그러려면 평균이 새로운 열로 추가 되어야 함"
   ]
  },
  {
   "cell_type": "code",
   "execution_count": 82,
   "metadata": {
    "ExecuteTime": {
     "end_time": "2021-12-27T10:06:52.338662Z",
     "start_time": "2021-12-27T10:06:52.323013Z"
    }
   },
   "outputs": [],
   "source": [
    "penguins_data[\"body_mass_avg\"] = penguins_data.groupby(['species', 'island'])[\"body_mass_kg\"].transform(np.mean)"
   ]
  },
  {
   "cell_type": "code",
   "execution_count": 84,
   "metadata": {
    "ExecuteTime": {
     "end_time": "2021-12-27T10:06:58.825696Z",
     "start_time": "2021-12-27T10:06:58.816693Z"
    }
   },
   "outputs": [
    {
     "data": {
      "text/html": [
       "<div>\n",
       "<style scoped>\n",
       "    .dataframe tbody tr th:only-of-type {\n",
       "        vertical-align: middle;\n",
       "    }\n",
       "\n",
       "    .dataframe tbody tr th {\n",
       "        vertical-align: top;\n",
       "    }\n",
       "\n",
       "    .dataframe thead th {\n",
       "        text-align: right;\n",
       "    }\n",
       "</style>\n",
       "<table border=\"1\" class=\"dataframe\">\n",
       "  <thead>\n",
       "    <tr style=\"text-align: right;\">\n",
       "      <th></th>\n",
       "      <th>species</th>\n",
       "      <th>island</th>\n",
       "      <th>bill_length_cm</th>\n",
       "      <th>bill_depth_cm</th>\n",
       "      <th>flipper_length_cm</th>\n",
       "      <th>body_mass_kg</th>\n",
       "      <th>sex</th>\n",
       "      <th>body_mass_avg</th>\n",
       "    </tr>\n",
       "  </thead>\n",
       "  <tbody>\n",
       "    <tr>\n",
       "      <th>0</th>\n",
       "      <td>Adelie</td>\n",
       "      <td>Torgersen</td>\n",
       "      <td>3.91</td>\n",
       "      <td>1.87</td>\n",
       "      <td>18.1</td>\n",
       "      <td>3.75</td>\n",
       "      <td>MALE</td>\n",
       "      <td>3.708511</td>\n",
       "    </tr>\n",
       "    <tr>\n",
       "      <th>1</th>\n",
       "      <td>Adelie</td>\n",
       "      <td>Torgersen</td>\n",
       "      <td>3.95</td>\n",
       "      <td>1.74</td>\n",
       "      <td>18.6</td>\n",
       "      <td>3.80</td>\n",
       "      <td>FEMALE</td>\n",
       "      <td>3.708511</td>\n",
       "    </tr>\n",
       "    <tr>\n",
       "      <th>2</th>\n",
       "      <td>Adelie</td>\n",
       "      <td>Torgersen</td>\n",
       "      <td>4.03</td>\n",
       "      <td>1.80</td>\n",
       "      <td>19.5</td>\n",
       "      <td>3.25</td>\n",
       "      <td>FEMALE</td>\n",
       "      <td>3.708511</td>\n",
       "    </tr>\n",
       "    <tr>\n",
       "      <th>4</th>\n",
       "      <td>Adelie</td>\n",
       "      <td>Torgersen</td>\n",
       "      <td>3.67</td>\n",
       "      <td>1.93</td>\n",
       "      <td>19.3</td>\n",
       "      <td>3.45</td>\n",
       "      <td>FEMALE</td>\n",
       "      <td>3.708511</td>\n",
       "    </tr>\n",
       "    <tr>\n",
       "      <th>5</th>\n",
       "      <td>Adelie</td>\n",
       "      <td>Torgersen</td>\n",
       "      <td>3.93</td>\n",
       "      <td>2.06</td>\n",
       "      <td>19.0</td>\n",
       "      <td>3.65</td>\n",
       "      <td>MALE</td>\n",
       "      <td>3.708511</td>\n",
       "    </tr>\n",
       "  </tbody>\n",
       "</table>\n",
       "</div>"
      ],
      "text/plain": [
       "  species     island  bill_length_cm  bill_depth_cm  flipper_length_cm  \\\n",
       "0  Adelie  Torgersen            3.91           1.87               18.1   \n",
       "1  Adelie  Torgersen            3.95           1.74               18.6   \n",
       "2  Adelie  Torgersen            4.03           1.80               19.5   \n",
       "4  Adelie  Torgersen            3.67           1.93               19.3   \n",
       "5  Adelie  Torgersen            3.93           2.06               19.0   \n",
       "\n",
       "   body_mass_kg     sex  body_mass_avg  \n",
       "0          3.75    MALE       3.708511  \n",
       "1          3.80  FEMALE       3.708511  \n",
       "2          3.25  FEMALE       3.708511  \n",
       "4          3.45  FEMALE       3.708511  \n",
       "5          3.65    MALE       3.708511  "
      ]
     },
     "execution_count": 84,
     "metadata": {},
     "output_type": "execute_result"
    }
   ],
   "source": [
    "penguins_data.head()"
   ]
  },
  {
   "cell_type": "markdown",
   "metadata": {},
   "source": [
    "[평균이하_평균초과](https://stackoverflow.com/questions/42405572/how-to-compare-two-columns-of-the-same-dataframe)"
   ]
  },
  {
   "cell_type": "code",
   "execution_count": 87,
   "metadata": {
    "ExecuteTime": {
     "end_time": "2021-12-27T10:13:12.411223Z",
     "start_time": "2021-12-27T10:13:12.407234Z"
    }
   },
   "outputs": [],
   "source": [
    "penguins_data[\"body_mass_avgGroup\"] = np.where(penguins_data.body_mass_kg > penguins_data.body_mass_avg\n",
    "                                               , \"0.평균초과\", \"1.평균이하\")"
   ]
  },
  {
   "cell_type": "code",
   "execution_count": 89,
   "metadata": {
    "ExecuteTime": {
     "end_time": "2021-12-27T10:13:38.906520Z",
     "start_time": "2021-12-27T10:13:38.895553Z"
    }
   },
   "outputs": [
    {
     "data": {
      "text/html": [
       "<div>\n",
       "<style scoped>\n",
       "    .dataframe tbody tr th:only-of-type {\n",
       "        vertical-align: middle;\n",
       "    }\n",
       "\n",
       "    .dataframe tbody tr th {\n",
       "        vertical-align: top;\n",
       "    }\n",
       "\n",
       "    .dataframe thead th {\n",
       "        text-align: right;\n",
       "    }\n",
       "</style>\n",
       "<table border=\"1\" class=\"dataframe\">\n",
       "  <thead>\n",
       "    <tr style=\"text-align: right;\">\n",
       "      <th></th>\n",
       "      <th>species</th>\n",
       "      <th>island</th>\n",
       "      <th>body_mass_avgGroup</th>\n",
       "      <th>0</th>\n",
       "    </tr>\n",
       "  </thead>\n",
       "  <tbody>\n",
       "    <tr>\n",
       "      <th>0</th>\n",
       "      <td>Adelie</td>\n",
       "      <td>Biscoe</td>\n",
       "      <td>0.평균초과</td>\n",
       "      <td>24</td>\n",
       "    </tr>\n",
       "    <tr>\n",
       "      <th>1</th>\n",
       "      <td>Adelie</td>\n",
       "      <td>Biscoe</td>\n",
       "      <td>1.평균이하</td>\n",
       "      <td>20</td>\n",
       "    </tr>\n",
       "    <tr>\n",
       "      <th>2</th>\n",
       "      <td>Adelie</td>\n",
       "      <td>Dream</td>\n",
       "      <td>0.평균초과</td>\n",
       "      <td>24</td>\n",
       "    </tr>\n",
       "    <tr>\n",
       "      <th>3</th>\n",
       "      <td>Adelie</td>\n",
       "      <td>Dream</td>\n",
       "      <td>1.평균이하</td>\n",
       "      <td>31</td>\n",
       "    </tr>\n",
       "    <tr>\n",
       "      <th>4</th>\n",
       "      <td>Adelie</td>\n",
       "      <td>Torgersen</td>\n",
       "      <td>0.평균초과</td>\n",
       "      <td>21</td>\n",
       "    </tr>\n",
       "    <tr>\n",
       "      <th>5</th>\n",
       "      <td>Adelie</td>\n",
       "      <td>Torgersen</td>\n",
       "      <td>1.평균이하</td>\n",
       "      <td>26</td>\n",
       "    </tr>\n",
       "    <tr>\n",
       "      <th>6</th>\n",
       "      <td>Chinstrap</td>\n",
       "      <td>Dream</td>\n",
       "      <td>0.평균초과</td>\n",
       "      <td>31</td>\n",
       "    </tr>\n",
       "    <tr>\n",
       "      <th>7</th>\n",
       "      <td>Chinstrap</td>\n",
       "      <td>Dream</td>\n",
       "      <td>1.평균이하</td>\n",
       "      <td>37</td>\n",
       "    </tr>\n",
       "    <tr>\n",
       "      <th>8</th>\n",
       "      <td>Gentoo</td>\n",
       "      <td>Biscoe</td>\n",
       "      <td>0.평균초과</td>\n",
       "      <td>58</td>\n",
       "    </tr>\n",
       "    <tr>\n",
       "      <th>9</th>\n",
       "      <td>Gentoo</td>\n",
       "      <td>Biscoe</td>\n",
       "      <td>1.평균이하</td>\n",
       "      <td>61</td>\n",
       "    </tr>\n",
       "  </tbody>\n",
       "</table>\n",
       "</div>"
      ],
      "text/plain": [
       "     species     island body_mass_avgGroup   0\n",
       "0     Adelie     Biscoe             0.평균초과  24\n",
       "1     Adelie     Biscoe             1.평균이하  20\n",
       "2     Adelie      Dream             0.평균초과  24\n",
       "3     Adelie      Dream             1.평균이하  31\n",
       "4     Adelie  Torgersen             0.평균초과  21\n",
       "5     Adelie  Torgersen             1.평균이하  26\n",
       "6  Chinstrap      Dream             0.평균초과  31\n",
       "7  Chinstrap      Dream             1.평균이하  37\n",
       "8     Gentoo     Biscoe             0.평균초과  58\n",
       "9     Gentoo     Biscoe             1.평균이하  61"
      ]
     },
     "execution_count": 89,
     "metadata": {},
     "output_type": "execute_result"
    }
   ],
   "source": [
    "penguins_data.groupby(['species', 'island', 'body_mass_avgGroup']).size().reset_index()"
   ]
  },
  {
   "cell_type": "code",
   "execution_count": null,
   "metadata": {},
   "outputs": [],
   "source": []
  },
  {
   "cell_type": "code",
   "execution_count": null,
   "metadata": {},
   "outputs": [],
   "source": []
  }
 ],
 "metadata": {
  "kernelspec": {
   "display_name": "Python 3",
   "language": "python",
   "name": "python3"
  },
  "language_info": {
   "codemirror_mode": {
    "name": "ipython",
    "version": 3
   },
   "file_extension": ".py",
   "mimetype": "text/x-python",
   "name": "python",
   "nbconvert_exporter": "python",
   "pygments_lexer": "ipython3",
   "version": "3.8.3"
  },
  "toc": {
   "base_numbering": 1,
   "nav_menu": {},
   "number_sections": true,
   "sideBar": true,
   "skip_h1_title": false,
   "title_cell": "Table of Contents",
   "title_sidebar": "Contents",
   "toc_cell": false,
   "toc_position": {},
   "toc_section_display": true,
   "toc_window_display": false
  }
 },
 "nbformat": 4,
 "nbformat_minor": 4
}
