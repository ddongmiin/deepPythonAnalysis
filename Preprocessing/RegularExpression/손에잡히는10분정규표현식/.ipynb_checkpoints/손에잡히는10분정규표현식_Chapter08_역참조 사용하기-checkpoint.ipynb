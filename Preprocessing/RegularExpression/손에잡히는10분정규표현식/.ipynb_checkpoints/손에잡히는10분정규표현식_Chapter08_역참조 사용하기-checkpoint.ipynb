{
 "cells": [
  {
   "cell_type": "code",
   "execution_count": 3,
   "metadata": {
    "ExecuteTime": {
     "end_time": "2021-10-08T11:02:59.016183Z",
     "start_time": "2021-10-08T11:02:57.871070Z"
    }
   },
   "outputs": [],
   "source": [
    "import re\n",
    "import pandas as pd"
   ]
  },
  {
   "cell_type": "code",
   "execution_count": 4,
   "metadata": {
    "ExecuteTime": {
     "end_time": "2021-10-08T11:02:59.023095Z",
     "start_time": "2021-10-08T11:02:59.017093Z"
    }
   },
   "outputs": [
    {
     "data": {
      "text/html": [
       "<style>.container { width: 90% !important; }</style>"
      ],
      "text/plain": [
       "<IPython.core.display.HTML object>"
      ]
     },
     "metadata": {},
     "output_type": "display_data"
    }
   ],
   "source": [
    "from IPython.core.display import display, HTML\n",
    "display(HTML(\"<style>.container { width: 90% !important; }</style>\"))"
   ]
  },
  {
   "cell_type": "code",
   "execution_count": 5,
   "metadata": {
    "ExecuteTime": {
     "end_time": "2021-10-08T11:02:59.029136Z",
     "start_time": "2021-10-08T11:02:59.024095Z"
    }
   },
   "outputs": [],
   "source": [
    "def getRegex(df : pd.DataFrame, col_name : str, regex : str) -> pd.DataFrame :\n",
    "    return df[df[col_name].str.contains(regex)]"
   ]
  },
  {
   "cell_type": "markdown",
   "metadata": {},
   "source": [
    "# 역참조 사용하기"
   ]
  },
  {
   "cell_type": "markdown",
   "metadata": {},
   "source": [
    "* 하위 표현식을 사용하는 이유 : 주로 반복되는 패턴을 검색하는 작업을 통제하기 위해\n",
    "    * 역참조는? 하위 표현식의 주요 스킬 중 하나"
   ]
  },
  {
   "cell_type": "code",
   "execution_count": 6,
   "metadata": {
    "ExecuteTime": {
     "end_time": "2021-10-08T11:02:59.036092Z",
     "start_time": "2021-10-08T11:02:59.030118Z"
    }
   },
   "outputs": [],
   "source": [
    "text1 = \"\"\"<body>\n",
    "<h1>Welcome to my Homepage</h1>\n",
    "Content is divided into two sections:<br/>\n",
    "<h2>SQL</h2>\n",
    "Information about SQL.\n",
    "<h2>RegEx</h2>\n",
    "Information about Regular Expressions.\n",
    "<h2>This is not valid HTML</h3>\n",
    "</body>\"\"\""
   ]
  },
  {
   "cell_type": "code",
   "execution_count": 7,
   "metadata": {
    "ExecuteTime": {
     "end_time": "2021-10-08T11:02:59.044137Z",
     "start_time": "2021-10-08T11:02:59.037094Z"
    }
   },
   "outputs": [
    {
     "name": "stdout",
     "output_type": "stream",
     "text": [
      "['<h1>Welcome to my Homepage</h1>', '<h2>SQL</h2>', '<h2>RegEx</h2>', '<h2>This is not valid HTML</h3>']\n"
     ]
    }
   ],
   "source": [
    "#$를 정확하게 쓰는 방법\n",
    "print(re.findall(r\"<[Hh][1-6]>.*?<\\/[Hh][1-6]>\", text1))"
   ]
  },
  {
   "cell_type": "markdown",
   "metadata": {},
   "source": [
    "* *? - 게으른 수량자를 사용 -> 좀 더 안전하기 때문에\n",
    "* 이럴 경우 h2로 시작해서 /h3로 끝나는 잘못된 경우도 생김\n",
    "* 이럴때 역참조를 사용하면 더 좋음"
   ]
  },
  {
   "cell_type": "code",
   "execution_count": 8,
   "metadata": {
    "ExecuteTime": {
     "end_time": "2021-10-08T11:02:59.049093Z",
     "start_time": "2021-10-08T11:02:59.045093Z"
    }
   },
   "outputs": [],
   "source": [
    "text2 = \"\"\"This is a block of of text,\n",
    "several words here are are\n",
    "repeated, and and they\n",
    "should not be\"\"\""
   ]
  },
  {
   "cell_type": "code",
   "execution_count": 9,
   "metadata": {
    "ExecuteTime": {
     "end_time": "2021-10-08T11:02:59.111092Z",
     "start_time": "2021-10-08T11:02:59.107092Z"
    }
   },
   "outputs": [
    {
     "name": "stdout",
     "output_type": "stream",
     "text": [
      "['of', 'are', 'and']\n"
     ]
    }
   ],
   "source": [
    "#findall을 하면 앞글자만 따옴. 그루핑을 하는 경우에\n",
    "print(re.findall(r\"[ ]+(\\w+)[ ]+\\1\", text2))"
   ]
  },
  {
   "cell_type": "markdown",
   "metadata": {},
   "source": [
    "* 시작 헤더 태그와 일치하는 종료 태그만 찾기"
   ]
  },
  {
   "cell_type": "markdown",
   "metadata": {},
   "source": [
    "[논캡쳐링그룹설명](https://stackoverflow.com/questions/3512471/what-is-a-non-capturing-group-in-regular-expressions)"
   ]
  },
  {
   "cell_type": "code",
   "execution_count": 10,
   "metadata": {
    "ExecuteTime": {
     "end_time": "2021-10-08T11:02:59.385094Z",
     "start_time": "2021-10-08T11:02:59.383093Z"
    }
   },
   "outputs": [
    {
     "name": "stdout",
     "output_type": "stream",
     "text": [
      "['1', '2', '2']\n"
     ]
    }
   ],
   "source": [
    "print(re.findall(r\"<[hH]([1-6])>.*<\\/[Hh]\\1>\", text1))"
   ]
  },
  {
   "cell_type": "markdown",
   "metadata": {},
   "source": [
    "[교육 영상](https://www.youtube.com/watch?v=E66slBlRBHg)\n",
    "\n",
    "[마지막을 반환하는 이유](https://stackoverflow.com/questions/43461376/regex-repeating-capturing-group)"
   ]
  },
  {
   "cell_type": "markdown",
   "metadata": {},
   "source": [
    "# Non-capture 테스트하기"
   ]
  },
  {
   "cell_type": "code",
   "execution_count": 11,
   "metadata": {
    "ExecuteTime": {
     "end_time": "2021-10-08T11:02:59.651289Z",
     "start_time": "2021-10-08T11:02:59.648208Z"
    }
   },
   "outputs": [],
   "source": [
    "text3 = f\"\"\"Do you mean Non-capture?\n",
    "Yes. I mean non-capture\"\"\""
   ]
  },
  {
   "cell_type": "code",
   "execution_count": 12,
   "metadata": {
    "ExecuteTime": {
     "end_time": "2021-10-08T11:02:59.738985Z",
     "start_time": "2021-10-08T11:02:59.733988Z"
    }
   },
   "outputs": [
    {
     "name": "stdout",
     "output_type": "stream",
     "text": [
      "['Non', 'non']\n",
      "['N', 'n']\n",
      "[('Non', 'N'), ('non', 'n')]\n",
      "['N', 'n']\n"
     ]
    }
   ],
   "source": [
    "print(re.findall(r\"[Nn]on\", text3))\n",
    "print(re.findall(r\"([Nn])on\", text3))\n",
    "print(re.findall(r\"(([Nn])on)\", text3))\n",
    "print(re.findall(r\"([Nn])on\", text3))"
   ]
  },
  {
   "cell_type": "markdown",
   "metadata": {},
   "source": [
    "* 추후 좀 더 탐색"
   ]
  },
  {
   "cell_type": "markdown",
   "metadata": {},
   "source": [
    "# 치환 작업 수행하기"
   ]
  },
  {
   "cell_type": "markdown",
   "metadata": {},
   "source": [
    "* 정규표현식은 텍스트 검색 뿐만 아니라 치환 작업도 수행할 수 있게 해줌"
   ]
  },
  {
   "cell_type": "markdown",
   "metadata": {},
   "source": [
    "[정규표현식 메타 설명](https://sc1.checkpoint.com/documents/R76/CP_R76_IdentityAwareness_AdminGuide/12885.htm)"
   ]
  },
  {
   "cell_type": "code",
   "execution_count": 13,
   "metadata": {
    "ExecuteTime": {
     "end_time": "2021-10-08T11:03:00.788971Z",
     "start_time": "2021-10-08T11:03:00.785960Z"
    }
   },
   "outputs": [],
   "source": [
    "text4 = f\"\"\"Hello, ben@forta.com is my email address.\"\"\""
   ]
  },
  {
   "cell_type": "code",
   "execution_count": 14,
   "metadata": {
    "ExecuteTime": {
     "end_time": "2021-10-08T11:03:01.078568Z",
     "start_time": "2021-10-08T11:03:01.075567Z"
    }
   },
   "outputs": [
    {
     "name": "stdout",
     "output_type": "stream",
     "text": [
      "<re.Match object; span=(7, 20), match='ben@forta.com'>\n"
     ]
    }
   ],
   "source": [
    "print(re.search(r\"\\w+[\\w.]+@[\\w.]+\\.\\w+\", text4))"
   ]
  },
  {
   "cell_type": "code",
   "execution_count": 15,
   "metadata": {
    "ExecuteTime": {
     "end_time": "2021-10-08T11:03:01.406568Z",
     "start_time": "2021-10-08T11:03:01.401567Z"
    }
   },
   "outputs": [
    {
     "data": {
      "text/plain": [
       "'Hello, <a href=\"malito:ben@forta.com\">ben@forta.com</a> is my email address.'"
      ]
     },
     "execution_count": 15,
     "metadata": {},
     "output_type": "execute_result"
    }
   ],
   "source": [
    "re.sub(r\"(\\w+[\\w.]+@[\\w.]+\\.\\w+)\", r\"\"\"<a href=\"malito:\\1\">\\1</a>\"\"\", text4)"
   ]
  },
  {
   "cell_type": "markdown",
   "metadata": {},
   "source": [
    "* 치환 작업을 할 때는 정규 표현식이 두 개가 필요하다. 하나는 원하는 부분을 일치시키는 패턴이고 다른 하나는 일치한 부분을 치환하는 데 사용할 패턴이다."
   ]
  },
  {
   "cell_type": "code",
   "execution_count": 16,
   "metadata": {
    "ExecuteTime": {
     "end_time": "2021-10-08T11:03:03.261098Z",
     "start_time": "2021-10-08T11:03:03.259097Z"
    }
   },
   "outputs": [],
   "source": [
    "text5 = f\"\"\"313-555-1234\n",
    "248-555-9999\n",
    "810-555-9000\"\"\""
   ]
  },
  {
   "cell_type": "code",
   "execution_count": 17,
   "metadata": {
    "ExecuteTime": {
     "end_time": "2021-10-08T11:03:03.418116Z",
     "start_time": "2021-10-08T11:03:03.416115Z"
    }
   },
   "outputs": [
    {
     "name": "stdout",
     "output_type": "stream",
     "text": [
      "(313) 555-1234\n",
      "(248) 555-9999\n",
      "(810) 555-9000\n"
     ]
    }
   ],
   "source": [
    "print(re.sub(r\"(\\d{3})(-)(\\d{3})(-)(\\d{4})\", r\"\"\"(\\1) \\3-\\5\"\"\", text5))"
   ]
  },
  {
   "cell_type": "markdown",
   "metadata": {},
   "source": [
    "* 그루핑에도 하이픈은 적용된다."
   ]
  },
  {
   "cell_type": "markdown",
   "metadata": {},
   "source": [
    "# 대소문자 변환하기"
   ]
  },
  {
   "cell_type": "markdown",
   "metadata": {},
   "source": [
    "* \\E : \\L 혹은 \\U 변환의 끝을 나타낸다.\n",
    "* \\l : 다음에 오는 글자를 소문자로 변환한다.\n",
    "* \\L : \\E를 만날 때까지 모든 문자를 소문자로 변환한다.\n",
    "* \\u : 다음에 오는 글자를 대문자로 변환한다.\n",
    "* \\U : \\E를 만날 때까지 모든 문자를 대문자로 변환한다."
   ]
  },
  {
   "cell_type": "code",
   "execution_count": 18,
   "metadata": {
    "ExecuteTime": {
     "end_time": "2021-10-08T11:03:03.975117Z",
     "start_time": "2021-10-08T11:03:03.973116Z"
    }
   },
   "outputs": [],
   "source": [
    "text6 = f\"\"\"<body>\n",
    "<h1>Welcome to my Homepage</h1>\n",
    "Content is divided into two sections:<br/>\n",
    "<h2>SQL</h2>\n",
    "Information about SQL.\n",
    "<h2>RegEX</h2>\n",
    "Information about Regular Expressions.\n",
    "<h2>This is not valid HTML</h3>\n",
    "</body>\"\"\""
   ]
  },
  {
   "cell_type": "code",
   "execution_count": 24,
   "metadata": {
    "ExecuteTime": {
     "end_time": "2021-10-08T11:04:03.792632Z",
     "start_time": "2021-10-08T11:04:03.789632Z"
    }
   },
   "outputs": [
    {
     "name": "stdout",
     "output_type": "stream",
     "text": [
      "<re.Match object; span=(7, 38), match='<h1>Welcome to my Homepage</h1>'>\n"
     ]
    }
   ],
   "source": [
    "print(re.search(r\"(<[Hh]1>)(.*?)(<\\/[Hh]1>)\", text6))"
   ]
  },
  {
   "cell_type": "code",
   "execution_count": 52,
   "metadata": {
    "ExecuteTime": {
     "end_time": "2021-10-08T11:10:46.151217Z",
     "start_time": "2021-10-08T11:10:46.147217Z"
    }
   },
   "outputs": [],
   "source": [
    "def toUppercase(matchobj):\n",
    "    return matchobj.group(1) + matchobj.group(2).upper() + matchobj.group(3)"
   ]
  },
  {
   "cell_type": "code",
   "execution_count": 53,
   "metadata": {
    "ExecuteTime": {
     "end_time": "2021-10-08T11:10:46.398216Z",
     "start_time": "2021-10-08T11:10:46.395216Z"
    }
   },
   "outputs": [
    {
     "name": "stdout",
     "output_type": "stream",
     "text": [
      "<body>\n",
      "<h1>WELCOME TO MY HOMEPAGE</h1>\n",
      "Content is divided into two sections:<br/>\n",
      "<h2>SQL</h2>\n",
      "Information about SQL.\n",
      "<h2>RegEX</h2>\n",
      "Information about Regular Expressions.\n",
      "<h2>This is not valid HTML</h3>\n",
      "</body>\n"
     ]
    }
   ],
   "source": [
    "print(re.sub(r\"(<[Hh]1>)(.*?)(<\\/[Hh]1>)\", toUppercase, text6))"
   ]
  },
  {
   "cell_type": "code",
   "execution_count": null,
   "metadata": {},
   "outputs": [],
   "source": []
  }
 ],
 "metadata": {
  "kernelspec": {
   "display_name": "Python 3",
   "language": "python",
   "name": "python3"
  },
  "language_info": {
   "codemirror_mode": {
    "name": "ipython",
    "version": 3
   },
   "file_extension": ".py",
   "mimetype": "text/x-python",
   "name": "python",
   "nbconvert_exporter": "python",
   "pygments_lexer": "ipython3",
   "version": "3.8.3"
  },
  "toc": {
   "base_numbering": 1,
   "nav_menu": {},
   "number_sections": true,
   "sideBar": true,
   "skip_h1_title": false,
   "title_cell": "Table of Contents",
   "title_sidebar": "Contents",
   "toc_cell": false,
   "toc_position": {},
   "toc_section_display": true,
   "toc_window_display": true
  }
 },
 "nbformat": 4,
 "nbformat_minor": 4
}
