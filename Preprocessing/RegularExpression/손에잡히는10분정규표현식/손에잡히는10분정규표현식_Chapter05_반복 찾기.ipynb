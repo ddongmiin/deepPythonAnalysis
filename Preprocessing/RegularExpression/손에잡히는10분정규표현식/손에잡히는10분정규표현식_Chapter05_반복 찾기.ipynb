{
 "cells": [
  {
   "cell_type": "code",
   "execution_count": 1,
   "metadata": {
    "ExecuteTime": {
     "end_time": "2021-10-03T12:30:26.647023Z",
     "start_time": "2021-10-03T12:30:25.924736Z"
    }
   },
   "outputs": [],
   "source": [
    "import re\n",
    "import pandas as pd"
   ]
  },
  {
   "cell_type": "code",
   "execution_count": 2,
   "metadata": {
    "ExecuteTime": {
     "end_time": "2021-10-03T12:30:26.654007Z",
     "start_time": "2021-10-03T12:30:26.648019Z"
    }
   },
   "outputs": [
    {
     "data": {
      "text/html": [
       "<style>.container { width: 78% !important; }</style>"
      ],
      "text/plain": [
       "<IPython.core.display.HTML object>"
      ]
     },
     "metadata": {},
     "output_type": "display_data"
    }
   ],
   "source": [
    "from IPython.core.display import display, HTML\n",
    "display(HTML(\"<style>.container { width: 78% !important; }</style>\"))"
   ]
  },
  {
   "cell_type": "code",
   "execution_count": 3,
   "metadata": {
    "ExecuteTime": {
     "end_time": "2021-10-03T12:30:26.661026Z",
     "start_time": "2021-10-03T12:30:26.654993Z"
    }
   },
   "outputs": [],
   "source": [
    "def getRegex(df : pd.DataFrame, col_name : str, regex : str) -> pd.DataFrame :\n",
    "    return df[df[col_name].str.contains(regex)]"
   ]
  },
  {
   "cell_type": "markdown",
   "metadata": {},
   "source": [
    "# 반복 찾기"
   ]
  },
  {
   "cell_type": "markdown",
   "metadata": {},
   "source": [
    "## 하나 이상의 문자 찾기(+)"
   ]
  },
  {
   "cell_type": "markdown",
   "metadata": {},
   "source": [
    "* 문자 집합에 +를 사용한다면?\n",
    "    * [0-9+]가 아니라 [0-9]+를 사용해야 한다. 왜냐하면, 문자 집합은 or조건이기 때문이다."
   ]
  },
  {
   "cell_type": "code",
   "execution_count": 4,
   "metadata": {
    "ExecuteTime": {
     "end_time": "2021-10-03T12:30:26.842995Z",
     "start_time": "2021-10-03T12:30:26.839025Z"
    }
   },
   "outputs": [],
   "source": [
    "text1 = \"\"\"Send personal email to ben@forta.com. For Questions\n",
    "about a book user support@forta.com. Feel free to send\n",
    "unsolicited email to spam@forta.com (wouldn`t it be\n",
    "nice if it were the simple, huh?).\"\"\""
   ]
  },
  {
   "cell_type": "code",
   "execution_count": 5,
   "metadata": {
    "ExecuteTime": {
     "end_time": "2021-10-03T12:30:27.514027Z",
     "start_time": "2021-10-03T12:30:27.508995Z"
    }
   },
   "outputs": [
    {
     "data": {
      "text/plain": [
       "['ben@forta.com', 'support@forta.com', 'spam@forta.com']"
      ]
     },
     "execution_count": 5,
     "metadata": {},
     "output_type": "execute_result"
    }
   ],
   "source": [
    "re.findall(r\"\\w+@\\w+\\.com\", text1)"
   ]
  },
  {
   "cell_type": "code",
   "execution_count": 11,
   "metadata": {
    "ExecuteTime": {
     "end_time": "2021-09-26T13:25:14.862383Z",
     "start_time": "2021-09-26T13:25:14.860377Z"
    }
   },
   "outputs": [],
   "source": [
    "text2 = \"\"\"Send personal email to ben@forta.com. or ben.forta@forta.com\n",
    "For Questions about a book user support@forta.com. \n",
    "If your message is urgent try ben@urgent.forta.com.\n",
    "Feel free to send unsolicited email to spam@forta.com (wouldn`t it be\n",
    "nice if it were the simple, huh?).\"\"\""
   ]
  },
  {
   "cell_type": "code",
   "execution_count": 12,
   "metadata": {
    "ExecuteTime": {
     "end_time": "2021-09-26T13:25:43.778218Z",
     "start_time": "2021-09-26T13:25:43.774218Z"
    }
   },
   "outputs": [
    {
     "data": {
      "text/plain": [
       "['ben@forta.com',\n",
       " 'forta@forta.com',\n",
       " 'support@forta.com',\n",
       " 'ben@urgent.forta',\n",
       " 'spam@forta.com']"
      ]
     },
     "execution_count": 12,
     "metadata": {},
     "output_type": "execute_result"
    }
   ],
   "source": [
    "re.findall(r\"\\w+@\\w+\\.\\w+\", text2)"
   ]
  },
  {
   "cell_type": "markdown",
   "metadata": {},
   "source": [
    "* 제대로 검색되지 않은 주소들이 있음. 왜?\n",
    "    * \\w는 .(마침표)를 포함하지 않는다.\n",
    "    * 따라서 마침표 집합을 정의해야 한다."
   ]
  },
  {
   "cell_type": "code",
   "execution_count": 24,
   "metadata": {
    "ExecuteTime": {
     "end_time": "2021-09-26T13:30:05.783449Z",
     "start_time": "2021-09-26T13:30:05.778459Z"
    }
   },
   "outputs": [
    {
     "data": {
      "text/plain": [
       "['.', '.', '.', '.']"
      ]
     },
     "execution_count": 24,
     "metadata": {},
     "output_type": "execute_result"
    }
   ],
   "source": [
    "#참고 - 문자클래스안에 메타 문자 .이 들어가게 되면 마침표로 인식된다. 이스케이프를 해도 똑같다.\n",
    "re.findall(r\"[.]\", 'asd....')"
   ]
  },
  {
   "cell_type": "code",
   "execution_count": 30,
   "metadata": {
    "ExecuteTime": {
     "end_time": "2021-09-26T13:41:15.759642Z",
     "start_time": "2021-09-26T13:41:15.756675Z"
    }
   },
   "outputs": [
    {
     "data": {
      "text/plain": [
       "['ben@forta.com',\n",
       " 'ben.forta@forta.com',\n",
       " 'support@forta.com',\n",
       " 'ben@urgent.forta.com',\n",
       " 'spam@forta.com']"
      ]
     },
     "execution_count": 30,
     "metadata": {},
     "output_type": "execute_result"
    }
   ],
   "source": [
    "re.findall(r\"[\\w.]+@[\\w.]+\\.\\w+\", text2)"
   ]
  },
  {
   "cell_type": "markdown",
   "metadata": {},
   "source": [
    "## 문자가 없거나 하나 이상 연속하는 문자 찾기(*)"
   ]
  },
  {
   "cell_type": "markdown",
   "metadata": {},
   "source": [
    "* (+)와 (*)의 차이 \n",
    "    * (+)는 문자나 집합이 최소한 하나 이상 일치해야 한다.\n",
    "    * (*)은 문자나 집합이 0개 이상 일치하면 된다.\n",
    "    * 결론적으로 반드시 해당 문자가 있어야 한다면 + 그렇지 않다면 *이다."
   ]
  },
  {
   "cell_type": "code",
   "execution_count": 31,
   "metadata": {
    "ExecuteTime": {
     "end_time": "2021-09-26T13:56:04.266271Z",
     "start_time": "2021-09-26T13:56:04.262305Z"
    }
   },
   "outputs": [],
   "source": [
    "text3 = \"Hello .ben@forta.com is my email address.\""
   ]
  },
  {
   "cell_type": "code",
   "execution_count": 32,
   "metadata": {
    "ExecuteTime": {
     "end_time": "2021-09-26T13:57:03.595484Z",
     "start_time": "2021-09-26T13:57:03.591488Z"
    }
   },
   "outputs": [
    {
     "data": {
      "text/plain": [
       "<re.Match object; span=(6, 20), match='.ben@forta.com'>"
      ]
     },
     "execution_count": 32,
     "metadata": {},
     "output_type": "execute_result"
    }
   ],
   "source": [
    "re.search(r\"[\\w.]+@[\\w.]+\\.\\w+\", text3)"
   ]
  },
  {
   "cell_type": "code",
   "execution_count": 36,
   "metadata": {
    "ExecuteTime": {
     "end_time": "2021-09-26T14:00:01.299596Z",
     "start_time": "2021-09-26T14:00:01.296567Z"
    }
   },
   "outputs": [
    {
     "data": {
      "text/plain": [
       "<re.Match object; span=(7, 20), match='ben@forta.com'>"
      ]
     },
     "execution_count": 36,
     "metadata": {},
     "output_type": "execute_result"
    }
   ],
   "source": [
    "#.마침표를 빼려면?\n",
    "re.search(r\"\\w+[\\w.]*@[\\w.]+\\.\\w+\", text3)"
   ]
  },
  {
   "cell_type": "markdown",
   "metadata": {},
   "source": [
    "## 문자가 없거나 하나인 문자 찾기(?)"
   ]
  },
  {
   "cell_type": "markdown",
   "metadata": {},
   "source": [
    "* ?는 문자나 집합이 없거나 한번만 있을 때 유용하다."
   ]
  },
  {
   "cell_type": "markdown",
   "metadata": {},
   "source": [
    "[메타문자리스트](https://docs.trifacta.com/display/SS/Supported+Special+Regular+Expression+Characters)"
   ]
  },
  {
   "cell_type": "code",
   "execution_count": 37,
   "metadata": {
    "ExecuteTime": {
     "end_time": "2021-09-26T14:04:41.354410Z",
     "start_time": "2021-09-26T14:04:41.350411Z"
    }
   },
   "outputs": [],
   "source": [
    "text4 = \"\"\"The URL is http://www.forta.com/, to connect\n",
    "securely use https://www.forta.com/ instead.\"\"\""
   ]
  },
  {
   "cell_type": "code",
   "execution_count": 39,
   "metadata": {
    "ExecuteTime": {
     "end_time": "2021-09-26T14:11:53.303229Z",
     "start_time": "2021-09-26T14:11:53.298256Z"
    }
   },
   "outputs": [
    {
     "data": {
      "text/plain": [
       "['http://www.forta.com/']"
      ]
     },
     "execution_count": 39,
     "metadata": {},
     "output_type": "execute_result"
    }
   ],
   "source": [
    "re.findall(r\"http:\\/\\/[\\w.]+\\/\", text4)"
   ]
  },
  {
   "cell_type": "code",
   "execution_count": 49,
   "metadata": {
    "ExecuteTime": {
     "end_time": "2021-09-26T14:15:17.596034Z",
     "start_time": "2021-09-26T14:15:17.592006Z"
    }
   },
   "outputs": [
    {
     "name": "stdout",
     "output_type": "stream",
     "text": [
      "방법1 ['http://www.forta.com/', 'https://www.forta.com/']\n",
      "방법2 ['http://www.forta.com/', 'https://www.forta.com/']\n",
      "방법3 ['http://www.forta.com/', 'https://www.forta.com/']\n",
      "방법3 ['http://www.forta.com/', 'https://www.forta.com/']\n"
     ]
    }
   ],
   "source": [
    "#http와 https두개를 일치 시키려면?\n",
    "print(\"방법1\", re.findall(r\"https?:\\/\\/[\\w.]+\\/\", text4))\n",
    "print(\"방법2\", re.findall(r\"http[\\w]*:\\/\\/[\\w.]+\\/\", text4))\n",
    "print(\"방법3\", re.findall(r\"http[s]?:\\/\\/[\\w.]+\\/\", text4))\n",
    "print(\"방법3\", re.findall(r\"http[s]*:\\/\\/[\\w.]+\\/\", text4)) #지금 상황은 ?를 쓰는게 더 적절"
   ]
  },
  {
   "cell_type": "markdown",
   "metadata": {},
   "source": [
    "## 구간 지정하기({})"
   ]
  },
  {
   "cell_type": "markdown",
   "metadata": {},
   "source": [
    "* +, *, ? 는 일치하는 문자 수에 제한이 없다!\n",
    "* 즉, 일치하는 문자수를 명시적으로 제한할 수 없다!"
   ]
  },
  {
   "cell_type": "code",
   "execution_count": 4,
   "metadata": {
    "ExecuteTime": {
     "end_time": "2021-09-30T14:59:45.599327Z",
     "start_time": "2021-09-30T14:59:45.596359Z"
    }
   },
   "outputs": [],
   "source": [
    "text5 = \"\"\"body {\n",
    "    background-color; #fefbd8;\n",
    "}\n",
    "h1 {\n",
    "    background-color; #0000ff;\n",
    "}\n",
    "div {\n",
    "    background-color; #d0f4e6;\n",
    "}\n",
    "span {\n",
    "    background-color; #f08970;\n",
    "}\n",
    "\"\"\""
   ]
  },
  {
   "cell_type": "code",
   "execution_count": 6,
   "metadata": {
    "ExecuteTime": {
     "end_time": "2021-09-30T15:00:21.598351Z",
     "start_time": "2021-09-30T15:00:21.590379Z"
    }
   },
   "outputs": [
    {
     "data": {
      "text/plain": [
       "['#fefbd8', '#0000ff', '#d0f4e6', '#f08970']"
      ]
     },
     "execution_count": 6,
     "metadata": {},
     "output_type": "execute_result"
    }
   ],
   "source": [
    "re.findall(\"#[A-Fa-f0-9]{6}\", text5)"
   ]
  },
  {
   "cell_type": "markdown",
   "metadata": {},
   "source": [
    "## 범위 구간 찾기 ({d1,d2})"
   ]
  },
  {
   "cell_type": "code",
   "execution_count": 10,
   "metadata": {
    "ExecuteTime": {
     "end_time": "2021-09-30T15:04:17.570349Z",
     "start_time": "2021-09-30T15:04:17.566348Z"
    }
   },
   "outputs": [],
   "source": [
    "text6 = \"\"\"4/8/17\n",
    "10-6-2018\n",
    "2/2/2\n",
    "01-01-01\n",
    "\"\"\""
   ]
  },
  {
   "cell_type": "code",
   "execution_count": 12,
   "metadata": {
    "ExecuteTime": {
     "end_time": "2021-09-30T15:04:27.733458Z",
     "start_time": "2021-09-30T15:04:27.728488Z"
    }
   },
   "outputs": [
    {
     "data": {
      "text/plain": [
       "['4/8/17', '10-6-2018', '01-01-01']"
      ]
     },
     "execution_count": 12,
     "metadata": {},
     "output_type": "execute_result"
    }
   ],
   "source": [
    "#참고로 이 범위 구간을 찾을 때 띄어쓰기를 하면 안된다.\n",
    "re.findall(\"\\d{1,2}[-\\/]\\d{1,2}[-\\/]\\d{2,4}\", text6)"
   ]
  },
  {
   "cell_type": "markdown",
   "metadata": {},
   "source": [
    "## 최소 구간 찾기({d1,})"
   ]
  },
  {
   "cell_type": "code",
   "execution_count": 13,
   "metadata": {
    "ExecuteTime": {
     "end_time": "2021-09-30T15:06:42.822942Z",
     "start_time": "2021-09-30T15:06:42.818941Z"
    }
   },
   "outputs": [],
   "source": [
    "text7 = \"\"\"1001: $496.80\n",
    "1002: $1290.69\n",
    "1003: $26.43\n",
    "1004: $613.42\n",
    "1005: $7.61\n",
    "1006: $414.90\n",
    "1007: $25.00\n",
    "\"\"\""
   ]
  },
  {
   "cell_type": "code",
   "execution_count": 15,
   "metadata": {
    "ExecuteTime": {
     "end_time": "2021-09-30T15:13:23.372322Z",
     "start_time": "2021-09-30T15:13:23.367320Z"
    }
   },
   "outputs": [
    {
     "data": {
      "text/plain": [
       "['1001: $496.80', '1002: $1290.69', '1004: $613.42', '1006: $414.90']"
      ]
     },
     "execution_count": 15,
     "metadata": {},
     "output_type": "execute_result"
    }
   ],
   "source": [
    "#달러도 메타 문자다!\n",
    "re.findall(r\"\\d+: \\$\\d{3,}\\.\\d{2}\", text7)"
   ]
  },
  {
   "cell_type": "markdown",
   "metadata": {},
   "source": [
    "## 과하게 일치하는 상황 방지하기 (greedy search)"
   ]
  },
  {
   "cell_type": "markdown",
   "metadata": {},
   "source": [
    "* *와 +같은 메타 문자는 탐욕적이므로 가능한 가장 큰 덩어리를 찾으려 한다.\n",
    "* 과자1과 과자2 합쳐서 과자 __ 과자 먹어랬더니 다 먹는 경우"
   ]
  },
  {
   "cell_type": "code",
   "execution_count": 16,
   "metadata": {
    "ExecuteTime": {
     "end_time": "2021-09-30T15:20:56.407151Z",
     "start_time": "2021-09-30T15:20:56.404146Z"
    }
   },
   "outputs": [],
   "source": [
    "text8 = \"\"\"This offer is not available to customers\n",
    "living in <b>AK</b> and <b>HI</b>.\n",
    "\"\"\""
   ]
  },
  {
   "cell_type": "code",
   "execution_count": 23,
   "metadata": {
    "ExecuteTime": {
     "end_time": "2021-09-30T15:22:16.019575Z",
     "start_time": "2021-09-30T15:22:16.015545Z"
    }
   },
   "outputs": [
    {
     "data": {
      "text/plain": [
       "['<b>AK</b> and <b>HI</b>']"
      ]
     },
     "execution_count": 23,
     "metadata": {},
     "output_type": "execute_result"
    }
   ],
   "source": [
    "re.findall(r\"<[Bb]>.*<\\/[Bb]>\", text8)"
   ]
  },
  {
   "cell_type": "markdown",
   "metadata": {},
   "source": [
    "* 여기서 탐욕적이라는것은 < b >AK < /b > 를 찾은 것이 아니고 더 큰 덩어리를 찾았다는 뜻이다.\n",
    "* 이는 *, + 자체가 탐욕적인 탐색을 위해 설계되었기 때문이다."
   ]
  },
  {
   "cell_type": "markdown",
   "metadata": {},
   "source": [
    "* 탐욕적 수량자 : *, +, {n,}\n",
    "* 게으른 수량자 : *?, +?, {n,}?"
   ]
  },
  {
   "cell_type": "code",
   "execution_count": 25,
   "metadata": {
    "ExecuteTime": {
     "end_time": "2021-09-30T15:25:42.847028Z",
     "start_time": "2021-09-30T15:25:42.843056Z"
    }
   },
   "outputs": [
    {
     "data": {
      "text/plain": [
       "['<b>AK</b>', '<b>HI</b>']"
      ]
     },
     "execution_count": 25,
     "metadata": {},
     "output_type": "execute_result"
    }
   ],
   "source": [
    "re.findall(r\"<[Bb]>.*?<\\/[Bb]>\", text8)"
   ]
  }
 ],
 "metadata": {
  "kernelspec": {
   "display_name": "Python 3",
   "language": "python",
   "name": "python3"
  },
  "language_info": {
   "codemirror_mode": {
    "name": "ipython",
    "version": 3
   },
   "file_extension": ".py",
   "mimetype": "text/x-python",
   "name": "python",
   "nbconvert_exporter": "python",
   "pygments_lexer": "ipython3",
   "version": "3.8.3"
  },
  "toc": {
   "base_numbering": 1,
   "nav_menu": {},
   "number_sections": true,
   "sideBar": true,
   "skip_h1_title": false,
   "title_cell": "Table of Contents",
   "title_sidebar": "Contents",
   "toc_cell": false,
   "toc_position": {},
   "toc_section_display": true,
   "toc_window_display": true
  }
 },
 "nbformat": 4,
 "nbformat_minor": 4
}
