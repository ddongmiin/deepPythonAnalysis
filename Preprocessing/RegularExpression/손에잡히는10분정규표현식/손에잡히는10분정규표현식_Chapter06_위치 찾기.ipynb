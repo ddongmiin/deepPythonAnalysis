{
 "cells": [
  {
   "cell_type": "code",
   "execution_count": 17,
   "metadata": {
    "ExecuteTime": {
     "end_time": "2021-10-03T12:29:57.014000Z",
     "start_time": "2021-10-03T12:29:57.011025Z"
    }
   },
   "outputs": [],
   "source": [
    "import re\n",
    "import pandas as pd"
   ]
  },
  {
   "cell_type": "code",
   "execution_count": 18,
   "metadata": {
    "ExecuteTime": {
     "end_time": "2021-10-03T12:29:57.206999Z",
     "start_time": "2021-10-03T12:29:57.204029Z"
    }
   },
   "outputs": [
    {
     "data": {
      "text/html": [
       "<style>.container { width: 78% !important; }</style>"
      ],
      "text/plain": [
       "<IPython.core.display.HTML object>"
      ]
     },
     "metadata": {},
     "output_type": "display_data"
    }
   ],
   "source": [
    "from IPython.core.display import display, HTML\n",
    "display(HTML(\"<style>.container { width: 78% !important; }</style>\"))"
   ]
  },
  {
   "cell_type": "code",
   "execution_count": 19,
   "metadata": {
    "ExecuteTime": {
     "end_time": "2021-10-03T12:29:57.349999Z",
     "start_time": "2021-10-03T12:29:57.346028Z"
    }
   },
   "outputs": [],
   "source": [
    "def getRegex(df : pd.DataFrame, col_name : str, regex : str) -> pd.DataFrame :\n",
    "    return df[df[col_name].str.contains(regex)]"
   ]
  },
  {
   "cell_type": "markdown",
   "metadata": {},
   "source": [
    "# 위치 찾기"
   ]
  },
  {
   "cell_type": "markdown",
   "metadata": {},
   "source": [
    "* 텍스트 영역 내에 있는 특정 위치에서 텍스트를 찾아야하는 경우"
   ]
  },
  {
   "cell_type": "code",
   "execution_count": 23,
   "metadata": {
    "ExecuteTime": {
     "end_time": "2021-10-03T12:30:11.492670Z",
     "start_time": "2021-10-03T12:30:11.488635Z"
    }
   },
   "outputs": [],
   "source": [
    "text1 = \"The cat scattered his food all over the room.\""
   ]
  },
  {
   "cell_type": "markdown",
   "metadata": {},
   "source": [
    "* 만약, 여기서 cat을 dog로 치환한다면? 말도 안되는 결과를 얻게됨\n",
    "* 이럴 때, 경계를 사용하거나 패턴 앞이나 뒤에 특정한 위치 혹은 경계를 나타내는 메타 문자를 사용하면 된다."
   ]
  },
  {
   "cell_type": "markdown",
   "metadata": {},
   "source": [
    "## 단어 경계 지정하기(\\b, \\B)"
   ]
  },
  {
   "cell_type": "code",
   "execution_count": 24,
   "metadata": {
    "ExecuteTime": {
     "end_time": "2021-10-03T12:30:12.132651Z",
     "start_time": "2021-10-03T12:30:12.130636Z"
    }
   },
   "outputs": [
    {
     "name": "stdout",
     "output_type": "stream",
     "text": [
      "The cat scattered his food all over the room.\n"
     ]
    }
   ],
   "source": [
    "print(text1)"
   ]
  },
  {
   "cell_type": "code",
   "execution_count": 29,
   "metadata": {
    "ExecuteTime": {
     "end_time": "2021-10-03T12:30:47.544133Z",
     "start_time": "2021-10-03T12:30:47.540136Z"
    }
   },
   "outputs": [
    {
     "name": "stdout",
     "output_type": "stream",
     "text": [
      "['cat', 'cat']\n",
      "['cat']\n"
     ]
    }
   ],
   "source": [
    "print(re.findall(r\"cat\", text1))\n",
    "print(re.findall(r\"\\bcat\\b\", text1))"
   ]
  },
  {
   "cell_type": "markdown",
   "metadata": {},
   "source": [
    "* 이렇게 블랭크 스페이스 경계를 지어주었다. \\b\n",
    "* 완전한 단어 하나를 일치시키고자 한다면, 일치시키고자하는 단어 앞뒤에 모두 \\b를 붙여야 한다."
   ]
  },
  {
   "cell_type": "code",
   "execution_count": 30,
   "metadata": {
    "ExecuteTime": {
     "end_time": "2021-10-03T12:35:53.522508Z",
     "start_time": "2021-10-03T12:35:53.519505Z"
    }
   },
   "outputs": [],
   "source": [
    "text2 = \"\"\"The captain wore this cap and cape proudly as \n",
    "he sat listening to the recap of how his\n",
    "crew saved the men from a capsized vessel.\"\"\""
   ]
  },
  {
   "cell_type": "code",
   "execution_count": 32,
   "metadata": {
    "ExecuteTime": {
     "end_time": "2021-10-03T12:36:24.768815Z",
     "start_time": "2021-10-03T12:36:24.765816Z"
    }
   },
   "outputs": [
    {
     "name": "stdout",
     "output_type": "stream",
     "text": [
      "['cap', 'cap', 'cap', 'cap']\n",
      "['cap', 'cap']\n"
     ]
    }
   ],
   "source": [
    "print(re.findall(r\"\\bcap\", text2))\n",
    "print(re.findall(r\"cap\\b\", text2))"
   ]
  },
  {
   "cell_type": "markdown",
   "metadata": {},
   "source": [
    "* 한 가지 주의할점 \\b는 실제로 문자와 일치하는 것이 아니고, 위치를 가리킨다. 그래서 \\bcat\\b를 써서 찾은 문자열의 길이는 5가 아니라 3이다."
   ]
  },
  {
   "cell_type": "code",
   "execution_count": 33,
   "metadata": {
    "ExecuteTime": {
     "end_time": "2021-10-03T12:39:59.855460Z",
     "start_time": "2021-10-03T12:39:59.851465Z"
    }
   },
   "outputs": [],
   "source": [
    "text3 = \"\"\"Please enter the nine-digit id as it\n",
    "appears on your color - coded pass-key.\"\"\""
   ]
  },
  {
   "cell_type": "code",
   "execution_count": 35,
   "metadata": {
    "ExecuteTime": {
     "end_time": "2021-10-03T12:40:30.214468Z",
     "start_time": "2021-10-03T12:40:30.210464Z"
    }
   },
   "outputs": [
    {
     "name": "stdout",
     "output_type": "stream",
     "text": [
      "['-', '-', '-']\n",
      "['-']\n"
     ]
    }
   ],
   "source": [
    "print(re.findall(r\"-\", text3))\n",
    "print(re.findall(r\"\\B-\\B\", text3))"
   ]
  },
  {
   "cell_type": "markdown",
   "metadata": {},
   "source": [
    "## 문자열 경계 정의하기(^, $)"
   ]
  },
  {
   "cell_type": "markdown",
   "metadata": {},
   "source": [
    "* 전체 문자열의 시작이나 마지막 부분과 패턴을 일치시키고자 할때\n",
    "* ^ : 문자열의 시작\n",
    "* $ : 문자열의 마지막"
   ]
  },
  {
   "cell_type": "code",
   "execution_count": 36,
   "metadata": {
    "ExecuteTime": {
     "end_time": "2021-10-03T12:44:42.749745Z",
     "start_time": "2021-10-03T12:44:42.745747Z"
    }
   },
   "outputs": [],
   "source": [
    "text4 = \"\"\"<?xml version=\"1.0\" encoding=\"UTF-8\" ?>\n",
    "<wsdl:definitions targetNamespace=\"http://tips.cf\"\n",
    "xmlns: impl=\"http://tips.cf\" xmlns:\"intf=http://tips.cf\"\n",
    "xmlns: apachesoap=\"http://xml.apache.org/xml-soap\"=\"\"\""
   ]
  },
  {
   "cell_type": "code",
   "execution_count": 37,
   "metadata": {
    "ExecuteTime": {
     "end_time": "2021-10-03T12:45:49.717107Z",
     "start_time": "2021-10-03T12:45:49.714128Z"
    }
   },
   "outputs": [
    {
     "name": "stdout",
     "output_type": "stream",
     "text": [
      "['?xml version=\"1.0\" encoding=\"UTF-8\" ?']\n"
     ]
    }
   ],
   "source": [
    "print(re.findall(r\"\\?xml.*\\?\", text4))"
   ]
  },
  {
   "cell_type": "markdown",
   "metadata": {},
   "source": [
    "* 하지만, 첫 시작이 xml이라는 것을 정확히 확인할 수는 없다."
   ]
  },
  {
   "cell_type": "code",
   "execution_count": 42,
   "metadata": {
    "ExecuteTime": {
     "end_time": "2021-10-03T12:59:59.305551Z",
     "start_time": "2021-10-03T12:59:59.301586Z"
    }
   },
   "outputs": [
    {
     "name": "stdout",
     "output_type": "stream",
     "text": [
      "['<?xml version=\"1.0\" encoding=\"UTF-8\" ?>']\n"
     ]
    }
   ],
   "source": [
    "print(re.findall(r\"^s*<\\?xml.*\\?>\", text4))"
   ]
  },
  {
   "cell_type": "markdown",
   "metadata": {},
   "source": [
    "* ^s*를 해줘야 앞의 모든 공백들을 제거할 수 있다."
   ]
  },
  {
   "cell_type": "markdown",
   "metadata": {},
   "source": [
    "* </[Hh][Tt][Mm][Ll]>s*$\n",
    "    * 문자열의 마지막 패턴이 공백으로 끝난다? = 다른 문자열이 없고 html 태그가 마무리 되었다."
   ]
  },
  {
   "cell_type": "markdown",
   "metadata": {},
   "source": [
    "## 다중행 모드 사용하기((?m))"
   ]
  },
  {
   "cell_type": "markdown",
   "metadata": {},
   "source": [
    "* ^, $는 문자열의 시작과 마지막에 일치한다.\n",
    "    * 때로는 이러한 규칙을 모든 행에서 찾아야 할 때가 있다."
   ]
  },
  {
   "cell_type": "code",
   "execution_count": 43,
   "metadata": {
    "ExecuteTime": {
     "end_time": "2021-10-03T13:06:55.865346Z",
     "start_time": "2021-10-03T13:06:55.861347Z"
    }
   },
   "outputs": [],
   "source": [
    "text5 = \"\"\"<script>\n",
    "function doSpellCheck(form, field) {\n",
    "    // Make sure not empty\n",
    "    if (field.value == '') {\n",
    "        return false;\n",
    "    }\n",
    "    // Init\n",
    "    var windowName = 'spellWindow';\n",
    "    var spellCheckURL = 'spell.cfm?formname = blarblar';\n",
    "...\n",
    "    // Done\n",
    "    return flase;\n",
    "}\n",
    "</script>\"\"\""
   ]
  },
  {
   "cell_type": "code",
   "execution_count": 49,
   "metadata": {
    "ExecuteTime": {
     "end_time": "2021-10-03T13:11:04.124588Z",
     "start_time": "2021-10-03T13:11:04.121589Z"
    }
   },
   "outputs": [
    {
     "name": "stdout",
     "output_type": "stream",
     "text": [
      "['    // Make sure not empty', '    // Init', '    // Done']\n"
     ]
    }
   ],
   "source": [
    "print(re.findall(r\"(?m)^\\s*//.*$\", text5))"
   ]
  },
  {
   "cell_type": "code",
   "execution_count": null,
   "metadata": {},
   "outputs": [],
   "source": []
  }
 ],
 "metadata": {
  "kernelspec": {
   "display_name": "Python 3",
   "language": "python",
   "name": "python3"
  },
  "language_info": {
   "codemirror_mode": {
    "name": "ipython",
    "version": 3
   },
   "file_extension": ".py",
   "mimetype": "text/x-python",
   "name": "python",
   "nbconvert_exporter": "python",
   "pygments_lexer": "ipython3",
   "version": "3.8.5"
  },
  "toc": {
   "base_numbering": 1,
   "nav_menu": {},
   "number_sections": true,
   "sideBar": true,
   "skip_h1_title": false,
   "title_cell": "Table of Contents",
   "title_sidebar": "Contents",
   "toc_cell": false,
   "toc_position": {},
   "toc_section_display": true,
   "toc_window_display": true
  }
 },
 "nbformat": 4,
 "nbformat_minor": 4
}
