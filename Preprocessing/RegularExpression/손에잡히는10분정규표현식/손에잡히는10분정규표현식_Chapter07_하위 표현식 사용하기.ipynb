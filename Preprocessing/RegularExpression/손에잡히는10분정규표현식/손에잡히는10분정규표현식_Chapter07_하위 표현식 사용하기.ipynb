{
 "cells": [
  {
   "cell_type": "code",
   "execution_count": 1,
   "metadata": {
    "ExecuteTime": {
     "end_time": "2021-10-04T00:30:33.460983Z",
     "start_time": "2021-10-04T00:30:32.349898Z"
    }
   },
   "outputs": [],
   "source": [
    "import re\n",
    "import pandas as pd"
   ]
  },
  {
   "cell_type": "code",
   "execution_count": 2,
   "metadata": {
    "ExecuteTime": {
     "end_time": "2021-10-04T00:30:33.469931Z",
     "start_time": "2021-10-04T00:30:33.461923Z"
    }
   },
   "outputs": [
    {
     "data": {
      "text/html": [
       "<style>.container { width: 78% !important; }</style>"
      ],
      "text/plain": [
       "<IPython.core.display.HTML object>"
      ]
     },
     "metadata": {},
     "output_type": "display_data"
    }
   ],
   "source": [
    "from IPython.core.display import display, HTML\n",
    "display(HTML(\"<style>.container { width: 78% !important; }</style>\"))"
   ]
  },
  {
   "cell_type": "code",
   "execution_count": 3,
   "metadata": {
    "ExecuteTime": {
     "end_time": "2021-10-04T00:30:33.474923Z",
     "start_time": "2021-10-04T00:30:33.470928Z"
    }
   },
   "outputs": [],
   "source": [
    "def getRegex(df : pd.DataFrame, col_name : str, regex : str) -> pd.DataFrame :\n",
    "    return df[df[col_name].str.contains(regex)]"
   ]
  },
  {
   "cell_type": "markdown",
   "metadata": {},
   "source": [
    "# 하위 표현식 사용하기"
   ]
  },
  {
   "cell_type": "markdown",
   "metadata": {},
   "source": [
    "## 하위 표현식 이해하기"
   ]
  },
  {
   "cell_type": "markdown",
   "metadata": {},
   "source": [
    "* 반복 메타 문자는 자기 바로 앞에 있는 문자나 메타 문자에 적용된다.\n",
    "    * 간혹 이것이 규칙을 찾는데 방해가 될 때가 있다."
   ]
  },
  {
   "cell_type": "code",
   "execution_count": 4,
   "metadata": {
    "ExecuteTime": {
     "end_time": "2021-10-04T00:30:33.487926Z",
     "start_time": "2021-10-04T00:30:33.484927Z"
    }
   },
   "outputs": [],
   "source": [
    "text1 = \"\"\"Hello, my name is Ben&nbsp;Forta, and I am\n",
    "the author of multiple books on SQL (including\n",
    "MySQL, Oracle PL/SQL, and SQL Server T-SQL),\n",
    "Regular&nbsp;&nbsp;Expressions, and other subjects.\"\"\""
   ]
  },
  {
   "cell_type": "code",
   "execution_count": 5,
   "metadata": {
    "ExecuteTime": {
     "end_time": "2021-10-04T00:30:33.666923Z",
     "start_time": "2021-10-04T00:30:33.661923Z"
    }
   },
   "outputs": [
    {
     "name": "stdout",
     "output_type": "stream",
     "text": [
      "[]\n"
     ]
    }
   ],
   "source": [
    "print(re.findall(r\"&nbsp;{2,}\", text1))"
   ]
  },
  {
   "cell_type": "markdown",
   "metadata": {},
   "source": [
    "* 왜 아무것도 찾지 못했을까?\n",
    "    * 반복 메타 문자가 바로 자기 앞에 있는 문자를 참조점으로 삼았기 때문이다."
   ]
  },
  {
   "cell_type": "code",
   "execution_count": 6,
   "metadata": {
    "ExecuteTime": {
     "end_time": "2021-10-04T00:30:35.134929Z",
     "start_time": "2021-10-04T00:30:35.129931Z"
    }
   },
   "outputs": [
    {
     "name": "stdout",
     "output_type": "stream",
     "text": [
      "['&nbsp;']\n"
     ]
    }
   ],
   "source": [
    "print(re.findall(r\"(&nbsp;){2,}\", text1))"
   ]
  },
  {
   "cell_type": "code",
   "execution_count": 7,
   "metadata": {
    "ExecuteTime": {
     "end_time": "2021-10-04T00:30:35.360901Z",
     "start_time": "2021-10-04T00:30:35.356925Z"
    }
   },
   "outputs": [],
   "source": [
    "text2 = \"\"\"Pinging hog.forta.com [12.159.46.200]\n",
    "with 32 bytes of data:\"\"\""
   ]
  },
  {
   "cell_type": "code",
   "execution_count": 14,
   "metadata": {
    "ExecuteTime": {
     "end_time": "2021-10-04T00:35:49.579279Z",
     "start_time": "2021-10-04T00:35:49.576279Z"
    }
   },
   "outputs": [
    {
     "name": "stdout",
     "output_type": "stream",
     "text": [
      "['12.159.46.200']\n"
     ]
    }
   ],
   "source": [
    "print(re.findall(r\"\\d{1,3}\\.\\d{1,3}\\.\\d{1,3}\\.\\d{1,3}\", text2))"
   ]
  },
  {
   "cell_type": "markdown",
   "metadata": {},
   "source": [
    "* 반복되는 패턴은 하위 표현식으로 사용 가능하다."
   ]
  },
  {
   "cell_type": "code",
   "execution_count": 65,
   "metadata": {
    "ExecuteTime": {
     "end_time": "2021-10-04T02:02:36.135667Z",
     "start_time": "2021-10-04T02:02:36.131666Z"
    }
   },
   "outputs": [
    {
     "name": "stdout",
     "output_type": "stream",
     "text": [
      "<re.Match object; span=(23, 36), match='12.159.46.200'>\n"
     ]
    }
   ],
   "source": [
    "#파이썬에서는 이렇게 사용해주어야 하네. 레퍼를 좀 더 찾아보자. __{3} 이거를 그룹의 참조주소로 인식하는듯\n",
    "#그건 아니고.. findall에서만 그렇게 작동하는 듯\n",
    "print(re.search(r\"(\\d{1,3}\\.){3}\\d{1,3}\", text2))"
   ]
  },
  {
   "cell_type": "markdown",
   "metadata": {},
   "source": [
    "* findall과 match의 차이?"
   ]
  },
  {
   "cell_type": "code",
   "execution_count": 44,
   "metadata": {
    "ExecuteTime": {
     "end_time": "2021-10-04T01:42:20.045424Z",
     "start_time": "2021-10-04T01:42:20.041424Z"
    }
   },
   "outputs": [],
   "source": [
    "text3 = \"\"\"ID: 042\n",
    "SEX: M\n",
    "DOB: 1967-08-17\n",
    "Status: Active\"\"\""
   ]
  },
  {
   "cell_type": "code",
   "execution_count": 47,
   "metadata": {
    "ExecuteTime": {
     "end_time": "2021-10-04T01:48:40.375641Z",
     "start_time": "2021-10-04T01:48:40.371646Z"
    }
   },
   "outputs": [
    {
     "name": "stdout",
     "output_type": "stream",
     "text": [
      "['19']\n"
     ]
    }
   ],
   "source": [
    "print(re.findall(r\"19|20\\d{2}\", text3))"
   ]
  },
  {
   "cell_type": "markdown",
   "metadata": {},
   "source": [
    "* 왜 뒤에 두 자리를 못찾을까?\n",
    "    * |는 OR연산으로 자신의 왼쪽 혹은 오른쪽과 일치하는 결과를 찾는다.\n",
    "    * 이때, 19 혹은 20\\d{2}로 찾아서 19가 매치된 것이다."
   ]
  },
  {
   "cell_type": "code",
   "execution_count": 51,
   "metadata": {
    "ExecuteTime": {
     "end_time": "2021-10-04T01:50:36.496536Z",
     "start_time": "2021-10-04T01:50:36.492576Z"
    }
   },
   "outputs": [
    {
     "name": "stdout",
     "output_type": "stream",
     "text": [
      "<re.Match object; span=(20, 24), match='1967'>\n"
     ]
    }
   ],
   "source": [
    "#항상 이런식으로 해주어야 하는 이유가 뭐지?\n",
    "print(re.search(r\"((19|20)\\d{2})\",text3)) "
   ]
  },
  {
   "cell_type": "markdown",
   "metadata": {},
   "source": [
    "## 중첩된 하위 표현식"
   ]
  },
  {
   "cell_type": "markdown",
   "metadata": {},
   "source": [
    "* 하위 표현식을 중첩하여 숫자에 제한 범위를 둘 수도 있음"
   ]
  },
  {
   "cell_type": "code",
   "execution_count": 54,
   "metadata": {
    "ExecuteTime": {
     "end_time": "2021-10-04T01:56:03.612869Z",
     "start_time": "2021-10-04T01:56:03.608894Z"
    }
   },
   "outputs": [
    {
     "name": "stdout",
     "output_type": "stream",
     "text": [
      "Pinging hog.forta.com [12.159.46.200]\n",
      "with 32 bytes of data:\n"
     ]
    }
   ],
   "source": [
    "print(text2)"
   ]
  },
  {
   "cell_type": "markdown",
   "metadata": {
    "ExecuteTime": {
     "end_time": "2021-10-04T01:58:04.552614Z",
     "start_time": "2021-10-04T01:58:04.227069Z"
    }
   },
   "source": [
    "* 모든 한 자리 혹은 두 자리 숫자\n",
    "* 1로 시작하는 모든 세 자리 숫자\n",
    "* 2로 시작하면서 두 번째 자리 숫자가 0부터 4 사이인 모든 세 자리 숫자\n",
    "* 25로 시작하면서 세 번째 자리 숫자가 0부터 5 사이인 모든 세 자리 숫자"
   ]
  },
  {
   "cell_type": "code",
   "execution_count": 80,
   "metadata": {
    "ExecuteTime": {
     "end_time": "2021-10-04T02:05:24.443901Z",
     "start_time": "2021-10-04T02:05:24.439869Z"
    }
   },
   "outputs": [],
   "source": [
    "regEx = r\"(((25[0-5])|(\\d{1,2})|(1\\d{2})|(2[0-4]\\d))\\.){3}((25[0-5])|(\\d{1,2})|(1\\d{2})|(2[0-4]\\d))\""
   ]
  },
  {
   "cell_type": "code",
   "execution_count": 81,
   "metadata": {
    "ExecuteTime": {
     "end_time": "2021-10-04T02:05:24.623899Z",
     "start_time": "2021-10-04T02:05:24.619902Z"
    }
   },
   "outputs": [
    {
     "name": "stdout",
     "output_type": "stream",
     "text": [
      "<re.Match object; span=(23, 35), match='12.159.46.20'>\n"
     ]
    }
   ],
   "source": [
    "print(re.search(regEx, text2))"
   ]
  },
  {
   "cell_type": "markdown",
   "metadata": {},
   "source": [
    "* 잘못된 추출이 아님\n",
    "    * 왜? 하나의 패턴에 일치하면 그룹 내 다른 패턴은 시도되지 않기 때문"
   ]
  },
  {
   "cell_type": "code",
   "execution_count": null,
   "metadata": {},
   "outputs": [],
   "source": []
  }
 ],
 "metadata": {
  "kernelspec": {
   "display_name": "Python 3",
   "language": "python",
   "name": "python3"
  },
  "language_info": {
   "codemirror_mode": {
    "name": "ipython",
    "version": 3
   },
   "file_extension": ".py",
   "mimetype": "text/x-python",
   "name": "python",
   "nbconvert_exporter": "python",
   "pygments_lexer": "ipython3",
   "version": "3.8.3"
  },
  "toc": {
   "base_numbering": 1,
   "nav_menu": {},
   "number_sections": true,
   "sideBar": true,
   "skip_h1_title": false,
   "title_cell": "Table of Contents",
   "title_sidebar": "Contents",
   "toc_cell": false,
   "toc_position": {},
   "toc_section_display": true,
   "toc_window_display": true
  }
 },
 "nbformat": 4,
 "nbformat_minor": 4
}
