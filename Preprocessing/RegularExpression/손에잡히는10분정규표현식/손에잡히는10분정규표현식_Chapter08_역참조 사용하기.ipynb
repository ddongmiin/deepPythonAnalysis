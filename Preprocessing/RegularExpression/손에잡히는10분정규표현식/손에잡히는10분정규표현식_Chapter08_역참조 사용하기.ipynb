{
 "cells": [
  {
   "cell_type": "code",
   "execution_count": 1,
   "metadata": {
    "ExecuteTime": {
     "end_time": "2021-10-04T02:07:17.818663Z",
     "start_time": "2021-10-04T02:07:17.495544Z"
    }
   },
   "outputs": [],
   "source": [
    "import re\n",
    "import pandas as pd"
   ]
  },
  {
   "cell_type": "code",
   "execution_count": 2,
   "metadata": {
    "ExecuteTime": {
     "end_time": "2021-10-04T02:07:21.011932Z",
     "start_time": "2021-10-04T02:07:21.003930Z"
    }
   },
   "outputs": [
    {
     "data": {
      "text/html": [
       "<style>.container { width: 78% !important; }</style>"
      ],
      "text/plain": [
       "<IPython.core.display.HTML object>"
      ]
     },
     "metadata": {},
     "output_type": "display_data"
    }
   ],
   "source": [
    "from IPython.core.display import display, HTML\n",
    "display(HTML(\"<style>.container { width: 78% !important; }</style>\"))"
   ]
  },
  {
   "cell_type": "code",
   "execution_count": 3,
   "metadata": {
    "ExecuteTime": {
     "end_time": "2021-10-04T02:07:24.459037Z",
     "start_time": "2021-10-04T02:07:24.455038Z"
    }
   },
   "outputs": [],
   "source": [
    "def getRegex(df : pd.DataFrame, col_name : str, regex : str) -> pd.DataFrame :\n",
    "    return df[df[col_name].str.contains(regex)]"
   ]
  },
  {
   "cell_type": "markdown",
   "metadata": {},
   "source": [
    "# 역참조 사용하기"
   ]
  },
  {
   "cell_type": "markdown",
   "metadata": {},
   "source": [
    "* 하위 표현식을 사용하는 이유 : 주로 반복되는 패턴을 검색하는 작업을 통제하기 위해\n",
    "    * 역참조는? 하위 표현식의 주요 스킬 중 하나"
   ]
  },
  {
   "cell_type": "code",
   "execution_count": 4,
   "metadata": {
    "ExecuteTime": {
     "end_time": "2021-10-04T02:12:17.630617Z",
     "start_time": "2021-10-04T02:12:17.626617Z"
    }
   },
   "outputs": [],
   "source": [
    "text1 = \"\"\"<body>\n",
    "<h1>Welcome to my Homepage</h1>\n",
    "Content is divided into two sections:<br/>\n",
    "<h2>SQL</h2>\n",
    "Information about SQL.\n",
    "<h2>RegEx</h2>\n",
    "Information about Regular Expressions.\n",
    "</body>\"\"\""
   ]
  },
  {
   "cell_type": "code",
   "execution_count": 11,
   "metadata": {
    "ExecuteTime": {
     "end_time": "2021-10-04T02:27:38.646002Z",
     "start_time": "2021-10-04T02:27:38.641999Z"
    }
   },
   "outputs": [
    {
     "name": "stdout",
     "output_type": "stream",
     "text": [
      "['<h1>Welcome to my Homepage</h1>', '<h2>SQL</h2>', '<h2>RegEx</h2>']\n"
     ]
    }
   ],
   "source": [
    "#$를 정확하게 쓰는 방법\n",
    "print(re.findall(r\"<[Hh][1-6]>.*?<\\/[Hh][1-6]>\", text1))"
   ]
  },
  {
   "cell_type": "markdown",
   "metadata": {},
   "source": [
    "* *? - 게으른 수량자를 사용 -> 좀 더 안전하기 때문에"
   ]
  },
  {
   "cell_type": "code",
   "execution_count": null,
   "metadata": {},
   "outputs": [],
   "source": []
  }
 ],
 "metadata": {
  "kernelspec": {
   "display_name": "Python 3",
   "language": "python",
   "name": "python3"
  },
  "language_info": {
   "codemirror_mode": {
    "name": "ipython",
    "version": 3
   },
   "file_extension": ".py",
   "mimetype": "text/x-python",
   "name": "python",
   "nbconvert_exporter": "python",
   "pygments_lexer": "ipython3",
   "version": "3.8.3"
  },
  "toc": {
   "base_numbering": 1,
   "nav_menu": {},
   "number_sections": true,
   "sideBar": true,
   "skip_h1_title": false,
   "title_cell": "Table of Contents",
   "title_sidebar": "Contents",
   "toc_cell": false,
   "toc_position": {},
   "toc_section_display": true,
   "toc_window_display": true
  }
 },
 "nbformat": 4,
 "nbformat_minor": 4
}
