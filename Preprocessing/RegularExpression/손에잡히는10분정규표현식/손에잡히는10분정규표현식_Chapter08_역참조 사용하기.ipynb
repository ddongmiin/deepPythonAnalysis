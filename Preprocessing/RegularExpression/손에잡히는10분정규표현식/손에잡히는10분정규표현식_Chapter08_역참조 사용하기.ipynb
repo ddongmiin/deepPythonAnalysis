{
 "cells": [
  {
   "cell_type": "code",
   "execution_count": 3,
   "metadata": {
    "ExecuteTime": {
     "end_time": "2021-10-06T14:14:03.037974Z",
     "start_time": "2021-10-06T14:14:03.035002Z"
    }
   },
   "outputs": [],
   "source": [
    "import re\n",
    "import pandas as pd"
   ]
  },
  {
   "cell_type": "code",
   "execution_count": 4,
   "metadata": {
    "ExecuteTime": {
     "end_time": "2021-10-06T14:14:03.204007Z",
     "start_time": "2021-10-06T14:14:03.200005Z"
    }
   },
   "outputs": [
    {
     "data": {
      "text/html": [
       "<style>.container { width: 90% !important; }</style>"
      ],
      "text/plain": [
       "<IPython.core.display.HTML object>"
      ]
     },
     "metadata": {},
     "output_type": "display_data"
    }
   ],
   "source": [
    "from IPython.core.display import display, HTML\n",
    "display(HTML(\"<style>.container { width: 90% !important; }</style>\"))"
   ]
  },
  {
   "cell_type": "code",
   "execution_count": 5,
   "metadata": {
    "ExecuteTime": {
     "end_time": "2021-10-06T14:14:03.373974Z",
     "start_time": "2021-10-06T14:14:03.369996Z"
    }
   },
   "outputs": [],
   "source": [
    "def getRegex(df : pd.DataFrame, col_name : str, regex : str) -> pd.DataFrame :\n",
    "    return df[df[col_name].str.contains(regex)]"
   ]
  },
  {
   "cell_type": "markdown",
   "metadata": {},
   "source": [
    "# 역참조 사용하기"
   ]
  },
  {
   "cell_type": "markdown",
   "metadata": {},
   "source": [
    "* 하위 표현식을 사용하는 이유 : 주로 반복되는 패턴을 검색하는 작업을 통제하기 위해\n",
    "    * 역참조는? 하위 표현식의 주요 스킬 중 하나"
   ]
  },
  {
   "cell_type": "code",
   "execution_count": 6,
   "metadata": {
    "ExecuteTime": {
     "end_time": "2021-10-06T14:14:03.788976Z",
     "start_time": "2021-10-06T14:14:03.784974Z"
    }
   },
   "outputs": [],
   "source": [
    "text1 = \"\"\"<body>\n",
    "<h1>Welcome to my Homepage</h1>\n",
    "Content is divided into two sections:<br/>\n",
    "<h2>SQL</h2>\n",
    "Information about SQL.\n",
    "<h2>RegEx</h2>\n",
    "Information about Regular Expressions.\n",
    "<h2>This is not valid HTML</h3>\n",
    "</body>\"\"\""
   ]
  },
  {
   "cell_type": "code",
   "execution_count": 7,
   "metadata": {
    "ExecuteTime": {
     "end_time": "2021-10-06T14:14:03.934077Z",
     "start_time": "2021-10-06T14:14:03.928073Z"
    }
   },
   "outputs": [
    {
     "name": "stdout",
     "output_type": "stream",
     "text": [
      "['<h1>Welcome to my Homepage</h1>', '<h2>SQL</h2>', '<h2>RegEx</h2>', '<h2>This is not valid HTML</h3>']\n"
     ]
    }
   ],
   "source": [
    "#$를 정확하게 쓰는 방법\n",
    "print(re.findall(r\"<[Hh][1-6]>.*?<\\/[Hh][1-6]>\", text1))"
   ]
  },
  {
   "cell_type": "markdown",
   "metadata": {},
   "source": [
    "* *? - 게으른 수량자를 사용 -> 좀 더 안전하기 때문에\n",
    "* 이럴 경우 h2로 시작해서 /h3로 끝나는 잘못된 경우도 생김\n",
    "* 이럴때 역참조를 사용하면 더 좋음"
   ]
  },
  {
   "cell_type": "code",
   "execution_count": 8,
   "metadata": {
    "ExecuteTime": {
     "end_time": "2021-10-06T14:14:04.207073Z",
     "start_time": "2021-10-06T14:14:04.204074Z"
    }
   },
   "outputs": [],
   "source": [
    "text2 = \"\"\"This is a block of of text,\n",
    "several words here are are\n",
    "repeated, and and they\n",
    "should not be\"\"\""
   ]
  },
  {
   "cell_type": "code",
   "execution_count": 9,
   "metadata": {
    "ExecuteTime": {
     "end_time": "2021-10-06T14:14:04.366160Z",
     "start_time": "2021-10-06T14:14:04.363192Z"
    }
   },
   "outputs": [
    {
     "name": "stdout",
     "output_type": "stream",
     "text": [
      "['of', 'are', 'and']\n"
     ]
    }
   ],
   "source": [
    "#findall을 하면 앞글자만 따옴. 그루핑을 하는 경우에\n",
    "print(re.findall(r\"[ ]+(\\w+)[ ]+\\1\", text2))"
   ]
  },
  {
   "cell_type": "markdown",
   "metadata": {},
   "source": [
    "* 시작 헤더 태그와 일치하는 종료 태그만 찾기"
   ]
  },
  {
   "cell_type": "markdown",
   "metadata": {},
   "source": [
    "[논캡쳐링그룹설명](https://stackoverflow.com/questions/3512471/what-is-a-non-capturing-group-in-regular-expressions)"
   ]
  },
  {
   "cell_type": "code",
   "execution_count": 10,
   "metadata": {
    "ExecuteTime": {
     "end_time": "2021-10-06T14:14:05.363750Z",
     "start_time": "2021-10-06T14:14:05.360716Z"
    }
   },
   "outputs": [
    {
     "name": "stdout",
     "output_type": "stream",
     "text": [
      "['1', '2', '2']\n"
     ]
    }
   ],
   "source": [
    "print(re.findall(r\"<[hH]([1-6])>.*<\\/[Hh]\\1>\", text1))"
   ]
  },
  {
   "cell_type": "markdown",
   "metadata": {},
   "source": [
    "[교육 영상](https://www.youtube.com/watch?v=E66slBlRBHg)\n",
    "\n",
    "[마지막을 반환하는 이유](https://stackoverflow.com/questions/43461376/regex-repeating-capturing-group)"
   ]
  },
  {
   "cell_type": "markdown",
   "metadata": {},
   "source": [
    "# Non-capture 테스트하기"
   ]
  },
  {
   "cell_type": "code",
   "execution_count": 13,
   "metadata": {
    "ExecuteTime": {
     "end_time": "2021-10-06T14:19:23.393227Z",
     "start_time": "2021-10-06T14:19:23.390228Z"
    }
   },
   "outputs": [],
   "source": [
    "text3 = f\"\"\"Do you mean Non-capture?\n",
    "Yes. I mean non-capture\"\"\""
   ]
  },
  {
   "cell_type": "code",
   "execution_count": 22,
   "metadata": {
    "ExecuteTime": {
     "end_time": "2021-10-06T14:20:30.075312Z",
     "start_time": "2021-10-06T14:20:30.070345Z"
    }
   },
   "outputs": [
    {
     "name": "stdout",
     "output_type": "stream",
     "text": [
      "['Non', 'non']\n",
      "['N', 'n']\n",
      "[('Non', 'N'), ('non', 'n')]\n",
      "['N', 'n']\n"
     ]
    }
   ],
   "source": [
    "print(re.findall(r\"[Nn]on\", text3))\n",
    "print(re.findall(r\"([Nn])on\", text3))\n",
    "print(re.findall(r\"(([Nn])on)\", text3))\n",
    "print(re.findall(r\"([Nn])on\", text3))"
   ]
  },
  {
   "cell_type": "markdown",
   "metadata": {},
   "source": [
    "* 추후 좀 더 탐색"
   ]
  },
  {
   "cell_type": "markdown",
   "metadata": {},
   "source": [
    "# 치환 작업 수행하기"
   ]
  },
  {
   "cell_type": "markdown",
   "metadata": {},
   "source": [
    "* 정규표현식은 텍스트 검색 뿐만 아니라 치환 작업도 수행할 수 있게 해줌"
   ]
  },
  {
   "cell_type": "markdown",
   "metadata": {},
   "source": [
    "[정규표현식 메타 설명](https://sc1.checkpoint.com/documents/R76/CP_R76_IdentityAwareness_AdminGuide/12885.htm)"
   ]
  },
  {
   "cell_type": "code",
   "execution_count": 24,
   "metadata": {
    "ExecuteTime": {
     "end_time": "2021-10-06T14:27:45.150896Z",
     "start_time": "2021-10-06T14:27:45.147897Z"
    }
   },
   "outputs": [],
   "source": [
    "text4 = f\"\"\"Hello, ben@forta.com is my email address.\"\"\""
   ]
  },
  {
   "cell_type": "code",
   "execution_count": 30,
   "metadata": {
    "ExecuteTime": {
     "end_time": "2021-10-06T14:50:11.452676Z",
     "start_time": "2021-10-06T14:50:11.449706Z"
    }
   },
   "outputs": [
    {
     "name": "stdout",
     "output_type": "stream",
     "text": [
      "<re.Match object; span=(7, 20), match='ben@forta.com'>\n"
     ]
    }
   ],
   "source": [
    "print(re.search(r\"\\w+[\\w.]+@[\\w.]+\\.\\w+\", text4))"
   ]
  },
  {
   "cell_type": "code",
   "execution_count": 40,
   "metadata": {
    "ExecuteTime": {
     "end_time": "2021-10-06T14:55:05.847366Z",
     "start_time": "2021-10-06T14:55:05.843336Z"
    }
   },
   "outputs": [
    {
     "data": {
      "text/plain": [
       "'Hello, <a href=\"malito:ben@forta.com\">ben@forta.com</a> is my email address.'"
      ]
     },
     "execution_count": 40,
     "metadata": {},
     "output_type": "execute_result"
    }
   ],
   "source": [
    "re.sub(r\"(\\w+[\\w.]+@[\\w.]+\\.\\w+)\", r\"\"\"<a href=\"malito:\\1\">\\1</a>\"\"\", text4)"
   ]
  },
  {
   "cell_type": "markdown",
   "metadata": {},
   "source": [
    "* 치환 작업을 할 때는 정규 표현식이 두 개가 필요하다. 하나는 원하는 부분을 일치시키는 패턴이고 다른 하나는 일치한 부분을 치환하는 데 사용할 패턴이다."
   ]
  },
  {
   "cell_type": "code",
   "execution_count": 41,
   "metadata": {
    "ExecuteTime": {
     "end_time": "2021-10-06T14:57:14.216848Z",
     "start_time": "2021-10-06T14:57:14.212883Z"
    }
   },
   "outputs": [],
   "source": [
    "text5 = f\"\"\"313-555-1234\n",
    "248-555-9999\n",
    "810-555-9000\"\"\""
   ]
  },
  {
   "cell_type": "code",
   "execution_count": 44,
   "metadata": {
    "ExecuteTime": {
     "end_time": "2021-10-06T15:02:12.709603Z",
     "start_time": "2021-10-06T15:02:12.705602Z"
    }
   },
   "outputs": [
    {
     "name": "stdout",
     "output_type": "stream",
     "text": [
      "(313) 555-1234\n",
      "(248) 555-9999\n",
      "(810) 555-9000\n"
     ]
    }
   ],
   "source": [
    "print(re.sub(r\"(\\d{3})(-)(\\d{3})(-)(\\d{4})\", r\"\"\"(\\1) \\3-\\5\"\"\", text5))"
   ]
  },
  {
   "cell_type": "markdown",
   "metadata": {},
   "source": [
    "* 그루핑에도 하이픈은 적용된다."
   ]
  },
  {
   "cell_type": "markdown",
   "metadata": {},
   "source": [
    "# 대소문자 변환하기"
   ]
  },
  {
   "cell_type": "code",
   "execution_count": null,
   "metadata": {},
   "outputs": [],
   "source": [
    "text6 = "
   ]
  }
 ],
 "metadata": {
  "kernelspec": {
   "display_name": "Python 3",
   "language": "python",
   "name": "python3"
  },
  "language_info": {
   "codemirror_mode": {
    "name": "ipython",
    "version": 3
   },
   "file_extension": ".py",
   "mimetype": "text/x-python",
   "name": "python",
   "nbconvert_exporter": "python",
   "pygments_lexer": "ipython3",
   "version": "3.8.3"
  },
  "toc": {
   "base_numbering": 1,
   "nav_menu": {},
   "number_sections": true,
   "sideBar": true,
   "skip_h1_title": false,
   "title_cell": "Table of Contents",
   "title_sidebar": "Contents",
   "toc_cell": false,
   "toc_position": {},
   "toc_section_display": true,
   "toc_window_display": false
  }
 },
 "nbformat": 4,
 "nbformat_minor": 4
}
