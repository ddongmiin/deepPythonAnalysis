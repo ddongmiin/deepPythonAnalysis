{
 "cells": [
  {
   "cell_type": "code",
   "execution_count": 1,
   "metadata": {
    "ExecuteTime": {
     "end_time": "2021-10-09T01:12:06.309531Z",
     "start_time": "2021-10-09T01:12:05.160444Z"
    }
   },
   "outputs": [],
   "source": [
    "import re\n",
    "import pandas as pd"
   ]
  },
  {
   "cell_type": "code",
   "execution_count": 2,
   "metadata": {
    "ExecuteTime": {
     "end_time": "2021-10-09T01:12:06.318541Z",
     "start_time": "2021-10-09T01:12:06.310502Z"
    }
   },
   "outputs": [
    {
     "data": {
      "text/html": [
       "<style>.container { width: 90% !important; }</style>"
      ],
      "text/plain": [
       "<IPython.core.display.HTML object>"
      ]
     },
     "metadata": {},
     "output_type": "display_data"
    }
   ],
   "source": [
    "from IPython.core.display import display, HTML\n",
    "display(HTML(\"<style>.container { width: 90% !important; }</style>\"))"
   ]
  },
  {
   "cell_type": "code",
   "execution_count": 3,
   "metadata": {
    "ExecuteTime": {
     "end_time": "2021-10-09T01:12:06.325541Z",
     "start_time": "2021-10-09T01:12:06.319502Z"
    }
   },
   "outputs": [],
   "source": [
    "def getRegex(df : pd.DataFrame, col_name : str, regex : str) -> pd.DataFrame :\n",
    "    return df[df[col_name].str.contains(regex)]"
   ]
  },
  {
   "cell_type": "markdown",
   "metadata": {},
   "source": [
    "# 전방탐색과 후방탐색"
   ]
  },
  {
   "cell_type": "markdown",
   "metadata": {},
   "source": [
    "* 어디서 텍스트를 찾을지를 표시하는데 표현식을 사용\n",
    "* 전후방탐색 (lookaroung)"
   ]
  },
  {
   "cell_type": "markdown",
   "metadata": {},
   "source": [
    "## 전후방탐색 살펴보기"
   ]
  },
  {
   "cell_type": "code",
   "execution_count": 4,
   "metadata": {
    "ExecuteTime": {
     "end_time": "2021-10-09T01:16:17.913630Z",
     "start_time": "2021-10-09T01:16:17.911149Z"
    }
   },
   "outputs": [],
   "source": [
    "text1 = f\"\"\"<head>\n",
    "<title>Ben Forta`s Homepage</title>\n",
    "</head>\"\"\""
   ]
  },
  {
   "cell_type": "code",
   "execution_count": 6,
   "metadata": {
    "ExecuteTime": {
     "end_time": "2021-10-09T01:17:26.358957Z",
     "start_time": "2021-10-09T01:17:26.355951Z"
    }
   },
   "outputs": [
    {
     "name": "stdout",
     "output_type": "stream",
     "text": [
      "<re.Match object; span=(7, 42), match='<title>Ben Forta`s Homepage</title>'>\n"
     ]
    }
   ],
   "source": [
    "print(re.search(r\"<[Tt][Ii][Tt][Ll][Ee]>.*<\\/[Tt][Ii][Tt][Ll][Ee]>\", text1))"
   ]
  },
  {
   "cell_type": "markdown",
   "metadata": {},
   "source": [
    "## 전방탐색(lookahead)"
   ]
  },
  {
   "cell_type": "markdown",
   "metadata": {},
   "source": [
    "* 전방탐색이란? \n",
    "    * 패턴의 일치 영역을 발견해도 그 값을 반환하지 않는 패턴\n",
    "    * 실제로는 하위 표현식이며 하위 표현식과 같은 형태로 작성\n",
    "    * ?= 다음에 일치할 텍스트가 오는 하위 표현식"
   ]
  },
  {
   "cell_type": "code",
   "execution_count": 7,
   "metadata": {
    "ExecuteTime": {
     "end_time": "2021-10-09T01:20:53.409113Z",
     "start_time": "2021-10-09T01:20:53.405140Z"
    }
   },
   "outputs": [],
   "source": [
    "text2 = f\"\"\"http://www.forta.com/\n",
    "https://mail.forta.com/\n",
    "ftp://ftp.forta.com/\"\"\""
   ]
  },
  {
   "cell_type": "code",
   "execution_count": 8,
   "metadata": {
    "ExecuteTime": {
     "end_time": "2021-10-09T01:21:35.816557Z",
     "start_time": "2021-10-09T01:21:35.812598Z"
    }
   },
   "outputs": [
    {
     "name": "stdout",
     "output_type": "stream",
     "text": [
      "['http', 'https', 'ftp']\n"
     ]
    }
   ],
   "source": [
    "print(re.findall(r\".+(?=:)\", text2))"
   ]
  },
  {
   "cell_type": "markdown",
   "metadata": {},
   "source": [
    "* 만약 전방 탐색을 사용하지 않는다면?"
   ]
  },
  {
   "cell_type": "code",
   "execution_count": 10,
   "metadata": {
    "ExecuteTime": {
     "end_time": "2021-10-09T01:22:37.761988Z",
     "start_time": "2021-10-09T01:22:37.758987Z"
    }
   },
   "outputs": [
    {
     "name": "stdout",
     "output_type": "stream",
     "text": [
      "[('http:', ':'), ('https:', ':'), ('ftp:', ':')]\n"
     ]
    }
   ],
   "source": [
    "print(re.findall(r\"(.+(:))\", text2))"
   ]
  },
  {
   "cell_type": "markdown",
   "metadata": {},
   "source": [
    "* 전후방탐색 일치는 실제로 결과를 반환하지만, 반환된 문자의 길이가 항상0이다. 따라서, 전방탐색을 흔히 제로 폭이라 부르기도 한다."
   ]
  },
  {
   "cell_type": "markdown",
   "metadata": {},
   "source": [
    "## 후방탐색(lookbehind)"
   ]
  },
  {
   "cell_type": "markdown",
   "metadata": {},
   "source": [
    "* ?<= : 뒤쪽을 탐색\n",
    "* 하위 표현식 안에서 사용, 일치할 텍스트 앞에 위치"
   ]
  },
  {
   "cell_type": "code",
   "execution_count": 11,
   "metadata": {
    "ExecuteTime": {
     "end_time": "2021-10-09T01:30:22.680791Z",
     "start_time": "2021-10-09T01:30:22.677796Z"
    }
   },
   "outputs": [],
   "source": [
    "text3 = f\"\"\"ABC01: $23.45\n",
    "HGG42: $5.31\n",
    "CFMX1:$899.00\n",
    "XTC99: $69.96\n",
    "Total items found: 4\"\"\""
   ]
  },
  {
   "cell_type": "code",
   "execution_count": 12,
   "metadata": {
    "ExecuteTime": {
     "end_time": "2021-10-09T01:30:49.403357Z",
     "start_time": "2021-10-09T01:30:49.398361Z"
    }
   },
   "outputs": [
    {
     "name": "stdout",
     "output_type": "stream",
     "text": [
      "['$23.45', '$5.31', '$899.00', '$69.96']\n"
     ]
    }
   ],
   "source": [
    "print(re.findall(r\"\\$[0-9.]+\", text3))"
   ]
  },
  {
   "cell_type": "markdown",
   "metadata": {},
   "source": [
    "* 만약 달러를 패턴에서 제외한다면?"
   ]
  },
  {
   "cell_type": "code",
   "execution_count": 13,
   "metadata": {
    "ExecuteTime": {
     "end_time": "2021-10-09T01:31:28.425413Z",
     "start_time": "2021-10-09T01:31:28.421411Z"
    }
   },
   "outputs": [
    {
     "name": "stdout",
     "output_type": "stream",
     "text": [
      "['01', '23.45', '42', '5.31', '1', '899.00', '99', '69.96', '4']\n"
     ]
    }
   ],
   "source": [
    "print(re.findall(r\"[0-9.]+\", text3))"
   ]
  },
  {
   "cell_type": "markdown",
   "metadata": {},
   "source": [
    "* 하지만 후방 탐색을 사용한다면?"
   ]
  },
  {
   "cell_type": "code",
   "execution_count": 15,
   "metadata": {
    "ExecuteTime": {
     "end_time": "2021-10-09T01:32:15.360308Z",
     "start_time": "2021-10-09T01:32:15.357337Z"
    }
   },
   "outputs": [
    {
     "name": "stdout",
     "output_type": "stream",
     "text": [
      "['23.45', '5.31', '899.00', '69.96']\n"
     ]
    }
   ],
   "source": [
    "print(re.findall(r\"(?<=\\$)[0-9.]+\", text3))"
   ]
  },
  {
   "cell_type": "markdown",
   "metadata": {},
   "source": [
    "* 전방탐색 패턴은 마침표와 더하기를 포함하여 텍스트의 길이를 다양하게 일치시킬 수 있으며, 매우 동적이다.\n",
    "* 반대로 후방탐색 패턴은 보통 일치시킬 텍스트의 길이를 고정해야 한다. \n",
    "* 거의 모든 정규 표현식 구현에는 이런 제약이 있다."
   ]
  },
  {
   "cell_type": "markdown",
   "metadata": {},
   "source": [
    "## 전방탐색과 후방탐색 함께 사용하기"
   ]
  },
  {
   "cell_type": "code",
   "execution_count": 19,
   "metadata": {
    "ExecuteTime": {
     "end_time": "2021-10-09T03:16:23.014053Z",
     "start_time": "2021-10-09T03:16:23.010053Z"
    }
   },
   "outputs": [
    {
     "name": "stdout",
     "output_type": "stream",
     "text": [
      "<re.Match object; span=(14, 34), match='Ben Forta`s Homepage'>\n"
     ]
    }
   ],
   "source": [
    "print(re.search(r\"(?<=<[Tt][Ii][Tt][Ll][Ee]>).*(?=<\\/[Tt][Ii][Tt][Ll][Ee]>)\", text1))"
   ]
  },
  {
   "cell_type": "markdown",
   "metadata": {},
   "source": [
    "## 부정형 전후방탐색"
   ]
  },
  {
   "cell_type": "markdown",
   "metadata": {},
   "source": [
    "* 지금까지 살펴봤듯이 후방탐색과 전방탐색은 반환할 텍스트의 위치, 즉 찾고자 하는 부분의 앞뒤를 특별히 지정하고 싶을 때 주로 사용한다.\n",
    "* 이런 방법들을 긍정형 전방탐색과 긍정형 후방탐색이라고 한다.\n",
    "    * 긍정형이라는 단어가 붙은 이유는 실제로 일치하는 텍스트를 찾기 때문이다.\n",
    "* 반대로 부정형은 실제로 일치하지 않는 단어를 찾는다.\n",
    "    * (?=) : 긍정형 전방탐색\n",
    "    * (?!) : 부정형 전방탐색\n",
    "    * (?<=) : 긍정형 후방탐색\n",
    "    * (?<!) : 부정형 후방탐색\n",
    "* 부정형은 등호 대신에 느낌표를 사용한다."
   ]
  },
  {
   "cell_type": "code",
   "execution_count": 20,
   "metadata": {
    "ExecuteTime": {
     "end_time": "2021-10-09T03:21:32.114692Z",
     "start_time": "2021-10-09T03:21:32.110693Z"
    }
   },
   "outputs": [],
   "source": [
    "text4 = f\"\"\"I paid $30 for 100 apples,\n",
    "50 oranges, and 60 pears.\n",
    "I saved $5 on this order.\"\"\""
   ]
  },
  {
   "cell_type": "code",
   "execution_count": 22,
   "metadata": {
    "ExecuteTime": {
     "end_time": "2021-10-09T03:22:48.085033Z",
     "start_time": "2021-10-09T03:22:48.081058Z"
    }
   },
   "outputs": [
    {
     "name": "stdout",
     "output_type": "stream",
     "text": [
      "['30', '5']\n"
     ]
    }
   ],
   "source": [
    "#가격만 얻기\n",
    "print(re.findall(r\"(?<=\\$)\\d+\", text4))"
   ]
  },
  {
   "cell_type": "code",
   "execution_count": 25,
   "metadata": {
    "ExecuteTime": {
     "end_time": "2021-10-09T03:27:03.362081Z",
     "start_time": "2021-10-09T03:27:03.359096Z"
    }
   },
   "outputs": [
    {
     "name": "stdout",
     "output_type": "stream",
     "text": [
      "['100', '50', '60']\n"
     ]
    }
   ],
   "source": [
    "#수량만 얻기\n",
    "print(re.findall(r\"\\b(?<!\\$)\\d+\\b\", text4))"
   ]
  },
  {
   "cell_type": "markdown",
   "metadata": {},
   "source": [
    "* 정확히 수량만 얻어왔다.\n",
    "* 만약, 경계 \\b를 사용하지 않았다면?"
   ]
  },
  {
   "cell_type": "code",
   "execution_count": 27,
   "metadata": {
    "ExecuteTime": {
     "end_time": "2021-10-09T03:27:58.533602Z",
     "start_time": "2021-10-09T03:27:58.529602Z"
    }
   },
   "outputs": [
    {
     "name": "stdout",
     "output_type": "stream",
     "text": [
      "['0', '100', '50', '60']\n"
     ]
    }
   ],
   "source": [
    "#수량만 얻기\n",
    "print(re.findall(r\"(?<!\\$)\\d+\", text4))"
   ]
  },
  {
   "cell_type": "markdown",
   "metadata": {},
   "source": [
    "* 보시다시피 $30에서 0도 인식된다. 왜냐하면, 0앞에 달러 기호가 엎기 때문이다 .따라서, 경계 조건을 사용한 것이다."
   ]
  },
  {
   "cell_type": "markdown",
   "metadata": {},
   "source": [
    "* **전후방 탐색을 사용하는 이유는 무엇을 반환하는지 더 구체적으로 명시하는 것이다.**\n",
    "* **하위 표현식을 통해 텍스트의 위치는 지정하지만, 소비하지는 않는다.**"
   ]
  }
 ],
 "metadata": {
  "kernelspec": {
   "display_name": "Python 3",
   "language": "python",
   "name": "python3"
  },
  "language_info": {
   "codemirror_mode": {
    "name": "ipython",
    "version": 3
   },
   "file_extension": ".py",
   "mimetype": "text/x-python",
   "name": "python",
   "nbconvert_exporter": "python",
   "pygments_lexer": "ipython3",
   "version": "3.8.3"
  },
  "toc": {
   "base_numbering": 1,
   "nav_menu": {},
   "number_sections": true,
   "sideBar": true,
   "skip_h1_title": false,
   "title_cell": "Table of Contents",
   "title_sidebar": "Contents",
   "toc_cell": false,
   "toc_position": {},
   "toc_section_display": true,
   "toc_window_display": false
  }
 },
 "nbformat": 4,
 "nbformat_minor": 4
}
