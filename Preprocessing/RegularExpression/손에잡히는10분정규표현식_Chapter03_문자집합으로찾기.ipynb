{
 "cells": [
  {
   "cell_type": "code",
   "execution_count": 31,
   "metadata": {
    "ExecuteTime": {
     "end_time": "2021-09-26T14:24:10.278726Z",
     "start_time": "2021-09-26T14:24:10.274730Z"
    }
   },
   "outputs": [],
   "source": [
    "import re\n",
    "import pandas as pd"
   ]
  },
  {
   "cell_type": "code",
   "execution_count": 32,
   "metadata": {
    "ExecuteTime": {
     "end_time": "2021-09-26T14:24:10.532237Z",
     "start_time": "2021-09-26T14:24:10.527209Z"
    }
   },
   "outputs": [
    {
     "data": {
      "text/html": [
       "<style>.container { width: 78% !important; }</style>"
      ],
      "text/plain": [
       "<IPython.core.display.HTML object>"
      ]
     },
     "metadata": {},
     "output_type": "display_data"
    }
   ],
   "source": [
    "from IPython.core.display import display, HTML\n",
    "display(HTML(\"<style>.container { width: 78% !important; }</style>\"))"
   ]
  },
  {
   "cell_type": "code",
   "execution_count": 33,
   "metadata": {
    "ExecuteTime": {
     "end_time": "2021-09-26T14:24:10.707207Z",
     "start_time": "2021-09-26T14:24:10.703236Z"
    }
   },
   "outputs": [],
   "source": [
    "sample1 = pd.DataFrame()\n",
    "sample1['file_name'] = ['sales.xls', 'sales1.xls', 'orders3.xls', 'sales2.xls'\n",
    "                              , 'sales3.xls', 'apac1.xls', 'europe2.xls', 'na1.xls', 'na2.xls', 'sa1.xls']"
   ]
  },
  {
   "cell_type": "code",
   "execution_count": 34,
   "metadata": {
    "ExecuteTime": {
     "end_time": "2021-09-26T14:24:11.083209Z",
     "start_time": "2021-09-26T14:24:11.080208Z"
    }
   },
   "outputs": [],
   "source": [
    "def getRegex(df : pd.DataFrame, col_name : str, regex : str) -> pd.DataFrame :\n",
    "    return df[df[col_name].str.contains(regex)]"
   ]
  },
  {
   "cell_type": "markdown",
   "metadata": {},
   "source": [
    "# Chapter3"
   ]
  },
  {
   "cell_type": "markdown",
   "metadata": {},
   "source": [
    "## 문자 집합으로 찾기[]"
   ]
  },
  {
   "cell_type": "markdown",
   "metadata": {},
   "source": [
    "* 모든 문자가 아니라 n이나 s와 일치하는 파일명만 찾고 싶을 때는 어떻게 해야 하는가?\n",
    "* and가 아니라 or구조\n",
    "* 기본적인 구성은 and 여기에 []를 사용하면 or 구조가 된다."
   ]
  },
  {
   "cell_type": "code",
   "execution_count": 53,
   "metadata": {
    "ExecuteTime": {
     "end_time": "2021-09-26T14:38:45.422911Z",
     "start_time": "2021-09-26T14:38:45.417882Z"
    }
   },
   "outputs": [],
   "source": [
    "sampleData = pd.DataFrame()\n",
    "sampleData['val1'] = ['abc1.pdf', 'abc2.pdf', 'abc3.pdf', 'abc4.pdf', 'abc5.pdf']"
   ]
  },
  {
   "cell_type": "code",
   "execution_count": 54,
   "metadata": {
    "ExecuteTime": {
     "end_time": "2021-09-26T14:38:46.137199Z",
     "start_time": "2021-09-26T14:38:46.131199Z"
    }
   },
   "outputs": [
    {
     "data": {
      "text/html": [
       "<div>\n",
       "<style scoped>\n",
       "    .dataframe tbody tr th:only-of-type {\n",
       "        vertical-align: middle;\n",
       "    }\n",
       "\n",
       "    .dataframe tbody tr th {\n",
       "        vertical-align: top;\n",
       "    }\n",
       "\n",
       "    .dataframe thead th {\n",
       "        text-align: right;\n",
       "    }\n",
       "</style>\n",
       "<table border=\"1\" class=\"dataframe\">\n",
       "  <thead>\n",
       "    <tr style=\"text-align: right;\">\n",
       "      <th></th>\n",
       "      <th>val1</th>\n",
       "    </tr>\n",
       "  </thead>\n",
       "  <tbody>\n",
       "    <tr>\n",
       "      <th>0</th>\n",
       "      <td>abc1.pdf</td>\n",
       "    </tr>\n",
       "    <tr>\n",
       "      <th>1</th>\n",
       "      <td>abc2.pdf</td>\n",
       "    </tr>\n",
       "    <tr>\n",
       "      <th>2</th>\n",
       "      <td>abc3.pdf</td>\n",
       "    </tr>\n",
       "  </tbody>\n",
       "</table>\n",
       "</div>"
      ],
      "text/plain": [
       "       val1\n",
       "0  abc1.pdf\n",
       "1  abc2.pdf\n",
       "2  abc3.pdf"
      ]
     },
     "execution_count": 54,
     "metadata": {},
     "output_type": "execute_result"
    }
   ],
   "source": [
    "sampleData.loc[sampleData['val1'].str.contains(r\"abc[1-3]\")]"
   ]
  },
  {
   "cell_type": "code",
   "execution_count": 39,
   "metadata": {
    "ExecuteTime": {
     "end_time": "2021-09-26T14:27:22.826833Z",
     "start_time": "2021-09-26T14:27:22.821802Z"
    }
   },
   "outputs": [
    {
     "data": {
      "text/html": [
       "<div>\n",
       "<style scoped>\n",
       "    .dataframe tbody tr th:only-of-type {\n",
       "        vertical-align: middle;\n",
       "    }\n",
       "\n",
       "    .dataframe tbody tr th {\n",
       "        vertical-align: top;\n",
       "    }\n",
       "\n",
       "    .dataframe thead th {\n",
       "        text-align: right;\n",
       "    }\n",
       "</style>\n",
       "<table border=\"1\" class=\"dataframe\">\n",
       "  <thead>\n",
       "    <tr style=\"text-align: right;\">\n",
       "      <th></th>\n",
       "      <th>file_name</th>\n",
       "    </tr>\n",
       "  </thead>\n",
       "  <tbody>\n",
       "    <tr>\n",
       "      <th>7</th>\n",
       "      <td>na1.xls</td>\n",
       "    </tr>\n",
       "    <tr>\n",
       "      <th>8</th>\n",
       "      <td>na2.xls</td>\n",
       "    </tr>\n",
       "    <tr>\n",
       "      <th>9</th>\n",
       "      <td>sa1.xls</td>\n",
       "    </tr>\n",
       "  </tbody>\n",
       "</table>\n",
       "</div>"
      ],
      "text/plain": [
       "  file_name\n",
       "7   na1.xls\n",
       "8   na2.xls\n",
       "9   sa1.xls"
      ]
     },
     "execution_count": 39,
     "metadata": {},
     "output_type": "execute_result"
    }
   ],
   "source": [
    "#n이나 s둘중 하나라도 매치되면 Check\n",
    "sample1[sample1['file_name'].str.contains(\"[ns]a.\\.\")]"
   ]
  },
  {
   "cell_type": "markdown",
   "metadata": {},
   "source": [
    "* 하지만 파일명 가운데 usa1.xls가 있다면? 이 경우도 포함된다. 따라서 [ns]a.\\.xls도 정확한 답이 아닐 수 있다.\n",
    "    * 여기에 대한 자세한 내용은 6장 위치 찾기에서 알아보자."
   ]
  },
  {
   "cell_type": "code",
   "execution_count": 7,
   "metadata": {
    "ExecuteTime": {
     "end_time": "2021-09-26T08:50:33.900830Z",
     "start_time": "2021-09-26T08:50:33.898829Z"
    }
   },
   "outputs": [],
   "source": [
    "#특정영역의 대소문자만 구분\n",
    "text1 = \"\"\"The phrase \"regular expression\" is often\n",
    "abbreviated as RegEx or regex\n",
    "\"\"\""
   ]
  },
  {
   "cell_type": "code",
   "execution_count": 9,
   "metadata": {
    "ExecuteTime": {
     "end_time": "2021-09-26T08:51:15.268288Z",
     "start_time": "2021-09-26T08:51:15.263260Z"
    }
   },
   "outputs": [
    {
     "data": {
      "text/plain": [
       "['RegEx', 'regex']"
      ]
     },
     "execution_count": 9,
     "metadata": {},
     "output_type": "execute_result"
    }
   ],
   "source": [
    "re.findall(r\"[Rr]eg[Ee]x\",text1)"
   ]
  },
  {
   "cell_type": "markdown",
   "metadata": {},
   "source": [
    "## 문자 집합 범위 사용하기[-]"
   ]
  },
  {
   "cell_type": "code",
   "execution_count": 25,
   "metadata": {
    "ExecuteTime": {
     "end_time": "2021-09-26T09:30:00.251597Z",
     "start_time": "2021-09-26T09:30:00.246601Z"
    }
   },
   "outputs": [],
   "source": [
    "sample2 = pd.DataFrame()\n",
    "sample2['file_name'] = ['sales1.xls', 'orders3.xls', 'sales2.xls'\n",
    "                              , 'sales3.xls', 'apac1.xls', 'europe2.xls', 'sam.xls', 'na1.xls', 'na2.xls', 'sa1.xls', 'ca1.xls']"
   ]
  },
  {
   "cell_type": "code",
   "execution_count": 22,
   "metadata": {
    "ExecuteTime": {
     "end_time": "2021-09-26T08:56:44.766181Z",
     "start_time": "2021-09-26T08:56:44.758181Z"
    }
   },
   "outputs": [
    {
     "data": {
      "text/html": [
       "<div>\n",
       "<style scoped>\n",
       "    .dataframe tbody tr th:only-of-type {\n",
       "        vertical-align: middle;\n",
       "    }\n",
       "\n",
       "    .dataframe tbody tr th {\n",
       "        vertical-align: top;\n",
       "    }\n",
       "\n",
       "    .dataframe thead th {\n",
       "        text-align: right;\n",
       "    }\n",
       "</style>\n",
       "<table border=\"1\" class=\"dataframe\">\n",
       "  <thead>\n",
       "    <tr style=\"text-align: right;\">\n",
       "      <th></th>\n",
       "      <th>file_name</th>\n",
       "    </tr>\n",
       "  </thead>\n",
       "  <tbody>\n",
       "    <tr>\n",
       "      <th>6</th>\n",
       "      <td>sam.xls</td>\n",
       "    </tr>\n",
       "    <tr>\n",
       "      <th>7</th>\n",
       "      <td>na1.xls</td>\n",
       "    </tr>\n",
       "    <tr>\n",
       "      <th>8</th>\n",
       "      <td>na2.xls</td>\n",
       "    </tr>\n",
       "    <tr>\n",
       "      <th>9</th>\n",
       "      <td>sa1.xls</td>\n",
       "    </tr>\n",
       "  </tbody>\n",
       "</table>\n",
       "</div>"
      ],
      "text/plain": [
       "  file_name\n",
       "6   sam.xls\n",
       "7   na1.xls\n",
       "8   na2.xls\n",
       "9   sa1.xls"
      ]
     },
     "execution_count": 22,
     "metadata": {},
     "output_type": "execute_result"
    }
   ],
   "source": [
    "#이럴 경우 sam도 포함된다.\n",
    "getRegex(sample2, \"file_name\", \"[ns]a.\\.\")"
   ]
  },
  {
   "cell_type": "code",
   "execution_count": 23,
   "metadata": {
    "ExecuteTime": {
     "end_time": "2021-09-26T09:01:17.949277Z",
     "start_time": "2021-09-26T09:01:17.942306Z"
    }
   },
   "outputs": [
    {
     "data": {
      "text/html": [
       "<div>\n",
       "<style scoped>\n",
       "    .dataframe tbody tr th:only-of-type {\n",
       "        vertical-align: middle;\n",
       "    }\n",
       "\n",
       "    .dataframe tbody tr th {\n",
       "        vertical-align: top;\n",
       "    }\n",
       "\n",
       "    .dataframe thead th {\n",
       "        text-align: right;\n",
       "    }\n",
       "</style>\n",
       "<table border=\"1\" class=\"dataframe\">\n",
       "  <thead>\n",
       "    <tr style=\"text-align: right;\">\n",
       "      <th></th>\n",
       "      <th>file_name</th>\n",
       "    </tr>\n",
       "  </thead>\n",
       "  <tbody>\n",
       "    <tr>\n",
       "      <th>7</th>\n",
       "      <td>na1.xls</td>\n",
       "    </tr>\n",
       "    <tr>\n",
       "      <th>8</th>\n",
       "      <td>na2.xls</td>\n",
       "    </tr>\n",
       "    <tr>\n",
       "      <th>9</th>\n",
       "      <td>sa1.xls</td>\n",
       "    </tr>\n",
       "  </tbody>\n",
       "</table>\n",
       "</div>"
      ],
      "text/plain": [
       "  file_name\n",
       "7   na1.xls\n",
       "8   na2.xls\n",
       "9   sa1.xls"
      ]
     },
     "execution_count": 23,
     "metadata": {},
     "output_type": "execute_result"
    }
   ],
   "source": [
    "#0-9를 사용하면 숫자만 걸러낼 수 있음\n",
    "getRegex(sample2, \"file_name\", \"[ns]a[0-9]\\.\")"
   ]
  },
  {
   "cell_type": "markdown",
   "metadata": {},
   "source": [
    "* 하이픈을 사용하는 사례\n",
    "    * A-Z : A ~ Z사이에 있는 모든 대문자 일치\n",
    "    * a-z : a ~ z사이에 있는 모든 소문자와 일치 \n",
    "    * A-F : A부터 F사이에 있는 모든 대문자와 일치\n",
    "    * A-z : 아스키 문자 A ~ 아스키 문자 z 일치 하지만, 대괄호([)와 캐럿(^)같은 문자도 포함되므로 조심\n",
    "    * 가-힣ㄱ-ㅎㅏ-ㅣ : 한글만 찾기\n",
    "    \n",
    "    \n",
    "* 주의할점 : 하이픈(-)은 대괄호([])안에서만 메타 문자이다. 집합 밖에서는 문자 그대로의 하이픈(-)과 일치한다."
   ]
  },
  {
   "cell_type": "code",
   "execution_count": 2,
   "metadata": {
    "ExecuteTime": {
     "end_time": "2021-09-26T09:26:28.922127Z",
     "start_time": "2021-09-26T09:26:28.919125Z"
    }
   },
   "outputs": [],
   "source": [
    "text2 = \"\"\"\n",
    "body {\n",
    "    background-color: #fefbd8;\n",
    "}\n",
    "h1 {\n",
    "    background-color: #0000ff;\n",
    "}\n",
    "div {\n",
    "    background-color: #d0f4e6;\n",
    "}\n",
    "span {\n",
    "    background-color: #f08970;\n",
    "}\n",
    "\"\"\""
   ]
  },
  {
   "cell_type": "code",
   "execution_count": 16,
   "metadata": {
    "ExecuteTime": {
     "end_time": "2021-09-26T09:28:28.158603Z",
     "start_time": "2021-09-26T09:28:28.153579Z"
    }
   },
   "outputs": [
    {
     "data": {
      "text/plain": [
       "['#fefbd8', '#0000ff', '#d0f4e6', '#f08970']"
      ]
     },
     "execution_count": 16,
     "metadata": {},
     "output_type": "execute_result"
    }
   ],
   "source": [
    "re.findall(\"#[0-9A-Fa-f][0-9A-Fa-f][0-9A-Fa-f][0-9A-Fa-f][0-9A-Fa-f][0-9A-Fa-f]\", text2)"
   ]
  },
  {
   "cell_type": "markdown",
   "metadata": {},
   "source": [
    "## 제외하고 찾기[^]"
   ]
  },
  {
   "cell_type": "code",
   "execution_count": 30,
   "metadata": {
    "ExecuteTime": {
     "end_time": "2021-09-26T09:30:58.538671Z",
     "start_time": "2021-09-26T09:30:58.531642Z"
    }
   },
   "outputs": [
    {
     "data": {
      "text/html": [
       "<div>\n",
       "<style scoped>\n",
       "    .dataframe tbody tr th:only-of-type {\n",
       "        vertical-align: middle;\n",
       "    }\n",
       "\n",
       "    .dataframe tbody tr th {\n",
       "        vertical-align: top;\n",
       "    }\n",
       "\n",
       "    .dataframe thead th {\n",
       "        text-align: right;\n",
       "    }\n",
       "</style>\n",
       "<table border=\"1\" class=\"dataframe\">\n",
       "  <thead>\n",
       "    <tr style=\"text-align: right;\">\n",
       "      <th></th>\n",
       "      <th>file_name</th>\n",
       "    </tr>\n",
       "  </thead>\n",
       "  <tbody>\n",
       "    <tr>\n",
       "      <th>6</th>\n",
       "      <td>sam.xls</td>\n",
       "    </tr>\n",
       "  </tbody>\n",
       "</table>\n",
       "</div>"
      ],
      "text/plain": [
       "  file_name\n",
       "6   sam.xls"
      ]
     },
     "execution_count": 30,
     "metadata": {},
     "output_type": "execute_result"
    }
   ],
   "source": [
    "getRegex(sample2, \"file_name\", \"[ns]a[^0-9]\\.xls\")"
   ]
  },
  {
   "cell_type": "code",
   "execution_count": null,
   "metadata": {},
   "outputs": [],
   "source": []
  }
 ],
 "metadata": {
  "kernelspec": {
   "display_name": "Python 3",
   "language": "python",
   "name": "python3"
  },
  "language_info": {
   "codemirror_mode": {
    "name": "ipython",
    "version": 3
   },
   "file_extension": ".py",
   "mimetype": "text/x-python",
   "name": "python",
   "nbconvert_exporter": "python",
   "pygments_lexer": "ipython3",
   "version": "3.8.3"
  },
  "toc": {
   "base_numbering": 1,
   "nav_menu": {},
   "number_sections": true,
   "sideBar": true,
   "skip_h1_title": false,
   "title_cell": "Table of Contents",
   "title_sidebar": "Contents",
   "toc_cell": false,
   "toc_position": {},
   "toc_section_display": true,
   "toc_window_display": true
  }
 },
 "nbformat": 4,
 "nbformat_minor": 4
}
