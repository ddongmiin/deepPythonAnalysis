{
 "cells": [
  {
   "cell_type": "code",
   "execution_count": 1,
   "metadata": {
    "ExecuteTime": {
     "end_time": "2021-09-26T09:32:49.130582Z",
     "start_time": "2021-09-26T09:32:48.780701Z"
    }
   },
   "outputs": [],
   "source": [
    "import re\n",
    "import pandas as pd"
   ]
  },
  {
   "cell_type": "code",
   "execution_count": 2,
   "metadata": {
    "ExecuteTime": {
     "end_time": "2021-09-26T09:33:00.517157Z",
     "start_time": "2021-09-26T09:33:00.509161Z"
    }
   },
   "outputs": [
    {
     "data": {
      "text/html": [
       "<style>.container { width: 78% !important; }</style>"
      ],
      "text/plain": [
       "<IPython.core.display.HTML object>"
      ]
     },
     "metadata": {},
     "output_type": "display_data"
    }
   ],
   "source": [
    "from IPython.core.display import display, HTML\n",
    "display(HTML(\"<style>.container { width: 78% !important; }</style>\"))"
   ]
  },
  {
   "cell_type": "code",
   "execution_count": 3,
   "metadata": {
    "ExecuteTime": {
     "end_time": "2021-09-26T09:37:31.272869Z",
     "start_time": "2021-09-26T09:37:31.269866Z"
    }
   },
   "outputs": [],
   "source": [
    "def getRegex(df : pd.DataFrame, col_name : str, regex : str) -> pd.DataFrame :\n",
    "    return df[df[col_name].str.contains(regex)]"
   ]
  },
  {
   "cell_type": "markdown",
   "metadata": {},
   "source": [
    "# 메타 문자 사용하기"
   ]
  },
  {
   "cell_type": "markdown",
   "metadata": {},
   "source": [
    "## 이스케이프 다시 살펴보기"
   ]
  },
  {
   "cell_type": "markdown",
   "metadata": {},
   "source": [
    "* 이스케이프(escape)란?\n",
    "    * 메타 문자는 정규표현식 안에서 특별한 의미를 가짐\n",
    "    * 따라서, 특별한 의미를 제외하고 메타 문자를 그대로 사용하기 위해서는 추가적인 장치가 필요\n",
    "    * 그 장치가 이스케이프 \\"
   ]
  },
  {
   "cell_type": "code",
   "execution_count": 7,
   "metadata": {
    "ExecuteTime": {
     "end_time": "2021-09-26T09:38:44.097953Z",
     "start_time": "2021-09-26T09:38:44.094923Z"
    }
   },
   "outputs": [],
   "source": [
    "text1 = \"\"\"\n",
    "var myArray = new Array();\n",
    "...\n",
    "if (myArray[0] == 0) {\n",
    "...\n",
    "}\n",
    "\"\"\""
   ]
  },
  {
   "cell_type": "code",
   "execution_count": 9,
   "metadata": {
    "ExecuteTime": {
     "end_time": "2021-09-26T09:38:51.538264Z",
     "start_time": "2021-09-26T09:38:51.534265Z"
    }
   },
   "outputs": [
    {
     "data": {
      "text/plain": [
       "<re.Match object; span=(36, 46), match='myArray[0]'>"
      ]
     },
     "execution_count": 9,
     "metadata": {},
     "output_type": "execute_result"
    }
   ],
   "source": [
    "re.search(\"myArray\\[[0-9]\\]\", text1)"
   ]
  },
  {
   "cell_type": "code",
   "execution_count": 44,
   "metadata": {
    "ExecuteTime": {
     "end_time": "2021-09-26T09:45:21.018238Z",
     "start_time": "2021-09-26T09:45:21.016238Z"
    }
   },
   "outputs": [],
   "source": [
    "#https://stackoverflow.com/questions/647769/why-cant-pythons-raw-string-literals-end-with-a-single-backslash\n",
    "text2 = r\"\\home\\ben\\sales\\\"\""
   ]
  },
  {
   "cell_type": "code",
   "execution_count": 45,
   "metadata": {
    "ExecuteTime": {
     "end_time": "2021-09-26T09:45:22.120244Z",
     "start_time": "2021-09-26T09:45:22.116240Z"
    }
   },
   "outputs": [
    {
     "name": "stdout",
     "output_type": "stream",
     "text": [
      "\\home\\ben\\sales\\\"\n"
     ]
    }
   ],
   "source": [
    "print(text2)"
   ]
  },
  {
   "cell_type": "code",
   "execution_count": 74,
   "metadata": {
    "ExecuteTime": {
     "end_time": "2021-09-26T10:30:49.261268Z",
     "start_time": "2021-09-26T10:30:49.257240Z"
    }
   },
   "outputs": [
    {
     "data": {
      "text/plain": [
       "['\\\\', '\\\\', '\\\\', '\\\\']"
      ]
     },
     "execution_count": 74,
     "metadata": {},
     "output_type": "execute_result"
    }
   ],
   "source": [
    "#rstring vs fstring\n",
    "re.findall(r\"\\\\\", text2)"
   ]
  },
  {
   "cell_type": "markdown",
   "metadata": {},
   "source": [
    "## 공백 문자 찾기"
   ]
  },
  {
   "cell_type": "markdown",
   "metadata": {},
   "source": [
    "* 공백 매타 종류\n",
    "    * [\\b] : 백스페이스\n",
    "    * \\f : 페이지 넘김(form feed)\n",
    "    * \\n : 줄바꿈\n",
    "    * \\r : 캐리지 리턴 -> 현재 위치를 나타내는 커서를 맨 앞으로 이동시킨다는 뜻\n",
    "    * \\t : 탭\n",
    "    * \\v : 수직탭"
   ]
  },
  {
   "cell_type": "code",
   "execution_count": 77,
   "metadata": {
    "ExecuteTime": {
     "end_time": "2021-09-26T10:31:00.201538Z",
     "start_time": "2021-09-26T10:31:00.198538Z"
    }
   },
   "outputs": [],
   "source": [
    "text3 = \"\"\"\"101\",\"Ben\",\"Forta\"\n",
    "\"102\",\"Jim\",\"James\"\n",
    "\n",
    "\"103\",\"Roberta\",\"Robertson\"\n",
    "\"104\",\"Bob\",\"Bobson\"\n",
    "\"\"\""
   ]
  },
  {
   "cell_type": "code",
   "execution_count": 78,
   "metadata": {
    "ExecuteTime": {
     "end_time": "2021-09-26T10:31:00.407347Z",
     "start_time": "2021-09-26T10:31:00.404347Z"
    }
   },
   "outputs": [
    {
     "name": "stdout",
     "output_type": "stream",
     "text": [
      "\"101\",\"Ben\",\"Forta\"\n",
      "\"102\",\"Jim\",\"James\"\n",
      "\n",
      "\"103\",\"Roberta\",\"Robertson\"\n",
      "\"104\",\"Bob\",\"Bobson\"\n",
      "\n"
     ]
    }
   ],
   "source": [
    "print(text3)"
   ]
  },
  {
   "cell_type": "code",
   "execution_count": 82,
   "metadata": {
    "ExecuteTime": {
     "end_time": "2021-09-26T10:32:10.313261Z",
     "start_time": "2021-09-26T10:32:10.309262Z"
    }
   },
   "outputs": [
    {
     "data": {
      "text/plain": [
       "<re.Match object; span=(39, 41), match='\\n\\n'>"
      ]
     },
     "execution_count": 82,
     "metadata": {},
     "output_type": "execute_result"
    }
   ],
   "source": [
    "#파이썬에서는 캐리지 리턴이 필요가 없는듯\n",
    "#https://etloveguitar.tistory.com/7\n",
    "re.search(r\"\\n\\n\", text3)"
   ]
  },
  {
   "cell_type": "markdown",
   "metadata": {},
   "source": [
    "## 특정한 문자 형태와 일치시키기"
   ]
  },
  {
   "cell_type": "markdown",
   "metadata": {},
   "source": [
    "* 자주 쓰는 문자 집합들은 검색에서 쓰는 가장 흔한 형태이기에, 특수한 문자 메타로 대신하기도 한다. 이런 메타 문자들은 문자 클래스라고 부른다.\n",
    "    * \\d = [0-9]\n",
    "    * \\D = [^0-9]\n",
    "    * \\w = [a-zA-Z0-9_]\n",
    "    * \\W = [^a-zA-Z0-9_]\n",
    "    * \\s = [\\f\\n\\r\\t\\v]\n",
    "    * \\S = [^\\f\\n\\r\\t\\v]\n",
    "    * \\x : 16진수 _ EX) \\x0A(아스키 문자10)\n",
    "    * \\0 : 8진수 _ EX) \\011 (아스키문자9)"
   ]
  },
  {
   "cell_type": "code",
   "execution_count": 83,
   "metadata": {
    "ExecuteTime": {
     "end_time": "2021-09-26T11:54:30.305997Z",
     "start_time": "2021-09-26T11:54:30.300999Z"
    }
   },
   "outputs": [
    {
     "data": {
      "text/plain": [
       "['myArray[0]']"
      ]
     },
     "execution_count": 83,
     "metadata": {},
     "output_type": "execute_result"
    }
   ],
   "source": [
    "re.findall(r\"myArray\\[[\\d]\\]\", text1)"
   ]
  },
  {
   "cell_type": "code",
   "execution_count": 84,
   "metadata": {
    "ExecuteTime": {
     "end_time": "2021-09-26T11:56:40.700524Z",
     "start_time": "2021-09-26T11:56:40.696479Z"
    }
   },
   "outputs": [],
   "source": [
    "sample1 = pd.DataFrame()\n",
    "sample1['zipcode'] = ['11213', 'A1C2E3', '48075', '48237', 'M1B4F2', '90046', 'H1H2H2']"
   ]
  },
  {
   "cell_type": "code",
   "execution_count": 85,
   "metadata": {
    "ExecuteTime": {
     "end_time": "2021-09-26T11:57:38.847231Z",
     "start_time": "2021-09-26T11:57:38.837642Z"
    }
   },
   "outputs": [
    {
     "data": {
      "text/html": [
       "<div>\n",
       "<style scoped>\n",
       "    .dataframe tbody tr th:only-of-type {\n",
       "        vertical-align: middle;\n",
       "    }\n",
       "\n",
       "    .dataframe tbody tr th {\n",
       "        vertical-align: top;\n",
       "    }\n",
       "\n",
       "    .dataframe thead th {\n",
       "        text-align: right;\n",
       "    }\n",
       "</style>\n",
       "<table border=\"1\" class=\"dataframe\">\n",
       "  <thead>\n",
       "    <tr style=\"text-align: right;\">\n",
       "      <th></th>\n",
       "      <th>zipcode</th>\n",
       "    </tr>\n",
       "  </thead>\n",
       "  <tbody>\n",
       "    <tr>\n",
       "      <th>1</th>\n",
       "      <td>A1C2E3</td>\n",
       "    </tr>\n",
       "    <tr>\n",
       "      <th>4</th>\n",
       "      <td>M1B4F2</td>\n",
       "    </tr>\n",
       "    <tr>\n",
       "      <th>6</th>\n",
       "      <td>H1H2H2</td>\n",
       "    </tr>\n",
       "  </tbody>\n",
       "</table>\n",
       "</div>"
      ],
      "text/plain": [
       "  zipcode\n",
       "1  A1C2E3\n",
       "4  M1B4F2\n",
       "6  H1H2H2"
      ]
     },
     "execution_count": 85,
     "metadata": {},
     "output_type": "execute_result"
    }
   ],
   "source": [
    "getRegex(sample1, 'zipcode', r\"\\w\\d\\w\\d\\w\\d\")"
   ]
  },
  {
   "cell_type": "code",
   "execution_count": null,
   "metadata": {},
   "outputs": [],
   "source": []
  }
 ],
 "metadata": {
  "kernelspec": {
   "display_name": "Python 3",
   "language": "python",
   "name": "python3"
  },
  "language_info": {
   "codemirror_mode": {
    "name": "ipython",
    "version": 3
   },
   "file_extension": ".py",
   "mimetype": "text/x-python",
   "name": "python",
   "nbconvert_exporter": "python",
   "pygments_lexer": "ipython3",
   "version": "3.8.3"
  },
  "toc": {
   "base_numbering": 1,
   "nav_menu": {},
   "number_sections": true,
   "sideBar": true,
   "skip_h1_title": false,
   "title_cell": "Table of Contents",
   "title_sidebar": "Contents",
   "toc_cell": false,
   "toc_position": {},
   "toc_section_display": true,
   "toc_window_display": true
  }
 },
 "nbformat": 4,
 "nbformat_minor": 4
}
