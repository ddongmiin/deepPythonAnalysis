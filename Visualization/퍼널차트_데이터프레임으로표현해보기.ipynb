{
 "cells": [
  {
   "cell_type": "code",
   "execution_count": 1,
   "metadata": {
    "ExecuteTime": {
     "end_time": "2021-08-10T11:34:13.293394Z",
     "start_time": "2021-08-10T11:34:12.196336Z"
    }
   },
   "outputs": [],
   "source": [
    "import pandas as pd\n",
    "import numpy as np\n",
    "from itertools import permutations"
   ]
  },
  {
   "cell_type": "markdown",
   "metadata": {},
   "source": [
    "# 데이터 셋 생성"
   ]
  },
  {
   "cell_type": "code",
   "execution_count": 2,
   "metadata": {
    "ExecuteTime": {
     "end_time": "2021-08-10T11:34:13.297307Z",
     "start_time": "2021-08-10T11:34:13.294306Z"
    }
   },
   "outputs": [],
   "source": [
    "def arrayToDf(phase_name: str, array, col_name: str) -> pd.DataFrame: \n",
    "    \n",
    "    \"\"\"\n",
    "    array를 받아서 원하는 범주에 할당하여 데이터프레임을 생성합니다.\n",
    "    \"\"\"\n",
    "    \n",
    "    dfFromArray = pd.DataFrame(data=array, index=[phase_name]*len(np_array), columns=[col_name]).reset_index()\n",
    "    dfFromArray.columns = ['category', col_name]\n",
    "    \n",
    "    return dfFromArray\n",
    "    "
   ]
  },
  {
   "cell_type": "code",
   "execution_count": 3,
   "metadata": {
    "ExecuteTime": {
     "end_time": "2021-08-10T11:34:13.951336Z",
     "start_time": "2021-08-10T11:34:13.946344Z"
    }
   },
   "outputs": [],
   "source": [
    "user_a = np.arange(100)\n",
    "user_b = np.arange(70)\n",
    "user_c = np.arange(50)\n",
    "user_d = np.arange(30)"
   ]
  },
  {
   "cell_type": "code",
   "execution_count": 4,
   "metadata": {
    "ExecuteTime": {
     "end_time": "2021-08-10T11:34:14.396341Z",
     "start_time": "2021-08-10T11:34:14.380351Z"
    }
   },
   "outputs": [],
   "source": [
    "user_df = pd.DataFrame()\n",
    "\n",
    "for np_array, category in zip([user_a, user_b, user_c, user_d], ['phase1', 'phase2', 'phase3', 'phase4']):\n",
    "    user_df = pd.concat([user_df, arrayToDf(category, np_array, 'userId')])"
   ]
  },
  {
   "cell_type": "code",
   "execution_count": 5,
   "metadata": {
    "ExecuteTime": {
     "end_time": "2021-08-10T11:34:15.357306Z",
     "start_time": "2021-08-10T11:34:15.342334Z"
    }
   },
   "outputs": [
    {
     "data": {
      "text/html": [
       "<div>\n",
       "<style scoped>\n",
       "    .dataframe tbody tr th:only-of-type {\n",
       "        vertical-align: middle;\n",
       "    }\n",
       "\n",
       "    .dataframe tbody tr th {\n",
       "        vertical-align: top;\n",
       "    }\n",
       "\n",
       "    .dataframe thead th {\n",
       "        text-align: right;\n",
       "    }\n",
       "</style>\n",
       "<table border=\"1\" class=\"dataframe\">\n",
       "  <thead>\n",
       "    <tr style=\"text-align: right;\">\n",
       "      <th></th>\n",
       "      <th>category</th>\n",
       "      <th>userId</th>\n",
       "    </tr>\n",
       "  </thead>\n",
       "  <tbody>\n",
       "    <tr>\n",
       "      <th>0</th>\n",
       "      <td>phase1</td>\n",
       "      <td>0</td>\n",
       "    </tr>\n",
       "    <tr>\n",
       "      <th>1</th>\n",
       "      <td>phase1</td>\n",
       "      <td>1</td>\n",
       "    </tr>\n",
       "    <tr>\n",
       "      <th>2</th>\n",
       "      <td>phase1</td>\n",
       "      <td>2</td>\n",
       "    </tr>\n",
       "    <tr>\n",
       "      <th>3</th>\n",
       "      <td>phase1</td>\n",
       "      <td>3</td>\n",
       "    </tr>\n",
       "    <tr>\n",
       "      <th>4</th>\n",
       "      <td>phase1</td>\n",
       "      <td>4</td>\n",
       "    </tr>\n",
       "  </tbody>\n",
       "</table>\n",
       "</div>"
      ],
      "text/plain": [
       "  category  userId\n",
       "0   phase1       0\n",
       "1   phase1       1\n",
       "2   phase1       2\n",
       "3   phase1       3\n",
       "4   phase1       4"
      ]
     },
     "execution_count": 5,
     "metadata": {},
     "output_type": "execute_result"
    }
   ],
   "source": [
    "user_df.head()"
   ]
  },
  {
   "cell_type": "markdown",
   "metadata": {},
   "source": [
    "# 퍼널 1(순서대로 진행 되는 경우)"
   ]
  },
  {
   "cell_type": "code",
   "execution_count": 72,
   "metadata": {
    "ExecuteTime": {
     "end_time": "2021-08-10T12:47:41.531901Z",
     "start_time": "2021-08-10T12:47:41.526900Z"
    }
   },
   "outputs": [],
   "source": [
    "def make_funnel(df: pd.DataFrame, category: str, user_list: str, phase_list: list) -> pd.DataFrame:\n",
    "    \n",
    "    \"\"\"\n",
    "    \n",
    "    \"\"\"\n",
    "    \n",
    "    empty_list = []\n",
    "    \n",
    "    intersectArray = np.array(df.loc[(df[category] == phase_list[0]), user_list]) #array 초기화\n",
    "    initialCnt = len(intersectArray)\n",
    "    phase_name = phase_list[0] #시작 퍼널\n",
    "    \n",
    "    for phase in phase_list:\n",
    "        \n",
    "        phaseArray = np.array(df.loc[(df[category] == phase), user_list])\n",
    "        intersectArray = np.intersect1d(intersectArray, phaseArray) #퍼널 통과 유저 array \n",
    "        intersectCnt = len(intersectArray)\n",
    "        \n",
    "        if phase == phase_list[0]:\n",
    "            phase_name = phase_name\n",
    "            \n",
    "        else:\n",
    "            phase_name += '->' + phase\n",
    "        \n",
    "        empty_list.append([\"->\".join(phase_list), phase_name, intersectCnt, intersectCnt/initialCnt])\n",
    "            \n",
    "    df = pd.DataFrame(data=empty_list, columns = ['퍼널이름', '퍼널단계', '유저수', '전환율'])\n",
    "    \n",
    "    return df\n",
    "        "
   ]
  },
  {
   "cell_type": "code",
   "execution_count": 73,
   "metadata": {
    "ExecuteTime": {
     "end_time": "2021-08-10T12:47:52.119069Z",
     "start_time": "2021-08-10T12:47:52.113071Z"
    }
   },
   "outputs": [],
   "source": [
    "testDf = make_funnel(user_df, 'category', 'userId', ['phase1', 'phase2', 'phase3', 'phase4'])"
   ]
  },
  {
   "cell_type": "code",
   "execution_count": 6,
   "metadata": {
    "ExecuteTime": {
     "end_time": "2021-08-10T11:34:16.324306Z",
     "start_time": "2021-08-10T11:34:16.317343Z"
    }
   },
   "outputs": [
    {
     "data": {
      "text/plain": [
       "array([ 0,  1,  2,  3,  4,  5,  6,  7,  8,  9, 10, 11, 12, 13, 14, 15, 16,\n",
       "       17, 18, 19, 20, 21, 22, 23, 24, 25, 26, 27, 28, 29])"
      ]
     },
     "execution_count": 6,
     "metadata": {},
     "output_type": "execute_result"
    }
   ],
   "source": [
    "np.array(user_df.loc[(user_df.category == 'phase4'), 'userId'])"
   ]
  },
  {
   "cell_type": "code",
   "execution_count": 74,
   "metadata": {
    "ExecuteTime": {
     "end_time": "2021-08-10T12:47:52.898594Z",
     "start_time": "2021-08-10T12:47:52.885569Z"
    }
   },
   "outputs": [
    {
     "data": {
      "text/html": [
       "<style  type=\"text/css\" >\n",
       "    #T_2d58a629_f9d9_11eb_94e6_2cf05d3fd3bb  {\n",
       "          border: 1px solid grey;\n",
       "    }    #T_2d58a629_f9d9_11eb_94e6_2cf05d3fd3bb tbody td {\n",
       "          border: 1px solid grey;\n",
       "    }    #T_2d58a629_f9d9_11eb_94e6_2cf05d3fd3bb th {\n",
       "          border: 1px solid grey;\n",
       "    }    #T_2d58a629_f9d9_11eb_94e6_2cf05d3fd3bbrow0_col0 {\n",
       "            text-align:  left;\n",
       "        }    #T_2d58a629_f9d9_11eb_94e6_2cf05d3fd3bbrow0_col1 {\n",
       "            text-align:  left;\n",
       "        }    #T_2d58a629_f9d9_11eb_94e6_2cf05d3fd3bbrow0_col2 {\n",
       "            text-align:  left;\n",
       "        }    #T_2d58a629_f9d9_11eb_94e6_2cf05d3fd3bbrow0_col3 {\n",
       "            text-align:  left;\n",
       "            width:  10em;\n",
       "             height:  80%;\n",
       "            background:  linear-gradient(90deg,#d65f5f 100.0%, transparent 100.0%);\n",
       "        }    #T_2d58a629_f9d9_11eb_94e6_2cf05d3fd3bbrow1_col0 {\n",
       "            text-align:  left;\n",
       "        }    #T_2d58a629_f9d9_11eb_94e6_2cf05d3fd3bbrow1_col1 {\n",
       "            text-align:  left;\n",
       "        }    #T_2d58a629_f9d9_11eb_94e6_2cf05d3fd3bbrow1_col2 {\n",
       "            text-align:  left;\n",
       "        }    #T_2d58a629_f9d9_11eb_94e6_2cf05d3fd3bbrow1_col3 {\n",
       "            text-align:  left;\n",
       "            width:  10em;\n",
       "             height:  80%;\n",
       "            background:  linear-gradient(90deg,#d65f5f 70.0%, transparent 70.0%);\n",
       "        }    #T_2d58a629_f9d9_11eb_94e6_2cf05d3fd3bbrow2_col0 {\n",
       "            text-align:  left;\n",
       "        }    #T_2d58a629_f9d9_11eb_94e6_2cf05d3fd3bbrow2_col1 {\n",
       "            text-align:  left;\n",
       "        }    #T_2d58a629_f9d9_11eb_94e6_2cf05d3fd3bbrow2_col2 {\n",
       "            text-align:  left;\n",
       "        }    #T_2d58a629_f9d9_11eb_94e6_2cf05d3fd3bbrow2_col3 {\n",
       "            text-align:  left;\n",
       "            width:  10em;\n",
       "             height:  80%;\n",
       "            background:  linear-gradient(90deg,#d65f5f 50.0%, transparent 50.0%);\n",
       "        }    #T_2d58a629_f9d9_11eb_94e6_2cf05d3fd3bbrow3_col0 {\n",
       "            text-align:  left;\n",
       "        }    #T_2d58a629_f9d9_11eb_94e6_2cf05d3fd3bbrow3_col1 {\n",
       "            text-align:  left;\n",
       "        }    #T_2d58a629_f9d9_11eb_94e6_2cf05d3fd3bbrow3_col2 {\n",
       "            text-align:  left;\n",
       "        }    #T_2d58a629_f9d9_11eb_94e6_2cf05d3fd3bbrow3_col3 {\n",
       "            text-align:  left;\n",
       "            width:  10em;\n",
       "             height:  80%;\n",
       "            background:  linear-gradient(90deg,#d65f5f 30.0%, transparent 30.0%);\n",
       "        }</style><table id=\"T_2d58a629_f9d9_11eb_94e6_2cf05d3fd3bb\" ><thead>    <tr>        <th class=\"blank level0\" ></th>        <th class=\"col_heading level0 col0\" >퍼널이름</th>        <th class=\"col_heading level0 col1\" >퍼널단계</th>        <th class=\"col_heading level0 col2\" >유저수</th>        <th class=\"col_heading level0 col3\" >전환율</th>    </tr></thead><tbody>\n",
       "                <tr>\n",
       "                        <th id=\"T_2d58a629_f9d9_11eb_94e6_2cf05d3fd3bblevel0_row0\" class=\"row_heading level0 row0\" >0</th>\n",
       "                        <td id=\"T_2d58a629_f9d9_11eb_94e6_2cf05d3fd3bbrow0_col0\" class=\"data row0 col0\" >phase1->phase2->phase3->phase4</td>\n",
       "                        <td id=\"T_2d58a629_f9d9_11eb_94e6_2cf05d3fd3bbrow0_col1\" class=\"data row0 col1\" >phase1</td>\n",
       "                        <td id=\"T_2d58a629_f9d9_11eb_94e6_2cf05d3fd3bbrow0_col2\" class=\"data row0 col2\" >100</td>\n",
       "                        <td id=\"T_2d58a629_f9d9_11eb_94e6_2cf05d3fd3bbrow0_col3\" class=\"data row0 col3\" >100.0%</td>\n",
       "            </tr>\n",
       "            <tr>\n",
       "                        <th id=\"T_2d58a629_f9d9_11eb_94e6_2cf05d3fd3bblevel0_row1\" class=\"row_heading level0 row1\" >1</th>\n",
       "                        <td id=\"T_2d58a629_f9d9_11eb_94e6_2cf05d3fd3bbrow1_col0\" class=\"data row1 col0\" >phase1->phase2->phase3->phase4</td>\n",
       "                        <td id=\"T_2d58a629_f9d9_11eb_94e6_2cf05d3fd3bbrow1_col1\" class=\"data row1 col1\" >phase1->phase2</td>\n",
       "                        <td id=\"T_2d58a629_f9d9_11eb_94e6_2cf05d3fd3bbrow1_col2\" class=\"data row1 col2\" >70</td>\n",
       "                        <td id=\"T_2d58a629_f9d9_11eb_94e6_2cf05d3fd3bbrow1_col3\" class=\"data row1 col3\" >70.0%</td>\n",
       "            </tr>\n",
       "            <tr>\n",
       "                        <th id=\"T_2d58a629_f9d9_11eb_94e6_2cf05d3fd3bblevel0_row2\" class=\"row_heading level0 row2\" >2</th>\n",
       "                        <td id=\"T_2d58a629_f9d9_11eb_94e6_2cf05d3fd3bbrow2_col0\" class=\"data row2 col0\" >phase1->phase2->phase3->phase4</td>\n",
       "                        <td id=\"T_2d58a629_f9d9_11eb_94e6_2cf05d3fd3bbrow2_col1\" class=\"data row2 col1\" >phase1->phase2->phase3</td>\n",
       "                        <td id=\"T_2d58a629_f9d9_11eb_94e6_2cf05d3fd3bbrow2_col2\" class=\"data row2 col2\" >50</td>\n",
       "                        <td id=\"T_2d58a629_f9d9_11eb_94e6_2cf05d3fd3bbrow2_col3\" class=\"data row2 col3\" >50.0%</td>\n",
       "            </tr>\n",
       "            <tr>\n",
       "                        <th id=\"T_2d58a629_f9d9_11eb_94e6_2cf05d3fd3bblevel0_row3\" class=\"row_heading level0 row3\" >3</th>\n",
       "                        <td id=\"T_2d58a629_f9d9_11eb_94e6_2cf05d3fd3bbrow3_col0\" class=\"data row3 col0\" >phase1->phase2->phase3->phase4</td>\n",
       "                        <td id=\"T_2d58a629_f9d9_11eb_94e6_2cf05d3fd3bbrow3_col1\" class=\"data row3 col1\" >phase1->phase2->phase3->phase4</td>\n",
       "                        <td id=\"T_2d58a629_f9d9_11eb_94e6_2cf05d3fd3bbrow3_col2\" class=\"data row3 col2\" >30</td>\n",
       "                        <td id=\"T_2d58a629_f9d9_11eb_94e6_2cf05d3fd3bbrow3_col3\" class=\"data row3 col3\" >30.0%</td>\n",
       "            </tr>\n",
       "    </tbody></table>"
      ],
      "text/plain": [
       "<pandas.io.formats.style.Styler at 0x20a9af9fbb0>"
      ]
     },
     "execution_count": 74,
     "metadata": {},
     "output_type": "execute_result"
    }
   ],
   "source": [
    "#한 번에 여러 스타일을 적용해야함.\n",
    "testDf.style.format({'전환율':'{:,.1%}'.format})\\\n",
    "        .set_properties(**{'text-align': 'left'})\\\n",
    "        .bar(subset=['전환율'], width=100, align='left', vmin=0, vmax=1)\\\n",
    "        .set_table_styles(\n",
    "                [{\"selector\": \"\", \"props\": [(\"border\", \"1px solid grey\")]},\n",
    "                 {\"selector\": \"tbody td\", \"props\": [(\"border\", \"1px solid grey\")]},\n",
    "                 {\"selector\": \"th\", \"props\": [(\"border\", \"1px solid grey\")]}])"
   ]
  },
  {
   "cell_type": "markdown",
   "metadata": {},
   "source": [
    "# 퍼널 2(건너뛸 수 있는 경우)"
   ]
  },
  {
   "cell_type": "code",
   "execution_count": 149,
   "metadata": {
    "ExecuteTime": {
     "end_time": "2021-08-10T13:38:34.409133Z",
     "start_time": "2021-08-10T13:38:34.404161Z"
    }
   },
   "outputs": [],
   "source": [
    "def funnelNameList(cntPhase: int, check: list = []) -> list:\n",
    "\n",
    "    \"\"\"\n",
    "    \n",
    "    \"\"\"\n",
    "    \n",
    "    empty_list = []\n",
    "    \n",
    "    array = [i for i in range(1, cntPhase)]\n",
    "    \n",
    "    for i in range(1, len(array)+1):\n",
    "        empty_list.extend(permutations(array, i))\n",
    "        \n",
    "    sorted_list = list(set([\"\".join(sorted([str(k) for k in element])) for element in empty_list]))\n",
    "    final_list = [[0] + [int(k) for k in list_a] for list_a in sorted_list if set(check).issubset([int(k) for k in list_a]) == True]\n",
    "    \n",
    "    return final_list"
   ]
  },
  {
   "cell_type": "code",
   "execution_count": 150,
   "metadata": {
    "ExecuteTime": {
     "end_time": "2021-08-10T13:38:34.637131Z",
     "start_time": "2021-08-10T13:38:34.632131Z"
    }
   },
   "outputs": [],
   "source": [
    "user_a = np.arange(100)\n",
    "user_b = np.random.choice(range(10, 90), size=70, replace=False)\n",
    "user_c = np.random.choice(range(10, 90), size=60, replace=False)\n",
    "user_d = np.random.choice(range(10, 90), size=50, replace=False)"
   ]
  },
  {
   "cell_type": "code",
   "execution_count": 151,
   "metadata": {
    "ExecuteTime": {
     "end_time": "2021-08-10T13:38:34.883459Z",
     "start_time": "2021-08-10T13:38:34.874182Z"
    }
   },
   "outputs": [],
   "source": [
    "user_df = pd.DataFrame()\n",
    "\n",
    "for np_array, category in zip([user_a, user_b, user_c, user_d], ['phase1', 'phase2', 'phase3', 'phase4']):\n",
    "    user_df = pd.concat([user_df, arrayToDf(category, np_array, 'userId')])"
   ]
  },
  {
   "cell_type": "code",
   "execution_count": 152,
   "metadata": {
    "ExecuteTime": {
     "end_time": "2021-08-10T13:38:35.071976Z",
     "start_time": "2021-08-10T13:38:35.067010Z"
    }
   },
   "outputs": [
    {
     "data": {
      "text/plain": [
       "[[0, 1], [0, 1, 3], [0, 1, 2, 3], [0, 1, 2]]"
      ]
     },
     "execution_count": 152,
     "metadata": {},
     "output_type": "execute_result"
    }
   ],
   "source": [
    "funnelNameList(4, [1])"
   ]
  },
  {
   "cell_type": "code",
   "execution_count": 153,
   "metadata": {
    "ExecuteTime": {
     "end_time": "2021-08-10T13:38:50.259150Z",
     "start_time": "2021-08-10T13:38:50.245147Z"
    }
   },
   "outputs": [],
   "source": [
    "phase_list = ['phase1', 'phase2', 'phase3', 'phase4']\n",
    "testDF2 = pd.DataFrame()\n",
    "\n",
    "for funnel in funnelNameList(4, [1]):\n",
    "    \n",
    "    df = make_funnel(user_df, 'category', 'userId', [phase_list[i] for i in funnel])\n",
    "    \n",
    "    testDF2 = pd.concat([testDF2, df])\n"
   ]
  },
  {
   "cell_type": "code",
   "execution_count": 154,
   "metadata": {
    "ExecuteTime": {
     "end_time": "2021-08-10T13:38:50.448180Z",
     "start_time": "2021-08-10T13:38:50.444183Z"
    }
   },
   "outputs": [],
   "source": [
    "testDF2['idx1'] = testDF2['퍼널이름'].map(lambda x : len(x))"
   ]
  },
  {
   "cell_type": "code",
   "execution_count": 158,
   "metadata": {
    "ExecuteTime": {
     "end_time": "2021-08-10T13:43:40.992814Z",
     "start_time": "2021-08-10T13:43:40.987813Z"
    }
   },
   "outputs": [],
   "source": [
    "testDF2 = testDF2.sort_values(by=['idx1'], ascending=[False]).iloc[:, [0, 1, 2, 3]]"
   ]
  },
  {
   "cell_type": "code",
   "execution_count": 159,
   "metadata": {
    "ExecuteTime": {
     "end_time": "2021-08-10T13:43:41.396514Z",
     "start_time": "2021-08-10T13:43:41.371935Z"
    }
   },
   "outputs": [
    {
     "data": {
      "text/html": [
       "<style  type=\"text/css\" >\n",
       "    #T_f934baf6_f9e0_11eb_8f98_2cf05d3fd3bb  {\n",
       "          border: 1px solid grey;\n",
       "    }    #T_f934baf6_f9e0_11eb_8f98_2cf05d3fd3bb tbody td {\n",
       "          border: 1px solid grey;\n",
       "    }    #T_f934baf6_f9e0_11eb_8f98_2cf05d3fd3bb th {\n",
       "          border: 1px solid grey;\n",
       "    }    #T_f934baf6_f9e0_11eb_8f98_2cf05d3fd3bbrow0_col0 {\n",
       "            text-align:  left;\n",
       "        }    #T_f934baf6_f9e0_11eb_8f98_2cf05d3fd3bbrow0_col1 {\n",
       "            text-align:  left;\n",
       "        }    #T_f934baf6_f9e0_11eb_8f98_2cf05d3fd3bbrow0_col2 {\n",
       "            text-align:  left;\n",
       "        }    #T_f934baf6_f9e0_11eb_8f98_2cf05d3fd3bbrow0_col3 {\n",
       "            text-align:  left;\n",
       "            width:  10em;\n",
       "             height:  80%;\n",
       "            background:  linear-gradient(90deg,#d65f5f 100.0%, transparent 100.0%);\n",
       "        }    #T_f934baf6_f9e0_11eb_8f98_2cf05d3fd3bbrow1_col0 {\n",
       "            text-align:  left;\n",
       "        }    #T_f934baf6_f9e0_11eb_8f98_2cf05d3fd3bbrow1_col1 {\n",
       "            text-align:  left;\n",
       "        }    #T_f934baf6_f9e0_11eb_8f98_2cf05d3fd3bbrow1_col2 {\n",
       "            text-align:  left;\n",
       "        }    #T_f934baf6_f9e0_11eb_8f98_2cf05d3fd3bbrow1_col3 {\n",
       "            text-align:  left;\n",
       "            width:  10em;\n",
       "             height:  80%;\n",
       "            background:  linear-gradient(90deg,#d65f5f 70.0%, transparent 70.0%);\n",
       "        }    #T_f934baf6_f9e0_11eb_8f98_2cf05d3fd3bbrow2_col0 {\n",
       "            text-align:  left;\n",
       "        }    #T_f934baf6_f9e0_11eb_8f98_2cf05d3fd3bbrow2_col1 {\n",
       "            text-align:  left;\n",
       "        }    #T_f934baf6_f9e0_11eb_8f98_2cf05d3fd3bbrow2_col2 {\n",
       "            text-align:  left;\n",
       "        }    #T_f934baf6_f9e0_11eb_8f98_2cf05d3fd3bbrow2_col3 {\n",
       "            text-align:  left;\n",
       "            width:  10em;\n",
       "             height:  80%;\n",
       "            background:  linear-gradient(90deg,#d65f5f 53.0%, transparent 53.0%);\n",
       "        }    #T_f934baf6_f9e0_11eb_8f98_2cf05d3fd3bbrow3_col0 {\n",
       "            text-align:  left;\n",
       "        }    #T_f934baf6_f9e0_11eb_8f98_2cf05d3fd3bbrow3_col1 {\n",
       "            text-align:  left;\n",
       "        }    #T_f934baf6_f9e0_11eb_8f98_2cf05d3fd3bbrow3_col2 {\n",
       "            text-align:  left;\n",
       "        }    #T_f934baf6_f9e0_11eb_8f98_2cf05d3fd3bbrow3_col3 {\n",
       "            text-align:  left;\n",
       "            width:  10em;\n",
       "             height:  80%;\n",
       "            background:  linear-gradient(90deg,#d65f5f 35.0%, transparent 35.0%);\n",
       "        }    #T_f934baf6_f9e0_11eb_8f98_2cf05d3fd3bbrow4_col0 {\n",
       "            text-align:  left;\n",
       "        }    #T_f934baf6_f9e0_11eb_8f98_2cf05d3fd3bbrow4_col1 {\n",
       "            text-align:  left;\n",
       "        }    #T_f934baf6_f9e0_11eb_8f98_2cf05d3fd3bbrow4_col2 {\n",
       "            text-align:  left;\n",
       "        }    #T_f934baf6_f9e0_11eb_8f98_2cf05d3fd3bbrow4_col3 {\n",
       "            text-align:  left;\n",
       "            width:  10em;\n",
       "             height:  80%;\n",
       "            background:  linear-gradient(90deg,#d65f5f 100.0%, transparent 100.0%);\n",
       "        }    #T_f934baf6_f9e0_11eb_8f98_2cf05d3fd3bbrow5_col0 {\n",
       "            text-align:  left;\n",
       "        }    #T_f934baf6_f9e0_11eb_8f98_2cf05d3fd3bbrow5_col1 {\n",
       "            text-align:  left;\n",
       "        }    #T_f934baf6_f9e0_11eb_8f98_2cf05d3fd3bbrow5_col2 {\n",
       "            text-align:  left;\n",
       "        }    #T_f934baf6_f9e0_11eb_8f98_2cf05d3fd3bbrow5_col3 {\n",
       "            text-align:  left;\n",
       "            width:  10em;\n",
       "             height:  80%;\n",
       "            background:  linear-gradient(90deg,#d65f5f 70.0%, transparent 70.0%);\n",
       "        }    #T_f934baf6_f9e0_11eb_8f98_2cf05d3fd3bbrow6_col0 {\n",
       "            text-align:  left;\n",
       "        }    #T_f934baf6_f9e0_11eb_8f98_2cf05d3fd3bbrow6_col1 {\n",
       "            text-align:  left;\n",
       "        }    #T_f934baf6_f9e0_11eb_8f98_2cf05d3fd3bbrow6_col2 {\n",
       "            text-align:  left;\n",
       "        }    #T_f934baf6_f9e0_11eb_8f98_2cf05d3fd3bbrow6_col3 {\n",
       "            text-align:  left;\n",
       "            width:  10em;\n",
       "             height:  80%;\n",
       "            background:  linear-gradient(90deg,#d65f5f 46.0%, transparent 46.0%);\n",
       "        }    #T_f934baf6_f9e0_11eb_8f98_2cf05d3fd3bbrow7_col0 {\n",
       "            text-align:  left;\n",
       "        }    #T_f934baf6_f9e0_11eb_8f98_2cf05d3fd3bbrow7_col1 {\n",
       "            text-align:  left;\n",
       "        }    #T_f934baf6_f9e0_11eb_8f98_2cf05d3fd3bbrow7_col2 {\n",
       "            text-align:  left;\n",
       "        }    #T_f934baf6_f9e0_11eb_8f98_2cf05d3fd3bbrow7_col3 {\n",
       "            text-align:  left;\n",
       "            width:  10em;\n",
       "             height:  80%;\n",
       "            background:  linear-gradient(90deg,#d65f5f 100.0%, transparent 100.0%);\n",
       "        }    #T_f934baf6_f9e0_11eb_8f98_2cf05d3fd3bbrow8_col0 {\n",
       "            text-align:  left;\n",
       "        }    #T_f934baf6_f9e0_11eb_8f98_2cf05d3fd3bbrow8_col1 {\n",
       "            text-align:  left;\n",
       "        }    #T_f934baf6_f9e0_11eb_8f98_2cf05d3fd3bbrow8_col2 {\n",
       "            text-align:  left;\n",
       "        }    #T_f934baf6_f9e0_11eb_8f98_2cf05d3fd3bbrow8_col3 {\n",
       "            text-align:  left;\n",
       "            width:  10em;\n",
       "             height:  80%;\n",
       "            background:  linear-gradient(90deg,#d65f5f 70.0%, transparent 70.0%);\n",
       "        }    #T_f934baf6_f9e0_11eb_8f98_2cf05d3fd3bbrow9_col0 {\n",
       "            text-align:  left;\n",
       "        }    #T_f934baf6_f9e0_11eb_8f98_2cf05d3fd3bbrow9_col1 {\n",
       "            text-align:  left;\n",
       "        }    #T_f934baf6_f9e0_11eb_8f98_2cf05d3fd3bbrow9_col2 {\n",
       "            text-align:  left;\n",
       "        }    #T_f934baf6_f9e0_11eb_8f98_2cf05d3fd3bbrow9_col3 {\n",
       "            text-align:  left;\n",
       "            width:  10em;\n",
       "             height:  80%;\n",
       "            background:  linear-gradient(90deg,#d65f5f 53.0%, transparent 53.0%);\n",
       "        }    #T_f934baf6_f9e0_11eb_8f98_2cf05d3fd3bbrow10_col0 {\n",
       "            text-align:  left;\n",
       "        }    #T_f934baf6_f9e0_11eb_8f98_2cf05d3fd3bbrow10_col1 {\n",
       "            text-align:  left;\n",
       "        }    #T_f934baf6_f9e0_11eb_8f98_2cf05d3fd3bbrow10_col2 {\n",
       "            text-align:  left;\n",
       "        }    #T_f934baf6_f9e0_11eb_8f98_2cf05d3fd3bbrow10_col3 {\n",
       "            text-align:  left;\n",
       "            width:  10em;\n",
       "             height:  80%;\n",
       "            background:  linear-gradient(90deg,#d65f5f 100.0%, transparent 100.0%);\n",
       "        }    #T_f934baf6_f9e0_11eb_8f98_2cf05d3fd3bbrow11_col0 {\n",
       "            text-align:  left;\n",
       "        }    #T_f934baf6_f9e0_11eb_8f98_2cf05d3fd3bbrow11_col1 {\n",
       "            text-align:  left;\n",
       "        }    #T_f934baf6_f9e0_11eb_8f98_2cf05d3fd3bbrow11_col2 {\n",
       "            text-align:  left;\n",
       "        }    #T_f934baf6_f9e0_11eb_8f98_2cf05d3fd3bbrow11_col3 {\n",
       "            text-align:  left;\n",
       "            width:  10em;\n",
       "             height:  80%;\n",
       "            background:  linear-gradient(90deg,#d65f5f 70.0%, transparent 70.0%);\n",
       "        }</style><table id=\"T_f934baf6_f9e0_11eb_8f98_2cf05d3fd3bb\" ><thead>    <tr>        <th class=\"blank level0\" ></th>        <th class=\"col_heading level0 col0\" >퍼널이름</th>        <th class=\"col_heading level0 col1\" >퍼널단계</th>        <th class=\"col_heading level0 col2\" >유저수</th>        <th class=\"col_heading level0 col3\" >전환율</th>    </tr></thead><tbody>\n",
       "                <tr>\n",
       "                        <th id=\"T_f934baf6_f9e0_11eb_8f98_2cf05d3fd3bblevel0_row0\" class=\"row_heading level0 row0\" >0</th>\n",
       "                        <td id=\"T_f934baf6_f9e0_11eb_8f98_2cf05d3fd3bbrow0_col0\" class=\"data row0 col0\" >phase1->phase2->phase3->phase4</td>\n",
       "                        <td id=\"T_f934baf6_f9e0_11eb_8f98_2cf05d3fd3bbrow0_col1\" class=\"data row0 col1\" >phase1</td>\n",
       "                        <td id=\"T_f934baf6_f9e0_11eb_8f98_2cf05d3fd3bbrow0_col2\" class=\"data row0 col2\" >100</td>\n",
       "                        <td id=\"T_f934baf6_f9e0_11eb_8f98_2cf05d3fd3bbrow0_col3\" class=\"data row0 col3\" >100.0%</td>\n",
       "            </tr>\n",
       "            <tr>\n",
       "                        <th id=\"T_f934baf6_f9e0_11eb_8f98_2cf05d3fd3bblevel0_row1\" class=\"row_heading level0 row1\" >1</th>\n",
       "                        <td id=\"T_f934baf6_f9e0_11eb_8f98_2cf05d3fd3bbrow1_col0\" class=\"data row1 col0\" >phase1->phase2->phase3->phase4</td>\n",
       "                        <td id=\"T_f934baf6_f9e0_11eb_8f98_2cf05d3fd3bbrow1_col1\" class=\"data row1 col1\" >phase1->phase2</td>\n",
       "                        <td id=\"T_f934baf6_f9e0_11eb_8f98_2cf05d3fd3bbrow1_col2\" class=\"data row1 col2\" >70</td>\n",
       "                        <td id=\"T_f934baf6_f9e0_11eb_8f98_2cf05d3fd3bbrow1_col3\" class=\"data row1 col3\" >70.0%</td>\n",
       "            </tr>\n",
       "            <tr>\n",
       "                        <th id=\"T_f934baf6_f9e0_11eb_8f98_2cf05d3fd3bblevel0_row2\" class=\"row_heading level0 row2\" >2</th>\n",
       "                        <td id=\"T_f934baf6_f9e0_11eb_8f98_2cf05d3fd3bbrow2_col0\" class=\"data row2 col0\" >phase1->phase2->phase3->phase4</td>\n",
       "                        <td id=\"T_f934baf6_f9e0_11eb_8f98_2cf05d3fd3bbrow2_col1\" class=\"data row2 col1\" >phase1->phase2->phase3</td>\n",
       "                        <td id=\"T_f934baf6_f9e0_11eb_8f98_2cf05d3fd3bbrow2_col2\" class=\"data row2 col2\" >53</td>\n",
       "                        <td id=\"T_f934baf6_f9e0_11eb_8f98_2cf05d3fd3bbrow2_col3\" class=\"data row2 col3\" >53.0%</td>\n",
       "            </tr>\n",
       "            <tr>\n",
       "                        <th id=\"T_f934baf6_f9e0_11eb_8f98_2cf05d3fd3bblevel0_row3\" class=\"row_heading level0 row3\" >3</th>\n",
       "                        <td id=\"T_f934baf6_f9e0_11eb_8f98_2cf05d3fd3bbrow3_col0\" class=\"data row3 col0\" >phase1->phase2->phase3->phase4</td>\n",
       "                        <td id=\"T_f934baf6_f9e0_11eb_8f98_2cf05d3fd3bbrow3_col1\" class=\"data row3 col1\" >phase1->phase2->phase3->phase4</td>\n",
       "                        <td id=\"T_f934baf6_f9e0_11eb_8f98_2cf05d3fd3bbrow3_col2\" class=\"data row3 col2\" >35</td>\n",
       "                        <td id=\"T_f934baf6_f9e0_11eb_8f98_2cf05d3fd3bbrow3_col3\" class=\"data row3 col3\" >35.0%</td>\n",
       "            </tr>\n",
       "            <tr>\n",
       "                        <th id=\"T_f934baf6_f9e0_11eb_8f98_2cf05d3fd3bblevel0_row4\" class=\"row_heading level0 row4\" >4</th>\n",
       "                        <td id=\"T_f934baf6_f9e0_11eb_8f98_2cf05d3fd3bbrow4_col0\" class=\"data row4 col0\" >phase1->phase2->phase4</td>\n",
       "                        <td id=\"T_f934baf6_f9e0_11eb_8f98_2cf05d3fd3bbrow4_col1\" class=\"data row4 col1\" >phase1</td>\n",
       "                        <td id=\"T_f934baf6_f9e0_11eb_8f98_2cf05d3fd3bbrow4_col2\" class=\"data row4 col2\" >100</td>\n",
       "                        <td id=\"T_f934baf6_f9e0_11eb_8f98_2cf05d3fd3bbrow4_col3\" class=\"data row4 col3\" >100.0%</td>\n",
       "            </tr>\n",
       "            <tr>\n",
       "                        <th id=\"T_f934baf6_f9e0_11eb_8f98_2cf05d3fd3bblevel0_row5\" class=\"row_heading level0 row5\" >5</th>\n",
       "                        <td id=\"T_f934baf6_f9e0_11eb_8f98_2cf05d3fd3bbrow5_col0\" class=\"data row5 col0\" >phase1->phase2->phase4</td>\n",
       "                        <td id=\"T_f934baf6_f9e0_11eb_8f98_2cf05d3fd3bbrow5_col1\" class=\"data row5 col1\" >phase1->phase2</td>\n",
       "                        <td id=\"T_f934baf6_f9e0_11eb_8f98_2cf05d3fd3bbrow5_col2\" class=\"data row5 col2\" >70</td>\n",
       "                        <td id=\"T_f934baf6_f9e0_11eb_8f98_2cf05d3fd3bbrow5_col3\" class=\"data row5 col3\" >70.0%</td>\n",
       "            </tr>\n",
       "            <tr>\n",
       "                        <th id=\"T_f934baf6_f9e0_11eb_8f98_2cf05d3fd3bblevel0_row6\" class=\"row_heading level0 row6\" >6</th>\n",
       "                        <td id=\"T_f934baf6_f9e0_11eb_8f98_2cf05d3fd3bbrow6_col0\" class=\"data row6 col0\" >phase1->phase2->phase4</td>\n",
       "                        <td id=\"T_f934baf6_f9e0_11eb_8f98_2cf05d3fd3bbrow6_col1\" class=\"data row6 col1\" >phase1->phase2->phase4</td>\n",
       "                        <td id=\"T_f934baf6_f9e0_11eb_8f98_2cf05d3fd3bbrow6_col2\" class=\"data row6 col2\" >46</td>\n",
       "                        <td id=\"T_f934baf6_f9e0_11eb_8f98_2cf05d3fd3bbrow6_col3\" class=\"data row6 col3\" >46.0%</td>\n",
       "            </tr>\n",
       "            <tr>\n",
       "                        <th id=\"T_f934baf6_f9e0_11eb_8f98_2cf05d3fd3bblevel0_row7\" class=\"row_heading level0 row7\" >7</th>\n",
       "                        <td id=\"T_f934baf6_f9e0_11eb_8f98_2cf05d3fd3bbrow7_col0\" class=\"data row7 col0\" >phase1->phase2->phase3</td>\n",
       "                        <td id=\"T_f934baf6_f9e0_11eb_8f98_2cf05d3fd3bbrow7_col1\" class=\"data row7 col1\" >phase1</td>\n",
       "                        <td id=\"T_f934baf6_f9e0_11eb_8f98_2cf05d3fd3bbrow7_col2\" class=\"data row7 col2\" >100</td>\n",
       "                        <td id=\"T_f934baf6_f9e0_11eb_8f98_2cf05d3fd3bbrow7_col3\" class=\"data row7 col3\" >100.0%</td>\n",
       "            </tr>\n",
       "            <tr>\n",
       "                        <th id=\"T_f934baf6_f9e0_11eb_8f98_2cf05d3fd3bblevel0_row8\" class=\"row_heading level0 row8\" >8</th>\n",
       "                        <td id=\"T_f934baf6_f9e0_11eb_8f98_2cf05d3fd3bbrow8_col0\" class=\"data row8 col0\" >phase1->phase2->phase3</td>\n",
       "                        <td id=\"T_f934baf6_f9e0_11eb_8f98_2cf05d3fd3bbrow8_col1\" class=\"data row8 col1\" >phase1->phase2</td>\n",
       "                        <td id=\"T_f934baf6_f9e0_11eb_8f98_2cf05d3fd3bbrow8_col2\" class=\"data row8 col2\" >70</td>\n",
       "                        <td id=\"T_f934baf6_f9e0_11eb_8f98_2cf05d3fd3bbrow8_col3\" class=\"data row8 col3\" >70.0%</td>\n",
       "            </tr>\n",
       "            <tr>\n",
       "                        <th id=\"T_f934baf6_f9e0_11eb_8f98_2cf05d3fd3bblevel0_row9\" class=\"row_heading level0 row9\" >9</th>\n",
       "                        <td id=\"T_f934baf6_f9e0_11eb_8f98_2cf05d3fd3bbrow9_col0\" class=\"data row9 col0\" >phase1->phase2->phase3</td>\n",
       "                        <td id=\"T_f934baf6_f9e0_11eb_8f98_2cf05d3fd3bbrow9_col1\" class=\"data row9 col1\" >phase1->phase2->phase3</td>\n",
       "                        <td id=\"T_f934baf6_f9e0_11eb_8f98_2cf05d3fd3bbrow9_col2\" class=\"data row9 col2\" >53</td>\n",
       "                        <td id=\"T_f934baf6_f9e0_11eb_8f98_2cf05d3fd3bbrow9_col3\" class=\"data row9 col3\" >53.0%</td>\n",
       "            </tr>\n",
       "            <tr>\n",
       "                        <th id=\"T_f934baf6_f9e0_11eb_8f98_2cf05d3fd3bblevel0_row10\" class=\"row_heading level0 row10\" >10</th>\n",
       "                        <td id=\"T_f934baf6_f9e0_11eb_8f98_2cf05d3fd3bbrow10_col0\" class=\"data row10 col0\" >phase1->phase2</td>\n",
       "                        <td id=\"T_f934baf6_f9e0_11eb_8f98_2cf05d3fd3bbrow10_col1\" class=\"data row10 col1\" >phase1</td>\n",
       "                        <td id=\"T_f934baf6_f9e0_11eb_8f98_2cf05d3fd3bbrow10_col2\" class=\"data row10 col2\" >100</td>\n",
       "                        <td id=\"T_f934baf6_f9e0_11eb_8f98_2cf05d3fd3bbrow10_col3\" class=\"data row10 col3\" >100.0%</td>\n",
       "            </tr>\n",
       "            <tr>\n",
       "                        <th id=\"T_f934baf6_f9e0_11eb_8f98_2cf05d3fd3bblevel0_row11\" class=\"row_heading level0 row11\" >11</th>\n",
       "                        <td id=\"T_f934baf6_f9e0_11eb_8f98_2cf05d3fd3bbrow11_col0\" class=\"data row11 col0\" >phase1->phase2</td>\n",
       "                        <td id=\"T_f934baf6_f9e0_11eb_8f98_2cf05d3fd3bbrow11_col1\" class=\"data row11 col1\" >phase1->phase2</td>\n",
       "                        <td id=\"T_f934baf6_f9e0_11eb_8f98_2cf05d3fd3bbrow11_col2\" class=\"data row11 col2\" >70</td>\n",
       "                        <td id=\"T_f934baf6_f9e0_11eb_8f98_2cf05d3fd3bbrow11_col3\" class=\"data row11 col3\" >70.0%</td>\n",
       "            </tr>\n",
       "    </tbody></table>"
      ],
      "text/plain": [
       "<pandas.io.formats.style.Styler at 0x20a9b15bf40>"
      ]
     },
     "execution_count": 159,
     "metadata": {},
     "output_type": "execute_result"
    }
   ],
   "source": [
    "testDF2.reset_index(drop=True).style.format({'전환율':'{:,.1%}'.format})\\\n",
    "        .set_properties(**{'text-align': 'left'})\\\n",
    "        .bar(subset=['전환율'], width=100, align='left', vmin=0, vmax=1)\\\n",
    "        .set_table_styles(\n",
    "                [{\"selector\": \"\", \"props\": [(\"border\", \"1px solid grey\")]},\n",
    "                 {\"selector\": \"tbody td\", \"props\": [(\"border\", \"1px solid grey\")]},\n",
    "                 {\"selector\": \"th\", \"props\": [(\"border\", \"1px solid grey\")]}])"
   ]
  },
  {
   "cell_type": "code",
   "execution_count": null,
   "metadata": {},
   "outputs": [],
   "source": []
  }
 ],
 "metadata": {
  "kernelspec": {
   "display_name": "Python 3",
   "language": "python",
   "name": "python3"
  },
  "language_info": {
   "codemirror_mode": {
    "name": "ipython",
    "version": 3
   },
   "file_extension": ".py",
   "mimetype": "text/x-python",
   "name": "python",
   "nbconvert_exporter": "python",
   "pygments_lexer": "ipython3",
   "version": "3.8.3"
  },
  "toc": {
   "base_numbering": 1,
   "nav_menu": {},
   "number_sections": true,
   "sideBar": true,
   "skip_h1_title": false,
   "title_cell": "Table of Contents",
   "title_sidebar": "Contents",
   "toc_cell": false,
   "toc_position": {},
   "toc_section_display": true,
   "toc_window_display": false
  }
 },
 "nbformat": 4,
 "nbformat_minor": 4
}
