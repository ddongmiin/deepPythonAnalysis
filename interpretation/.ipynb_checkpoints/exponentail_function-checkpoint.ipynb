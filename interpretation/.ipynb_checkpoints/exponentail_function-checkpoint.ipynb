{
 "cells": [
  {
   "cell_type": "markdown",
   "metadata": {},
   "source": [
    "# Library&Data Import"
   ]
  },
  {
   "cell_type": "code",
   "execution_count": 80,
   "metadata": {
    "ExecuteTime": {
     "end_time": "2022-01-18T14:16:19.962867Z",
     "start_time": "2022-01-18T14:16:19.958867Z"
    }
   },
   "outputs": [],
   "source": [
    "import pandas as pd\n",
    "import matplotlib.pyplot as plt\n",
    "import scipy\n",
    "import numpy as np\n",
    "import seaborn as sns"
   ]
  },
  {
   "cell_type": "code",
   "execution_count": 84,
   "metadata": {
    "ExecuteTime": {
     "end_time": "2022-01-18T14:21:58.906754Z",
     "start_time": "2022-01-18T14:21:58.901763Z"
    }
   },
   "outputs": [
    {
     "data": {
      "text/plain": [
       "1.0609"
      ]
     },
     "execution_count": 84,
     "metadata": {},
     "output_type": "execute_result"
    }
   ],
   "source": [
    "np.power(1.03, 2)"
   ]
  },
  {
   "cell_type": "code",
   "execution_count": 3,
   "metadata": {
    "ExecuteTime": {
     "end_time": "2022-01-18T13:02:27.546180Z",
     "start_time": "2022-01-18T13:02:27.530197Z"
    }
   },
   "outputs": [],
   "source": [
    "data_raw = pd.read_csv(\"covid19_korea.csv\", encoding=\"cp949\")"
   ]
  },
  {
   "cell_type": "code",
   "execution_count": 4,
   "metadata": {
    "ExecuteTime": {
     "end_time": "2022-01-18T13:02:32.571283Z",
     "start_time": "2022-01-18T13:02:32.548205Z"
    }
   },
   "outputs": [
    {
     "data": {
      "text/html": [
       "<div>\n",
       "<style scoped>\n",
       "    .dataframe tbody tr th:only-of-type {\n",
       "        vertical-align: middle;\n",
       "    }\n",
       "\n",
       "    .dataframe tbody tr th {\n",
       "        vertical-align: top;\n",
       "    }\n",
       "\n",
       "    .dataframe thead th {\n",
       "        text-align: right;\n",
       "    }\n",
       "</style>\n",
       "<table border=\"1\" class=\"dataframe\">\n",
       "  <thead>\n",
       "    <tr style=\"text-align: right;\">\n",
       "      <th></th>\n",
       "      <th>일자</th>\n",
       "      <th>계(명)</th>\n",
       "      <th>국내발생(명)</th>\n",
       "      <th>해외유입(명)</th>\n",
       "      <th>사망(명)</th>\n",
       "    </tr>\n",
       "  </thead>\n",
       "  <tbody>\n",
       "    <tr>\n",
       "      <th>0</th>\n",
       "      <td>2020-01-20</td>\n",
       "      <td>1</td>\n",
       "      <td>0</td>\n",
       "      <td>1</td>\n",
       "      <td>0.0</td>\n",
       "    </tr>\n",
       "    <tr>\n",
       "      <th>1</th>\n",
       "      <td>2020-01-21</td>\n",
       "      <td>0</td>\n",
       "      <td>0</td>\n",
       "      <td>0</td>\n",
       "      <td>0.0</td>\n",
       "    </tr>\n",
       "    <tr>\n",
       "      <th>2</th>\n",
       "      <td>2020-01-22</td>\n",
       "      <td>0</td>\n",
       "      <td>0</td>\n",
       "      <td>0</td>\n",
       "      <td>0.0</td>\n",
       "    </tr>\n",
       "    <tr>\n",
       "      <th>3</th>\n",
       "      <td>2020-01-23</td>\n",
       "      <td>0</td>\n",
       "      <td>0</td>\n",
       "      <td>0</td>\n",
       "      <td>0.0</td>\n",
       "    </tr>\n",
       "    <tr>\n",
       "      <th>4</th>\n",
       "      <td>2020-01-24</td>\n",
       "      <td>1</td>\n",
       "      <td>0</td>\n",
       "      <td>1</td>\n",
       "      <td>0.0</td>\n",
       "    </tr>\n",
       "  </tbody>\n",
       "</table>\n",
       "</div>"
      ],
      "text/plain": [
       "           일자  계(명)  국내발생(명)  해외유입(명)  사망(명)\n",
       "0  2020-01-20     1        0        1    0.0\n",
       "1  2020-01-21     0        0        0    0.0\n",
       "2  2020-01-22     0        0        0    0.0\n",
       "3  2020-01-23     0        0        0    0.0\n",
       "4  2020-01-24     1        0        1    0.0"
      ]
     },
     "execution_count": 4,
     "metadata": {},
     "output_type": "execute_result"
    }
   ],
   "source": [
    "data_raw.head()"
   ]
  },
  {
   "cell_type": "markdown",
   "metadata": {},
   "source": [
    "# Linear_Regression"
   ]
  },
  {
   "cell_type": "code",
   "execution_count": 67,
   "metadata": {
    "ExecuteTime": {
     "end_time": "2022-01-18T13:42:05.261381Z",
     "start_time": "2022-01-18T13:42:05.256414Z"
    }
   },
   "outputs": [],
   "source": [
    "data_linear_0120_0520 = data_raw.loc[(data_raw['일자'] >= \"2021-01-20\")&(data_raw['일자'] <= '2021-05-20')]"
   ]
  },
  {
   "cell_type": "code",
   "execution_count": 68,
   "metadata": {
    "ExecuteTime": {
     "end_time": "2022-01-18T13:42:05.740499Z",
     "start_time": "2022-01-18T13:42:05.683411Z"
    }
   },
   "outputs": [
    {
     "name": "stderr",
     "output_type": "stream",
     "text": [
      "<ipython-input-68-08e9dc77f81f>:1: SettingWithCopyWarning: \n",
      "A value is trying to be set on a copy of a slice from a DataFrame.\n",
      "Try using .loc[row_indexer,col_indexer] = value instead\n",
      "\n",
      "See the caveats in the documentation: https://pandas.pydata.org/pandas-docs/stable/user_guide/indexing.html#returning-a-view-versus-a-copy\n",
      "  data_linear_0120_0520['idx'] = data_linear_0120_0520.index - 365\n"
     ]
    }
   ],
   "source": [
    "data_linear_0120_0520['idx'] = data_linear_0120_0520.index - 365"
   ]
  },
  {
   "cell_type": "code",
   "execution_count": 69,
   "metadata": {
    "ExecuteTime": {
     "end_time": "2022-01-18T13:42:06.519470Z",
     "start_time": "2022-01-18T13:42:06.514503Z"
    }
   },
   "outputs": [],
   "source": [
    "data_linear_0120_0520 = data_linear_0120_0520.rename(columns={\"계(명)\":\"confirmed cases\"})"
   ]
  },
  {
   "cell_type": "code",
   "execution_count": 70,
   "metadata": {
    "ExecuteTime": {
     "end_time": "2022-01-18T13:42:06.795115Z",
     "start_time": "2022-01-18T13:42:06.787115Z"
    }
   },
   "outputs": [
    {
     "data": {
      "text/html": [
       "<div>\n",
       "<style scoped>\n",
       "    .dataframe tbody tr th:only-of-type {\n",
       "        vertical-align: middle;\n",
       "    }\n",
       "\n",
       "    .dataframe tbody tr th {\n",
       "        vertical-align: top;\n",
       "    }\n",
       "\n",
       "    .dataframe thead th {\n",
       "        text-align: right;\n",
       "    }\n",
       "</style>\n",
       "<table border=\"1\" class=\"dataframe\">\n",
       "  <thead>\n",
       "    <tr style=\"text-align: right;\">\n",
       "      <th></th>\n",
       "      <th>일자</th>\n",
       "      <th>confirmed cases</th>\n",
       "      <th>국내발생(명)</th>\n",
       "      <th>해외유입(명)</th>\n",
       "      <th>사망(명)</th>\n",
       "      <th>idx</th>\n",
       "    </tr>\n",
       "  </thead>\n",
       "  <tbody>\n",
       "    <tr>\n",
       "      <th>366</th>\n",
       "      <td>2021-01-20</td>\n",
       "      <td>404</td>\n",
       "      <td>373</td>\n",
       "      <td>31</td>\n",
       "      <td>17.0</td>\n",
       "      <td>1</td>\n",
       "    </tr>\n",
       "    <tr>\n",
       "      <th>367</th>\n",
       "      <td>2021-01-21</td>\n",
       "      <td>400</td>\n",
       "      <td>381</td>\n",
       "      <td>19</td>\n",
       "      <td>16.0</td>\n",
       "      <td>2</td>\n",
       "    </tr>\n",
       "    <tr>\n",
       "      <th>368</th>\n",
       "      <td>2021-01-22</td>\n",
       "      <td>346</td>\n",
       "      <td>314</td>\n",
       "      <td>32</td>\n",
       "      <td>12.0</td>\n",
       "      <td>3</td>\n",
       "    </tr>\n",
       "    <tr>\n",
       "      <th>369</th>\n",
       "      <td>2021-01-23</td>\n",
       "      <td>431</td>\n",
       "      <td>403</td>\n",
       "      <td>28</td>\n",
       "      <td>9.0</td>\n",
       "      <td>4</td>\n",
       "    </tr>\n",
       "    <tr>\n",
       "      <th>370</th>\n",
       "      <td>2021-01-24</td>\n",
       "      <td>392</td>\n",
       "      <td>369</td>\n",
       "      <td>23</td>\n",
       "      <td>12.0</td>\n",
       "      <td>5</td>\n",
       "    </tr>\n",
       "  </tbody>\n",
       "</table>\n",
       "</div>"
      ],
      "text/plain": [
       "             일자  confirmed cases  국내발생(명)  해외유입(명)  사망(명)  idx\n",
       "366  2021-01-20              404      373       31   17.0    1\n",
       "367  2021-01-21              400      381       19   16.0    2\n",
       "368  2021-01-22              346      314       32   12.0    3\n",
       "369  2021-01-23              431      403       28    9.0    4\n",
       "370  2021-01-24              392      369       23   12.0    5"
      ]
     },
     "execution_count": 70,
     "metadata": {},
     "output_type": "execute_result"
    }
   ],
   "source": [
    "data_linear_0120_0520.head()"
   ]
  },
  {
   "cell_type": "code",
   "execution_count": 73,
   "metadata": {
    "ExecuteTime": {
     "end_time": "2022-01-18T13:42:17.768816Z",
     "start_time": "2022-01-18T13:42:17.765816Z"
    }
   },
   "outputs": [],
   "source": [
    "def annotate(ax, data, x, y):\n",
    "    slope, intercept, rvalue, pvalue, stderr = scipy.stats.linregress(x=data[x], y=data[y])\n",
    "    ax.text(.02, .9, f'slope={slope:.2f}, intercept={intercept:.2f}, r2={rvalue ** 2 : .2f}', transform=ax.transAxes)"
   ]
  },
  {
   "cell_type": "code",
   "execution_count": 75,
   "metadata": {
    "ExecuteTime": {
     "end_time": "2022-01-18T13:50:35.857222Z",
     "start_time": "2022-01-18T13:50:35.669716Z"
    }
   },
   "outputs": [
    {
     "data": {
      "image/png": "[encoded data removed]",
      "text/plain": [
       "<Figure size 720x360 with 1 Axes>"
      ]
     },
     "metadata": {
      "needs_background": "light"
     },
     "output_type": "display_data"
    }
   ],
   "source": [
    "plt.figure(figsize=(10, 5))\n",
    "\n",
    "ax = sns.regplot(x='idx', y='confirmed cases', data=data_linear_0120_0520)\n",
    "annotate(ax, data=data_linear_0120_0520, x='idx', y='confirmed cases')\n",
    "plt.title(\"covid19 Confirmed cases at korea from 2021-01-20 to 2021-05-20\")\n",
    "plt.tight_layout()\n",
    "plt.show()"
   ]
  },
  {
   "cell_type": "code",
   "execution_count": 76,
   "metadata": {
    "ExecuteTime": {
     "end_time": "2022-01-18T13:57:18.130687Z",
     "start_time": "2022-01-18T13:57:18.126717Z"
    }
   },
   "outputs": [
    {
     "data": {
      "text/plain": [
       "984.15"
      ]
     },
     "execution_count": 76,
     "metadata": {},
     "output_type": "execute_result"
    }
   ],
   "source": [
    "2.54*250 + 349.15"
   ]
  },
  {
   "cell_type": "markdown",
   "metadata": {},
   "source": [
    "# Curve_fitting"
   ]
  },
  {
   "cell_type": "code",
   "execution_count": 87,
   "metadata": {
    "ExecuteTime": {
     "end_time": "2022-01-18T14:35:14.288467Z",
     "start_time": "2022-01-18T14:35:14.285468Z"
    }
   },
   "outputs": [],
   "source": [
    "def func(x, a, b):\n",
    "    return np.power(a, x) + b"
   ]
  },
  {
   "cell_type": "code",
   "execution_count": 89,
   "metadata": {
    "ExecuteTime": {
     "end_time": "2022-01-18T14:35:52.295811Z",
     "start_time": "2022-01-18T14:35:52.293838Z"
    }
   },
   "outputs": [],
   "source": [
    "x = np.array(data_linear_0120_0520.idx)\n",
    "y = np.array(data_linear_0120_0520['confirmed cases'])"
   ]
  },
  {
   "cell_type": "code",
   "execution_count": 90,
   "metadata": {
    "ExecuteTime": {
     "end_time": "2022-01-18T14:35:55.630677Z",
     "start_time": "2022-01-18T14:35:55.618676Z"
    }
   },
   "outputs": [],
   "source": [
    "params, _ = scipy.optimize.curve_fit(func, x, y)"
   ]
  },
  {
   "cell_type": "code",
   "execution_count": 91,
   "metadata": {
    "ExecuteTime": {
     "end_time": "2022-01-18T14:36:00.598782Z",
     "start_time": "2022-01-18T14:36:00.594790Z"
    }
   },
   "outputs": [
    {
     "data": {
      "text/plain": [
       "array([  1.04772287, 453.29743834])"
      ]
     },
     "execution_count": 91,
     "metadata": {},
     "output_type": "execute_result"
    }
   ],
   "source": [
    "params"
   ]
  },
  {
   "cell_type": "code",
   "execution_count": 92,
   "metadata": {
    "ExecuteTime": {
     "end_time": "2022-01-18T14:36:42.678228Z",
     "start_time": "2022-01-18T14:36:42.674225Z"
    }
   },
   "outputs": [],
   "source": [
    "a, b = params[0], params[1]"
   ]
  },
  {
   "cell_type": "code",
   "execution_count": 105,
   "metadata": {
    "ExecuteTime": {
     "end_time": "2022-01-18T14:38:41.488165Z",
     "start_time": "2022-01-18T14:38:41.484166Z"
    }
   },
   "outputs": [],
   "source": [
    "yfit = np.power(a, 190) + b"
   ]
  },
  {
   "cell_type": "code",
   "execution_count": null,
   "metadata": {},
   "outputs": [],
   "source": []
  },
  {
   "cell_type": "code",
   "execution_count": 106,
   "metadata": {
    "ExecuteTime": {
     "end_time": "2022-01-18T14:38:41.882162Z",
     "start_time": "2022-01-18T14:38:41.878166Z"
    }
   },
   "outputs": [
    {
     "data": {
      "text/plain": [
       "7481.117043662958"
      ]
     },
     "execution_count": 106,
     "metadata": {},
     "output_type": "execute_result"
    }
   ],
   "source": [
    "yfit"
   ]
  },
  {
   "cell_type": "code",
   "execution_count": null,
   "metadata": {},
   "outputs": [],
   "source": [
    "scipy.optimize.curve_fit"
   ]
  }
 ],
 "metadata": {
  "kernelspec": {
   "display_name": "Python 3",
   "language": "python",
   "name": "python3"
  },
  "language_info": {
   "codemirror_mode": {
    "name": "ipython",
    "version": 3
   },
   "file_extension": ".py",
   "mimetype": "text/x-python",
   "name": "python",
   "nbconvert_exporter": "python",
   "pygments_lexer": "ipython3",
   "version": "3.8.3"
  },
  "toc": {
   "base_numbering": 1,
   "nav_menu": {},
   "number_sections": true,
   "sideBar": true,
   "skip_h1_title": false,
   "title_cell": "Table of Contents",
   "title_sidebar": "Contents",
   "toc_cell": false,
   "toc_position": {},
   "toc_section_display": true,
   "toc_window_display": false
  }
 },
 "nbformat": 4,
 "nbformat_minor": 4
}
