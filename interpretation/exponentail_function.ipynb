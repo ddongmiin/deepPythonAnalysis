{
 "cells": [
  {
   "cell_type": "markdown",
   "metadata": {},
   "source": [
    "# Library&Data Import"
   ]
  },
  {
   "cell_type": "code",
   "execution_count": 2,
   "metadata": {
    "ExecuteTime": {
     "end_time": "2022-01-18T14:42:07.986468Z",
     "start_time": "2022-01-18T14:42:06.982467Z"
    }
   },
   "outputs": [],
   "source": [
    "import pandas as pd\n",
    "import matplotlib.pyplot as plt\n",
    "import scipy\n",
    "import numpy as np\n",
    "import seaborn as sns"
   ]
  },
  {
   "cell_type": "code",
   "execution_count": 3,
   "metadata": {
    "ExecuteTime": {
     "end_time": "2022-01-18T14:42:07.992495Z",
     "start_time": "2022-01-18T14:42:07.987465Z"
    }
   },
   "outputs": [
    {
     "data": {
      "text/plain": [
       "1.0609"
      ]
     },
     "execution_count": 3,
     "metadata": {},
     "output_type": "execute_result"
    }
   ],
   "source": [
    "np.power(1.03, 2)"
   ]
  },
  {
   "cell_type": "code",
   "execution_count": 4,
   "metadata": {
    "ExecuteTime": {
     "end_time": "2022-01-18T14:42:08.009062Z",
     "start_time": "2022-01-18T14:42:07.993497Z"
    }
   },
   "outputs": [],
   "source": [
    "data_raw = pd.read_csv(\"covid19_korea.csv\", encoding=\"cp949\")"
   ]
  },
  {
   "cell_type": "code",
   "execution_count": 5,
   "metadata": {
    "ExecuteTime": {
     "end_time": "2022-01-18T14:42:08.018064Z",
     "start_time": "2022-01-18T14:42:08.010061Z"
    }
   },
   "outputs": [
    {
     "data": {
      "text/html": [
       "<div>\n",
       "<style scoped>\n",
       "    .dataframe tbody tr th:only-of-type {\n",
       "        vertical-align: middle;\n",
       "    }\n",
       "\n",
       "    .dataframe tbody tr th {\n",
       "        vertical-align: top;\n",
       "    }\n",
       "\n",
       "    .dataframe thead th {\n",
       "        text-align: right;\n",
       "    }\n",
       "</style>\n",
       "<table border=\"1\" class=\"dataframe\">\n",
       "  <thead>\n",
       "    <tr style=\"text-align: right;\">\n",
       "      <th></th>\n",
       "      <th>일자</th>\n",
       "      <th>계(명)</th>\n",
       "      <th>국내발생(명)</th>\n",
       "      <th>해외유입(명)</th>\n",
       "      <th>사망(명)</th>\n",
       "    </tr>\n",
       "  </thead>\n",
       "  <tbody>\n",
       "    <tr>\n",
       "      <th>0</th>\n",
       "      <td>2020-01-20</td>\n",
       "      <td>1</td>\n",
       "      <td>0</td>\n",
       "      <td>1</td>\n",
       "      <td>0.0</td>\n",
       "    </tr>\n",
       "    <tr>\n",
       "      <th>1</th>\n",
       "      <td>2020-01-21</td>\n",
       "      <td>0</td>\n",
       "      <td>0</td>\n",
       "      <td>0</td>\n",
       "      <td>0.0</td>\n",
       "    </tr>\n",
       "    <tr>\n",
       "      <th>2</th>\n",
       "      <td>2020-01-22</td>\n",
       "      <td>0</td>\n",
       "      <td>0</td>\n",
       "      <td>0</td>\n",
       "      <td>0.0</td>\n",
       "    </tr>\n",
       "    <tr>\n",
       "      <th>3</th>\n",
       "      <td>2020-01-23</td>\n",
       "      <td>0</td>\n",
       "      <td>0</td>\n",
       "      <td>0</td>\n",
       "      <td>0.0</td>\n",
       "    </tr>\n",
       "    <tr>\n",
       "      <th>4</th>\n",
       "      <td>2020-01-24</td>\n",
       "      <td>1</td>\n",
       "      <td>0</td>\n",
       "      <td>1</td>\n",
       "      <td>0.0</td>\n",
       "    </tr>\n",
       "  </tbody>\n",
       "</table>\n",
       "</div>"
      ],
      "text/plain": [
       "           일자  계(명)  국내발생(명)  해외유입(명)  사망(명)\n",
       "0  2020-01-20     1        0        1    0.0\n",
       "1  2020-01-21     0        0        0    0.0\n",
       "2  2020-01-22     0        0        0    0.0\n",
       "3  2020-01-23     0        0        0    0.0\n",
       "4  2020-01-24     1        0        1    0.0"
      ]
     },
     "execution_count": 5,
     "metadata": {},
     "output_type": "execute_result"
    }
   ],
   "source": [
    "data_raw.head()"
   ]
  },
  {
   "cell_type": "markdown",
   "metadata": {},
   "source": [
    "# Linear_Regression"
   ]
  },
  {
   "cell_type": "code",
   "execution_count": 24,
   "metadata": {
    "ExecuteTime": {
     "end_time": "2022-01-18T14:43:24.603425Z",
     "start_time": "2022-01-18T14:43:24.597448Z"
    }
   },
   "outputs": [],
   "source": [
    "data_linear_0120_0520 = data_raw.loc[(data_raw['일자'] >= \"2021-01-20\")&(data_raw['일자'] <= '2021-05-20')].copy()"
   ]
  },
  {
   "cell_type": "code",
   "execution_count": 25,
   "metadata": {
    "ExecuteTime": {
     "end_time": "2022-01-18T14:43:25.016844Z",
     "start_time": "2022-01-18T14:43:25.012870Z"
    }
   },
   "outputs": [],
   "source": [
    "data_linear_0120_0520['idx'] = data_linear_0120_0520.index - 365"
   ]
  },
  {
   "cell_type": "code",
   "execution_count": 26,
   "metadata": {
    "ExecuteTime": {
     "end_time": "2022-01-18T14:43:26.313406Z",
     "start_time": "2022-01-18T14:43:26.308404Z"
    }
   },
   "outputs": [],
   "source": [
    "data_linear_0120_0520 = data_linear_0120_0520.rename(columns={\"계(명)\":\"confirmed cases\"})"
   ]
  },
  {
   "cell_type": "code",
   "execution_count": 27,
   "metadata": {
    "ExecuteTime": {
     "end_time": "2022-01-18T14:43:26.504499Z",
     "start_time": "2022-01-18T14:43:26.497676Z"
    }
   },
   "outputs": [
    {
     "data": {
      "text/html": [
       "<div>\n",
       "<style scoped>\n",
       "    .dataframe tbody tr th:only-of-type {\n",
       "        vertical-align: middle;\n",
       "    }\n",
       "\n",
       "    .dataframe tbody tr th {\n",
       "        vertical-align: top;\n",
       "    }\n",
       "\n",
       "    .dataframe thead th {\n",
       "        text-align: right;\n",
       "    }\n",
       "</style>\n",
       "<table border=\"1\" class=\"dataframe\">\n",
       "  <thead>\n",
       "    <tr style=\"text-align: right;\">\n",
       "      <th></th>\n",
       "      <th>일자</th>\n",
       "      <th>confirmed cases</th>\n",
       "      <th>국내발생(명)</th>\n",
       "      <th>해외유입(명)</th>\n",
       "      <th>사망(명)</th>\n",
       "      <th>idx</th>\n",
       "    </tr>\n",
       "  </thead>\n",
       "  <tbody>\n",
       "    <tr>\n",
       "      <th>366</th>\n",
       "      <td>2021-01-20</td>\n",
       "      <td>404</td>\n",
       "      <td>373</td>\n",
       "      <td>31</td>\n",
       "      <td>17.0</td>\n",
       "      <td>1</td>\n",
       "    </tr>\n",
       "    <tr>\n",
       "      <th>367</th>\n",
       "      <td>2021-01-21</td>\n",
       "      <td>400</td>\n",
       "      <td>381</td>\n",
       "      <td>19</td>\n",
       "      <td>16.0</td>\n",
       "      <td>2</td>\n",
       "    </tr>\n",
       "    <tr>\n",
       "      <th>368</th>\n",
       "      <td>2021-01-22</td>\n",
       "      <td>346</td>\n",
       "      <td>314</td>\n",
       "      <td>32</td>\n",
       "      <td>12.0</td>\n",
       "      <td>3</td>\n",
       "    </tr>\n",
       "    <tr>\n",
       "      <th>369</th>\n",
       "      <td>2021-01-23</td>\n",
       "      <td>431</td>\n",
       "      <td>403</td>\n",
       "      <td>28</td>\n",
       "      <td>9.0</td>\n",
       "      <td>4</td>\n",
       "    </tr>\n",
       "    <tr>\n",
       "      <th>370</th>\n",
       "      <td>2021-01-24</td>\n",
       "      <td>392</td>\n",
       "      <td>369</td>\n",
       "      <td>23</td>\n",
       "      <td>12.0</td>\n",
       "      <td>5</td>\n",
       "    </tr>\n",
       "  </tbody>\n",
       "</table>\n",
       "</div>"
      ],
      "text/plain": [
       "             일자  confirmed cases  국내발생(명)  해외유입(명)  사망(명)  idx\n",
       "366  2021-01-20              404      373       31   17.0    1\n",
       "367  2021-01-21              400      381       19   16.0    2\n",
       "368  2021-01-22              346      314       32   12.0    3\n",
       "369  2021-01-23              431      403       28    9.0    4\n",
       "370  2021-01-24              392      369       23   12.0    5"
      ]
     },
     "execution_count": 27,
     "metadata": {},
     "output_type": "execute_result"
    }
   ],
   "source": [
    "data_linear_0120_0520.head()"
   ]
  },
  {
   "cell_type": "code",
   "execution_count": 28,
   "metadata": {
    "ExecuteTime": {
     "end_time": "2022-01-18T14:43:26.647467Z",
     "start_time": "2022-01-18T14:43:26.644493Z"
    }
   },
   "outputs": [],
   "source": [
    "def annotate(ax, data, x, y):\n",
    "    slope, intercept, rvalue, pvalue, stderr = scipy.stats.linregress(x=data[x], y=data[y])\n",
    "    ax.text(.02, .9, f'slope={slope:.2f}, intercept={intercept:.2f}, r2={rvalue ** 2 : .2f}', transform=ax.transAxes)"
   ]
  },
  {
   "cell_type": "code",
   "execution_count": 29,
   "metadata": {
    "ExecuteTime": {
     "end_time": "2022-01-18T14:43:26.973999Z",
     "start_time": "2022-01-18T14:43:26.788747Z"
    }
   },
   "outputs": [
    {
     "data": {
      "image/png": "[encoded data removed]",
      "text/plain": [
       "<Figure size 720x360 with 1 Axes>"
      ]
     },
     "metadata": {
      "needs_background": "light"
     },
     "output_type": "display_data"
    }
   ],
   "source": [
    "plt.figure(figsize=(10, 5))\n",
    "\n",
    "ax = sns.regplot(x='idx', y='confirmed cases', data=data_linear_0120_0520)\n",
    "annotate(ax, data=data_linear_0120_0520, x='idx', y='confirmed cases')\n",
    "plt.title(\"covid19 Confirmed cases at korea from 2021-01-20 to 2021-05-20\")\n",
    "plt.tight_layout()\n",
    "plt.show()"
   ]
  },
  {
   "cell_type": "code",
   "execution_count": 30,
   "metadata": {
    "ExecuteTime": {
     "end_time": "2022-01-18T14:43:26.977969Z",
     "start_time": "2022-01-18T14:43:26.975001Z"
    }
   },
   "outputs": [
    {
     "data": {
      "text/plain": [
       "984.15"
      ]
     },
     "execution_count": 30,
     "metadata": {},
     "output_type": "execute_result"
    }
   ],
   "source": [
    "2.54*250 + 349.15"
   ]
  },
  {
   "cell_type": "markdown",
   "metadata": {},
   "source": [
    "# Curve_fitting"
   ]
  },
  {
   "cell_type": "code",
   "execution_count": 31,
   "metadata": {
    "ExecuteTime": {
     "end_time": "2022-01-18T14:43:27.464165Z",
     "start_time": "2022-01-18T14:43:27.461195Z"
    }
   },
   "outputs": [],
   "source": [
    "def func(x, a, b):\n",
    "    return np.power(a, x) + b"
   ]
  },
  {
   "cell_type": "code",
   "execution_count": 32,
   "metadata": {
    "ExecuteTime": {
     "end_time": "2022-01-18T14:43:27.816780Z",
     "start_time": "2022-01-18T14:43:27.812778Z"
    }
   },
   "outputs": [],
   "source": [
    "x = np.array(data_linear_0120_0520.idx)\n",
    "y = np.array(data_linear_0120_0520['confirmed cases'])"
   ]
  },
  {
   "cell_type": "code",
   "execution_count": 33,
   "metadata": {
    "ExecuteTime": {
     "end_time": "2022-01-18T14:43:28.049586Z",
     "start_time": "2022-01-18T14:43:28.045105Z"
    }
   },
   "outputs": [],
   "source": [
    "params, _ = scipy.optimize.curve_fit(func, x, y)"
   ]
  },
  {
   "cell_type": "code",
   "execution_count": 34,
   "metadata": {
    "ExecuteTime": {
     "end_time": "2022-01-18T14:43:28.225102Z",
     "start_time": "2022-01-18T14:43:28.221130Z"
    }
   },
   "outputs": [
    {
     "data": {
      "text/plain": [
       "array([  1.04772287, 453.29743834])"
      ]
     },
     "execution_count": 34,
     "metadata": {},
     "output_type": "execute_result"
    }
   ],
   "source": [
    "params"
   ]
  },
  {
   "cell_type": "code",
   "execution_count": 40,
   "metadata": {
    "ExecuteTime": {
     "end_time": "2022-01-18T14:45:03.718630Z",
     "start_time": "2022-01-18T14:45:03.714631Z"
    }
   },
   "outputs": [],
   "source": [
    "a, b = params[0], params[1]"
   ]
  },
  {
   "cell_type": "code",
   "execution_count": 75,
   "metadata": {
    "ExecuteTime": {
     "end_time": "2022-01-18T14:53:22.881415Z",
     "start_time": "2022-01-18T14:53:22.877413Z"
    }
   },
   "outputs": [],
   "source": [
    "yfit = np.power(a, 180) + b"
   ]
  },
  {
   "cell_type": "code",
   "execution_count": 76,
   "metadata": {
    "ExecuteTime": {
     "end_time": "2022-01-18T14:53:23.491671Z",
     "start_time": "2022-01-18T14:53:23.486698Z"
    }
   },
   "outputs": [
    {
     "data": {
      "text/plain": [
       "4862.462555200685"
      ]
     },
     "execution_count": 76,
     "metadata": {},
     "output_type": "execute_result"
    }
   ],
   "source": [
    "yfit"
   ]
  },
  {
   "cell_type": "code",
   "execution_count": 129,
   "metadata": {
    "ExecuteTime": {
     "end_time": "2022-01-18T14:57:39.813170Z",
     "start_time": "2022-01-18T14:57:39.806174Z"
    }
   },
   "outputs": [],
   "source": [
    "data_linear_After0120 = data_raw.loc[(data_raw['일자'] >= \"2021-01-20\")&(data_raw['일자'] <= \"2021-12-16\")].copy()\n",
    "data_linear_After0120['idx'] = data_linear_After0120.index - 365\n",
    "data_linear_After0120 = data_linear_After0120.rename(columns={\"계(명)\":\"confirmed_cases\"})"
   ]
  },
  {
   "cell_type": "code",
   "execution_count": 137,
   "metadata": {
    "ExecuteTime": {
     "end_time": "2022-01-18T14:57:50.076355Z",
     "start_time": "2022-01-18T14:57:50.070387Z"
    }
   },
   "outputs": [],
   "source": [
    "data_linear_After0120['curve_fit_value'] = data_linear_After0120.idx.map(lambda x : np.power(1.027, x) + b)\n",
    "data_linear_After0120['linear_fit_value'] = data_linear_After0120.idx.map(lambda x : x * 2.54 + 349.15)"
   ]
  },
  {
   "cell_type": "code",
   "execution_count": 142,
   "metadata": {
    "ExecuteTime": {
     "end_time": "2022-01-18T15:01:34.219037Z",
     "start_time": "2022-01-18T15:01:34.208946Z"
    }
   },
   "outputs": [
    {
     "data": {
      "text/html": [
       "<div>\n",
       "<style scoped>\n",
       "    .dataframe tbody tr th:only-of-type {\n",
       "        vertical-align: middle;\n",
       "    }\n",
       "\n",
       "    .dataframe tbody tr th {\n",
       "        vertical-align: top;\n",
       "    }\n",
       "\n",
       "    .dataframe thead th {\n",
       "        text-align: right;\n",
       "    }\n",
       "</style>\n",
       "<table border=\"1\" class=\"dataframe\">\n",
       "  <thead>\n",
       "    <tr style=\"text-align: right;\">\n",
       "      <th></th>\n",
       "      <th>일자</th>\n",
       "      <th>confirmed_cases</th>\n",
       "      <th>국내발생(명)</th>\n",
       "      <th>해외유입(명)</th>\n",
       "      <th>사망(명)</th>\n",
       "      <th>idx</th>\n",
       "      <th>curve_fit_value</th>\n",
       "      <th>linear_fit_value</th>\n",
       "    </tr>\n",
       "  </thead>\n",
       "  <tbody>\n",
       "    <tr>\n",
       "      <th>692</th>\n",
       "      <td>2021-12-12</td>\n",
       "      <td>6683</td>\n",
       "      <td>6655</td>\n",
       "      <td>28</td>\n",
       "      <td>42.0</td>\n",
       "      <td>327</td>\n",
       "      <td>6528.140409</td>\n",
       "      <td>1179.73</td>\n",
       "    </tr>\n",
       "    <tr>\n",
       "      <th>693</th>\n",
       "      <td>2021-12-13</td>\n",
       "      <td>5816</td>\n",
       "      <td>5781</td>\n",
       "      <td>35</td>\n",
       "      <td>40.0</td>\n",
       "      <td>328</td>\n",
       "      <td>6692.161170</td>\n",
       "      <td>1182.27</td>\n",
       "    </tr>\n",
       "    <tr>\n",
       "      <th>694</th>\n",
       "      <td>2021-12-14</td>\n",
       "      <td>5566</td>\n",
       "      <td>5524</td>\n",
       "      <td>42</td>\n",
       "      <td>94.0</td>\n",
       "      <td>329</td>\n",
       "      <td>6860.610490</td>\n",
       "      <td>1184.81</td>\n",
       "    </tr>\n",
       "    <tr>\n",
       "      <th>695</th>\n",
       "      <td>2021-12-15</td>\n",
       "      <td>7848</td>\n",
       "      <td>7825</td>\n",
       "      <td>23</td>\n",
       "      <td>70.0</td>\n",
       "      <td>330</td>\n",
       "      <td>7033.607943</td>\n",
       "      <td>1187.35</td>\n",
       "    </tr>\n",
       "    <tr>\n",
       "      <th>696</th>\n",
       "      <td>2021-12-16</td>\n",
       "      <td>7619</td>\n",
       "      <td>7588</td>\n",
       "      <td>31</td>\n",
       "      <td>62.0</td>\n",
       "      <td>331</td>\n",
       "      <td>7211.276326</td>\n",
       "      <td>1189.89</td>\n",
       "    </tr>\n",
       "  </tbody>\n",
       "</table>\n",
       "</div>"
      ],
      "text/plain": [
       "             일자  confirmed_cases  국내발생(명)  해외유입(명)  사망(명)  idx  \\\n",
       "692  2021-12-12             6683     6655       28   42.0  327   \n",
       "693  2021-12-13             5816     5781       35   40.0  328   \n",
       "694  2021-12-14             5566     5524       42   94.0  329   \n",
       "695  2021-12-15             7848     7825       23   70.0  330   \n",
       "696  2021-12-16             7619     7588       31   62.0  331   \n",
       "\n",
       "     curve_fit_value  linear_fit_value  \n",
       "692      6528.140409           1179.73  \n",
       "693      6692.161170           1182.27  \n",
       "694      6860.610490           1184.81  \n",
       "695      7033.607943           1187.35  \n",
       "696      7211.276326           1189.89  "
      ]
     },
     "execution_count": 142,
     "metadata": {},
     "output_type": "execute_result"
    }
   ],
   "source": [
    "data_linear_After0120.tail()"
   ]
  },
  {
   "cell_type": "code",
   "execution_count": 144,
   "metadata": {
    "ExecuteTime": {
     "end_time": "2022-01-18T15:06:27.752770Z",
     "start_time": "2022-01-18T15:06:27.748799Z"
    }
   },
   "outputs": [
    {
     "data": {
      "text/plain": [
       "15087.184365773146"
      ]
     },
     "execution_count": 144,
     "metadata": {},
     "output_type": "execute_result"
    }
   ],
   "source": [
    "np.power(1.027, 360) + b"
   ]
  },
  {
   "cell_type": "code",
   "execution_count": 141,
   "metadata": {
    "ExecuteTime": {
     "end_time": "2022-01-18T15:00:47.943143Z",
     "start_time": "2022-01-18T15:00:47.833145Z"
    }
   },
   "outputs": [
    {
     "data": {
      "text/plain": [
       "<matplotlib.legend.Legend at 0x17c3e464820>"
      ]
     },
     "execution_count": 141,
     "metadata": {},
     "output_type": "execute_result"
    },
    {
     "data": {
      "image/png": "[encoded data removed]",
      "text/plain": [
       "<Figure size 720x360 with 1 Axes>"
      ]
     },
     "metadata": {
      "needs_background": "light"
     },
     "output_type": "display_data"
    }
   ],
   "source": [
    "plt.figure(figsize = (10, 5))\n",
    "plt.plot(data_linear_After0120['idx'], data_linear_After0120['confirmed_cases']\n",
    "         , 'o', label='origin_value')\n",
    "# plt.plot(data_linear_After0120['idx'], data_linear_After0120['linear_fit_value']\n",
    "#          , label='linear_fit_value')\n",
    "plt.plot(data_linear_After0120['idx'], data_linear_After0120['curve_fit_value']\n",
    "         , label='curve_fit_value')\n",
    "plt.title(\"y = 1.027^x + 453\")\n",
    "plt.legend(loc='best')"
   ]
  },
  {
   "cell_type": "code",
   "execution_count": 133,
   "metadata": {
    "ExecuteTime": {
     "end_time": "2022-01-18T14:57:40.407764Z",
     "start_time": "2022-01-18T14:57:40.403792Z"
    }
   },
   "outputs": [
    {
     "data": {
      "text/plain": [
       "<function scipy.optimize.minpack.curve_fit(f, xdata, ydata, p0=None, sigma=None, absolute_sigma=False, check_finite=True, bounds=(-inf, inf), method=None, jac=None, **kwargs)>"
      ]
     },
     "execution_count": 133,
     "metadata": {},
     "output_type": "execute_result"
    }
   ],
   "source": [
    "scipy.optimize.curve_fit"
   ]
  },
  {
   "cell_type": "code",
   "execution_count": null,
   "metadata": {},
   "outputs": [],
   "source": []
  }
 ],
 "metadata": {
  "kernelspec": {
   "display_name": "Python 3",
   "language": "python",
   "name": "python3"
  },
  "language_info": {
   "codemirror_mode": {
    "name": "ipython",
    "version": 3
   },
   "file_extension": ".py",
   "mimetype": "text/x-python",
   "name": "python",
   "nbconvert_exporter": "python",
   "pygments_lexer": "ipython3",
   "version": "3.8.3"
  },
  "toc": {
   "base_numbering": 1,
   "nav_menu": {},
   "number_sections": true,
   "sideBar": true,
   "skip_h1_title": false,
   "title_cell": "Table of Contents",
   "title_sidebar": "Contents",
   "toc_cell": false,
   "toc_position": {},
   "toc_section_display": true,
   "toc_window_display": false
  }
 },
 "nbformat": 4,
 "nbformat_minor": 4
}
