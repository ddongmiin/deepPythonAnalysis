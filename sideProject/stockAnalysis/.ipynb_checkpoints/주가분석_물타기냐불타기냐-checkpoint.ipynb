{
 "cells": [
  {
   "cell_type": "markdown",
   "metadata": {},
   "source": [
    "# 환경 세팅"
   ]
  },
  {
   "cell_type": "markdown",
   "metadata": {},
   "source": [
    "## 라이브러리 세팅"
   ]
  },
  {
   "cell_type": "code",
   "execution_count": 5,
   "metadata": {
    "ExecuteTime": {
     "end_time": "2021-12-05T04:44:12.374551Z",
     "start_time": "2021-12-05T04:44:12.371551Z"
    }
   },
   "outputs": [],
   "source": [
    "import pandas as pd\n",
    "import numpy as np\n",
    "import pandas_datareader as pdr\n",
    "from datetime import datetime, timedelta\n",
    "import radar\n",
    "import random\n",
    "import statsmodels.formula.api as sm\n",
    "from collections import defaultdict\n",
    "from tqdm import tqdm\n",
    "from joypy import joyplot\n",
    "import matplotlib.pyplot as plt\n",
    "from matplotlib import cm"
   ]
  },
  {
   "cell_type": "code",
   "execution_count": 6,
   "metadata": {
    "ExecuteTime": {
     "end_time": "2021-12-05T02:27:02.820475Z",
     "start_time": "2021-12-05T02:27:02.816962Z"
    }
   },
   "outputs": [],
   "source": [
    "dates_dict = defaultdict(list)\n",
    "for key, date in zip([1, 1, 3], [2, 3, 4]):\n",
    "    dates_dict[key].append(date)"
   ]
  },
  {
   "cell_type": "code",
   "execution_count": 82,
   "metadata": {
    "ExecuteTime": {
     "end_time": "2021-12-05T02:27:07.485787Z",
     "start_time": "2021-12-05T02:27:07.481761Z"
    }
   },
   "outputs": [
    {
     "data": {
      "text/plain": [
       "defaultdict(list, {1: [2, 3], 3: [4]})"
      ]
     },
     "execution_count": 82,
     "metadata": {},
     "output_type": "execute_result"
    }
   ],
   "source": [
    "dates_dict"
   ]
  },
  {
   "cell_type": "code",
   "execution_count": 2,
   "metadata": {
    "ExecuteTime": {
     "end_time": "2021-12-05T01:24:42.915224Z",
     "start_time": "2021-12-05T01:24:42.879224Z"
    }
   },
   "outputs": [
    {
     "name": "stdout",
     "output_type": "stream",
     "text": [
      "Intercept    9.0\n",
      "B            0.7\n",
      "dtype: float64\n"
     ]
    }
   ],
   "source": [
    "df = pd.DataFrame({\"A\": [10,20,30,40,50], \"B\": [20, 30, 10, 40, 50], \"C\": [32, 234, 23, 23, 42523]})\n",
    "result = sm.ols(formula=\"A ~ B\", data=df).fit()\n",
    "print(result.params)"
   ]
  },
  {
   "cell_type": "code",
   "execution_count": 3,
   "metadata": {
    "ExecuteTime": {
     "end_time": "2021-12-05T01:24:43.404289Z",
     "start_time": "2021-12-05T01:24:43.397289Z"
    }
   },
   "outputs": [
    {
     "data": {
      "text/plain": [
       "'2021-01-04'"
      ]
     },
     "execution_count": 3,
     "metadata": {},
     "output_type": "execute_result"
    }
   ],
   "source": [
    "(datetime(2021, 1, 1) + timedelta(days=3)).strftime(\"%Y-%m-%d\")"
   ]
  },
  {
   "cell_type": "code",
   "execution_count": 4,
   "metadata": {
    "ExecuteTime": {
     "end_time": "2021-12-05T01:24:43.777544Z",
     "start_time": "2021-12-05T01:24:43.773544Z"
    }
   },
   "outputs": [
    {
     "data": {
      "text/plain": [
       "'2009-05-13'"
      ]
     },
     "execution_count": 4,
     "metadata": {},
     "output_type": "execute_result"
    }
   ],
   "source": [
    "radar.random_datetime(\n",
    "    start = datetime(year=2000, month=5, day=24),\n",
    "    stop = datetime(year=2013, month=5, day=24)\n",
    ").strftime(\"%Y-%m-%d\")"
   ]
  },
  {
   "cell_type": "markdown",
   "metadata": {},
   "source": [
    "# 데이터 테스트"
   ]
  },
  {
   "cell_type": "markdown",
   "metadata": {},
   "source": [
    "## 상장법인목록"
   ]
  },
  {
   "cell_type": "code",
   "execution_count": 7,
   "metadata": {
    "ExecuteTime": {
     "end_time": "2021-12-05T01:24:44.329685Z",
     "start_time": "2021-12-05T01:24:44.309542Z"
    }
   },
   "outputs": [],
   "source": [
    "krx_list = pd.read_csv(\"상장법인목록.csv\", encoding='cp949')"
   ]
  },
  {
   "cell_type": "code",
   "execution_count": 8,
   "metadata": {
    "ExecuteTime": {
     "end_time": "2021-12-05T01:24:44.493774Z",
     "start_time": "2021-12-05T01:24:44.478744Z"
    }
   },
   "outputs": [
    {
     "data": {
      "text/html": [
       "<div>\n",
       "<style scoped>\n",
       "    .dataframe tbody tr th:only-of-type {\n",
       "        vertical-align: middle;\n",
       "    }\n",
       "\n",
       "    .dataframe tbody tr th {\n",
       "        vertical-align: top;\n",
       "    }\n",
       "\n",
       "    .dataframe thead th {\n",
       "        text-align: right;\n",
       "    }\n",
       "</style>\n",
       "<table border=\"1\" class=\"dataframe\">\n",
       "  <thead>\n",
       "    <tr style=\"text-align: right;\">\n",
       "      <th></th>\n",
       "      <th>회사명</th>\n",
       "      <th>종목코드</th>\n",
       "      <th>업종</th>\n",
       "      <th>주요제품</th>\n",
       "      <th>상장일</th>\n",
       "      <th>결산월</th>\n",
       "      <th>대표자명</th>\n",
       "      <th>홈페이지</th>\n",
       "      <th>지역</th>\n",
       "    </tr>\n",
       "  </thead>\n",
       "  <tbody>\n",
       "    <tr>\n",
       "      <th>0</th>\n",
       "      <td>미래에셋글로벌리츠</td>\n",
       "      <td>396690</td>\n",
       "      <td>부동산 임대 및 공급업</td>\n",
       "      <td>부동산 임대업</td>\n",
       "      <td>2021-12-03</td>\n",
       "      <td>03월</td>\n",
       "      <td>신현준</td>\n",
       "      <td>NaN</td>\n",
       "      <td>서울특별시</td>\n",
       "    </tr>\n",
       "    <tr>\n",
       "      <th>1</th>\n",
       "      <td>대신밸런스제11호스팩</td>\n",
       "      <td>397500</td>\n",
       "      <td>금융 지원 서비스업</td>\n",
       "      <td>금융 지원 서비스업</td>\n",
       "      <td>2021-12-02</td>\n",
       "      <td>12월</td>\n",
       "      <td>정재중</td>\n",
       "      <td>NaN</td>\n",
       "      <td>서울특별시</td>\n",
       "    </tr>\n",
       "    <tr>\n",
       "      <th>2</th>\n",
       "      <td>켈스</td>\n",
       "      <td>402420</td>\n",
       "      <td>의료용 기기 제조업</td>\n",
       "      <td>체외진단 의료기기</td>\n",
       "      <td>2021-11-30</td>\n",
       "      <td>12월</td>\n",
       "      <td>이동호</td>\n",
       "      <td>http://www.thecalth.com/</td>\n",
       "      <td>경기도</td>\n",
       "    </tr>\n",
       "    <tr>\n",
       "      <th>3</th>\n",
       "      <td>SK스퀘어</td>\n",
       "      <td>402340</td>\n",
       "      <td>기타 금융업</td>\n",
       "      <td>지주회사</td>\n",
       "      <td>2021-11-29</td>\n",
       "      <td>12월</td>\n",
       "      <td>박정호</td>\n",
       "      <td>http://www.sksquare.com</td>\n",
       "      <td>서울특별시</td>\n",
       "    </tr>\n",
       "    <tr>\n",
       "      <th>4</th>\n",
       "      <td>마인즈랩</td>\n",
       "      <td>377480</td>\n",
       "      <td>소프트웨어 개발 및 공급업</td>\n",
       "      <td>종합 인공지능 엔진 및 플랫폼</td>\n",
       "      <td>2021-11-23</td>\n",
       "      <td>12월</td>\n",
       "      <td>유태준</td>\n",
       "      <td>maum.ai</td>\n",
       "      <td>대전광역시</td>\n",
       "    </tr>\n",
       "  </tbody>\n",
       "</table>\n",
       "</div>"
      ],
      "text/plain": [
       "           회사명    종목코드              업종              주요제품         상장일  결산월  \\\n",
       "0    미래에셋글로벌리츠  396690    부동산 임대 및 공급업           부동산 임대업  2021-12-03  03월   \n",
       "1  대신밸런스제11호스팩  397500      금융 지원 서비스업        금융 지원 서비스업  2021-12-02  12월   \n",
       "2           켈스  402420      의료용 기기 제조업         체외진단 의료기기  2021-11-30  12월   \n",
       "3        SK스퀘어  402340          기타 금융업              지주회사  2021-11-29  12월   \n",
       "4         마인즈랩  377480  소프트웨어 개발 및 공급업  종합 인공지능 엔진 및 플랫폼  2021-11-23  12월   \n",
       "\n",
       "  대표자명                      홈페이지     지역  \n",
       "0  신현준                       NaN  서울특별시  \n",
       "1  정재중                       NaN  서울특별시  \n",
       "2  이동호  http://www.thecalth.com/    경기도  \n",
       "3  박정호   http://www.sksquare.com  서울특별시  \n",
       "4  유태준                   maum.ai  대전광역시  "
      ]
     },
     "execution_count": 8,
     "metadata": {},
     "output_type": "execute_result"
    }
   ],
   "source": [
    "krx_list.head()"
   ]
  },
  {
   "cell_type": "code",
   "execution_count": 9,
   "metadata": {
    "ExecuteTime": {
     "end_time": "2021-12-05T01:24:44.659456Z",
     "start_time": "2021-12-05T01:24:44.652457Z"
    }
   },
   "outputs": [],
   "source": [
    "kospi_list = pd.read_csv(\"코스피200.csv\", encoding='cp949')"
   ]
  },
  {
   "cell_type": "code",
   "execution_count": 10,
   "metadata": {
    "ExecuteTime": {
     "end_time": "2021-12-05T01:24:44.840463Z",
     "start_time": "2021-12-05T01:24:44.837456Z"
    }
   },
   "outputs": [],
   "source": [
    "kospi_list['종목코드'] = kospi_list['종목코드'].map('{:06d}'.format)"
   ]
  },
  {
   "cell_type": "code",
   "execution_count": 11,
   "metadata": {
    "ExecuteTime": {
     "end_time": "2021-12-05T01:24:45.036433Z",
     "start_time": "2021-12-05T01:24:45.028456Z"
    }
   },
   "outputs": [
    {
     "data": {
      "text/html": [
       "<div>\n",
       "<style scoped>\n",
       "    .dataframe tbody tr th:only-of-type {\n",
       "        vertical-align: middle;\n",
       "    }\n",
       "\n",
       "    .dataframe tbody tr th {\n",
       "        vertical-align: top;\n",
       "    }\n",
       "\n",
       "    .dataframe thead th {\n",
       "        text-align: right;\n",
       "    }\n",
       "</style>\n",
       "<table border=\"1\" class=\"dataframe\">\n",
       "  <thead>\n",
       "    <tr style=\"text-align: right;\">\n",
       "      <th></th>\n",
       "      <th>종목코드</th>\n",
       "      <th>종목명</th>\n",
       "      <th>종가</th>\n",
       "      <th>대비</th>\n",
       "      <th>등락률</th>\n",
       "      <th>상장시가총액</th>\n",
       "    </tr>\n",
       "  </thead>\n",
       "  <tbody>\n",
       "    <tr>\n",
       "      <th>0</th>\n",
       "      <td>005930</td>\n",
       "      <td>삼성전자</td>\n",
       "      <td>75600</td>\n",
       "      <td>-200</td>\n",
       "      <td>-0.26</td>\n",
       "      <td>451315561.0</td>\n",
       "    </tr>\n",
       "    <tr>\n",
       "      <th>1</th>\n",
       "      <td>000660</td>\n",
       "      <td>SK하이닉스</td>\n",
       "      <td>118000</td>\n",
       "      <td>-2000</td>\n",
       "      <td>-1.67</td>\n",
       "      <td>85904279.0</td>\n",
       "    </tr>\n",
       "    <tr>\n",
       "      <th>2</th>\n",
       "      <td>035420</td>\n",
       "      <td>NAVER</td>\n",
       "      <td>402000</td>\n",
       "      <td>3500</td>\n",
       "      <td>0.88</td>\n",
       "      <td>66033885.0</td>\n",
       "    </tr>\n",
       "    <tr>\n",
       "      <th>3</th>\n",
       "      <td>207940</td>\n",
       "      <td>삼성바이오로직스</td>\n",
       "      <td>900000</td>\n",
       "      <td>8000</td>\n",
       "      <td>0.90</td>\n",
       "      <td>59548500.0</td>\n",
       "    </tr>\n",
       "    <tr>\n",
       "      <th>4</th>\n",
       "      <td>035720</td>\n",
       "      <td>카카오</td>\n",
       "      <td>123500</td>\n",
       "      <td>1000</td>\n",
       "      <td>0.82</td>\n",
       "      <td>55043733.0</td>\n",
       "    </tr>\n",
       "  </tbody>\n",
       "</table>\n",
       "</div>"
      ],
      "text/plain": [
       "     종목코드       종목명      종가    대비   등락률       상장시가총액\n",
       "0  005930      삼성전자   75600  -200 -0.26  451315561.0\n",
       "1  000660    SK하이닉스  118000 -2000 -1.67   85904279.0\n",
       "2  035420     NAVER  402000  3500  0.88   66033885.0\n",
       "3  207940  삼성바이오로직스  900000  8000  0.90   59548500.0\n",
       "4  035720       카카오  123500  1000  0.82   55043733.0"
      ]
     },
     "execution_count": 11,
     "metadata": {},
     "output_type": "execute_result"
    }
   ],
   "source": [
    "kospi_list.head()"
   ]
  },
  {
   "cell_type": "markdown",
   "metadata": {},
   "source": [
    "## pandas_datareader 테스트"
   ]
  },
  {
   "cell_type": "code",
   "execution_count": 12,
   "metadata": {
    "ExecuteTime": {
     "end_time": "2021-12-05T01:24:45.416759Z",
     "start_time": "2021-12-05T01:24:45.412732Z"
    }
   },
   "outputs": [],
   "source": [
    "dayInterval = 30\n",
    "baseDate = datetime.strptime(\"2021-09-10\", \"%Y-%m-%d\")\n",
    "startDate = (baseDate + timedelta(days = -dayInterval)).strftime(\"%Y-%m-%d\")\n",
    "endDate = (baseDate + timedelta(days = +dayInterval)).strftime(\"%Y-%m-%d\")"
   ]
  },
  {
   "cell_type": "code",
   "execution_count": 11,
   "metadata": {
    "ExecuteTime": {
     "end_time": "2021-12-05T01:24:46.702908Z",
     "start_time": "2021-12-05T01:24:45.580680Z"
    }
   },
   "outputs": [],
   "source": [
    "stock_test2 = pdr.get_data_yahoo('000660.ks', f'2020-02-01', f'2020-11-30')"
   ]
  },
  {
   "cell_type": "code",
   "execution_count": 13,
   "metadata": {
    "ExecuteTime": {
     "end_time": "2021-12-05T01:24:47.764359Z",
     "start_time": "2021-12-05T01:24:46.703815Z"
    }
   },
   "outputs": [],
   "source": [
    "stock_test = pdr.get_data_yahoo('000660.ks', f'{startDate}', f'{endDate}')"
   ]
  },
  {
   "cell_type": "code",
   "execution_count": 13,
   "metadata": {
    "ExecuteTime": {
     "end_time": "2021-12-05T01:24:47.769389Z",
     "start_time": "2021-12-05T01:24:47.765357Z"
    }
   },
   "outputs": [
    {
     "data": {
      "text/plain": [
       "[Timestamp('2020-06-05 00:00:00'),\n",
       " Timestamp('2020-02-27 00:00:00'),\n",
       " Timestamp('2020-10-08 00:00:00')]"
      ]
     },
     "execution_count": 13,
     "metadata": {},
     "output_type": "execute_result"
    }
   ],
   "source": [
    "random.sample(stock_test2.index.tolist(),3)"
   ]
  },
  {
   "cell_type": "code",
   "execution_count": 14,
   "metadata": {
    "ExecuteTime": {
     "end_time": "2021-12-05T01:24:47.777360Z",
     "start_time": "2021-12-05T01:24:47.770356Z"
    }
   },
   "outputs": [
    {
     "data": {
      "text/plain": [
       "'2020-02-03'"
      ]
     },
     "execution_count": 14,
     "metadata": {},
     "output_type": "execute_result"
    }
   ],
   "source": [
    "stock_test2.index.tolist()[0].strftime(\"%Y-%m-%d\")"
   ]
  },
  {
   "cell_type": "code",
   "execution_count": 15,
   "metadata": {
    "ExecuteTime": {
     "end_time": "2021-12-05T01:24:48.985500Z",
     "start_time": "2021-12-05T01:24:47.778359Z"
    }
   },
   "outputs": [],
   "source": [
    "stock_test = pdr.get_data_yahoo('000660.ks', f'{startDate}', f'{endDate}')"
   ]
  },
  {
   "cell_type": "code",
   "execution_count": 16,
   "metadata": {
    "ExecuteTime": {
     "end_time": "2021-12-05T01:24:48.989473Z",
     "start_time": "2021-12-05T01:24:48.986470Z"
    }
   },
   "outputs": [
    {
     "data": {
      "text/plain": [
       "Index(['High', 'Low', 'Open', 'Close', 'Volume', 'Adj Close'], dtype='object')"
      ]
     },
     "execution_count": 16,
     "metadata": {},
     "output_type": "execute_result"
    }
   ],
   "source": [
    "stock_test.columns"
   ]
  },
  {
   "cell_type": "markdown",
   "metadata": {},
   "source": [
    "# 분석함수 만들기"
   ]
  },
  {
   "cell_type": "markdown",
   "metadata": {},
   "source": [
    "* 구성요소\n",
    "    1. 날짜 추출 함수\n",
    "    2. 이전과 이후 한달 간의 주가 확인\n",
    "    3. 추출 당일의 주가가 이전 한달에 비해 어느 정도 수준인지 확인\n",
    "    4. 백분율로 환산\n",
    "    5. 위치가 어느정도 되는지 판단\n",
    "    6. 기간 _ 증가/감소 확인\n",
    "    7. aaa"
   ]
  },
  {
   "cell_type": "markdown",
   "metadata": {},
   "source": [
    "## 작동테스트"
   ]
  },
  {
   "cell_type": "code",
   "execution_count": 17,
   "metadata": {
    "ExecuteTime": {
     "end_time": "2021-12-05T01:24:48.996472Z",
     "start_time": "2021-12-05T01:24:48.990473Z"
    }
   },
   "outputs": [
    {
     "name": "stdout",
     "output_type": "stream",
     "text": [
      "40455\n"
     ]
    }
   ],
   "source": [
    "mdate = \"2010-10-05\"\n",
    "rdate = \"1899-12-31\"\n",
    "mdate1 = datetime.strptime(mdate, \"%Y-%m-%d\").date()\n",
    "rdate1 = datetime.strptime(rdate, \"%Y-%m-%d\").date()\n",
    "delta =  (mdate1 - rdate1).days\n",
    "print(delta)"
   ]
  },
  {
   "cell_type": "code",
   "execution_count": 18,
   "metadata": {
    "ExecuteTime": {
     "end_time": "2021-12-05T01:24:49.002501Z",
     "start_time": "2021-12-05T01:24:48.997471Z"
    }
   },
   "outputs": [],
   "source": [
    "#이전기간에서 상대적인 위치"
   ]
  },
  {
   "cell_type": "code",
   "execution_count": 29,
   "metadata": {
    "ExecuteTime": {
     "end_time": "2021-12-05T01:24:49.009470Z",
     "start_time": "2021-12-05T01:24:49.003470Z"
    }
   },
   "outputs": [],
   "source": [
    "stock_test_before = stock_test.loc[(stock_test.index <= baseDate.strftime(\"%Y-%m-%d\")),].copy()"
   ]
  },
  {
   "cell_type": "code",
   "execution_count": 30,
   "metadata": {
    "ExecuteTime": {
     "end_time": "2021-12-05T01:24:49.017501Z",
     "start_time": "2021-12-05T01:24:49.010470Z"
    }
   },
   "outputs": [],
   "source": [
    "stock_test_before['rank_pct'] = pd.qcut(stock_test_before['Close'], q=10, labels= range(10, 0, -1))#.rank(pct=True, ascending=False)*100/10\n",
    "#stock_test_before['rank_pct'] = stock_test_before['rank_pct'].round(0)"
   ]
  },
  {
   "cell_type": "code",
   "execution_count": 31,
   "metadata": {
    "ExecuteTime": {
     "end_time": "2021-12-05T03:22:10.933137Z",
     "start_time": "2021-12-05T03:22:10.930168Z"
    }
   },
   "outputs": [
    {
     "data": {
      "text/plain": [
       "Timestamp('2021-09-10 00:00:00')"
      ]
     },
     "execution_count": 31,
     "metadata": {},
     "output_type": "execute_result"
    }
   ],
   "source": [
    "max(stock_test_before.index.tolist())"
   ]
  },
  {
   "cell_type": "code",
   "execution_count": 32,
   "metadata": {
    "ExecuteTime": {
     "end_time": "2021-12-05T01:24:49.031502Z",
     "start_time": "2021-12-05T01:24:49.024470Z"
    }
   },
   "outputs": [],
   "source": [
    "min_date = min(stock_test_before.index.tolist()).date()\n",
    "stock_test_before['dateInt'] = stock_test_before.index.map(lambda x : (x.date() - min_date).days + 1)"
   ]
  },
  {
   "cell_type": "code",
   "execution_count": 33,
   "metadata": {
    "ExecuteTime": {
     "end_time": "2021-12-05T01:24:49.044498Z",
     "start_time": "2021-12-05T01:24:49.032470Z"
    }
   },
   "outputs": [
    {
     "data": {
      "text/html": [
       "<div>\n",
       "<style scoped>\n",
       "    .dataframe tbody tr th:only-of-type {\n",
       "        vertical-align: middle;\n",
       "    }\n",
       "\n",
       "    .dataframe tbody tr th {\n",
       "        vertical-align: top;\n",
       "    }\n",
       "\n",
       "    .dataframe thead th {\n",
       "        text-align: right;\n",
       "    }\n",
       "</style>\n",
       "<table border=\"1\" class=\"dataframe\">\n",
       "  <thead>\n",
       "    <tr style=\"text-align: right;\">\n",
       "      <th></th>\n",
       "      <th>High</th>\n",
       "      <th>Low</th>\n",
       "      <th>Open</th>\n",
       "      <th>Close</th>\n",
       "      <th>Volume</th>\n",
       "      <th>Adj Close</th>\n",
       "      <th>rank_pct</th>\n",
       "      <th>dateInt</th>\n",
       "    </tr>\n",
       "    <tr>\n",
       "      <th>Date</th>\n",
       "      <th></th>\n",
       "      <th></th>\n",
       "      <th></th>\n",
       "      <th></th>\n",
       "      <th></th>\n",
       "      <th></th>\n",
       "      <th></th>\n",
       "      <th></th>\n",
       "    </tr>\n",
       "  </thead>\n",
       "  <tbody>\n",
       "    <tr>\n",
       "      <th>2021-08-11</th>\n",
       "      <td>110000</td>\n",
       "      <td>105000</td>\n",
       "      <td>109000</td>\n",
       "      <td>105500</td>\n",
       "      <td>13715267</td>\n",
       "      <td>105500</td>\n",
       "      <td>3</td>\n",
       "      <td>1</td>\n",
       "    </tr>\n",
       "    <tr>\n",
       "      <th>2021-08-12</th>\n",
       "      <td>104000</td>\n",
       "      <td>99800</td>\n",
       "      <td>102000</td>\n",
       "      <td>100500</td>\n",
       "      <td>19150647</td>\n",
       "      <td>100500</td>\n",
       "      <td>10</td>\n",
       "      <td>2</td>\n",
       "    </tr>\n",
       "    <tr>\n",
       "      <th>2021-08-13</th>\n",
       "      <td>101500</td>\n",
       "      <td>98900</td>\n",
       "      <td>99600</td>\n",
       "      <td>101500</td>\n",
       "      <td>11622957</td>\n",
       "      <td>101500</td>\n",
       "      <td>10</td>\n",
       "      <td>3</td>\n",
       "    </tr>\n",
       "    <tr>\n",
       "      <th>2021-08-17</th>\n",
       "      <td>103500</td>\n",
       "      <td>100500</td>\n",
       "      <td>101000</td>\n",
       "      <td>101500</td>\n",
       "      <td>7851717</td>\n",
       "      <td>101500</td>\n",
       "      <td>10</td>\n",
       "      <td>7</td>\n",
       "    </tr>\n",
       "    <tr>\n",
       "      <th>2021-08-18</th>\n",
       "      <td>105500</td>\n",
       "      <td>101500</td>\n",
       "      <td>103000</td>\n",
       "      <td>104000</td>\n",
       "      <td>8047599</td>\n",
       "      <td>104000</td>\n",
       "      <td>6</td>\n",
       "      <td>8</td>\n",
       "    </tr>\n",
       "    <tr>\n",
       "      <th>2021-08-19</th>\n",
       "      <td>105500</td>\n",
       "      <td>101500</td>\n",
       "      <td>103000</td>\n",
       "      <td>102500</td>\n",
       "      <td>6161038</td>\n",
       "      <td>102500</td>\n",
       "      <td>9</td>\n",
       "      <td>9</td>\n",
       "    </tr>\n",
       "    <tr>\n",
       "      <th>2021-08-20</th>\n",
       "      <td>104500</td>\n",
       "      <td>102000</td>\n",
       "      <td>104000</td>\n",
       "      <td>102500</td>\n",
       "      <td>4719139</td>\n",
       "      <td>102500</td>\n",
       "      <td>9</td>\n",
       "      <td>10</td>\n",
       "    </tr>\n",
       "    <tr>\n",
       "      <th>2021-08-23</th>\n",
       "      <td>105000</td>\n",
       "      <td>103000</td>\n",
       "      <td>104500</td>\n",
       "      <td>103000</td>\n",
       "      <td>4515699</td>\n",
       "      <td>103000</td>\n",
       "      <td>8</td>\n",
       "      <td>13</td>\n",
       "    </tr>\n",
       "    <tr>\n",
       "      <th>2021-08-24</th>\n",
       "      <td>105500</td>\n",
       "      <td>104000</td>\n",
       "      <td>104500</td>\n",
       "      <td>105000</td>\n",
       "      <td>4454743</td>\n",
       "      <td>105000</td>\n",
       "      <td>4</td>\n",
       "      <td>14</td>\n",
       "    </tr>\n",
       "    <tr>\n",
       "      <th>2021-08-25</th>\n",
       "      <td>106000</td>\n",
       "      <td>102500</td>\n",
       "      <td>106000</td>\n",
       "      <td>103500</td>\n",
       "      <td>3194555</td>\n",
       "      <td>103500</td>\n",
       "      <td>7</td>\n",
       "      <td>15</td>\n",
       "    </tr>\n",
       "    <tr>\n",
       "      <th>2021-08-26</th>\n",
       "      <td>106500</td>\n",
       "      <td>103500</td>\n",
       "      <td>106000</td>\n",
       "      <td>104000</td>\n",
       "      <td>3694741</td>\n",
       "      <td>104000</td>\n",
       "      <td>6</td>\n",
       "      <td>16</td>\n",
       "    </tr>\n",
       "    <tr>\n",
       "      <th>2021-08-27</th>\n",
       "      <td>104500</td>\n",
       "      <td>101000</td>\n",
       "      <td>103500</td>\n",
       "      <td>103500</td>\n",
       "      <td>3507782</td>\n",
       "      <td>103500</td>\n",
       "      <td>7</td>\n",
       "      <td>17</td>\n",
       "    </tr>\n",
       "    <tr>\n",
       "      <th>2021-08-30</th>\n",
       "      <td>105500</td>\n",
       "      <td>103500</td>\n",
       "      <td>105000</td>\n",
       "      <td>103500</td>\n",
       "      <td>1815758</td>\n",
       "      <td>103500</td>\n",
       "      <td>7</td>\n",
       "      <td>20</td>\n",
       "    </tr>\n",
       "    <tr>\n",
       "      <th>2021-08-31</th>\n",
       "      <td>106500</td>\n",
       "      <td>102000</td>\n",
       "      <td>103500</td>\n",
       "      <td>106500</td>\n",
       "      <td>4979276</td>\n",
       "      <td>106500</td>\n",
       "      <td>2</td>\n",
       "      <td>21</td>\n",
       "    </tr>\n",
       "    <tr>\n",
       "      <th>2021-09-01</th>\n",
       "      <td>108000</td>\n",
       "      <td>104500</td>\n",
       "      <td>106000</td>\n",
       "      <td>108000</td>\n",
       "      <td>4736183</td>\n",
       "      <td>108000</td>\n",
       "      <td>1</td>\n",
       "      <td>22</td>\n",
       "    </tr>\n",
       "    <tr>\n",
       "      <th>2021-09-02</th>\n",
       "      <td>108500</td>\n",
       "      <td>106000</td>\n",
       "      <td>108000</td>\n",
       "      <td>106500</td>\n",
       "      <td>2724565</td>\n",
       "      <td>106500</td>\n",
       "      <td>2</td>\n",
       "      <td>23</td>\n",
       "    </tr>\n",
       "    <tr>\n",
       "      <th>2021-09-03</th>\n",
       "      <td>107500</td>\n",
       "      <td>106000</td>\n",
       "      <td>106500</td>\n",
       "      <td>107000</td>\n",
       "      <td>2513486</td>\n",
       "      <td>107000</td>\n",
       "      <td>1</td>\n",
       "      <td>24</td>\n",
       "    </tr>\n",
       "    <tr>\n",
       "      <th>2021-09-06</th>\n",
       "      <td>107000</td>\n",
       "      <td>105000</td>\n",
       "      <td>106500</td>\n",
       "      <td>106000</td>\n",
       "      <td>1888595</td>\n",
       "      <td>106000</td>\n",
       "      <td>3</td>\n",
       "      <td>27</td>\n",
       "    </tr>\n",
       "    <tr>\n",
       "      <th>2021-09-07</th>\n",
       "      <td>106000</td>\n",
       "      <td>104000</td>\n",
       "      <td>105500</td>\n",
       "      <td>104500</td>\n",
       "      <td>2547667</td>\n",
       "      <td>104500</td>\n",
       "      <td>5</td>\n",
       "      <td>28</td>\n",
       "    </tr>\n",
       "    <tr>\n",
       "      <th>2021-09-08</th>\n",
       "      <td>107500</td>\n",
       "      <td>103500</td>\n",
       "      <td>104000</td>\n",
       "      <td>106000</td>\n",
       "      <td>2891267</td>\n",
       "      <td>106000</td>\n",
       "      <td>3</td>\n",
       "      <td>29</td>\n",
       "    </tr>\n",
       "    <tr>\n",
       "      <th>2021-09-09</th>\n",
       "      <td>106000</td>\n",
       "      <td>103000</td>\n",
       "      <td>105000</td>\n",
       "      <td>103000</td>\n",
       "      <td>3233011</td>\n",
       "      <td>103000</td>\n",
       "      <td>8</td>\n",
       "      <td>30</td>\n",
       "    </tr>\n",
       "    <tr>\n",
       "      <th>2021-09-10</th>\n",
       "      <td>105500</td>\n",
       "      <td>103000</td>\n",
       "      <td>103500</td>\n",
       "      <td>105000</td>\n",
       "      <td>1999369</td>\n",
       "      <td>105000</td>\n",
       "      <td>4</td>\n",
       "      <td>31</td>\n",
       "    </tr>\n",
       "  </tbody>\n",
       "</table>\n",
       "</div>"
      ],
      "text/plain": [
       "              High     Low    Open   Close    Volume  Adj Close rank_pct  \\\n",
       "Date                                                                       \n",
       "2021-08-11  110000  105000  109000  105500  13715267     105500        3   \n",
       "2021-08-12  104000   99800  102000  100500  19150647     100500       10   \n",
       "2021-08-13  101500   98900   99600  101500  11622957     101500       10   \n",
       "2021-08-17  103500  100500  101000  101500   7851717     101500       10   \n",
       "2021-08-18  105500  101500  103000  104000   8047599     104000        6   \n",
       "2021-08-19  105500  101500  103000  102500   6161038     102500        9   \n",
       "2021-08-20  104500  102000  104000  102500   4719139     102500        9   \n",
       "2021-08-23  105000  103000  104500  103000   4515699     103000        8   \n",
       "2021-08-24  105500  104000  104500  105000   4454743     105000        4   \n",
       "2021-08-25  106000  102500  106000  103500   3194555     103500        7   \n",
       "2021-08-26  106500  103500  106000  104000   3694741     104000        6   \n",
       "2021-08-27  104500  101000  103500  103500   3507782     103500        7   \n",
       "2021-08-30  105500  103500  105000  103500   1815758     103500        7   \n",
       "2021-08-31  106500  102000  103500  106500   4979276     106500        2   \n",
       "2021-09-01  108000  104500  106000  108000   4736183     108000        1   \n",
       "2021-09-02  108500  106000  108000  106500   2724565     106500        2   \n",
       "2021-09-03  107500  106000  106500  107000   2513486     107000        1   \n",
       "2021-09-06  107000  105000  106500  106000   1888595     106000        3   \n",
       "2021-09-07  106000  104000  105500  104500   2547667     104500        5   \n",
       "2021-09-08  107500  103500  104000  106000   2891267     106000        3   \n",
       "2021-09-09  106000  103000  105000  103000   3233011     103000        8   \n",
       "2021-09-10  105500  103000  103500  105000   1999369     105000        4   \n",
       "\n",
       "            dateInt  \n",
       "Date                 \n",
       "2021-08-11        1  \n",
       "2021-08-12        2  \n",
       "2021-08-13        3  \n",
       "2021-08-17        7  \n",
       "2021-08-18        8  \n",
       "2021-08-19        9  \n",
       "2021-08-20       10  \n",
       "2021-08-23       13  \n",
       "2021-08-24       14  \n",
       "2021-08-25       15  \n",
       "2021-08-26       16  \n",
       "2021-08-27       17  \n",
       "2021-08-30       20  \n",
       "2021-08-31       21  \n",
       "2021-09-01       22  \n",
       "2021-09-02       23  \n",
       "2021-09-03       24  \n",
       "2021-09-06       27  \n",
       "2021-09-07       28  \n",
       "2021-09-08       29  \n",
       "2021-09-09       30  \n",
       "2021-09-10       31  "
      ]
     },
     "execution_count": 33,
     "metadata": {},
     "output_type": "execute_result"
    }
   ],
   "source": [
    "stock_test_before"
   ]
  },
  {
   "cell_type": "code",
   "execution_count": 36,
   "metadata": {
    "ExecuteTime": {
     "end_time": "2021-12-05T01:24:49.052471Z",
     "start_time": "2021-12-05T01:24:49.045470Z"
    }
   },
   "outputs": [
    {
     "data": {
      "text/plain": [
       "4"
      ]
     },
     "execution_count": 36,
     "metadata": {},
     "output_type": "execute_result"
    }
   ],
   "source": [
    "stock_test_before[stock_test_before.index == \"2021-09-10\"][\"rank_pct\"][0]"
   ]
  },
  {
   "cell_type": "code",
   "execution_count": 37,
   "metadata": {
    "ExecuteTime": {
     "end_time": "2021-12-05T03:58:19.524617Z",
     "start_time": "2021-12-05T03:58:19.520587Z"
    }
   },
   "outputs": [],
   "source": [
    "def randomStocks(cntStocks: int):\n",
    "    \n",
    "    \"\"\"\n",
    "    랜덤하게 종목 선정\n",
    "    \"\"\"\n",
    "    \n",
    "    return random.sample(kospi_list['종목코드'].tolist(), cntStocks)"
   ]
  },
  {
   "cell_type": "code",
   "execution_count": 38,
   "metadata": {
    "ExecuteTime": {
     "end_time": "2021-12-05T03:58:19.755200Z",
     "start_time": "2021-12-05T03:58:19.753199Z"
    }
   },
   "outputs": [],
   "source": [
    "randomStocks_test = randomStocks(3)"
   ]
  },
  {
   "cell_type": "code",
   "execution_count": 39,
   "metadata": {
    "ExecuteTime": {
     "end_time": "2021-12-05T03:58:19.948218Z",
     "start_time": "2021-12-05T03:58:19.945217Z"
    }
   },
   "outputs": [],
   "source": [
    "def getDateList(startDate : str, endDate : str, code: str, cntDays: int):\n",
    "    \n",
    "    \"\"\"\n",
    "    yahoo 패키지의 경우 빈 값이 많음 이에 따라 값이 있는 데이터들에서 \n",
    "    랜덤하게 날짜를 추출해 보기로 함\n",
    "    \"\"\"\n",
    "    \n",
    "    stockDf = pdr.get_data_yahoo(f'{code}.ks', f'{startDate}', f'{endDate}')\n",
    "    \n",
    "    \n",
    "    return random.sample(stockDf.index.tolist(), cntDays)"
   ]
  },
  {
   "cell_type": "code",
   "execution_count": 40,
   "metadata": {
    "ExecuteTime": {
     "end_time": "2021-12-05T03:58:22.126344Z",
     "start_time": "2021-12-05T03:58:20.145241Z"
    }
   },
   "outputs": [],
   "source": [
    "getDateList_test = getDateList(\"2019-02-01\", \"2019-11-30\", randomStocks_test[0], 5)"
   ]
  },
  {
   "cell_type": "code",
   "execution_count": 41,
   "metadata": {
    "ExecuteTime": {
     "end_time": "2021-12-05T03:58:22.131377Z",
     "start_time": "2021-12-05T03:58:22.127344Z"
    }
   },
   "outputs": [
    {
     "data": {
      "text/plain": [
       "[Timestamp('2019-06-18 00:00:00'),\n",
       " Timestamp('2019-06-03 00:00:00'),\n",
       " Timestamp('2019-11-11 00:00:00'),\n",
       " Timestamp('2019-09-06 00:00:00'),\n",
       " Timestamp('2019-07-11 00:00:00')]"
      ]
     },
     "execution_count": 41,
     "metadata": {},
     "output_type": "execute_result"
    }
   ],
   "source": [
    "getDateList_test"
   ]
  },
  {
   "cell_type": "code",
   "execution_count": 42,
   "metadata": {
    "ExecuteTime": {
     "end_time": "2021-12-05T03:58:22.143890Z",
     "start_time": "2021-12-05T03:58:22.132346Z"
    }
   },
   "outputs": [],
   "source": [
    "def getStockDf(code: str, dateList: list, dayInterval : int):\n",
    "    \n",
    "    min_datetime_minusN = (min(dateList) + timedelta(days = -dayInterval)).strftime(\"%Y-%m-%d\")\n",
    "    max_datetime_plusN = (max(dateList) + timedelta(days = +dayInterval)).strftime(\"%Y-%m-%d\")\n",
    "    \n",
    "    return pdr.get_data_yahoo(f'{code}.ks', f'{min_datetime_minusN}', f'{max_datetime_plusN}')"
   ]
  },
  {
   "cell_type": "code",
   "execution_count": 43,
   "metadata": {
    "ExecuteTime": {
     "end_time": "2021-12-05T03:58:24.699215Z",
     "start_time": "2021-12-05T03:58:22.144889Z"
    }
   },
   "outputs": [],
   "source": [
    "getStockDf_test = getStockDf(randomStocks_test[0], getDateList_test, 30)"
   ]
  },
  {
   "cell_type": "code",
   "execution_count": 44,
   "metadata": {
    "ExecuteTime": {
     "end_time": "2021-12-05T03:58:24.709149Z",
     "start_time": "2021-12-05T03:58:24.700119Z"
    }
   },
   "outputs": [
    {
     "data": {
      "text/html": [
       "<div>\n",
       "<style scoped>\n",
       "    .dataframe tbody tr th:only-of-type {\n",
       "        vertical-align: middle;\n",
       "    }\n",
       "\n",
       "    .dataframe tbody tr th {\n",
       "        vertical-align: top;\n",
       "    }\n",
       "\n",
       "    .dataframe thead th {\n",
       "        text-align: right;\n",
       "    }\n",
       "</style>\n",
       "<table border=\"1\" class=\"dataframe\">\n",
       "  <thead>\n",
       "    <tr style=\"text-align: right;\">\n",
       "      <th></th>\n",
       "      <th>High</th>\n",
       "      <th>Low</th>\n",
       "      <th>Open</th>\n",
       "      <th>Close</th>\n",
       "      <th>Volume</th>\n",
       "      <th>Adj Close</th>\n",
       "    </tr>\n",
       "    <tr>\n",
       "      <th>Date</th>\n",
       "      <th></th>\n",
       "      <th></th>\n",
       "      <th></th>\n",
       "      <th></th>\n",
       "      <th></th>\n",
       "      <th></th>\n",
       "    </tr>\n",
       "  </thead>\n",
       "  <tbody>\n",
       "    <tr>\n",
       "      <th>2019-05-07</th>\n",
       "      <td>72100</td>\n",
       "      <td>70600</td>\n",
       "      <td>72100</td>\n",
       "      <td>70800</td>\n",
       "      <td>28458</td>\n",
       "      <td>67004.148438</td>\n",
       "    </tr>\n",
       "    <tr>\n",
       "      <th>2019-05-08</th>\n",
       "      <td>72200</td>\n",
       "      <td>70200</td>\n",
       "      <td>70200</td>\n",
       "      <td>71500</td>\n",
       "      <td>15960</td>\n",
       "      <td>67666.617188</td>\n",
       "    </tr>\n",
       "    <tr>\n",
       "      <th>2019-05-09</th>\n",
       "      <td>72200</td>\n",
       "      <td>68800</td>\n",
       "      <td>72100</td>\n",
       "      <td>69000</td>\n",
       "      <td>35619</td>\n",
       "      <td>65300.648438</td>\n",
       "    </tr>\n",
       "    <tr>\n",
       "      <th>2019-05-10</th>\n",
       "      <td>70700</td>\n",
       "      <td>68100</td>\n",
       "      <td>70000</td>\n",
       "      <td>69600</td>\n",
       "      <td>22909</td>\n",
       "      <td>65868.484375</td>\n",
       "    </tr>\n",
       "    <tr>\n",
       "      <th>2019-05-13</th>\n",
       "      <td>69300</td>\n",
       "      <td>67100</td>\n",
       "      <td>68600</td>\n",
       "      <td>67900</td>\n",
       "      <td>32535</td>\n",
       "      <td>64259.628906</td>\n",
       "    </tr>\n",
       "  </tbody>\n",
       "</table>\n",
       "</div>"
      ],
      "text/plain": [
       "             High    Low   Open  Close  Volume     Adj Close\n",
       "Date                                                        \n",
       "2019-05-07  72100  70600  72100  70800   28458  67004.148438\n",
       "2019-05-08  72200  70200  70200  71500   15960  67666.617188\n",
       "2019-05-09  72200  68800  72100  69000   35619  65300.648438\n",
       "2019-05-10  70700  68100  70000  69600   22909  65868.484375\n",
       "2019-05-13  69300  67100  68600  67900   32535  64259.628906"
      ]
     },
     "execution_count": 44,
     "metadata": {},
     "output_type": "execute_result"
    }
   ],
   "source": [
    "getStockDf_test.head()"
   ]
  },
  {
   "cell_type": "code",
   "execution_count": 47,
   "metadata": {
    "ExecuteTime": {
     "end_time": "2021-12-05T03:50:19.866231Z",
     "start_time": "2021-12-05T03:50:19.857232Z"
    }
   },
   "outputs": [],
   "source": [
    "def getStockValue(baseDate: datetime, stockDf: pd.DataFrame):\n",
    "    \n",
    "    \"\"\"\n",
    "    1. 기준일자의 종가를 구합니다.\n",
    "    2. 기준일자 이전 한달 동안 종가중 기준일자의 종가가 상위%인지 체크합니다.\n",
    "    3. 기준일자 이후 한달 간의 종가가 기준일자의 종가보다 높은지 낮은지 체크합니다.\n",
    "    4. 기준일자 이후 한달 간의 종가 기울기를 구해봅니다.\n",
    "    \n",
    "    \"\"\"\n",
    "    \n",
    "    baseDate_str = baseDate.strftime(\"%Y-%m-%d\")\n",
    "    \n",
    "    stockDf = stockDf\n",
    "    \n",
    "    #1. baseDate의 값 위치\n",
    "    stockDf_before = stockDf.loc[(stockDf.index <= baseDate_str),].copy()\n",
    "    pd.qcut(stockDf_before['Close'], q=10, labels= range(10, 0, -1))\n",
    "    stockDf_before['rank_pct'] = pd.qcut(stockDf_before['Close'], q=10, labels= range(10, 0, -1))\n",
    "    \n",
    "    #1. Output\n",
    "    stockDf_baseDate_rank = stockDf_before[stockDf_before.index == f\"{baseDate_str}\"][\"rank_pct\"][0]\n",
    "    stockDf_baseDate_Close = stockDf_before[stockDf_before.index == f\"{baseDate_str}\"][\"Close\"][0]\n",
    "    \n",
    "    \n",
    "    #2. baseDate 이후의 종가가 baseDate의 종가보다 높거나 낮은 일수\n",
    "    stockDf_after = stockDf.loc[(stockDf.index > baseDate_str),].copy()\n",
    "    stockDf_after['basePrice'] = stockDf_baseDate_Close\n",
    "    stockDf_after['priceGroup'] = stockDf_after['Close'].map(lambda x : 1 if x > stockDf_baseDate_Close else 0)\n",
    "    \n",
    "    upperCnt = sum(stockDf_after['priceGroup'].tolist())\n",
    "    totalCnt = len(stockDf_after['priceGroup'].tolist())\n",
    "    \n",
    "    #2. Output\n",
    "    probUpperCnt = int((upperCnt/totalCnt)*100)\n",
    "    \n",
    "    #3. baseDate 이후의 주가 기울기\n",
    "    min_date = min(stockDf_after.index.tolist()).date()\n",
    "    stockDf_after['dateInt'] = stockDf_after.index.map(lambda x : (x.date() - min_date).days + 1)\n",
    "    regResult = sm.ols(formula = \"Close ~ dateInt\", data = stockDf_after).fit()\n",
    "    \n",
    "    #3, Ouput\n",
    "    regSlope = regResult.params[1]\n",
    "    \n",
    "    return stockDf_baseDate_rank, probUpperCnt, regSlope"
   ]
  },
  {
   "cell_type": "code",
   "execution_count": 48,
   "metadata": {
    "ExecuteTime": {
     "end_time": "2021-12-05T03:50:20.461893Z",
     "start_time": "2021-12-05T03:50:20.446891Z"
    }
   },
   "outputs": [
    {
     "data": {
      "text/plain": [
       "(8, 0, -86.63167816737786)"
      ]
     },
     "execution_count": 48,
     "metadata": {},
     "output_type": "execute_result"
    }
   ],
   "source": [
    "getStockValue_test = getStockValue(getDateList_test[0], getStockDf_test)\n",
    "getStockValue_test"
   ]
  },
  {
   "cell_type": "code",
   "execution_count": 49,
   "metadata": {
    "ExecuteTime": {
     "end_time": "2021-12-05T04:20:49.459042Z",
     "start_time": "2021-12-05T04:20:49.453043Z"
    }
   },
   "outputs": [],
   "source": [
    "def getStockValList(cntStocks: int, startDate : str, endDate : str, cntDays: int, dayInterval: int ):\n",
    "    val_list = []\n",
    "    stock_list = randomStocks(cntStocks = cntStocks)\n",
    "\n",
    "    for stock_val in stock_list: \n",
    "        try :\n",
    "            date_list = getDateList(startDate = startDate, endDate = endDate\n",
    "                                    , code = stock_val, cntDays = cntDays)\n",
    "            stock_df = getStockDf(code = stock_val, dateList = date_list, dayInterval = dayInterval)\n",
    "            \n",
    "        except Exception:\n",
    "            print(\"*\"*50, \"stock_error\", \"*\"*50)\n",
    "            print(f\"Error {kospi_list.loc[(kospi_list['종목코드'] == stock_val), '종목명']}\")\n",
    "            pass\n",
    "            \n",
    "        for date_val in date_list:\n",
    "            try :\n",
    "                resultVal_list = getStockValue(baseDate = date_val, stockDf = stock_df)\n",
    "                val_list.append(resultVal_list)\n",
    "            except Exception:\n",
    "                print(\"*\"*50, \"date_error\", \"*\"*50)\n",
    "                print(f\"Error {kospi_list.loc[(kospi_list['종목코드'] == stock_val), '종목명']} {date_val}\")\n",
    "                pass\n",
    "            \n",
    "    return val_list, stock_list"
   ]
  },
  {
   "cell_type": "code",
   "execution_count": 232,
   "metadata": {
    "ExecuteTime": {
     "end_time": "2021-12-05T04:31:34.246875Z",
     "start_time": "2021-12-05T04:20:54.717714Z"
    }
   },
   "outputs": [
    {
     "name": "stdout",
     "output_type": "stream",
     "text": [
      "************************************************** stock_error **************************************************\n",
      "Error 756    미래에셋맵스리츠\n",
      "Name: 종목명, dtype: object\n",
      "************************************************** stock_error **************************************************\n",
      "Error 601    에이플러스에셋\n",
      "Name: 종목명, dtype: object\n",
      "************************************************** date_error **************************************************\n",
      "Error 24    한국전력\n",
      "Name: 종목명, dtype: object 2019-11-14 00:00:00\n",
      "************************************************** date_error **************************************************\n",
      "Error 738    미래산업\n",
      "Name: 종목명, dtype: object 2019-11-14 00:00:00\n",
      "************************************************** date_error **************************************************\n",
      "Error 471    성신양회\n",
      "Name: 종목명, dtype: object 2019-11-14 00:00:00\n",
      "************************************************** stock_error **************************************************\n",
      "Error 178    지누스\n",
      "Name: 종목명, dtype: object\n",
      "************************************************** date_error **************************************************\n",
      "Error 55    한화솔루션\n",
      "Name: 종목명, dtype: object 2019-11-14 00:00:00\n",
      "************************************************** date_error **************************************************\n",
      "Error 493    에이프로젠 MED\n",
      "Name: 종목명, dtype: object 2019-11-14 00:00:00\n",
      "************************************************** date_error **************************************************\n",
      "Error 8    기아\n",
      "Name: 종목명, dtype: object 2019-11-14 00:00:00\n",
      "************************************************** stock_error **************************************************\n",
      "Error 755    NH프라임리츠\n",
      "Name: 종목명, dtype: object\n",
      "************************************************** stock_error **************************************************\n",
      "Error 305    교촌에프앤비\n",
      "Name: 종목명, dtype: object\n",
      "************************************************** date_error **************************************************\n",
      "Error 564    DB\n",
      "Name: 종목명, dtype: object 2019-11-14 00:00:00\n",
      "************************************************** stock_error **************************************************\n",
      "Error 194    티와이홀딩스\n",
      "Name: 종목명, dtype: object\n",
      "************************************************** date_error **************************************************\n",
      "Error 175    종근당\n",
      "Name: 종목명, dtype: object 2019-11-14 00:00:00\n",
      "************************************************** date_error **************************************************\n",
      "Error 638    미원화학\n",
      "Name: 종목명, dtype: object 2019-11-14 00:00:00\n",
      "************************************************** date_error **************************************************\n",
      "Error 509    대우부품\n",
      "Name: 종목명, dtype: object 2019-11-14 00:00:00\n",
      "************************************************** date_error **************************************************\n",
      "Error 586    웅진\n",
      "Name: 종목명, dtype: object 2019-11-14 00:00:00\n"
     ]
    }
   ],
   "source": [
    "val_list = getStockValList(60, '2019-02-01', '2019-11-30', 90, 30)[0]\n",
    "stock_list = getStockValList(60, '2019-02-01', '2019-11-30', 90, 30)[1]"
   ]
  },
  {
   "cell_type": "code",
   "execution_count": 233,
   "metadata": {
    "ExecuteTime": {
     "end_time": "2021-12-05T04:35:28.701892Z",
     "start_time": "2021-12-05T04:35:28.696889Z"
    }
   },
   "outputs": [
    {
     "data": {
      "text/plain": [
       "['183190',\n",
       " '089470',\n",
       " '042700',\n",
       " '002700',\n",
       " '010820',\n",
       " '023800',\n",
       " '001570',\n",
       " '000680',\n",
       " '031430',\n",
       " '195870',\n",
       " '002320',\n",
       " '338100',\n",
       " '003240',\n",
       " '001790',\n",
       " '108670',\n",
       " '036460',\n",
       " '016710',\n",
       " '052690',\n",
       " '003070',\n",
       " '010950',\n",
       " '339770',\n",
       " '006090',\n",
       " '016090',\n",
       " '000700',\n",
       " '003580',\n",
       " '012030',\n",
       " '002270',\n",
       " '012330',\n",
       " '004800',\n",
       " '004920',\n",
       " '010770',\n",
       " '102280',\n",
       " '006260',\n",
       " '129260',\n",
       " '030210',\n",
       " '001380',\n",
       " '014680',\n",
       " '036570',\n",
       " '023350',\n",
       " '363280',\n",
       " '014820',\n",
       " '105840',\n",
       " '264900',\n",
       " '000020',\n",
       " '078520',\n",
       " '023590',\n",
       " '007540',\n",
       " '001080',\n",
       " '185750',\n",
       " '067830',\n",
       " '037560',\n",
       " '016450',\n",
       " '134380',\n",
       " '000890',\n",
       " '011420',\n",
       " '025560',\n",
       " '002820',\n",
       " '009320',\n",
       " '016880',\n",
       " '139130']"
      ]
     },
     "execution_count": 233,
     "metadata": {},
     "output_type": "execute_result"
    }
   ],
   "source": [
    "stock_list"
   ]
  },
  {
   "cell_type": "code",
   "execution_count": 234,
   "metadata": {
    "ExecuteTime": {
     "end_time": "2021-12-05T04:35:31.890208Z",
     "start_time": "2021-12-05T04:35:31.885206Z"
    }
   },
   "outputs": [],
   "source": [
    "df_test = pd.DataFrame(val_list, columns = ['percentile_group', 'upper_prob', 'slope'])"
   ]
  },
  {
   "cell_type": "code",
   "execution_count": 235,
   "metadata": {
    "ExecuteTime": {
     "end_time": "2021-12-05T04:35:32.314642Z",
     "start_time": "2021-12-05T04:35:32.305611Z"
    }
   },
   "outputs": [
    {
     "data": {
      "text/html": [
       "<div>\n",
       "<style scoped>\n",
       "    .dataframe tbody tr th:only-of-type {\n",
       "        vertical-align: middle;\n",
       "    }\n",
       "\n",
       "    .dataframe tbody tr th {\n",
       "        vertical-align: top;\n",
       "    }\n",
       "\n",
       "    .dataframe thead th {\n",
       "        text-align: right;\n",
       "    }\n",
       "</style>\n",
       "<table border=\"1\" class=\"dataframe\">\n",
       "  <thead>\n",
       "    <tr style=\"text-align: right;\">\n",
       "      <th></th>\n",
       "      <th>percentile_group</th>\n",
       "      <th>upper_prob</th>\n",
       "      <th>slope</th>\n",
       "    </tr>\n",
       "  </thead>\n",
       "  <tbody>\n",
       "    <tr>\n",
       "      <th>0</th>\n",
       "      <td>6.0</td>\n",
       "      <td>62</td>\n",
       "      <td>-4.954715</td>\n",
       "    </tr>\n",
       "    <tr>\n",
       "      <th>1</th>\n",
       "      <td>8.0</td>\n",
       "      <td>96</td>\n",
       "      <td>-4.640253</td>\n",
       "    </tr>\n",
       "    <tr>\n",
       "      <th>2</th>\n",
       "      <td>10.0</td>\n",
       "      <td>45</td>\n",
       "      <td>-6.395743</td>\n",
       "    </tr>\n",
       "    <tr>\n",
       "      <th>3</th>\n",
       "      <td>10.0</td>\n",
       "      <td>74</td>\n",
       "      <td>0.784923</td>\n",
       "    </tr>\n",
       "    <tr>\n",
       "      <th>4</th>\n",
       "      <td>10.0</td>\n",
       "      <td>98</td>\n",
       "      <td>1.028532</td>\n",
       "    </tr>\n",
       "    <tr>\n",
       "      <th>...</th>\n",
       "      <td>...</td>\n",
       "      <td>...</td>\n",
       "      <td>...</td>\n",
       "    </tr>\n",
       "    <tr>\n",
       "      <th>5389</th>\n",
       "      <td>1.0</td>\n",
       "      <td>13</td>\n",
       "      <td>-26.576125</td>\n",
       "    </tr>\n",
       "    <tr>\n",
       "      <th>5390</th>\n",
       "      <td>5.0</td>\n",
       "      <td>19</td>\n",
       "      <td>-51.124918</td>\n",
       "    </tr>\n",
       "    <tr>\n",
       "      <th>5391</th>\n",
       "      <td>1.0</td>\n",
       "      <td>2</td>\n",
       "      <td>-27.293087</td>\n",
       "    </tr>\n",
       "    <tr>\n",
       "      <th>5392</th>\n",
       "      <td>0.0</td>\n",
       "      <td>30</td>\n",
       "      <td>-25.793302</td>\n",
       "    </tr>\n",
       "    <tr>\n",
       "      <th>5393</th>\n",
       "      <td>0.0</td>\n",
       "      <td>0</td>\n",
       "      <td>-25.870039</td>\n",
       "    </tr>\n",
       "  </tbody>\n",
       "</table>\n",
       "<p>5394 rows × 3 columns</p>\n",
       "</div>"
      ],
      "text/plain": [
       "      percentile_group  upper_prob      slope\n",
       "0                  6.0          62  -4.954715\n",
       "1                  8.0          96  -4.640253\n",
       "2                 10.0          45  -6.395743\n",
       "3                 10.0          74   0.784923\n",
       "4                 10.0          98   1.028532\n",
       "...                ...         ...        ...\n",
       "5389               1.0          13 -26.576125\n",
       "5390               5.0          19 -51.124918\n",
       "5391               1.0           2 -27.293087\n",
       "5392               0.0          30 -25.793302\n",
       "5393               0.0           0 -25.870039\n",
       "\n",
       "[5394 rows x 3 columns]"
      ]
     },
     "execution_count": 235,
     "metadata": {},
     "output_type": "execute_result"
    }
   ],
   "source": [
    "df_test"
   ]
  },
  {
   "cell_type": "code",
   "execution_count": 249,
   "metadata": {
    "ExecuteTime": {
     "end_time": "2021-12-05T04:48:00.013155Z",
     "start_time": "2021-12-05T04:48:00.008183Z"
    }
   },
   "outputs": [
    {
     "data": {
      "text/plain": [
       "1.0     864\n",
       "0.0     728\n",
       "2.0     686\n",
       "3.0     504\n",
       "7.0     397\n",
       "9.0     394\n",
       "4.0     390\n",
       "10.0    379\n",
       "6.0     363\n",
       "8.0     347\n",
       "5.0     342\n",
       "Name: percentile_group, dtype: int64"
      ]
     },
     "execution_count": 249,
     "metadata": {},
     "output_type": "execute_result"
    }
   ],
   "source": [
    "df_test['percentile_group'].value_counts()"
   ]
  },
  {
   "cell_type": "code",
   "execution_count": 236,
   "metadata": {
    "ExecuteTime": {
     "end_time": "2021-12-05T04:35:34.770113Z",
     "start_time": "2021-12-05T04:35:34.678570Z"
    }
   },
   "outputs": [
    {
     "data": {
      "text/plain": [
       "<matplotlib.axes._subplots.AxesSubplot at 0x1f3977160d0>"
      ]
     },
     "execution_count": 236,
     "metadata": {},
     "output_type": "execute_result"
    },
    {
     "data": {
      "image/png": "[encoded data removed]",
      "text/plain": [
       "<Figure size 432x288 with 1 Axes>"
      ]
     },
     "metadata": {
      "needs_background": "light"
     },
     "output_type": "display_data"
    }
   ],
   "source": [
    "df_test.plot.scatter(x = 'percentile_group', y = 'upper_prob')"
   ]
  },
  {
   "cell_type": "code",
   "execution_count": 237,
   "metadata": {
    "ExecuteTime": {
     "end_time": "2021-12-05T04:37:54.042425Z",
     "start_time": "2021-12-05T04:37:53.874353Z"
    }
   },
   "outputs": [
    {
     "name": "stderr",
     "output_type": "stream",
     "text": [
      "C:\\Users\\HOME\\anaconda3\\lib\\site-packages\\numpy\\core\\_asarray.py:83: VisibleDeprecationWarning: Creating an ndarray from ragged nested sequences (which is a list-or-tuple of lists-or-tuples-or ndarrays with different lengths or shapes) is deprecated. If you meant to do this, you must specify 'dtype=object' when creating the ndarray\n",
      "  return array(a, dtype, copy=False, order=order)\n"
     ]
    },
    {
     "data": {
      "image/png": "[encoded data removed]",
      "text/plain": [
       "<Figure size 432x288 with 1 Axes>"
      ]
     },
     "metadata": {
      "needs_background": "light"
     },
     "output_type": "display_data"
    }
   ],
   "source": [
    "boxplot = df_test.boxplot(column=['upper_prob'], by=\"percentile_group\")"
   ]
  },
  {
   "cell_type": "code",
   "execution_count": 256,
   "metadata": {
    "ExecuteTime": {
     "end_time": "2021-12-05T04:50:52.202410Z",
     "start_time": "2021-12-05T04:50:52.198413Z"
    }
   },
   "outputs": [
    {
     "data": {
      "text/plain": [
       "0.0"
      ]
     },
     "execution_count": 256,
     "metadata": {},
     "output_type": "execute_result"
    }
   ],
   "source": [
    "round(0.3, 0)"
   ]
  },
  {
   "cell_type": "code",
   "execution_count": 250,
   "metadata": {
    "ExecuteTime": {
     "end_time": "2021-12-05T04:48:37.999559Z",
     "start_time": "2021-12-05T04:48:37.526970Z"
    }
   },
   "outputs": [
    {
     "data": {
      "image/png": "[encoded data removed]",
      "text/plain": [
       "<Figure size 576x576 with 12 Axes>"
      ]
     },
     "metadata": {
      "needs_background": "light"
     },
     "output_type": "display_data"
    }
   ],
   "source": [
    "joyplot(df_test, by = 'percentile_group', column = 'upper_prob', figsize = (8,8), colormap = cm.autumn\n",
    "        , fade = True, overlap = 0, hist = True)\n",
    "plt.show()"
   ]
  },
  {
   "cell_type": "code",
   "execution_count": null,
   "metadata": {},
   "outputs": [],
   "source": []
  }
 ],
 "metadata": {
  "kernelspec": {
   "display_name": "Python 3",
   "language": "python",
   "name": "python3"
  },
  "language_info": {
   "codemirror_mode": {
    "name": "ipython",
    "version": 3
   },
   "file_extension": ".py",
   "mimetype": "text/x-python",
   "name": "python",
   "nbconvert_exporter": "python",
   "pygments_lexer": "ipython3",
   "version": "3.8.5"
  },
  "toc": {
   "base_numbering": 1,
   "nav_menu": {},
   "number_sections": true,
   "sideBar": true,
   "skip_h1_title": false,
   "title_cell": "Table of Contents",
   "title_sidebar": "Contents",
   "toc_cell": false,
   "toc_position": {},
   "toc_section_display": true,
   "toc_window_display": false
  }
 },
 "nbformat": 4,
 "nbformat_minor": 4
}
