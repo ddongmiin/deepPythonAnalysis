{
 "cells": [
  {
   "cell_type": "markdown",
   "metadata": {},
   "source": [
    "# 환경 세팅"
   ]
  },
  {
   "cell_type": "markdown",
   "metadata": {},
   "source": [
    "## 라이브러리 세팅"
   ]
  },
  {
   "cell_type": "code",
<<<<<<< HEAD
   "execution_count": 243,
=======
   "execution_count": 203,
>>>>>>> 7ba98dc4f677a234b26d770b4cd8222ea5a4b90f
   "metadata": {
    "ExecuteTime": {
     "end_time": "2021-12-05T04:44:12.374551Z",
     "start_time": "2021-12-05T04:44:12.371551Z"
    }
   },
   "outputs": [],
   "source": [
    "import pandas as pd\n",
    "import numpy as np\n",
    "import pandas_datareader as pdr\n",
    "from datetime import datetime, timedelta\n",
    "import radar\n",
    "import random\n",
    "import statsmodels.formula.api as sm\n",
    "from collections import defaultdict\n",
    "from tqdm import tqdm\n",
    "from joypy import joyplot\n",
    "import matplotlib.pyplot as plt\n",
<<<<<<< HEAD
    "from matplotlib import cm"
=======
    "from matplotlib import cm\n",
    "import seaborn as sns\n",
    "import scipy.stats as ss\n",
    "from sklearn.preprocessing import Normalizer"
>>>>>>> 7ba98dc4f677a234b26d770b4cd8222ea5a4b90f
   ]
  },
  {
   "cell_type": "code",
<<<<<<< HEAD
   "execution_count": 81,
   "metadata": {
    "ExecuteTime": {
     "end_time": "2021-12-05T02:27:02.820475Z",
     "start_time": "2021-12-05T02:27:02.816962Z"
    }
   },
   "outputs": [],
   "source": [
    "dates_dict = defaultdict(list)\n",
    "for key, date in zip([1, 1, 3], [2, 3, 4]):\n",
    "    dates_dict[key].append(date)"
   ]
  },
  {
   "cell_type": "code",
   "execution_count": 82,
   "metadata": {
    "ExecuteTime": {
     "end_time": "2021-12-05T02:27:07.485787Z",
     "start_time": "2021-12-05T02:27:07.481761Z"
    }
   },
   "outputs": [
    {
     "data": {
      "text/plain": [
       "defaultdict(list, {1: [2, 3], 3: [4]})"
      ]
     },
     "execution_count": 82,
     "metadata": {},
     "output_type": "execute_result"
    }
   ],
   "source": [
    "dates_dict"
   ]
  },
  {
   "cell_type": "code",
   "execution_count": 2,
   "metadata": {
    "ExecuteTime": {
     "end_time": "2021-12-05T01:24:42.915224Z",
     "start_time": "2021-12-05T01:24:42.879224Z"
    }
   },
   "outputs": [
    {
     "name": "stdout",
     "output_type": "stream",
     "text": [
      "Intercept    9.0\n",
      "B            0.7\n",
      "dtype: float64\n"
     ]
    }
   ],
   "source": [
    "df = pd.DataFrame({\"A\": [10,20,30,40,50], \"B\": [20, 30, 10, 40, 50], \"C\": [32, 234, 23, 23, 42523]})\n",
    "result = sm.ols(formula=\"A ~ B\", data=df).fit()\n",
    "print(result.params)"
=======
   "execution_count": 83,
   "metadata": {},
   "outputs": [],
   "source": [
    "import matplotlib\n",
    "matplotlib.rcParams['axes.unicode_minus'] = False"
>>>>>>> 7ba98dc4f677a234b26d770b4cd8222ea5a4b90f
   ]
  },
  {
   "cell_type": "code",
<<<<<<< HEAD
   "execution_count": 3,
   "metadata": {
    "ExecuteTime": {
     "end_time": "2021-12-05T01:24:43.404289Z",
     "start_time": "2021-12-05T01:24:43.397289Z"
    }
   },
   "outputs": [
    {
     "data": {
      "text/plain": [
       "'2021-01-04'"
      ]
     },
     "execution_count": 3,
     "metadata": {},
     "output_type": "execute_result"
    }
   ],
   "source": [
    "(datetime(2021, 1, 1) + timedelta(days=3)).strftime(\"%Y-%m-%d\")"
=======
   "execution_count": 84,
   "metadata": {},
   "outputs": [],
   "source": [
    "from matplotlib import rc\n",
    "rc('font', family='AppleGothic')"
>>>>>>> 7ba98dc4f677a234b26d770b4cd8222ea5a4b90f
   ]
  },
  {
   "cell_type": "code",
<<<<<<< HEAD
   "execution_count": 4,
   "metadata": {
    "ExecuteTime": {
     "end_time": "2021-12-05T01:24:43.777544Z",
     "start_time": "2021-12-05T01:24:43.773544Z"
    }
   },
   "outputs": [
    {
     "data": {
      "text/plain": [
       "'2009-05-13'"
      ]
     },
     "execution_count": 4,
     "metadata": {},
     "output_type": "execute_result"
    }
   ],
   "source": [
    "radar.random_datetime(\n",
    "    start = datetime(year=2000, month=5, day=24),\n",
    "    stop = datetime(year=2013, month=5, day=24)\n",
    ").strftime(\"%Y-%m-%d\")"
=======
   "execution_count": 189,
   "metadata": {},
   "outputs": [],
   "source": [
    "from sklearn.preprocessing import StandardScaler"
>>>>>>> 7ba98dc4f677a234b26d770b4cd8222ea5a4b90f
   ]
  },
  {
   "cell_type": "markdown",
   "metadata": {},
   "source": [
    "# 데이터 테스트"
   ]
  },
  {
   "cell_type": "markdown",
   "metadata": {},
   "source": [
    "## 상장법인목록"
   ]
  },
  {
   "cell_type": "code",
<<<<<<< HEAD
   "execution_count": 5,
=======
   "execution_count": 7,
>>>>>>> 7ba98dc4f677a234b26d770b4cd8222ea5a4b90f
   "metadata": {
    "ExecuteTime": {
     "end_time": "2021-12-05T01:24:44.329685Z",
     "start_time": "2021-12-05T01:24:44.309542Z"
    }
   },
   "outputs": [],
   "source": [
    "krx_list = pd.read_csv(\"상장법인목록.csv\", encoding='cp949')"
   ]
  },
  {
   "cell_type": "code",
<<<<<<< HEAD
   "execution_count": 6,
=======
   "execution_count": 8,
>>>>>>> 7ba98dc4f677a234b26d770b4cd8222ea5a4b90f
   "metadata": {
    "ExecuteTime": {
     "end_time": "2021-12-05T01:24:44.493774Z",
     "start_time": "2021-12-05T01:24:44.478744Z"
    }
   },
   "outputs": [
    {
     "data": {
      "text/html": [
       "<div>\n",
       "<style scoped>\n",
       "    .dataframe tbody tr th:only-of-type {\n",
       "        vertical-align: middle;\n",
       "    }\n",
       "\n",
       "    .dataframe tbody tr th {\n",
       "        vertical-align: top;\n",
       "    }\n",
       "\n",
       "    .dataframe thead th {\n",
       "        text-align: right;\n",
       "    }\n",
       "</style>\n",
       "<table border=\"1\" class=\"dataframe\">\n",
       "  <thead>\n",
       "    <tr style=\"text-align: right;\">\n",
       "      <th></th>\n",
       "      <th>회사명</th>\n",
       "      <th>종목코드</th>\n",
       "      <th>업종</th>\n",
       "      <th>주요제품</th>\n",
       "      <th>상장일</th>\n",
       "      <th>결산월</th>\n",
       "      <th>대표자명</th>\n",
       "      <th>홈페이지</th>\n",
       "      <th>지역</th>\n",
       "    </tr>\n",
       "  </thead>\n",
       "  <tbody>\n",
       "    <tr>\n",
       "      <th>0</th>\n",
       "      <td>미래에셋글로벌리츠</td>\n",
       "      <td>396690</td>\n",
       "      <td>부동산 임대 및 공급업</td>\n",
       "      <td>부동산 임대업</td>\n",
       "      <td>2021-12-03</td>\n",
       "      <td>03월</td>\n",
       "      <td>신현준</td>\n",
       "      <td>NaN</td>\n",
       "      <td>서울특별시</td>\n",
       "    </tr>\n",
       "    <tr>\n",
       "      <th>1</th>\n",
       "      <td>대신밸런스제11호스팩</td>\n",
       "      <td>397500</td>\n",
       "      <td>금융 지원 서비스업</td>\n",
       "      <td>금융 지원 서비스업</td>\n",
       "      <td>2021-12-02</td>\n",
       "      <td>12월</td>\n",
       "      <td>정재중</td>\n",
       "      <td>NaN</td>\n",
       "      <td>서울특별시</td>\n",
       "    </tr>\n",
       "    <tr>\n",
       "      <th>2</th>\n",
       "      <td>켈스</td>\n",
       "      <td>402420</td>\n",
       "      <td>의료용 기기 제조업</td>\n",
       "      <td>체외진단 의료기기</td>\n",
       "      <td>2021-11-30</td>\n",
       "      <td>12월</td>\n",
       "      <td>이동호</td>\n",
       "      <td>http://www.thecalth.com/</td>\n",
       "      <td>경기도</td>\n",
       "    </tr>\n",
       "    <tr>\n",
       "      <th>3</th>\n",
       "      <td>SK스퀘어</td>\n",
       "      <td>402340</td>\n",
       "      <td>기타 금융업</td>\n",
       "      <td>지주회사</td>\n",
       "      <td>2021-11-29</td>\n",
       "      <td>12월</td>\n",
       "      <td>박정호</td>\n",
       "      <td>http://www.sksquare.com</td>\n",
       "      <td>서울특별시</td>\n",
       "    </tr>\n",
       "    <tr>\n",
       "      <th>4</th>\n",
       "      <td>마인즈랩</td>\n",
       "      <td>377480</td>\n",
       "      <td>소프트웨어 개발 및 공급업</td>\n",
       "      <td>종합 인공지능 엔진 및 플랫폼</td>\n",
       "      <td>2021-11-23</td>\n",
       "      <td>12월</td>\n",
       "      <td>유태준</td>\n",
       "      <td>maum.ai</td>\n",
       "      <td>대전광역시</td>\n",
       "    </tr>\n",
       "  </tbody>\n",
       "</table>\n",
       "</div>"
      ],
      "text/plain": [
       "           회사명    종목코드              업종              주요제품         상장일  결산월  \\\n",
       "0    미래에셋글로벌리츠  396690    부동산 임대 및 공급업           부동산 임대업  2021-12-03  03월   \n",
       "1  대신밸런스제11호스팩  397500      금융 지원 서비스업        금융 지원 서비스업  2021-12-02  12월   \n",
       "2           켈스  402420      의료용 기기 제조업         체외진단 의료기기  2021-11-30  12월   \n",
       "3        SK스퀘어  402340          기타 금융업              지주회사  2021-11-29  12월   \n",
       "4         마인즈랩  377480  소프트웨어 개발 및 공급업  종합 인공지능 엔진 및 플랫폼  2021-11-23  12월   \n",
       "\n",
       "  대표자명                      홈페이지     지역  \n",
       "0  신현준                       NaN  서울특별시  \n",
       "1  정재중                       NaN  서울특별시  \n",
       "2  이동호  http://www.thecalth.com/    경기도  \n",
       "3  박정호   http://www.sksquare.com  서울특별시  \n",
       "4  유태준                   maum.ai  대전광역시  "
      ]
     },
<<<<<<< HEAD
     "execution_count": 6,
=======
     "execution_count": 8,
>>>>>>> 7ba98dc4f677a234b26d770b4cd8222ea5a4b90f
     "metadata": {},
     "output_type": "execute_result"
    }
   ],
   "source": [
    "krx_list.head()"
   ]
  },
  {
   "cell_type": "code",
<<<<<<< HEAD
   "execution_count": 7,
=======
   "execution_count": 9,
   "metadata": {},
   "outputs": [
    {
     "data": {
      "text/plain": [
       "서울특별시      1005\n",
       "경기도         703\n",
       "충청남도         97\n",
       "경상남도         90\n",
       "인천광역시        87\n",
       "충청북도         86\n",
       "부산광역시        77\n",
       "경상북도         66\n",
       "대구광역시        53\n",
       "대전광역시        52\n",
       "전라북도         28\n",
       "강원도          27\n",
       "울산광역시        26\n",
       "광주광역시        22\n",
       "전라남도         22\n",
       "세종특별자치시      10\n",
       "제주특별자치도      10\n",
       "홍콩            8\n",
       "미국            6\n",
       "케이맨 제도        5\n",
       "일본            3\n",
       "싱가포르          1\n",
       "Name: 지역, dtype: int64"
      ]
     },
     "execution_count": 9,
     "metadata": {},
     "output_type": "execute_result"
    }
   ],
   "source": [
    "krx_list['지역'].value_counts()"
   ]
  },
  {
   "cell_type": "code",
   "execution_count": 13,
>>>>>>> 7ba98dc4f677a234b26d770b4cd8222ea5a4b90f
   "metadata": {
    "ExecuteTime": {
     "end_time": "2021-12-05T01:24:44.659456Z",
     "start_time": "2021-12-05T01:24:44.652457Z"
    }
   },
   "outputs": [],
   "source": [
<<<<<<< HEAD
    "kospi_list = pd.read_csv(\"코스피200.csv\", encoding='cp949')"
=======
    "kospi_list = pd.read_csv(\"코스피30.csv\", encoding='cp949')"
>>>>>>> 7ba98dc4f677a234b26d770b4cd8222ea5a4b90f
   ]
  },
  {
   "cell_type": "code",
<<<<<<< HEAD
   "execution_count": 8,
=======
   "execution_count": 14,
>>>>>>> 7ba98dc4f677a234b26d770b4cd8222ea5a4b90f
   "metadata": {
    "ExecuteTime": {
     "end_time": "2021-12-05T01:24:44.840463Z",
     "start_time": "2021-12-05T01:24:44.837456Z"
    }
   },
   "outputs": [],
   "source": [
    "kospi_list['종목코드'] = kospi_list['종목코드'].map('{:06d}'.format)"
   ]
  },
  {
   "cell_type": "code",
<<<<<<< HEAD
   "execution_count": 9,
=======
   "execution_count": 15,
>>>>>>> 7ba98dc4f677a234b26d770b4cd8222ea5a4b90f
   "metadata": {
    "ExecuteTime": {
     "end_time": "2021-12-05T01:24:45.036433Z",
     "start_time": "2021-12-05T01:24:45.028456Z"
    }
   },
   "outputs": [
    {
     "data": {
      "text/html": [
       "<div>\n",
       "<style scoped>\n",
       "    .dataframe tbody tr th:only-of-type {\n",
       "        vertical-align: middle;\n",
       "    }\n",
       "\n",
       "    .dataframe tbody tr th {\n",
       "        vertical-align: top;\n",
       "    }\n",
       "\n",
       "    .dataframe thead th {\n",
       "        text-align: right;\n",
       "    }\n",
       "</style>\n",
       "<table border=\"1\" class=\"dataframe\">\n",
       "  <thead>\n",
       "    <tr style=\"text-align: right;\">\n",
       "      <th></th>\n",
       "      <th>종목코드</th>\n",
       "      <th>종목명</th>\n",
       "      <th>종가</th>\n",
       "      <th>대비</th>\n",
       "      <th>등락률</th>\n",
       "      <th>상장시가총액</th>\n",
       "    </tr>\n",
       "  </thead>\n",
       "  <tbody>\n",
       "    <tr>\n",
       "      <th>0</th>\n",
       "      <td>005930</td>\n",
       "      <td>삼성전자</td>\n",
       "      <td>75600</td>\n",
       "      <td>-200</td>\n",
       "      <td>-0.26</td>\n",
       "      <td>451315561.0</td>\n",
       "    </tr>\n",
       "    <tr>\n",
       "      <th>1</th>\n",
       "      <td>000660</td>\n",
       "      <td>SK하이닉스</td>\n",
       "      <td>118000</td>\n",
       "      <td>-2000</td>\n",
       "      <td>-1.67</td>\n",
       "      <td>85904279.0</td>\n",
       "    </tr>\n",
       "    <tr>\n",
       "      <th>2</th>\n",
       "      <td>035420</td>\n",
       "      <td>NAVER</td>\n",
       "      <td>402000</td>\n",
       "      <td>3500</td>\n",
       "      <td>0.88</td>\n",
       "      <td>66033885.0</td>\n",
       "    </tr>\n",
       "    <tr>\n",
       "      <th>3</th>\n",
<<<<<<< HEAD
       "      <td>207940</td>\n",
       "      <td>삼성바이오로직스</td>\n",
       "      <td>900000</td>\n",
       "      <td>8000</td>\n",
       "      <td>0.90</td>\n",
       "      <td>59548500.0</td>\n",
       "    </tr>\n",
       "    <tr>\n",
       "      <th>4</th>\n",
=======
>>>>>>> 7ba98dc4f677a234b26d770b4cd8222ea5a4b90f
       "      <td>035720</td>\n",
       "      <td>카카오</td>\n",
       "      <td>123500</td>\n",
       "      <td>1000</td>\n",
       "      <td>0.82</td>\n",
       "      <td>55043733.0</td>\n",
       "    </tr>\n",
<<<<<<< HEAD
=======
       "    <tr>\n",
       "      <th>4</th>\n",
       "      <td>051910</td>\n",
       "      <td>LG화학</td>\n",
       "      <td>717000</td>\n",
       "      <td>-10000</td>\n",
       "      <td>-1.38</td>\n",
       "      <td>50614710.0</td>\n",
       "    </tr>\n",
>>>>>>> 7ba98dc4f677a234b26d770b4cd8222ea5a4b90f
       "  </tbody>\n",
       "</table>\n",
       "</div>"
      ],
      "text/plain": [
<<<<<<< HEAD
       "     종목코드       종목명      종가    대비   등락률       상장시가총액\n",
       "0  005930      삼성전자   75600  -200 -0.26  451315561.0\n",
       "1  000660    SK하이닉스  118000 -2000 -1.67   85904279.0\n",
       "2  035420     NAVER  402000  3500  0.88   66033885.0\n",
       "3  207940  삼성바이오로직스  900000  8000  0.90   59548500.0\n",
       "4  035720       카카오  123500  1000  0.82   55043733.0"
      ]
     },
     "execution_count": 9,
=======
       "     종목코드     종목명      종가     대비   등락률       상장시가총액\n",
       "0  005930    삼성전자   75600   -200 -0.26  451315561.0\n",
       "1  000660  SK하이닉스  118000  -2000 -1.67   85904279.0\n",
       "2  035420   NAVER  402000   3500  0.88   66033885.0\n",
       "3  035720     카카오  123500   1000  0.82   55043733.0\n",
       "4  051910    LG화학  717000 -10000 -1.38   50614710.0"
      ]
     },
     "execution_count": 15,
>>>>>>> 7ba98dc4f677a234b26d770b4cd8222ea5a4b90f
     "metadata": {},
     "output_type": "execute_result"
    }
   ],
   "source": [
    "kospi_list.head()"
   ]
  },
  {
<<<<<<< HEAD
   "cell_type": "code",
   "execution_count": 224,
   "metadata": {
    "ExecuteTime": {
     "end_time": "2021-12-05T04:16:04.643103Z",
     "start_time": "2021-12-05T04:16:04.576555Z"
    }
   },
   "outputs": [
    {
     "ename": "AttributeError",
     "evalue": "'Series' object has no attribute 'value'",
     "output_type": "error",
     "traceback": [
      "\u001b[1;31m---------------------------------------------------------------------------\u001b[0m",
      "\u001b[1;31mAttributeError\u001b[0m                            Traceback (most recent call last)",
      "\u001b[1;32m<ipython-input-224-e2eb6a5d7dd4>\u001b[0m in \u001b[0;36m<module>\u001b[1;34m\u001b[0m\n\u001b[1;32m----> 1\u001b[1;33m \u001b[0mkospi_list\u001b[0m\u001b[1;33m.\u001b[0m\u001b[0mloc\u001b[0m\u001b[1;33m[\u001b[0m\u001b[1;33m(\u001b[0m\u001b[0mkospi_list\u001b[0m\u001b[1;33m[\u001b[0m\u001b[1;34m'종목코드'\u001b[0m\u001b[1;33m]\u001b[0m \u001b[1;33m==\u001b[0m \u001b[1;34m'005930'\u001b[0m\u001b[1;33m)\u001b[0m\u001b[1;33m,\u001b[0m \u001b[1;34m'종목명'\u001b[0m\u001b[1;33m]\u001b[0m\u001b[1;33m.\u001b[0m\u001b[0mvalue\u001b[0m\u001b[1;33m(\u001b[0m\u001b[1;33m)\u001b[0m\u001b[1;33m\u001b[0m\u001b[1;33m\u001b[0m\u001b[0m\n\u001b[0m",
      "\u001b[1;32m~\\anaconda3\\lib\\site-packages\\pandas\\core\\generic.py\u001b[0m in \u001b[0;36m__getattr__\u001b[1;34m(self, name)\u001b[0m\n\u001b[0;32m   5272\u001b[0m             \u001b[1;32mif\u001b[0m \u001b[0mself\u001b[0m\u001b[1;33m.\u001b[0m\u001b[0m_info_axis\u001b[0m\u001b[1;33m.\u001b[0m\u001b[0m_can_hold_identifiers_and_holds_name\u001b[0m\u001b[1;33m(\u001b[0m\u001b[0mname\u001b[0m\u001b[1;33m)\u001b[0m\u001b[1;33m:\u001b[0m\u001b[1;33m\u001b[0m\u001b[1;33m\u001b[0m\u001b[0m\n\u001b[0;32m   5273\u001b[0m                 \u001b[1;32mreturn\u001b[0m \u001b[0mself\u001b[0m\u001b[1;33m[\u001b[0m\u001b[0mname\u001b[0m\u001b[1;33m]\u001b[0m\u001b[1;33m\u001b[0m\u001b[1;33m\u001b[0m\u001b[0m\n\u001b[1;32m-> 5274\u001b[1;33m             \u001b[1;32mreturn\u001b[0m \u001b[0mobject\u001b[0m\u001b[1;33m.\u001b[0m\u001b[0m__getattribute__\u001b[0m\u001b[1;33m(\u001b[0m\u001b[0mself\u001b[0m\u001b[1;33m,\u001b[0m \u001b[0mname\u001b[0m\u001b[1;33m)\u001b[0m\u001b[1;33m\u001b[0m\u001b[1;33m\u001b[0m\u001b[0m\n\u001b[0m\u001b[0;32m   5275\u001b[0m \u001b[1;33m\u001b[0m\u001b[0m\n\u001b[0;32m   5276\u001b[0m     \u001b[1;32mdef\u001b[0m \u001b[0m__setattr__\u001b[0m\u001b[1;33m(\u001b[0m\u001b[0mself\u001b[0m\u001b[1;33m,\u001b[0m \u001b[0mname\u001b[0m\u001b[1;33m:\u001b[0m \u001b[0mstr\u001b[0m\u001b[1;33m,\u001b[0m \u001b[0mvalue\u001b[0m\u001b[1;33m)\u001b[0m \u001b[1;33m->\u001b[0m \u001b[1;32mNone\u001b[0m\u001b[1;33m:\u001b[0m\u001b[1;33m\u001b[0m\u001b[1;33m\u001b[0m\u001b[0m\n",
      "\u001b[1;31mAttributeError\u001b[0m: 'Series' object has no attribute 'value'"
     ]
    }
   ],
   "source": [
    "kospi_list.loc[(kospi_list['종목코드'] == '005930'), '종목명'].value()"
   ]
  },
  {
=======
>>>>>>> 7ba98dc4f677a234b26d770b4cd8222ea5a4b90f
   "cell_type": "markdown",
   "metadata": {},
   "source": [
    "## pandas_datareader 테스트"
   ]
  },
  {
   "cell_type": "code",
<<<<<<< HEAD
   "execution_count": null,
   "metadata": {},
   "outputs": [],
   "source": []
  },
  {
   "cell_type": "code",
   "execution_count": 10,
=======
   "execution_count": 16,
>>>>>>> 7ba98dc4f677a234b26d770b4cd8222ea5a4b90f
   "metadata": {
    "ExecuteTime": {
     "end_time": "2021-12-05T01:24:45.416759Z",
     "start_time": "2021-12-05T01:24:45.412732Z"
    }
   },
   "outputs": [],
   "source": [
    "dayInterval = 30\n",
    "baseDate = datetime.strptime(\"2021-09-10\", \"%Y-%m-%d\")\n",
    "startDate = (baseDate + timedelta(days = -dayInterval)).strftime(\"%Y-%m-%d\")\n",
    "endDate = (baseDate + timedelta(days = +dayInterval)).strftime(\"%Y-%m-%d\")"
   ]
  },
  {
   "cell_type": "code",
<<<<<<< HEAD
   "execution_count": 11,
=======
   "execution_count": 17,
>>>>>>> 7ba98dc4f677a234b26d770b4cd8222ea5a4b90f
   "metadata": {
    "ExecuteTime": {
     "end_time": "2021-12-05T01:24:46.702908Z",
     "start_time": "2021-12-05T01:24:45.580680Z"
    }
   },
   "outputs": [],
   "source": [
    "stock_test2 = pdr.get_data_yahoo('000660.ks', f'2020-02-01', f'2020-11-30')"
   ]
  },
  {
   "cell_type": "code",
<<<<<<< HEAD
   "execution_count": 12,
=======
   "execution_count": 18,
>>>>>>> 7ba98dc4f677a234b26d770b4cd8222ea5a4b90f
   "metadata": {
    "ExecuteTime": {
     "end_time": "2021-12-05T01:24:47.764359Z",
     "start_time": "2021-12-05T01:24:46.703815Z"
    }
   },
   "outputs": [],
   "source": [
    "stock_test = pdr.get_data_yahoo('000660.ks', f'{startDate}', f'{endDate}')"
   ]
  },
  {
   "cell_type": "code",
<<<<<<< HEAD
   "execution_count": 13,
=======
   "execution_count": 19,
>>>>>>> 7ba98dc4f677a234b26d770b4cd8222ea5a4b90f
   "metadata": {
    "ExecuteTime": {
     "end_time": "2021-12-05T01:24:47.769389Z",
     "start_time": "2021-12-05T01:24:47.765357Z"
    }
   },
   "outputs": [
    {
     "data": {
      "text/plain": [
<<<<<<< HEAD
       "[Timestamp('2020-06-05 00:00:00'),\n",
       " Timestamp('2020-02-27 00:00:00'),\n",
       " Timestamp('2020-10-08 00:00:00')]"
      ]
     },
     "execution_count": 13,
=======
       "[Timestamp('2020-06-02 00:00:00'),\n",
       " Timestamp('2020-06-25 00:00:00'),\n",
       " Timestamp('2020-11-02 00:00:00')]"
      ]
     },
     "execution_count": 19,
>>>>>>> 7ba98dc4f677a234b26d770b4cd8222ea5a4b90f
     "metadata": {},
     "output_type": "execute_result"
    }
   ],
   "source": [
    "random.sample(stock_test2.index.tolist(),3)"
   ]
  },
  {
   "cell_type": "code",
<<<<<<< HEAD
   "execution_count": 14,
=======
   "execution_count": 20,
>>>>>>> 7ba98dc4f677a234b26d770b4cd8222ea5a4b90f
   "metadata": {
    "ExecuteTime": {
     "end_time": "2021-12-05T01:24:47.777360Z",
     "start_time": "2021-12-05T01:24:47.770356Z"
    }
   },
   "outputs": [
    {
     "data": {
      "text/plain": [
       "'2020-02-03'"
      ]
     },
<<<<<<< HEAD
     "execution_count": 14,
=======
     "execution_count": 20,
>>>>>>> 7ba98dc4f677a234b26d770b4cd8222ea5a4b90f
     "metadata": {},
     "output_type": "execute_result"
    }
   ],
   "source": [
    "stock_test2.index.tolist()[0].strftime(\"%Y-%m-%d\")"
   ]
  },
  {
   "cell_type": "code",
<<<<<<< HEAD
   "execution_count": 15,
=======
   "execution_count": 21,
>>>>>>> 7ba98dc4f677a234b26d770b4cd8222ea5a4b90f
   "metadata": {
    "ExecuteTime": {
     "end_time": "2021-12-05T01:24:48.985500Z",
     "start_time": "2021-12-05T01:24:47.778359Z"
    }
   },
   "outputs": [],
   "source": [
    "stock_test = pdr.get_data_yahoo('000660.ks', f'{startDate}', f'{endDate}')"
   ]
  },
  {
   "cell_type": "code",
<<<<<<< HEAD
   "execution_count": 16,
=======
   "execution_count": 22,
>>>>>>> 7ba98dc4f677a234b26d770b4cd8222ea5a4b90f
   "metadata": {
    "ExecuteTime": {
     "end_time": "2021-12-05T01:24:48.989473Z",
     "start_time": "2021-12-05T01:24:48.986470Z"
    }
   },
   "outputs": [
    {
     "data": {
      "text/plain": [
       "Index(['High', 'Low', 'Open', 'Close', 'Volume', 'Adj Close'], dtype='object')"
      ]
     },
<<<<<<< HEAD
     "execution_count": 16,
=======
     "execution_count": 22,
>>>>>>> 7ba98dc4f677a234b26d770b4cd8222ea5a4b90f
     "metadata": {},
     "output_type": "execute_result"
    }
   ],
   "source": [
    "stock_test.columns"
   ]
  },
  {
   "cell_type": "markdown",
   "metadata": {},
   "source": [
    "# 분석함수 만들기"
   ]
  },
  {
   "cell_type": "markdown",
   "metadata": {},
   "source": [
    "* 구성요소\n",
    "    1. 날짜 추출 함수\n",
    "    2. 이전과 이후 한달 간의 주가 확인\n",
    "    3. 추출 당일의 주가가 이전 한달에 비해 어느 정도 수준인지 확인\n",
    "    4. 백분율로 환산\n",
    "    5. 위치가 어느정도 되는지 판단\n",
    "    6. 기간 _ 증가/감소 확인\n",
    "    7. aaa"
   ]
  },
  {
   "cell_type": "markdown",
   "metadata": {},
   "source": [
    "## 작동테스트"
   ]
  },
  {
   "cell_type": "code",
<<<<<<< HEAD
   "execution_count": 17,
=======
   "execution_count": 23,
>>>>>>> 7ba98dc4f677a234b26d770b4cd8222ea5a4b90f
   "metadata": {
    "ExecuteTime": {
     "end_time": "2021-12-05T01:24:48.996472Z",
     "start_time": "2021-12-05T01:24:48.990473Z"
    }
   },
   "outputs": [
    {
     "name": "stdout",
     "output_type": "stream",
     "text": [
      "40455\n"
     ]
    }
   ],
   "source": [
    "mdate = \"2010-10-05\"\n",
    "rdate = \"1899-12-31\"\n",
    "mdate1 = datetime.strptime(mdate, \"%Y-%m-%d\").date()\n",
    "rdate1 = datetime.strptime(rdate, \"%Y-%m-%d\").date()\n",
    "delta =  (mdate1 - rdate1).days\n",
    "print(delta)"
   ]
  },
  {
   "cell_type": "code",
<<<<<<< HEAD
   "execution_count": 18,
=======
   "execution_count": 24,
>>>>>>> 7ba98dc4f677a234b26d770b4cd8222ea5a4b90f
   "metadata": {
    "ExecuteTime": {
     "end_time": "2021-12-05T01:24:49.002501Z",
     "start_time": "2021-12-05T01:24:48.997471Z"
    }
   },
   "outputs": [],
   "source": [
    "#이전기간에서 상대적인 위치"
   ]
  },
  {
   "cell_type": "code",
<<<<<<< HEAD
   "execution_count": 19,
=======
   "execution_count": 25,
>>>>>>> 7ba98dc4f677a234b26d770b4cd8222ea5a4b90f
   "metadata": {
    "ExecuteTime": {
     "end_time": "2021-12-05T01:24:49.009470Z",
     "start_time": "2021-12-05T01:24:49.003470Z"
    }
   },
   "outputs": [],
   "source": [
    "stock_test_before = stock_test.loc[(stock_test.index <= baseDate.strftime(\"%Y-%m-%d\")),].copy()"
   ]
  },
  {
   "cell_type": "code",
<<<<<<< HEAD
   "execution_count": 20,
=======
   "execution_count": 26,
>>>>>>> 7ba98dc4f677a234b26d770b4cd8222ea5a4b90f
   "metadata": {
    "ExecuteTime": {
     "end_time": "2021-12-05T01:24:49.017501Z",
     "start_time": "2021-12-05T01:24:49.010470Z"
    }
   },
   "outputs": [],
   "source": [
<<<<<<< HEAD
    "stock_test_before['rank_pct'] = stock_test_before['Close'].rank(pct=True, ascending=False)*100/10\n",
    "stock_test_before['rank_pct'] = stock_test_before['rank_pct'].round(0)"
=======
    "stock_test_before['rank_pct'] = pd.qcut(stock_test_before['Close'], q=10, labels= range(10, 0, -1))#.rank(pct=True, ascending=False)*100/10\n",
    "#stock_test_before['rank_pct'] = stock_test_before['rank_pct'].round(0)"
>>>>>>> 7ba98dc4f677a234b26d770b4cd8222ea5a4b90f
   ]
  },
  {
   "cell_type": "code",
<<<<<<< HEAD
   "execution_count": 113,
=======
   "execution_count": 27,
   "metadata": {},
   "outputs": [
    {
     "data": {
      "text/plain": [
       "Date\n",
       "2021-08-11     1.0\n",
       "2021-08-12     2.0\n",
       "2021-08-13     3.0\n",
       "2021-08-17     4.0\n",
       "2021-08-18     5.0\n",
       "2021-08-19     6.0\n",
       "2021-08-20     7.0\n",
       "2021-08-23     8.0\n",
       "2021-08-24     9.0\n",
       "2021-08-25    10.0\n",
       "2021-08-26    11.0\n",
       "2021-08-27    12.0\n",
       "2021-08-30    13.0\n",
       "2021-08-31    14.0\n",
       "2021-09-01    15.0\n",
       "2021-09-02    16.0\n",
       "2021-09-03    17.0\n",
       "2021-09-06    18.0\n",
       "2021-09-07    19.0\n",
       "2021-09-08    20.0\n",
       "2021-09-09    21.0\n",
       "2021-09-10    22.0\n",
       "Name: timeIndex, dtype: float64"
      ]
     },
     "execution_count": 27,
     "metadata": {},
     "output_type": "execute_result"
    }
   ],
   "source": [
    "stock_test_before['timeIndex'] = stock_test_before.index\n",
    "stock_test_before['timeIndex'].rank(ascending=True)"
   ]
  },
  {
   "cell_type": "code",
   "execution_count": 28,
>>>>>>> 7ba98dc4f677a234b26d770b4cd8222ea5a4b90f
   "metadata": {
    "ExecuteTime": {
     "end_time": "2021-12-05T03:22:10.933137Z",
     "start_time": "2021-12-05T03:22:10.930168Z"
    }
   },
   "outputs": [
    {
     "data": {
      "text/plain": [
       "Timestamp('2021-09-10 00:00:00')"
      ]
     },
<<<<<<< HEAD
     "execution_count": 113,
=======
     "execution_count": 28,
>>>>>>> 7ba98dc4f677a234b26d770b4cd8222ea5a4b90f
     "metadata": {},
     "output_type": "execute_result"
    }
   ],
   "source": [
    "max(stock_test_before.index.tolist())"
   ]
  },
  {
   "cell_type": "code",
<<<<<<< HEAD
   "execution_count": 22,
=======
   "execution_count": 29,
>>>>>>> 7ba98dc4f677a234b26d770b4cd8222ea5a4b90f
   "metadata": {
    "ExecuteTime": {
     "end_time": "2021-12-05T01:24:49.031502Z",
     "start_time": "2021-12-05T01:24:49.024470Z"
    }
   },
   "outputs": [],
   "source": [
    "min_date = min(stock_test_before.index.tolist()).date()\n",
    "stock_test_before['dateInt'] = stock_test_before.index.map(lambda x : (x.date() - min_date).days + 1)"
   ]
  },
  {
   "cell_type": "code",
<<<<<<< HEAD
   "execution_count": 23,
=======
   "execution_count": 30,
>>>>>>> 7ba98dc4f677a234b26d770b4cd8222ea5a4b90f
   "metadata": {
    "ExecuteTime": {
     "end_time": "2021-12-05T01:24:49.044498Z",
     "start_time": "2021-12-05T01:24:49.032470Z"
    }
   },
   "outputs": [
    {
     "data": {
      "text/html": [
       "<div>\n",
       "<style scoped>\n",
       "    .dataframe tbody tr th:only-of-type {\n",
       "        vertical-align: middle;\n",
       "    }\n",
       "\n",
       "    .dataframe tbody tr th {\n",
       "        vertical-align: top;\n",
       "    }\n",
       "\n",
       "    .dataframe thead th {\n",
       "        text-align: right;\n",
       "    }\n",
       "</style>\n",
       "<table border=\"1\" class=\"dataframe\">\n",
       "  <thead>\n",
       "    <tr style=\"text-align: right;\">\n",
       "      <th></th>\n",
       "      <th>High</th>\n",
       "      <th>Low</th>\n",
       "      <th>Open</th>\n",
       "      <th>Close</th>\n",
       "      <th>Volume</th>\n",
       "      <th>Adj Close</th>\n",
       "      <th>rank_pct</th>\n",
<<<<<<< HEAD
=======
       "      <th>timeIndex</th>\n",
>>>>>>> 7ba98dc4f677a234b26d770b4cd8222ea5a4b90f
       "      <th>dateInt</th>\n",
       "    </tr>\n",
       "    <tr>\n",
       "      <th>Date</th>\n",
       "      <th></th>\n",
       "      <th></th>\n",
       "      <th></th>\n",
       "      <th></th>\n",
       "      <th></th>\n",
       "      <th></th>\n",
       "      <th></th>\n",
       "      <th></th>\n",
<<<<<<< HEAD
=======
       "      <th></th>\n",
>>>>>>> 7ba98dc4f677a234b26d770b4cd8222ea5a4b90f
       "    </tr>\n",
       "  </thead>\n",
       "  <tbody>\n",
       "    <tr>\n",
       "      <th>2021-08-11</th>\n",
       "      <td>110000</td>\n",
       "      <td>105000</td>\n",
       "      <td>109000</td>\n",
       "      <td>105500</td>\n",
       "      <td>13715267</td>\n",
       "      <td>105500</td>\n",
<<<<<<< HEAD
       "      <td>3.0</td>\n",
=======
       "      <td>3</td>\n",
       "      <td>2021-08-11</td>\n",
>>>>>>> 7ba98dc4f677a234b26d770b4cd8222ea5a4b90f
       "      <td>1</td>\n",
       "    </tr>\n",
       "    <tr>\n",
       "      <th>2021-08-12</th>\n",
       "      <td>104000</td>\n",
       "      <td>99800</td>\n",
       "      <td>102000</td>\n",
       "      <td>100500</td>\n",
       "      <td>19150647</td>\n",
       "      <td>100500</td>\n",
<<<<<<< HEAD
       "      <td>10.0</td>\n",
=======
       "      <td>10</td>\n",
       "      <td>2021-08-12</td>\n",
>>>>>>> 7ba98dc4f677a234b26d770b4cd8222ea5a4b90f
       "      <td>2</td>\n",
       "    </tr>\n",
       "    <tr>\n",
       "      <th>2021-08-13</th>\n",
       "      <td>101500</td>\n",
       "      <td>98900</td>\n",
       "      <td>99600</td>\n",
       "      <td>101500</td>\n",
       "      <td>11622957</td>\n",
       "      <td>101500</td>\n",
<<<<<<< HEAD
       "      <td>9.0</td>\n",
=======
       "      <td>10</td>\n",
       "      <td>2021-08-13</td>\n",
>>>>>>> 7ba98dc4f677a234b26d770b4cd8222ea5a4b90f
       "      <td>3</td>\n",
       "    </tr>\n",
       "    <tr>\n",
       "      <th>2021-08-17</th>\n",
       "      <td>103500</td>\n",
       "      <td>100500</td>\n",
       "      <td>101000</td>\n",
       "      <td>101500</td>\n",
       "      <td>7851717</td>\n",
       "      <td>101500</td>\n",
<<<<<<< HEAD
       "      <td>9.0</td>\n",
=======
       "      <td>10</td>\n",
       "      <td>2021-08-17</td>\n",
>>>>>>> 7ba98dc4f677a234b26d770b4cd8222ea5a4b90f
       "      <td>7</td>\n",
       "    </tr>\n",
       "    <tr>\n",
       "      <th>2021-08-18</th>\n",
       "      <td>105500</td>\n",
       "      <td>101500</td>\n",
       "      <td>103000</td>\n",
       "      <td>104000</td>\n",
       "      <td>8047599</td>\n",
       "      <td>104000</td>\n",
<<<<<<< HEAD
       "      <td>5.0</td>\n",
=======
       "      <td>6</td>\n",
       "      <td>2021-08-18</td>\n",
>>>>>>> 7ba98dc4f677a234b26d770b4cd8222ea5a4b90f
       "      <td>8</td>\n",
       "    </tr>\n",
       "    <tr>\n",
       "      <th>2021-08-19</th>\n",
       "      <td>105500</td>\n",
       "      <td>101500</td>\n",
       "      <td>103000</td>\n",
       "      <td>102500</td>\n",
       "      <td>6161038</td>\n",
       "      <td>102500</td>\n",
<<<<<<< HEAD
       "      <td>8.0</td>\n",
=======
       "      <td>9</td>\n",
       "      <td>2021-08-19</td>\n",
>>>>>>> 7ba98dc4f677a234b26d770b4cd8222ea5a4b90f
       "      <td>9</td>\n",
       "    </tr>\n",
       "    <tr>\n",
       "      <th>2021-08-20</th>\n",
       "      <td>104500</td>\n",
       "      <td>102000</td>\n",
       "      <td>104000</td>\n",
       "      <td>102500</td>\n",
       "      <td>4719139</td>\n",
       "      <td>102500</td>\n",
<<<<<<< HEAD
       "      <td>8.0</td>\n",
=======
       "      <td>9</td>\n",
       "      <td>2021-08-20</td>\n",
>>>>>>> 7ba98dc4f677a234b26d770b4cd8222ea5a4b90f
       "      <td>10</td>\n",
       "    </tr>\n",
       "    <tr>\n",
       "      <th>2021-08-23</th>\n",
       "      <td>105000</td>\n",
       "      <td>103000</td>\n",
       "      <td>104500</td>\n",
       "      <td>103000</td>\n",
       "      <td>4515699</td>\n",
       "      <td>103000</td>\n",
<<<<<<< HEAD
       "      <td>8.0</td>\n",
=======
       "      <td>8</td>\n",
       "      <td>2021-08-23</td>\n",
>>>>>>> 7ba98dc4f677a234b26d770b4cd8222ea5a4b90f
       "      <td>13</td>\n",
       "    </tr>\n",
       "    <tr>\n",
       "      <th>2021-08-24</th>\n",
       "      <td>105500</td>\n",
       "      <td>104000</td>\n",
       "      <td>104500</td>\n",
       "      <td>105000</td>\n",
       "      <td>4454743</td>\n",
       "      <td>105000</td>\n",
<<<<<<< HEAD
       "      <td>4.0</td>\n",
=======
       "      <td>4</td>\n",
       "      <td>2021-08-24</td>\n",
>>>>>>> 7ba98dc4f677a234b26d770b4cd8222ea5a4b90f
       "      <td>14</td>\n",
       "    </tr>\n",
       "    <tr>\n",
       "      <th>2021-08-25</th>\n",
       "      <td>106000</td>\n",
       "      <td>102500</td>\n",
       "      <td>106000</td>\n",
       "      <td>103500</td>\n",
       "      <td>3194555</td>\n",
       "      <td>103500</td>\n",
<<<<<<< HEAD
       "      <td>6.0</td>\n",
=======
       "      <td>7</td>\n",
       "      <td>2021-08-25</td>\n",
>>>>>>> 7ba98dc4f677a234b26d770b4cd8222ea5a4b90f
       "      <td>15</td>\n",
       "    </tr>\n",
       "    <tr>\n",
       "      <th>2021-08-26</th>\n",
       "      <td>106500</td>\n",
       "      <td>103500</td>\n",
       "      <td>106000</td>\n",
       "      <td>104000</td>\n",
       "      <td>3694741</td>\n",
       "      <td>104000</td>\n",
<<<<<<< HEAD
       "      <td>5.0</td>\n",
=======
       "      <td>6</td>\n",
       "      <td>2021-08-26</td>\n",
>>>>>>> 7ba98dc4f677a234b26d770b4cd8222ea5a4b90f
       "      <td>16</td>\n",
       "    </tr>\n",
       "    <tr>\n",
       "      <th>2021-08-27</th>\n",
       "      <td>104500</td>\n",
       "      <td>101000</td>\n",
       "      <td>103500</td>\n",
       "      <td>103500</td>\n",
       "      <td>3507782</td>\n",
       "      <td>103500</td>\n",
<<<<<<< HEAD
       "      <td>6.0</td>\n",
=======
       "      <td>7</td>\n",
       "      <td>2021-08-27</td>\n",
>>>>>>> 7ba98dc4f677a234b26d770b4cd8222ea5a4b90f
       "      <td>17</td>\n",
       "    </tr>\n",
       "    <tr>\n",
       "      <th>2021-08-30</th>\n",
       "      <td>105500</td>\n",
       "      <td>103500</td>\n",
       "      <td>105000</td>\n",
       "      <td>103500</td>\n",
       "      <td>1815758</td>\n",
       "      <td>103500</td>\n",
<<<<<<< HEAD
       "      <td>6.0</td>\n",
=======
       "      <td>7</td>\n",
       "      <td>2021-08-30</td>\n",
>>>>>>> 7ba98dc4f677a234b26d770b4cd8222ea5a4b90f
       "      <td>20</td>\n",
       "    </tr>\n",
       "    <tr>\n",
       "      <th>2021-08-31</th>\n",
       "      <td>106500</td>\n",
       "      <td>102000</td>\n",
       "      <td>103500</td>\n",
       "      <td>106500</td>\n",
       "      <td>4979276</td>\n",
       "      <td>106500</td>\n",
<<<<<<< HEAD
       "      <td>2.0</td>\n",
=======
       "      <td>2</td>\n",
       "      <td>2021-08-31</td>\n",
>>>>>>> 7ba98dc4f677a234b26d770b4cd8222ea5a4b90f
       "      <td>21</td>\n",
       "    </tr>\n",
       "    <tr>\n",
       "      <th>2021-09-01</th>\n",
       "      <td>108000</td>\n",
       "      <td>104500</td>\n",
       "      <td>106000</td>\n",
       "      <td>108000</td>\n",
       "      <td>4736183</td>\n",
       "      <td>108000</td>\n",
<<<<<<< HEAD
       "      <td>0.0</td>\n",
=======
       "      <td>1</td>\n",
       "      <td>2021-09-01</td>\n",
>>>>>>> 7ba98dc4f677a234b26d770b4cd8222ea5a4b90f
       "      <td>22</td>\n",
       "    </tr>\n",
       "    <tr>\n",
       "      <th>2021-09-02</th>\n",
       "      <td>108500</td>\n",
       "      <td>106000</td>\n",
       "      <td>108000</td>\n",
       "      <td>106500</td>\n",
       "      <td>2724565</td>\n",
       "      <td>106500</td>\n",
<<<<<<< HEAD
       "      <td>2.0</td>\n",
=======
       "      <td>2</td>\n",
       "      <td>2021-09-02</td>\n",
>>>>>>> 7ba98dc4f677a234b26d770b4cd8222ea5a4b90f
       "      <td>23</td>\n",
       "    </tr>\n",
       "    <tr>\n",
       "      <th>2021-09-03</th>\n",
       "      <td>107500</td>\n",
       "      <td>106000</td>\n",
       "      <td>106500</td>\n",
       "      <td>107000</td>\n",
       "      <td>2513486</td>\n",
       "      <td>107000</td>\n",
<<<<<<< HEAD
       "      <td>1.0</td>\n",
=======
       "      <td>1</td>\n",
       "      <td>2021-09-03</td>\n",
>>>>>>> 7ba98dc4f677a234b26d770b4cd8222ea5a4b90f
       "      <td>24</td>\n",
       "    </tr>\n",
       "    <tr>\n",
       "      <th>2021-09-06</th>\n",
       "      <td>107000</td>\n",
       "      <td>105000</td>\n",
       "      <td>106500</td>\n",
       "      <td>106000</td>\n",
       "      <td>1888595</td>\n",
       "      <td>106000</td>\n",
<<<<<<< HEAD
       "      <td>2.0</td>\n",
=======
       "      <td>3</td>\n",
       "      <td>2021-09-06</td>\n",
>>>>>>> 7ba98dc4f677a234b26d770b4cd8222ea5a4b90f
       "      <td>27</td>\n",
       "    </tr>\n",
       "    <tr>\n",
       "      <th>2021-09-07</th>\n",
       "      <td>106000</td>\n",
       "      <td>104000</td>\n",
       "      <td>105500</td>\n",
       "      <td>104500</td>\n",
       "      <td>2547667</td>\n",
       "      <td>104500</td>\n",
<<<<<<< HEAD
       "      <td>5.0</td>\n",
=======
       "      <td>5</td>\n",
       "      <td>2021-09-07</td>\n",
>>>>>>> 7ba98dc4f677a234b26d770b4cd8222ea5a4b90f
       "      <td>28</td>\n",
       "    </tr>\n",
       "    <tr>\n",
       "      <th>2021-09-08</th>\n",
       "      <td>107500</td>\n",
       "      <td>103500</td>\n",
       "      <td>104000</td>\n",
       "      <td>106000</td>\n",
       "      <td>2891267</td>\n",
       "      <td>106000</td>\n",
<<<<<<< HEAD
       "      <td>2.0</td>\n",
=======
       "      <td>3</td>\n",
       "      <td>2021-09-08</td>\n",
>>>>>>> 7ba98dc4f677a234b26d770b4cd8222ea5a4b90f
       "      <td>29</td>\n",
       "    </tr>\n",
       "    <tr>\n",
       "      <th>2021-09-09</th>\n",
       "      <td>106000</td>\n",
       "      <td>103000</td>\n",
       "      <td>105000</td>\n",
       "      <td>103000</td>\n",
       "      <td>3233011</td>\n",
       "      <td>103000</td>\n",
<<<<<<< HEAD
       "      <td>8.0</td>\n",
=======
       "      <td>8</td>\n",
       "      <td>2021-09-09</td>\n",
>>>>>>> 7ba98dc4f677a234b26d770b4cd8222ea5a4b90f
       "      <td>30</td>\n",
       "    </tr>\n",
       "    <tr>\n",
       "      <th>2021-09-10</th>\n",
       "      <td>105500</td>\n",
       "      <td>103000</td>\n",
       "      <td>103500</td>\n",
       "      <td>105000</td>\n",
       "      <td>1999369</td>\n",
       "      <td>105000</td>\n",
<<<<<<< HEAD
       "      <td>4.0</td>\n",
=======
       "      <td>4</td>\n",
       "      <td>2021-09-10</td>\n",
>>>>>>> 7ba98dc4f677a234b26d770b4cd8222ea5a4b90f
       "      <td>31</td>\n",
       "    </tr>\n",
       "  </tbody>\n",
       "</table>\n",
       "</div>"
      ],
      "text/plain": [
<<<<<<< HEAD
       "              High     Low    Open   Close    Volume  Adj Close  rank_pct  \\\n",
       "Date                                                                        \n",
       "2021-08-11  110000  105000  109000  105500  13715267     105500       3.0   \n",
       "2021-08-12  104000   99800  102000  100500  19150647     100500      10.0   \n",
       "2021-08-13  101500   98900   99600  101500  11622957     101500       9.0   \n",
       "2021-08-17  103500  100500  101000  101500   7851717     101500       9.0   \n",
       "2021-08-18  105500  101500  103000  104000   8047599     104000       5.0   \n",
       "2021-08-19  105500  101500  103000  102500   6161038     102500       8.0   \n",
       "2021-08-20  104500  102000  104000  102500   4719139     102500       8.0   \n",
       "2021-08-23  105000  103000  104500  103000   4515699     103000       8.0   \n",
       "2021-08-24  105500  104000  104500  105000   4454743     105000       4.0   \n",
       "2021-08-25  106000  102500  106000  103500   3194555     103500       6.0   \n",
       "2021-08-26  106500  103500  106000  104000   3694741     104000       5.0   \n",
       "2021-08-27  104500  101000  103500  103500   3507782     103500       6.0   \n",
       "2021-08-30  105500  103500  105000  103500   1815758     103500       6.0   \n",
       "2021-08-31  106500  102000  103500  106500   4979276     106500       2.0   \n",
       "2021-09-01  108000  104500  106000  108000   4736183     108000       0.0   \n",
       "2021-09-02  108500  106000  108000  106500   2724565     106500       2.0   \n",
       "2021-09-03  107500  106000  106500  107000   2513486     107000       1.0   \n",
       "2021-09-06  107000  105000  106500  106000   1888595     106000       2.0   \n",
       "2021-09-07  106000  104000  105500  104500   2547667     104500       5.0   \n",
       "2021-09-08  107500  103500  104000  106000   2891267     106000       2.0   \n",
       "2021-09-09  106000  103000  105000  103000   3233011     103000       8.0   \n",
       "2021-09-10  105500  103000  103500  105000   1999369     105000       4.0   \n",
       "\n",
       "            dateInt  \n",
       "Date                 \n",
       "2021-08-11        1  \n",
       "2021-08-12        2  \n",
       "2021-08-13        3  \n",
       "2021-08-17        7  \n",
       "2021-08-18        8  \n",
       "2021-08-19        9  \n",
       "2021-08-20       10  \n",
       "2021-08-23       13  \n",
       "2021-08-24       14  \n",
       "2021-08-25       15  \n",
       "2021-08-26       16  \n",
       "2021-08-27       17  \n",
       "2021-08-30       20  \n",
       "2021-08-31       21  \n",
       "2021-09-01       22  \n",
       "2021-09-02       23  \n",
       "2021-09-03       24  \n",
       "2021-09-06       27  \n",
       "2021-09-07       28  \n",
       "2021-09-08       29  \n",
       "2021-09-09       30  \n",
       "2021-09-10       31  "
      ]
     },
     "execution_count": 23,
=======
       "              High     Low    Open   Close    Volume  Adj Close rank_pct  \\\n",
       "Date                                                                       \n",
       "2021-08-11  110000  105000  109000  105500  13715267     105500        3   \n",
       "2021-08-12  104000   99800  102000  100500  19150647     100500       10   \n",
       "2021-08-13  101500   98900   99600  101500  11622957     101500       10   \n",
       "2021-08-17  103500  100500  101000  101500   7851717     101500       10   \n",
       "2021-08-18  105500  101500  103000  104000   8047599     104000        6   \n",
       "2021-08-19  105500  101500  103000  102500   6161038     102500        9   \n",
       "2021-08-20  104500  102000  104000  102500   4719139     102500        9   \n",
       "2021-08-23  105000  103000  104500  103000   4515699     103000        8   \n",
       "2021-08-24  105500  104000  104500  105000   4454743     105000        4   \n",
       "2021-08-25  106000  102500  106000  103500   3194555     103500        7   \n",
       "2021-08-26  106500  103500  106000  104000   3694741     104000        6   \n",
       "2021-08-27  104500  101000  103500  103500   3507782     103500        7   \n",
       "2021-08-30  105500  103500  105000  103500   1815758     103500        7   \n",
       "2021-08-31  106500  102000  103500  106500   4979276     106500        2   \n",
       "2021-09-01  108000  104500  106000  108000   4736183     108000        1   \n",
       "2021-09-02  108500  106000  108000  106500   2724565     106500        2   \n",
       "2021-09-03  107500  106000  106500  107000   2513486     107000        1   \n",
       "2021-09-06  107000  105000  106500  106000   1888595     106000        3   \n",
       "2021-09-07  106000  104000  105500  104500   2547667     104500        5   \n",
       "2021-09-08  107500  103500  104000  106000   2891267     106000        3   \n",
       "2021-09-09  106000  103000  105000  103000   3233011     103000        8   \n",
       "2021-09-10  105500  103000  103500  105000   1999369     105000        4   \n",
       "\n",
       "            timeIndex  dateInt  \n",
       "Date                            \n",
       "2021-08-11 2021-08-11        1  \n",
       "2021-08-12 2021-08-12        2  \n",
       "2021-08-13 2021-08-13        3  \n",
       "2021-08-17 2021-08-17        7  \n",
       "2021-08-18 2021-08-18        8  \n",
       "2021-08-19 2021-08-19        9  \n",
       "2021-08-20 2021-08-20       10  \n",
       "2021-08-23 2021-08-23       13  \n",
       "2021-08-24 2021-08-24       14  \n",
       "2021-08-25 2021-08-25       15  \n",
       "2021-08-26 2021-08-26       16  \n",
       "2021-08-27 2021-08-27       17  \n",
       "2021-08-30 2021-08-30       20  \n",
       "2021-08-31 2021-08-31       21  \n",
       "2021-09-01 2021-09-01       22  \n",
       "2021-09-02 2021-09-02       23  \n",
       "2021-09-03 2021-09-03       24  \n",
       "2021-09-06 2021-09-06       27  \n",
       "2021-09-07 2021-09-07       28  \n",
       "2021-09-08 2021-09-08       29  \n",
       "2021-09-09 2021-09-09       30  \n",
       "2021-09-10 2021-09-10       31  "
      ]
     },
     "execution_count": 30,
>>>>>>> 7ba98dc4f677a234b26d770b4cd8222ea5a4b90f
     "metadata": {},
     "output_type": "execute_result"
    }
   ],
   "source": [
    "stock_test_before"
   ]
  },
  {
   "cell_type": "code",
<<<<<<< HEAD
   "execution_count": 24,
=======
   "execution_count": 31,
>>>>>>> 7ba98dc4f677a234b26d770b4cd8222ea5a4b90f
   "metadata": {
    "ExecuteTime": {
     "end_time": "2021-12-05T01:24:49.052471Z",
     "start_time": "2021-12-05T01:24:49.045470Z"
    }
   },
   "outputs": [
    {
     "data": {
      "text/plain": [
<<<<<<< HEAD
       "4.0"
      ]
     },
     "execution_count": 24,
=======
       "4"
      ]
     },
     "execution_count": 31,
>>>>>>> 7ba98dc4f677a234b26d770b4cd8222ea5a4b90f
     "metadata": {},
     "output_type": "execute_result"
    }
   ],
   "source": [
    "stock_test_before[stock_test_before.index == \"2021-09-10\"][\"rank_pct\"][0]"
   ]
  },
  {
   "cell_type": "code",
<<<<<<< HEAD
   "execution_count": 198,
=======
   "execution_count": 32,
>>>>>>> 7ba98dc4f677a234b26d770b4cd8222ea5a4b90f
   "metadata": {
    "ExecuteTime": {
     "end_time": "2021-12-05T03:58:19.524617Z",
     "start_time": "2021-12-05T03:58:19.520587Z"
    }
   },
   "outputs": [],
   "source": [
    "def randomStocks(cntStocks: int):\n",
    "    \n",
    "    \"\"\"\n",
    "    랜덤하게 종목 선정\n",
    "    \"\"\"\n",
    "    \n",
    "    return random.sample(kospi_list['종목코드'].tolist(), cntStocks)"
   ]
  },
  {
   "cell_type": "code",
<<<<<<< HEAD
   "execution_count": 199,
=======
   "execution_count": 33,
>>>>>>> 7ba98dc4f677a234b26d770b4cd8222ea5a4b90f
   "metadata": {
    "ExecuteTime": {
     "end_time": "2021-12-05T03:58:19.755200Z",
     "start_time": "2021-12-05T03:58:19.753199Z"
    }
   },
   "outputs": [],
   "source": [
    "randomStocks_test = randomStocks(3)"
   ]
  },
  {
   "cell_type": "code",
<<<<<<< HEAD
   "execution_count": 200,
=======
   "execution_count": 34,
>>>>>>> 7ba98dc4f677a234b26d770b4cd8222ea5a4b90f
   "metadata": {
    "ExecuteTime": {
     "end_time": "2021-12-05T03:58:19.948218Z",
     "start_time": "2021-12-05T03:58:19.945217Z"
    }
   },
   "outputs": [],
   "source": [
    "def getDateList(startDate : str, endDate : str, code: str, cntDays: int):\n",
    "    \n",
    "    \"\"\"\n",
    "    yahoo 패키지의 경우 빈 값이 많음 이에 따라 값이 있는 데이터들에서 \n",
    "    랜덤하게 날짜를 추출해 보기로 함\n",
    "    \"\"\"\n",
    "    \n",
    "    stockDf = pdr.get_data_yahoo(f'{code}.ks', f'{startDate}', f'{endDate}')\n",
    "    \n",
    "    \n",
    "    return random.sample(stockDf.index.tolist(), cntDays)"
   ]
  },
  {
   "cell_type": "code",
<<<<<<< HEAD
   "execution_count": 201,
=======
   "execution_count": 35,
>>>>>>> 7ba98dc4f677a234b26d770b4cd8222ea5a4b90f
   "metadata": {
    "ExecuteTime": {
     "end_time": "2021-12-05T03:58:22.126344Z",
     "start_time": "2021-12-05T03:58:20.145241Z"
    }
   },
   "outputs": [],
   "source": [
    "getDateList_test = getDateList(\"2019-02-01\", \"2019-11-30\", randomStocks_test[0], 5)"
   ]
  },
  {
   "cell_type": "code",
<<<<<<< HEAD
   "execution_count": 202,
=======
   "execution_count": 36,
>>>>>>> 7ba98dc4f677a234b26d770b4cd8222ea5a4b90f
   "metadata": {
    "ExecuteTime": {
     "end_time": "2021-12-05T03:58:22.131377Z",
     "start_time": "2021-12-05T03:58:22.127344Z"
    }
   },
   "outputs": [
    {
     "data": {
      "text/plain": [
<<<<<<< HEAD
       "[Timestamp('2019-10-10 00:00:00'),\n",
       " Timestamp('2019-02-01 00:00:00'),\n",
       " Timestamp('2019-11-07 00:00:00'),\n",
       " Timestamp('2019-08-20 00:00:00'),\n",
       " Timestamp('2019-04-18 00:00:00')]"
      ]
     },
     "execution_count": 202,
=======
       "[Timestamp('2019-07-31 00:00:00'),\n",
       " Timestamp('2019-07-30 00:00:00'),\n",
       " Timestamp('2019-05-31 00:00:00'),\n",
       " Timestamp('2019-09-03 00:00:00'),\n",
       " Timestamp('2019-09-02 00:00:00')]"
      ]
     },
     "execution_count": 36,
>>>>>>> 7ba98dc4f677a234b26d770b4cd8222ea5a4b90f
     "metadata": {},
     "output_type": "execute_result"
    }
   ],
   "source": [
    "getDateList_test"
   ]
  },
  {
   "cell_type": "code",
<<<<<<< HEAD
   "execution_count": 203,
=======
   "execution_count": 37,
>>>>>>> 7ba98dc4f677a234b26d770b4cd8222ea5a4b90f
   "metadata": {
    "ExecuteTime": {
     "end_time": "2021-12-05T03:58:22.143890Z",
     "start_time": "2021-12-05T03:58:22.132346Z"
    }
   },
   "outputs": [],
   "source": [
    "def getStockDf(code: str, dateList: list, dayInterval : int):\n",
    "    \n",
    "    min_datetime_minusN = (min(dateList) + timedelta(days = -dayInterval)).strftime(\"%Y-%m-%d\")\n",
    "    max_datetime_plusN = (max(dateList) + timedelta(days = +dayInterval)).strftime(\"%Y-%m-%d\")\n",
    "    \n",
    "    return pdr.get_data_yahoo(f'{code}.ks', f'{min_datetime_minusN}', f'{max_datetime_plusN}')"
   ]
  },
  {
   "cell_type": "code",
<<<<<<< HEAD
   "execution_count": 204,
=======
   "execution_count": 38,
>>>>>>> 7ba98dc4f677a234b26d770b4cd8222ea5a4b90f
   "metadata": {
    "ExecuteTime": {
     "end_time": "2021-12-05T03:58:24.699215Z",
     "start_time": "2021-12-05T03:58:22.144889Z"
    }
   },
   "outputs": [],
   "source": [
    "getStockDf_test = getStockDf(randomStocks_test[0], getDateList_test, 30)"
   ]
  },
  {
   "cell_type": "code",
<<<<<<< HEAD
   "execution_count": 205,
=======
   "execution_count": 39,
>>>>>>> 7ba98dc4f677a234b26d770b4cd8222ea5a4b90f
   "metadata": {
    "ExecuteTime": {
     "end_time": "2021-12-05T03:58:24.709149Z",
     "start_time": "2021-12-05T03:58:24.700119Z"
    }
   },
   "outputs": [
    {
     "data": {
      "text/html": [
       "<div>\n",
       "<style scoped>\n",
       "    .dataframe tbody tr th:only-of-type {\n",
       "        vertical-align: middle;\n",
       "    }\n",
       "\n",
       "    .dataframe tbody tr th {\n",
       "        vertical-align: top;\n",
       "    }\n",
       "\n",
       "    .dataframe thead th {\n",
       "        text-align: right;\n",
       "    }\n",
       "</style>\n",
       "<table border=\"1\" class=\"dataframe\">\n",
       "  <thead>\n",
       "    <tr style=\"text-align: right;\">\n",
       "      <th></th>\n",
       "      <th>High</th>\n",
       "      <th>Low</th>\n",
       "      <th>Open</th>\n",
       "      <th>Close</th>\n",
       "      <th>Volume</th>\n",
       "      <th>Adj Close</th>\n",
       "    </tr>\n",
       "    <tr>\n",
       "      <th>Date</th>\n",
       "      <th></th>\n",
       "      <th></th>\n",
       "      <th></th>\n",
       "      <th></th>\n",
       "      <th></th>\n",
       "      <th></th>\n",
       "    </tr>\n",
       "  </thead>\n",
       "  <tbody>\n",
       "    <tr>\n",
<<<<<<< HEAD
       "      <th>2019-01-02</th>\n",
       "      <td>43600.0</td>\n",
       "      <td>42200.0</td>\n",
       "      <td>43200.0</td>\n",
       "      <td>43200.0</td>\n",
       "      <td>297.0</td>\n",
       "      <td>43200.0</td>\n",
       "    </tr>\n",
       "    <tr>\n",
       "      <th>2019-01-03</th>\n",
       "      <td>43900.0</td>\n",
       "      <td>43200.0</td>\n",
       "      <td>43900.0</td>\n",
       "      <td>43200.0</td>\n",
       "      <td>18.0</td>\n",
       "      <td>43200.0</td>\n",
       "    </tr>\n",
       "    <tr>\n",
       "      <th>2019-01-04</th>\n",
       "      <td>43200.0</td>\n",
       "      <td>42500.0</td>\n",
       "      <td>43200.0</td>\n",
       "      <td>42900.0</td>\n",
       "      <td>76.0</td>\n",
       "      <td>42900.0</td>\n",
       "    </tr>\n",
       "    <tr>\n",
       "      <th>2019-01-07</th>\n",
       "      <td>43000.0</td>\n",
       "      <td>42000.0</td>\n",
       "      <td>42000.0</td>\n",
       "      <td>42400.0</td>\n",
       "      <td>792.0</td>\n",
       "      <td>42400.0</td>\n",
       "    </tr>\n",
       "    <tr>\n",
       "      <th>2019-01-08</th>\n",
       "      <td>42600.0</td>\n",
       "      <td>42000.0</td>\n",
       "      <td>42400.0</td>\n",
       "      <td>42000.0</td>\n",
       "      <td>1340.0</td>\n",
       "      <td>42000.0</td>\n",
=======
       "      <th>2019-05-02</th>\n",
       "      <td>275000</td>\n",
       "      <td>268500</td>\n",
       "      <td>268500</td>\n",
       "      <td>270500</td>\n",
       "      <td>96666</td>\n",
       "      <td>259076.125000</td>\n",
       "    </tr>\n",
       "    <tr>\n",
       "      <th>2019-05-03</th>\n",
       "      <td>273500</td>\n",
       "      <td>268000</td>\n",
       "      <td>271500</td>\n",
       "      <td>268000</td>\n",
       "      <td>91940</td>\n",
       "      <td>256681.703125</td>\n",
       "    </tr>\n",
       "    <tr>\n",
       "      <th>2019-05-07</th>\n",
       "      <td>271000</td>\n",
       "      <td>260000</td>\n",
       "      <td>265000</td>\n",
       "      <td>268000</td>\n",
       "      <td>158486</td>\n",
       "      <td>256681.703125</td>\n",
       "    </tr>\n",
       "    <tr>\n",
       "      <th>2019-05-08</th>\n",
       "      <td>271000</td>\n",
       "      <td>264000</td>\n",
       "      <td>264000</td>\n",
       "      <td>271000</td>\n",
       "      <td>133682</td>\n",
       "      <td>259555.015625</td>\n",
       "    </tr>\n",
       "    <tr>\n",
       "      <th>2019-05-09</th>\n",
       "      <td>270500</td>\n",
       "      <td>261000</td>\n",
       "      <td>269500</td>\n",
       "      <td>261000</td>\n",
       "      <td>154678</td>\n",
       "      <td>249977.328125</td>\n",
>>>>>>> 7ba98dc4f677a234b26d770b4cd8222ea5a4b90f
       "    </tr>\n",
       "  </tbody>\n",
       "</table>\n",
       "</div>"
      ],
      "text/plain": [
<<<<<<< HEAD
       "               High      Low     Open    Close  Volume  Adj Close\n",
       "Date                                                             \n",
       "2019-01-02  43600.0  42200.0  43200.0  43200.0   297.0    43200.0\n",
       "2019-01-03  43900.0  43200.0  43900.0  43200.0    18.0    43200.0\n",
       "2019-01-04  43200.0  42500.0  43200.0  42900.0    76.0    42900.0\n",
       "2019-01-07  43000.0  42000.0  42000.0  42400.0   792.0    42400.0\n",
       "2019-01-08  42600.0  42000.0  42400.0  42000.0  1340.0    42000.0"
      ]
     },
     "execution_count": 205,
=======
       "              High     Low    Open   Close  Volume      Adj Close\n",
       "Date                                                             \n",
       "2019-05-02  275000  268500  268500  270500   96666  259076.125000\n",
       "2019-05-03  273500  268000  271500  268000   91940  256681.703125\n",
       "2019-05-07  271000  260000  265000  268000  158486  256681.703125\n",
       "2019-05-08  271000  264000  264000  271000  133682  259555.015625\n",
       "2019-05-09  270500  261000  269500  261000  154678  249977.328125"
      ]
     },
     "execution_count": 39,
>>>>>>> 7ba98dc4f677a234b26d770b4cd8222ea5a4b90f
     "metadata": {},
     "output_type": "execute_result"
    }
   ],
   "source": [
    "getStockDf_test.head()"
   ]
  },
  {
   "cell_type": "code",
<<<<<<< HEAD
   "execution_count": 179,
=======
   "execution_count": 41,
>>>>>>> 7ba98dc4f677a234b26d770b4cd8222ea5a4b90f
   "metadata": {
    "ExecuteTime": {
     "end_time": "2021-12-05T03:50:19.866231Z",
     "start_time": "2021-12-05T03:50:19.857232Z"
    }
   },
   "outputs": [],
   "source": [
    "def getStockValue(baseDate: datetime, stockDf: pd.DataFrame):\n",
    "    \n",
    "    \"\"\"\n",
    "    1. 기준일자의 종가를 구합니다.\n",
    "    2. 기준일자 이전 한달 동안 종가중 기준일자의 종가가 상위%인지 체크합니다.\n",
    "    3. 기준일자 이후 한달 간의 종가가 기준일자의 종가보다 높은지 낮은지 체크합니다.\n",
    "    4. 기준일자 이후 한달 간의 종가 기울기를 구해봅니다.\n",
    "    \n",
    "    \"\"\"\n",
    "    \n",
    "    baseDate_str = baseDate.strftime(\"%Y-%m-%d\")\n",
<<<<<<< HEAD
    "    #startDate = (baseDate + timedelta(days = -dayInterval)).strftime(\"%Y-%m-%d\")\n",
    "    #endDate = (baseDate + timedelta(days = +dayInterval)).strftime(\"%Y-%m-%d\")    \n",
=======
>>>>>>> 7ba98dc4f677a234b26d770b4cd8222ea5a4b90f
    "    \n",
    "    stockDf = stockDf\n",
    "    \n",
    "    #1. baseDate의 값 위치\n",
    "    stockDf_before = stockDf.loc[(stockDf.index <= baseDate_str),].copy()\n",
<<<<<<< HEAD
    "    stockDf_before['rank_pct'] = stockDf_before['Close'].rank(pct=True, ascending=True)*100/10\n",
    "    stockDf_before['rank_pct'] = stockDf_before['rank_pct'].round(0)\n",
=======
    "    stockDf_before['rank_pct'] = pd.qcut(stockDf_before['Close'], q=10, labels= range(10, 0, -1))\n",
>>>>>>> 7ba98dc4f677a234b26d770b4cd8222ea5a4b90f
    "    \n",
    "    #1. Output\n",
    "    stockDf_baseDate_rank = stockDf_before[stockDf_before.index == f\"{baseDate_str}\"][\"rank_pct\"][0]\n",
    "    stockDf_baseDate_Close = stockDf_before[stockDf_before.index == f\"{baseDate_str}\"][\"Close\"][0]\n",
    "    \n",
    "    \n",
    "    #2. baseDate 이후의 종가가 baseDate의 종가보다 높거나 낮은 일수\n",
    "    stockDf_after = stockDf.loc[(stockDf.index > baseDate_str),].copy()\n",
    "    stockDf_after['basePrice'] = stockDf_baseDate_Close\n",
    "    stockDf_after['priceGroup'] = stockDf_after['Close'].map(lambda x : 1 if x > stockDf_baseDate_Close else 0)\n",
    "    \n",
    "    upperCnt = sum(stockDf_after['priceGroup'].tolist())\n",
    "    totalCnt = len(stockDf_after['priceGroup'].tolist())\n",
    "    \n",
    "    #2. Output\n",
    "    probUpperCnt = int((upperCnt/totalCnt)*100)\n",
    "    \n",
    "    #3. baseDate 이후의 주가 기울기\n",
    "    min_date = min(stockDf_after.index.tolist()).date()\n",
<<<<<<< HEAD
    "    stockDf_after['dateInt'] = stockDf_after.index.map(lambda x : (x.date() - min_date).days + 1)\n",
    "    regResult = sm.ols(formula = \"Close ~ dateInt\", data = stockDf_after).fit()\n",
=======
    "    stockDf_after['timeIndex'] = stockDf_after.index\n",
    "    stockDf_after['timeIndex'].rank(ascending=True)    \n",
    "    regResult = sm.ols(formula = \"Close ~ timeIndex\", data = stockDf_after).fit()\n",
>>>>>>> 7ba98dc4f677a234b26d770b4cd8222ea5a4b90f
    "    \n",
    "    #3, Ouput\n",
    "    regSlope = regResult.params[1]\n",
    "    \n",
    "    return stockDf_baseDate_rank, probUpperCnt, regSlope"
   ]
  },
  {
   "cell_type": "code",
<<<<<<< HEAD
   "execution_count": 180,
=======
   "execution_count": 42,
>>>>>>> 7ba98dc4f677a234b26d770b4cd8222ea5a4b90f
   "metadata": {
    "ExecuteTime": {
     "end_time": "2021-12-05T03:50:20.461893Z",
     "start_time": "2021-12-05T03:50:20.446891Z"
    }
   },
   "outputs": [
    {
     "data": {
      "text/plain": [
<<<<<<< HEAD
       "(1.0, 7, -0.8979042604610994)"
      ]
     },
     "execution_count": 180,
=======
       "(10, 38, -3999.9999999989523)"
      ]
     },
     "execution_count": 42,
>>>>>>> 7ba98dc4f677a234b26d770b4cd8222ea5a4b90f
     "metadata": {},
     "output_type": "execute_result"
    }
   ],
   "source": [
    "getStockValue_test = getStockValue(getDateList_test[0], getStockDf_test)\n",
    "getStockValue_test"
   ]
  },
  {
   "cell_type": "code",
<<<<<<< HEAD
   "execution_count": 231,
=======
   "execution_count": 43,
>>>>>>> 7ba98dc4f677a234b26d770b4cd8222ea5a4b90f
   "metadata": {
    "ExecuteTime": {
     "end_time": "2021-12-05T04:20:49.459042Z",
     "start_time": "2021-12-05T04:20:49.453043Z"
    }
   },
   "outputs": [],
   "source": [
    "def getStockValList(cntStocks: int, startDate : str, endDate : str, cntDays: int, dayInterval: int ):\n",
    "    val_list = []\n",
    "    stock_list = randomStocks(cntStocks = cntStocks)\n",
    "\n",
    "    for stock_val in stock_list: \n",
    "        try :\n",
    "            date_list = getDateList(startDate = startDate, endDate = endDate\n",
    "                                    , code = stock_val, cntDays = cntDays)\n",
    "            stock_df = getStockDf(code = stock_val, dateList = date_list, dayInterval = dayInterval)\n",
    "            \n",
    "        except Exception:\n",
    "            print(\"*\"*50, \"stock_error\", \"*\"*50)\n",
    "            print(f\"Error {kospi_list.loc[(kospi_list['종목코드'] == stock_val), '종목명']}\")\n",
    "            pass\n",
    "            \n",
    "        for date_val in date_list:\n",
    "            try :\n",
    "                resultVal_list = getStockValue(baseDate = date_val, stockDf = stock_df)\n",
    "                val_list.append(resultVal_list)\n",
    "            except Exception:\n",
    "                print(\"*\"*50, \"date_error\", \"*\"*50)\n",
    "                print(f\"Error {kospi_list.loc[(kospi_list['종목코드'] == stock_val), '종목명']} {date_val}\")\n",
    "                pass\n",
    "            \n",
    "    return val_list, stock_list"
   ]
  },
  {
<<<<<<< HEAD
   "cell_type": "code",
   "execution_count": 232,
=======
   "cell_type": "markdown",
   "metadata": {},
   "source": [
    "# 실제 분석 진행"
   ]
  },
  {
   "cell_type": "markdown",
   "metadata": {},
   "source": [
    "## 테이블 구성"
   ]
  },
  {
   "cell_type": "code",
   "execution_count": 53,
>>>>>>> 7ba98dc4f677a234b26d770b4cd8222ea5a4b90f
   "metadata": {
    "ExecuteTime": {
     "end_time": "2021-12-05T04:31:34.246875Z",
     "start_time": "2021-12-05T04:20:54.717714Z"
    }
   },
   "outputs": [
    {
     "name": "stdout",
     "output_type": "stream",
     "text": [
<<<<<<< HEAD
      "************************************************** stock_error **************************************************\n",
      "Error 756    미래에셋맵스리츠\n",
      "Name: 종목명, dtype: object\n",
      "************************************************** stock_error **************************************************\n",
      "Error 601    에이플러스에셋\n",
      "Name: 종목명, dtype: object\n",
      "************************************************** date_error **************************************************\n",
      "Error 24    한국전력\n",
      "Name: 종목명, dtype: object 2019-11-14 00:00:00\n",
      "************************************************** date_error **************************************************\n",
      "Error 738    미래산업\n",
      "Name: 종목명, dtype: object 2019-11-14 00:00:00\n",
      "************************************************** date_error **************************************************\n",
      "Error 471    성신양회\n",
      "Name: 종목명, dtype: object 2019-11-14 00:00:00\n",
      "************************************************** stock_error **************************************************\n",
      "Error 178    지누스\n",
      "Name: 종목명, dtype: object\n",
      "************************************************** date_error **************************************************\n",
      "Error 55    한화솔루션\n",
      "Name: 종목명, dtype: object 2019-11-14 00:00:00\n",
      "************************************************** date_error **************************************************\n",
      "Error 493    에이프로젠 MED\n",
      "Name: 종목명, dtype: object 2019-11-14 00:00:00\n",
      "************************************************** date_error **************************************************\n",
      "Error 8    기아\n",
      "Name: 종목명, dtype: object 2019-11-14 00:00:00\n",
      "************************************************** stock_error **************************************************\n",
      "Error 755    NH프라임리츠\n",
      "Name: 종목명, dtype: object\n",
      "************************************************** stock_error **************************************************\n",
      "Error 305    교촌에프앤비\n",
      "Name: 종목명, dtype: object\n",
      "************************************************** date_error **************************************************\n",
      "Error 564    DB\n",
      "Name: 종목명, dtype: object 2019-11-14 00:00:00\n",
      "************************************************** stock_error **************************************************\n",
      "Error 194    티와이홀딩스\n",
      "Name: 종목명, dtype: object\n",
      "************************************************** date_error **************************************************\n",
      "Error 175    종근당\n",
      "Name: 종목명, dtype: object 2019-11-14 00:00:00\n",
      "************************************************** date_error **************************************************\n",
      "Error 638    미원화학\n",
      "Name: 종목명, dtype: object 2019-11-14 00:00:00\n",
      "************************************************** date_error **************************************************\n",
      "Error 509    대우부품\n",
      "Name: 종목명, dtype: object 2019-11-14 00:00:00\n",
      "************************************************** date_error **************************************************\n",
      "Error 586    웅진\n",
      "Name: 종목명, dtype: object 2019-11-14 00:00:00\n"
=======
      "************************************************** date_error **************************************************\n",
      "Error 5    삼성SDI\n",
      "Name: 종목명, dtype: object 2019-02-15 00:00:00\n",
      "************************************************** date_error **************************************************\n",
      "Error 2    NAVER\n",
      "Name: 종목명, dtype: object 2019-02-07 00:00:00\n",
      "************************************************** date_error **************************************************\n",
      "Error 2    NAVER\n",
      "Name: 종목명, dtype: object 2019-02-08 00:00:00\n",
      "************************************************** stock_error **************************************************\n",
      "Error 29    CJ ENM\n",
      "Name: 종목명, dtype: object\n",
      "************************************************** date_error **************************************************\n",
      "Error 3    카카오\n",
      "Name: 종목명, dtype: object 2019-04-08 00:00:00\n",
      "************************************************** date_error **************************************************\n",
      "Error 3    카카오\n",
      "Name: 종목명, dtype: object 2019-04-10 00:00:00\n",
      "************************************************** date_error **************************************************\n",
      "Error 3    카카오\n",
      "Name: 종목명, dtype: object 2019-05-17 00:00:00\n",
      "************************************************** date_error **************************************************\n",
      "Error 3    카카오\n",
      "Name: 종목명, dtype: object 2019-02-22 00:00:00\n",
      "************************************************** date_error **************************************************\n",
      "Error 3    카카오\n",
      "Name: 종목명, dtype: object 2019-04-02 00:00:00\n",
      "************************************************** date_error **************************************************\n",
      "Error 3    카카오\n",
      "Name: 종목명, dtype: object 2019-02-25 00:00:00\n",
      "************************************************** date_error **************************************************\n",
      "Error 3    카카오\n",
      "Name: 종목명, dtype: object 2019-04-25 00:00:00\n",
      "************************************************** date_error **************************************************\n",
      "Error 3    카카오\n",
      "Name: 종목명, dtype: object 2019-02-27 00:00:00\n",
      "************************************************** date_error **************************************************\n",
      "Error 3    카카오\n",
      "Name: 종목명, dtype: object 2019-02-20 00:00:00\n",
      "************************************************** date_error **************************************************\n",
      "Error 3    카카오\n",
      "Name: 종목명, dtype: object 2019-03-19 00:00:00\n",
      "************************************************** date_error **************************************************\n",
      "Error 3    카카오\n",
      "Name: 종목명, dtype: object 2019-02-18 00:00:00\n",
      "************************************************** date_error **************************************************\n",
      "Error 3    카카오\n",
      "Name: 종목명, dtype: object 2019-05-02 00:00:00\n",
      "************************************************** date_error **************************************************\n",
      "Error 3    카카오\n",
      "Name: 종목명, dtype: object 2019-03-18 00:00:00\n",
      "************************************************** date_error **************************************************\n",
      "Error 3    카카오\n",
      "Name: 종목명, dtype: object 2019-02-07 00:00:00\n",
      "************************************************** date_error **************************************************\n",
      "Error 3    카카오\n",
      "Name: 종목명, dtype: object 2019-02-26 00:00:00\n",
      "************************************************** date_error **************************************************\n",
      "Error 3    카카오\n",
      "Name: 종목명, dtype: object 2019-04-09 00:00:00\n",
      "************************************************** date_error **************************************************\n",
      "Error 3    카카오\n",
      "Name: 종목명, dtype: object 2019-04-22 00:00:00\n",
      "************************************************** date_error **************************************************\n",
      "Error 3    카카오\n",
      "Name: 종목명, dtype: object 2019-03-20 00:00:00\n",
      "************************************************** date_error **************************************************\n",
      "Error 3    카카오\n",
      "Name: 종목명, dtype: object 2019-02-19 00:00:00\n",
      "************************************************** date_error **************************************************\n",
      "Error 3    카카오\n",
      "Name: 종목명, dtype: object 2019-04-16 00:00:00\n",
      "************************************************** date_error **************************************************\n",
      "Error 3    카카오\n",
      "Name: 종목명, dtype: object 2019-05-15 00:00:00\n",
      "************************************************** date_error **************************************************\n",
      "Error 3    카카오\n",
      "Name: 종목명, dtype: object 2019-06-25 00:00:00\n",
      "************************************************** date_error **************************************************\n",
      "Error 3    카카오\n",
      "Name: 종목명, dtype: object 2019-05-07 00:00:00\n",
      "************************************************** date_error **************************************************\n",
      "Error 3    카카오\n",
      "Name: 종목명, dtype: object 2019-05-09 00:00:00\n",
      "************************************************** date_error **************************************************\n",
      "Error 3    카카오\n",
      "Name: 종목명, dtype: object 2019-03-04 00:00:00\n",
      "************************************************** date_error **************************************************\n",
      "Error 3    카카오\n",
      "Name: 종목명, dtype: object 2019-02-21 00:00:00\n",
      "************************************************** date_error **************************************************\n",
      "Error 3    카카오\n",
      "Name: 종목명, dtype: object 2019-02-13 00:00:00\n",
      "************************************************** date_error **************************************************\n",
      "Error 3    카카오\n",
      "Name: 종목명, dtype: object 2019-04-11 00:00:00\n",
      "************************************************** date_error **************************************************\n",
      "Error 3    카카오\n",
      "Name: 종목명, dtype: object 2019-02-01 00:00:00\n",
      "************************************************** date_error **************************************************\n",
      "Error 3    카카오\n",
      "Name: 종목명, dtype: object 2019-04-01 00:00:00\n",
      "************************************************** date_error **************************************************\n",
      "Error 3    카카오\n",
      "Name: 종목명, dtype: object 2019-04-24 00:00:00\n",
      "************************************************** date_error **************************************************\n",
      "Error 3    카카오\n",
      "Name: 종목명, dtype: object 2019-04-05 00:00:00\n",
      "************************************************** date_error **************************************************\n",
      "Error 15    SK이노베이션\n",
      "Name: 종목명, dtype: object 2019-02-11 00:00:00\n",
      "************************************************** date_error **************************************************\n",
      "Error 15    SK이노베이션\n",
      "Name: 종목명, dtype: object 2019-02-07 00:00:00\n",
      "************************************************** date_error **************************************************\n",
      "Error 15    SK이노베이션\n",
      "Name: 종목명, dtype: object 2019-02-21 00:00:00\n",
      "************************************************** date_error **************************************************\n",
      "Error 15    SK이노베이션\n",
      "Name: 종목명, dtype: object 2019-02-15 00:00:00\n",
      "************************************************** date_error **************************************************\n",
      "Error 15    SK이노베이션\n",
      "Name: 종목명, dtype: object 2019-02-12 00:00:00\n",
      "************************************************** date_error **************************************************\n",
      "Error 15    SK이노베이션\n",
      "Name: 종목명, dtype: object 2019-02-14 00:00:00\n",
      "************************************************** date_error **************************************************\n",
      "Error 28    이마트\n",
      "Name: 종목명, dtype: object 2019-02-21 00:00:00\n",
      "************************************************** date_error **************************************************\n",
      "Error 28    이마트\n",
      "Name: 종목명, dtype: object 2019-02-14 00:00:00\n",
      "************************************************** date_error **************************************************\n",
      "Error 28    이마트\n",
      "Name: 종목명, dtype: object 2019-02-01 00:00:00\n",
      "************************************************** date_error **************************************************\n",
      "Error 12    삼성물산\n",
      "Name: 종목명, dtype: object 2019-02-22 00:00:00\n",
      "************************************************** date_error **************************************************\n",
      "Error 12    삼성물산\n",
      "Name: 종목명, dtype: object 2019-02-12 00:00:00\n",
      "************************************************** date_error **************************************************\n",
      "Error 12    삼성물산\n",
      "Name: 종목명, dtype: object 2019-03-04 00:00:00\n",
      "************************************************** date_error **************************************************\n",
      "Error 12    삼성물산\n",
      "Name: 종목명, dtype: object 2019-02-19 00:00:00\n",
      "************************************************** date_error **************************************************\n",
      "Error 12    삼성물산\n",
      "Name: 종목명, dtype: object 2019-03-29 00:00:00\n"
     ]
    },
    {
     "name": "stdout",
     "output_type": "stream",
     "text": [
      "************************************************** date_error **************************************************\n",
      "Error 12    삼성물산\n",
      "Name: 종목명, dtype: object 2019-02-21 00:00:00\n",
      "************************************************** date_error **************************************************\n",
      "Error 12    삼성물산\n",
      "Name: 종목명, dtype: object 2019-03-27 00:00:00\n",
      "************************************************** date_error **************************************************\n",
      "Error 12    삼성물산\n",
      "Name: 종목명, dtype: object 2019-03-21 00:00:00\n",
      "************************************************** date_error **************************************************\n",
      "Error 12    삼성물산\n",
      "Name: 종목명, dtype: object 2019-02-11 00:00:00\n",
      "************************************************** date_error **************************************************\n",
      "Error 12    삼성물산\n",
      "Name: 종목명, dtype: object 2019-02-18 00:00:00\n",
      "************************************************** date_error **************************************************\n",
      "Error 12    삼성물산\n",
      "Name: 종목명, dtype: object 2019-02-07 00:00:00\n",
      "************************************************** date_error **************************************************\n",
      "Error 12    삼성물산\n",
      "Name: 종목명, dtype: object 2019-03-15 00:00:00\n",
      "************************************************** date_error **************************************************\n",
      "Error 12    삼성물산\n",
      "Name: 종목명, dtype: object 2019-02-26 00:00:00\n",
      "************************************************** date_error **************************************************\n",
      "Error 12    삼성물산\n",
      "Name: 종목명, dtype: object 2019-02-08 00:00:00\n",
      "************************************************** date_error **************************************************\n",
      "Error 19    넷마블\n",
      "Name: 종목명, dtype: object 2019-02-11 00:00:00\n",
      "************************************************** date_error **************************************************\n",
      "Error 13    LG전자\n",
      "Name: 종목명, dtype: object 2019-11-14 00:00:00\n",
      "************************************************** date_error **************************************************\n",
      "Error 24    한국조선해양\n",
      "Name: 종목명, dtype: object 2019-02-08 00:00:00\n",
      "************************************************** date_error **************************************************\n",
      "Error 24    한국조선해양\n",
      "Name: 종목명, dtype: object 2019-02-22 00:00:00\n",
      "************************************************** date_error **************************************************\n",
      "Error 18    SK텔레콤\n",
      "Name: 종목명, dtype: object 2019-03-11 00:00:00\n",
      "************************************************** date_error **************************************************\n",
      "Error 6    현대차\n",
      "Name: 종목명, dtype: object 2019-02-15 00:00:00\n",
      "************************************************** date_error **************************************************\n",
      "Error 20    삼성화재\n",
      "Name: 종목명, dtype: object 2019-02-01 00:00:00\n",
      "************************************************** date_error **************************************************\n",
      "Error 3    카카오\n",
      "Name: 종목명, dtype: object 2019-03-22 00:00:00\n",
      "************************************************** date_error **************************************************\n",
      "Error 3    카카오\n",
      "Name: 종목명, dtype: object 2019-03-26 00:00:00\n",
      "************************************************** date_error **************************************************\n",
      "Error 3    카카오\n",
      "Name: 종목명, dtype: object 2019-03-19 00:00:00\n",
      "************************************************** date_error **************************************************\n",
      "Error 3    카카오\n",
      "Name: 종목명, dtype: object 2019-04-15 00:00:00\n",
      "************************************************** date_error **************************************************\n",
      "Error 3    카카오\n",
      "Name: 종목명, dtype: object 2019-04-04 00:00:00\n",
      "************************************************** date_error **************************************************\n",
      "Error 3    카카오\n",
      "Name: 종목명, dtype: object 2019-04-09 00:00:00\n",
      "************************************************** date_error **************************************************\n",
      "Error 3    카카오\n",
      "Name: 종목명, dtype: object 2019-04-16 00:00:00\n",
      "************************************************** date_error **************************************************\n",
      "Error 3    카카오\n",
      "Name: 종목명, dtype: object 2019-02-14 00:00:00\n",
      "************************************************** date_error **************************************************\n",
      "Error 3    카카오\n",
      "Name: 종목명, dtype: object 2019-04-29 00:00:00\n",
      "************************************************** date_error **************************************************\n",
      "Error 3    카카오\n",
      "Name: 종목명, dtype: object 2019-05-22 00:00:00\n",
      "************************************************** date_error **************************************************\n",
      "Error 3    카카오\n",
      "Name: 종목명, dtype: object 2019-02-11 00:00:00\n",
      "************************************************** date_error **************************************************\n",
      "Error 3    카카오\n",
      "Name: 종목명, dtype: object 2019-02-07 00:00:00\n",
      "************************************************** date_error **************************************************\n",
      "Error 3    카카오\n",
      "Name: 종목명, dtype: object 2019-02-15 00:00:00\n",
      "************************************************** date_error **************************************************\n",
      "Error 3    카카오\n",
      "Name: 종목명, dtype: object 2019-05-15 00:00:00\n",
      "************************************************** date_error **************************************************\n",
      "Error 3    카카오\n",
      "Name: 종목명, dtype: object 2019-04-24 00:00:00\n",
      "************************************************** date_error **************************************************\n",
      "Error 3    카카오\n",
      "Name: 종목명, dtype: object 2019-03-04 00:00:00\n",
      "************************************************** date_error **************************************************\n",
      "Error 3    카카오\n",
      "Name: 종목명, dtype: object 2019-05-17 00:00:00\n",
      "************************************************** date_error **************************************************\n",
      "Error 3    카카오\n",
      "Name: 종목명, dtype: object 2019-02-13 00:00:00\n",
      "************************************************** date_error **************************************************\n",
      "Error 3    카카오\n",
      "Name: 종목명, dtype: object 2019-02-08 00:00:00\n",
      "************************************************** date_error **************************************************\n",
      "Error 12    삼성물산\n",
      "Name: 종목명, dtype: object 2019-03-04 00:00:00\n",
      "************************************************** date_error **************************************************\n",
      "Error 12    삼성물산\n",
      "Name: 종목명, dtype: object 2019-02-27 00:00:00\n",
      "************************************************** date_error **************************************************\n",
      "Error 12    삼성물산\n",
      "Name: 종목명, dtype: object 2019-03-28 00:00:00\n",
      "************************************************** date_error **************************************************\n",
      "Error 12    삼성물산\n",
      "Name: 종목명, dtype: object 2019-03-15 00:00:00\n",
      "************************************************** date_error **************************************************\n",
      "Error 12    삼성물산\n",
      "Name: 종목명, dtype: object 2019-02-14 00:00:00\n",
      "************************************************** date_error **************************************************\n",
      "Error 12    삼성물산\n",
      "Name: 종목명, dtype: object 2019-02-12 00:00:00\n",
      "************************************************** date_error **************************************************\n",
      "Error 12    삼성물산\n",
      "Name: 종목명, dtype: object 2019-03-18 00:00:00\n",
      "************************************************** date_error **************************************************\n",
      "Error 12    삼성물산\n",
      "Name: 종목명, dtype: object 2019-03-13 00:00:00\n",
      "************************************************** date_error **************************************************\n",
      "Error 12    삼성물산\n",
      "Name: 종목명, dtype: object 2019-04-01 00:00:00\n",
      "************************************************** date_error **************************************************\n",
      "Error 12    삼성물산\n",
      "Name: 종목명, dtype: object 2019-03-19 00:00:00\n",
      "************************************************** date_error **************************************************\n",
      "Error 12    삼성물산\n",
      "Name: 종목명, dtype: object 2019-02-11 00:00:00\n",
      "************************************************** date_error **************************************************\n",
      "Error 12    삼성물산\n",
      "Name: 종목명, dtype: object 2019-02-28 00:00:00\n",
      "************************************************** date_error **************************************************\n",
      "Error 12    삼성물산\n",
      "Name: 종목명, dtype: object 2019-02-13 00:00:00\n",
      "************************************************** date_error **************************************************\n",
      "Error 12    삼성물산\n",
      "Name: 종목명, dtype: object 2019-02-18 00:00:00\n",
      "************************************************** date_error **************************************************\n",
      "Error 12    삼성물산\n",
      "Name: 종목명, dtype: object 2019-02-07 00:00:00\n"
     ]
    },
    {
     "name": "stdout",
     "output_type": "stream",
     "text": [
      "************************************************** date_error **************************************************\n",
      "Error 28    이마트\n",
      "Name: 종목명, dtype: object 2019-02-22 00:00:00\n",
      "************************************************** date_error **************************************************\n",
      "Error 28    이마트\n",
      "Name: 종목명, dtype: object 2019-02-27 00:00:00\n",
      "************************************************** date_error **************************************************\n",
      "Error 28    이마트\n",
      "Name: 종목명, dtype: object 2019-02-21 00:00:00\n",
      "************************************************** date_error **************************************************\n",
      "Error 28    이마트\n",
      "Name: 종목명, dtype: object 2019-02-20 00:00:00\n",
      "************************************************** date_error **************************************************\n",
      "Error 28    이마트\n",
      "Name: 종목명, dtype: object 2019-02-11 00:00:00\n",
      "************************************************** date_error **************************************************\n",
      "Error 28    이마트\n",
      "Name: 종목명, dtype: object 2019-02-19 00:00:00\n",
      "************************************************** date_error **************************************************\n",
      "Error 20    삼성화재\n",
      "Name: 종목명, dtype: object 2019-02-12 00:00:00\n",
      "************************************************** stock_error **************************************************\n",
      "Error 29    CJ ENM\n",
      "Name: 종목명, dtype: object\n",
      "************************************************** date_error **************************************************\n",
      "Error 29    CJ ENM\n",
      "Name: 종목명, dtype: object 2019-02-12 00:00:00\n",
      "************************************************** date_error **************************************************\n",
      "Error 19    넷마블\n",
      "Name: 종목명, dtype: object 2019-02-14 00:00:00\n",
      "************************************************** date_error **************************************************\n",
      "Error 19    넷마블\n",
      "Name: 종목명, dtype: object 2019-02-07 00:00:00\n",
      "************************************************** date_error **************************************************\n",
      "Error 19    넷마블\n",
      "Name: 종목명, dtype: object 2019-02-08 00:00:00\n",
      "************************************************** date_error **************************************************\n",
      "Error 18    SK텔레콤\n",
      "Name: 종목명, dtype: object 2019-03-04 00:00:00\n",
      "************************************************** date_error **************************************************\n",
      "Error 18    SK텔레콤\n",
      "Name: 종목명, dtype: object 2019-03-08 00:00:00\n",
      "************************************************** date_error **************************************************\n",
      "Error 18    SK텔레콤\n",
      "Name: 종목명, dtype: object 2019-03-06 00:00:00\n",
      "************************************************** date_error **************************************************\n",
      "Error 18    SK텔레콤\n",
      "Name: 종목명, dtype: object 2019-02-20 00:00:00\n",
      "************************************************** date_error **************************************************\n",
      "Error 18    SK텔레콤\n",
      "Name: 종목명, dtype: object 2019-03-05 00:00:00\n",
      "************************************************** date_error **************************************************\n",
      "Error 18    SK텔레콤\n",
      "Name: 종목명, dtype: object 2019-02-25 00:00:00\n",
      "************************************************** date_error **************************************************\n",
      "Error 18    SK텔레콤\n",
      "Name: 종목명, dtype: object 2019-11-14 00:00:00\n",
      "************************************************** date_error **************************************************\n",
      "Error 15    SK이노베이션\n",
      "Name: 종목명, dtype: object 2019-02-21 00:00:00\n",
      "************************************************** date_error **************************************************\n",
      "Error 15    SK이노베이션\n",
      "Name: 종목명, dtype: object 2019-02-18 00:00:00\n",
      "************************************************** date_error **************************************************\n",
      "Error 15    SK이노베이션\n",
      "Name: 종목명, dtype: object 2019-02-15 00:00:00\n",
      "************************************************** date_error **************************************************\n",
      "Error 15    SK이노베이션\n",
      "Name: 종목명, dtype: object 2019-04-16 00:00:00\n",
      "************************************************** date_error **************************************************\n",
      "Error 6    현대차\n",
      "Name: 종목명, dtype: object 2019-02-01 00:00:00\n",
      "************************************************** date_error **************************************************\n",
      "Error 6    현대차\n",
      "Name: 종목명, dtype: object 2019-02-07 00:00:00\n",
      "************************************************** date_error **************************************************\n",
      "Error 5    삼성SDI\n",
      "Name: 종목명, dtype: object 2019-02-11 00:00:00\n",
      "************************************************** date_error **************************************************\n",
      "Error 5    삼성SDI\n",
      "Name: 종목명, dtype: object 2019-02-20 00:00:00\n",
      "************************************************** date_error **************************************************\n",
      "Error 24    한국조선해양\n",
      "Name: 종목명, dtype: object 2019-02-22 00:00:00\n",
      "************************************************** date_error **************************************************\n",
      "Error 11    현대모비스\n",
      "Name: 종목명, dtype: object 2019-11-14 00:00:00\n"
>>>>>>> 7ba98dc4f677a234b26d770b4cd8222ea5a4b90f
     ]
    }
   ],
   "source": [
<<<<<<< HEAD
    "val_list = getStockValList(60, '2019-02-01', '2019-11-30', 90, 30)[0]\n",
    "stock_list = getStockValList(60, '2019-02-01', '2019-11-30', 90, 30)[1]"
=======
    "val_list_2019 = getStockValList(30, '2019-02-01', '2019-11-30', 90, 30)[0]\n",
    "stock_list_2019 = getStockValList(30, '2019-02-01', '2019-11-30', 90, 30)[1]"
>>>>>>> 7ba98dc4f677a234b26d770b4cd8222ea5a4b90f
   ]
  },
  {
   "cell_type": "code",
<<<<<<< HEAD
   "execution_count": 233,
   "metadata": {
    "ExecuteTime": {
     "end_time": "2021-12-05T04:35:28.701892Z",
     "start_time": "2021-12-05T04:35:28.696889Z"
    }
   },
   "outputs": [
    {
     "data": {
      "text/plain": [
       "['183190',\n",
       " '089470',\n",
       " '042700',\n",
       " '002700',\n",
       " '010820',\n",
       " '023800',\n",
       " '001570',\n",
       " '000680',\n",
       " '031430',\n",
       " '195870',\n",
       " '002320',\n",
       " '338100',\n",
       " '003240',\n",
       " '001790',\n",
       " '108670',\n",
       " '036460',\n",
       " '016710',\n",
       " '052690',\n",
       " '003070',\n",
       " '010950',\n",
       " '339770',\n",
       " '006090',\n",
       " '016090',\n",
       " '000700',\n",
       " '003580',\n",
       " '012030',\n",
       " '002270',\n",
       " '012330',\n",
       " '004800',\n",
       " '004920',\n",
       " '010770',\n",
       " '102280',\n",
       " '006260',\n",
       " '129260',\n",
       " '030210',\n",
       " '001380',\n",
       " '014680',\n",
       " '036570',\n",
       " '023350',\n",
       " '363280',\n",
       " '014820',\n",
       " '105840',\n",
       " '264900',\n",
       " '000020',\n",
       " '078520',\n",
       " '023590',\n",
       " '007540',\n",
       " '001080',\n",
       " '185750',\n",
       " '067830',\n",
       " '037560',\n",
       " '016450',\n",
       " '134380',\n",
       " '000890',\n",
       " '011420',\n",
       " '025560',\n",
       " '002820',\n",
       " '009320',\n",
       " '016880',\n",
       " '139130']"
      ]
     },
     "execution_count": 233,
     "metadata": {},
     "output_type": "execute_result"
    }
   ],
   "source": [
    "stock_list"
=======
   "execution_count": 54,
   "metadata": {},
   "outputs": [
    {
     "name": "stdout",
     "output_type": "stream",
     "text": [
      "************************************************** date_error **************************************************\n",
      "Error 24    한국조선해양\n",
      "Name: 종목명, dtype: object 2020-02-17 00:00:00\n",
      "************************************************** date_error **************************************************\n",
      "Error 12    삼성물산\n",
      "Name: 종목명, dtype: object 2020-02-05 00:00:00\n",
      "************************************************** date_error **************************************************\n",
      "Error 11    현대모비스\n",
      "Name: 종목명, dtype: object 2020-02-03 00:00:00\n",
      "************************************************** date_error **************************************************\n",
      "Error 11    현대모비스\n",
      "Name: 종목명, dtype: object 2020-02-05 00:00:00\n",
      "************************************************** date_error **************************************************\n",
      "Error 9    POSCO\n",
      "Name: 종목명, dtype: object 2020-02-05 00:00:00\n",
      "************************************************** date_error **************************************************\n",
      "Error 8    셀트리온\n",
      "Name: 종목명, dtype: object 2020-02-26 00:00:00\n",
      "************************************************** date_error **************************************************\n",
      "Error 8    셀트리온\n",
      "Name: 종목명, dtype: object 2020-02-12 00:00:00\n",
      "************************************************** date_error **************************************************\n",
      "Error 16    삼성전기\n",
      "Name: 종목명, dtype: object 2020-02-05 00:00:00\n",
      "************************************************** date_error **************************************************\n",
      "Error 28    이마트\n",
      "Name: 종목명, dtype: object 2020-02-05 00:00:00\n",
      "************************************************** stock_error **************************************************\n",
      "Error 29    CJ ENM\n",
      "Name: 종목명, dtype: object\n",
      "************************************************** date_error **************************************************\n",
      "Error 16    삼성전기\n",
      "Name: 종목명, dtype: object 2020-02-04 00:00:00\n",
      "************************************************** stock_error **************************************************\n",
      "Error 29    CJ ENM\n",
      "Name: 종목명, dtype: object\n",
      "************************************************** date_error **************************************************\n",
      "Error 29    CJ ENM\n",
      "Name: 종목명, dtype: object 2020-02-04 00:00:00\n",
      "************************************************** date_error **************************************************\n",
      "Error 18    SK텔레콤\n",
      "Name: 종목명, dtype: object 2020-02-05 00:00:00\n",
      "************************************************** date_error **************************************************\n",
      "Error 24    한국조선해양\n",
      "Name: 종목명, dtype: object 2020-02-18 00:00:00\n",
      "************************************************** date_error **************************************************\n",
      "Error 11    현대모비스\n",
      "Name: 종목명, dtype: object 2020-02-10 00:00:00\n",
      "************************************************** date_error **************************************************\n",
      "Error 11    현대모비스\n",
      "Name: 종목명, dtype: object 2020-02-06 00:00:00\n",
      "************************************************** date_error **************************************************\n",
      "Error 12    삼성물산\n",
      "Name: 종목명, dtype: object 2020-02-05 00:00:00\n"
     ]
    }
   ],
   "source": [
    "val_list_2020 = getStockValList(30, '2020-02-01', '2020-11-30', 90, 30)[0]\n",
    "stock_list_2020 = getStockValList(30, '2020-02-01', '2020-11-30', 90, 30)[1]"
>>>>>>> 7ba98dc4f677a234b26d770b4cd8222ea5a4b90f
   ]
  },
  {
   "cell_type": "code",
<<<<<<< HEAD
   "execution_count": 234,
=======
   "execution_count": 66,
>>>>>>> 7ba98dc4f677a234b26d770b4cd8222ea5a4b90f
   "metadata": {
    "ExecuteTime": {
     "end_time": "2021-12-05T04:35:31.890208Z",
     "start_time": "2021-12-05T04:35:31.885206Z"
    }
   },
   "outputs": [],
   "source": [
<<<<<<< HEAD
    "df_test = pd.DataFrame(val_list, columns = ['percentile_group', 'upper_prob', 'slope'])"
=======
    "df_2019 = pd.DataFrame(val_list_2019, columns = ['percentile_group', 'upper_prob', 'slope'])\n",
    "df_2020 = pd.DataFrame(val_list_2020, columns = ['percentile_group', 'upper_prob', 'slope'])"
>>>>>>> 7ba98dc4f677a234b26d770b4cd8222ea5a4b90f
   ]
  },
  {
   "cell_type": "code",
<<<<<<< HEAD
   "execution_count": 235,
   "metadata": {
    "ExecuteTime": {
     "end_time": "2021-12-05T04:35:32.314642Z",
     "start_time": "2021-12-05T04:35:32.305611Z"
    }
   },
   "outputs": [
    {
     "data": {
      "text/html": [
       "<div>\n",
       "<style scoped>\n",
       "    .dataframe tbody tr th:only-of-type {\n",
       "        vertical-align: middle;\n",
       "    }\n",
       "\n",
       "    .dataframe tbody tr th {\n",
       "        vertical-align: top;\n",
       "    }\n",
       "\n",
       "    .dataframe thead th {\n",
       "        text-align: right;\n",
       "    }\n",
       "</style>\n",
       "<table border=\"1\" class=\"dataframe\">\n",
       "  <thead>\n",
       "    <tr style=\"text-align: right;\">\n",
       "      <th></th>\n",
       "      <th>percentile_group</th>\n",
       "      <th>upper_prob</th>\n",
       "      <th>slope</th>\n",
       "    </tr>\n",
       "  </thead>\n",
       "  <tbody>\n",
       "    <tr>\n",
       "      <th>0</th>\n",
       "      <td>6.0</td>\n",
       "      <td>62</td>\n",
       "      <td>-4.954715</td>\n",
       "    </tr>\n",
       "    <tr>\n",
       "      <th>1</th>\n",
       "      <td>8.0</td>\n",
       "      <td>96</td>\n",
       "      <td>-4.640253</td>\n",
       "    </tr>\n",
       "    <tr>\n",
       "      <th>2</th>\n",
       "      <td>10.0</td>\n",
       "      <td>45</td>\n",
       "      <td>-6.395743</td>\n",
       "    </tr>\n",
       "    <tr>\n",
       "      <th>3</th>\n",
       "      <td>10.0</td>\n",
       "      <td>74</td>\n",
       "      <td>0.784923</td>\n",
       "    </tr>\n",
       "    <tr>\n",
       "      <th>4</th>\n",
       "      <td>10.0</td>\n",
       "      <td>98</td>\n",
       "      <td>1.028532</td>\n",
       "    </tr>\n",
       "    <tr>\n",
       "      <th>...</th>\n",
       "      <td>...</td>\n",
       "      <td>...</td>\n",
       "      <td>...</td>\n",
       "    </tr>\n",
       "    <tr>\n",
       "      <th>5389</th>\n",
       "      <td>1.0</td>\n",
       "      <td>13</td>\n",
       "      <td>-26.576125</td>\n",
       "    </tr>\n",
       "    <tr>\n",
       "      <th>5390</th>\n",
       "      <td>5.0</td>\n",
       "      <td>19</td>\n",
       "      <td>-51.124918</td>\n",
       "    </tr>\n",
       "    <tr>\n",
       "      <th>5391</th>\n",
       "      <td>1.0</td>\n",
       "      <td>2</td>\n",
       "      <td>-27.293087</td>\n",
       "    </tr>\n",
       "    <tr>\n",
       "      <th>5392</th>\n",
       "      <td>0.0</td>\n",
       "      <td>30</td>\n",
       "      <td>-25.793302</td>\n",
       "    </tr>\n",
       "    <tr>\n",
       "      <th>5393</th>\n",
       "      <td>0.0</td>\n",
       "      <td>0</td>\n",
       "      <td>-25.870039</td>\n",
       "    </tr>\n",
       "  </tbody>\n",
       "</table>\n",
       "<p>5394 rows × 3 columns</p>\n",
       "</div>"
      ],
      "text/plain": [
       "      percentile_group  upper_prob      slope\n",
       "0                  6.0          62  -4.954715\n",
       "1                  8.0          96  -4.640253\n",
       "2                 10.0          45  -6.395743\n",
       "3                 10.0          74   0.784923\n",
       "4                 10.0          98   1.028532\n",
       "...                ...         ...        ...\n",
       "5389               1.0          13 -26.576125\n",
       "5390               5.0          19 -51.124918\n",
       "5391               1.0           2 -27.293087\n",
       "5392               0.0          30 -25.793302\n",
       "5393               0.0           0 -25.870039\n",
       "\n",
       "[5394 rows x 3 columns]"
      ]
     },
     "execution_count": 235,
=======
   "execution_count": 105,
   "metadata": {},
   "outputs": [],
   "source": [
    "def getLabel(s):\n",
    "    \n",
    "    if s == 1: \n",
    "        return '00.머리(상위10%)'\n",
    "    \n",
    "    elif s == 2: \n",
    "        return '01.머리(상위20%)'\n",
    "    \n",
    "    elif s == 3: \n",
    "        return '02.어깨(상위30%)'\n",
    "    \n",
    "    elif s == 4: \n",
    "        return '03.어깨(상위40%)'\n",
    "    \n",
    "    elif s == 5: \n",
    "        return '04.허리(상위50%)'    \n",
    "\n",
    "    elif s == 6: \n",
    "        return '05.허리(상위60%)'\n",
    "    \n",
    "    elif s == 7: \n",
    "        return '06.무릎(상위70%)'\n",
    "    \n",
    "    elif s == 8: \n",
    "        return '07.무릎(상위80%)'\n",
    "\n",
    "    elif s == 9: \n",
    "        return '08.발(상위90%)'\n",
    "    \n",
    "    elif s == 10: \n",
    "        return '09.발(상위100%)'    "
   ]
  },
  {
   "cell_type": "code",
   "execution_count": 201,
   "metadata": {},
   "outputs": [],
   "source": [
    "df_2019['NewLabel'] = df_2019['percentile_group'].apply(getLabel)\n",
    "df_2020['NewLabel'] = df_2020['percentile_group'].apply(getLabel)\n",
    "df_2019['Stan_slope'] = ss.zscore(df_2019['slope'])\n",
    "df_2020['Stan_slope'] = ss.zscore(df_2020['slope'])"
   ]
  },
  {
   "cell_type": "code",
   "execution_count": 220,
   "metadata": {},
   "outputs": [],
   "source": [
    "transformer_2019 = Normalizer().fit([df_2019['slope'].tolist()])\n",
    "transformer_2020 = Normalizer().fit([df_2020['slope'].tolist()])"
   ]
  },
  {
   "cell_type": "code",
   "execution_count": 222,
   "metadata": {},
   "outputs": [],
   "source": [
    "df_2019['Normal_slope'] = transformer_2019.transform([df_2019['slope'].tolist()])[0]\n",
    "df_2020['Normal_slope'] = transformer_2020.transform([df_2020['slope'].tolist()])[0]"
   ]
  },
  {
   "cell_type": "code",
   "execution_count": 113,
   "metadata": {},
   "outputs": [],
   "source": [
    "list_label = df_2019['NewLabel'].unique().tolist()\n",
    "list_label.sort()"
   ]
  },
  {
   "cell_type": "code",
   "execution_count": 200,
   "metadata": {},
   "outputs": [
    {
     "data": {
      "text/plain": [
       "array([-0.778376  ,  0.18513937, -2.89810983, ..., -0.0075637 ,\n",
       "        0.20440968,  0.08878783])"
      ]
     },
     "execution_count": 200,
>>>>>>> 7ba98dc4f677a234b26d770b4cd8222ea5a4b90f
     "metadata": {},
     "output_type": "execute_result"
    }
   ],
   "source": [
<<<<<<< HEAD
    "df_test"
=======
    "data_standadized_ss = \n",
    "data_standadized_ss"
>>>>>>> 7ba98dc4f677a234b26d770b4cd8222ea5a4b90f
   ]
  },
  {
   "cell_type": "code",
<<<<<<< HEAD
   "execution_count": 249,
   "metadata": {
    "ExecuteTime": {
     "end_time": "2021-12-05T04:48:00.013155Z",
     "start_time": "2021-12-05T04:48:00.008183Z"
    }
   },
=======
   "execution_count": 116,
   "metadata": {},
>>>>>>> 7ba98dc4f677a234b26d770b4cd8222ea5a4b90f
   "outputs": [
    {
     "data": {
      "text/plain": [
<<<<<<< HEAD
       "1.0     864\n",
       "0.0     728\n",
       "2.0     686\n",
       "3.0     504\n",
       "7.0     397\n",
       "9.0     394\n",
       "4.0     390\n",
       "10.0    379\n",
       "6.0     363\n",
       "8.0     347\n",
       "5.0     342\n",
       "Name: percentile_group, dtype: int64"
      ]
     },
     "execution_count": 249,
=======
       "['00.머리(상위10%)',\n",
       " '01.머리(상위20%)',\n",
       " '02.어깨(상위30%)',\n",
       " '03.어깨(상위40%)',\n",
       " '04.허리(상위50%)',\n",
       " '05.허리(상위60%)',\n",
       " '06.무릎(상위70%)',\n",
       " '07.무릎(상위80%)',\n",
       " '08.발(상위90%)',\n",
       " '09.발(상위100%)']"
      ]
     },
     "execution_count": 116,
>>>>>>> 7ba98dc4f677a234b26d770b4cd8222ea5a4b90f
     "metadata": {},
     "output_type": "execute_result"
    }
   ],
   "source": [
<<<<<<< HEAD
    "df_test['percentile_group'].value_counts()"
=======
    "list_label"
   ]
  },
  {
   "cell_type": "markdown",
   "metadata": {},
   "source": [
    "## 그래프"
>>>>>>> 7ba98dc4f677a234b26d770b4cd8222ea5a4b90f
   ]
  },
  {
   "cell_type": "code",
<<<<<<< HEAD
   "execution_count": 236,
   "metadata": {
    "ExecuteTime": {
     "end_time": "2021-12-05T04:35:34.770113Z",
     "start_time": "2021-12-05T04:35:34.678570Z"
    }
   },
   "outputs": [
    {
     "data": {
      "text/plain": [
       "<matplotlib.axes._subplots.AxesSubplot at 0x1f3977160d0>"
      ]
     },
     "execution_count": 236,
     "metadata": {},
     "output_type": "execute_result"
    },
    {
     "data": {
      "image/png": "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\n",
      "text/plain": [
       "<Figure size 432x288 with 1 Axes>"
=======
   "execution_count": 161,
   "metadata": {},
   "outputs": [
    {
     "data": {
      "image/png": "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\n",
      "text/plain": [
       "<Figure size 720x360 with 1 Axes>"
      ]
     },
     "metadata": {
      "needs_background": "light"
     },
     "output_type": "display_data"
    }
   ],
   "source": [
    "plt.figure(figsize=(10,5))\n",
    "ax_box_2019 = sns.boxplot(x=\"NewLabel\", y=\"upper_prob\", data=df_2019, palette = \"crest\")\n",
    "ax_box_2019.set_xticklabels(list_label,rotation=90)\n",
    "ax_box_2019.set_title(\"코로나 이전(2019)의 기준가 대비 가격 상승 일수 비율\", fontsize = 20)\n",
    "ax_box_2019.set_xlabel(\"기준일의 가격(이전 30일 대비)\", fontsize = 15)\n",
    "ax_box_2019.set_ylabel(\"상승일 비율(모두 상승하면 100%)\", fontsize = 15);"
   ]
  },
  {
   "cell_type": "code",
   "execution_count": 162,
   "metadata": {},
   "outputs": [
    {
     "data": {
      "image/png": "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\n",
      "text/plain": [
       "<Figure size 720x360 with 1 Axes>"
>>>>>>> 7ba98dc4f677a234b26d770b4cd8222ea5a4b90f
      ]
     },
     "metadata": {
      "needs_background": "light"
     },
     "output_type": "display_data"
    }
   ],
   "source": [
<<<<<<< HEAD
    "df_test.plot.scatter(x = 'percentile_group', y = 'upper_prob')"
=======
    "plt.figure(figsize=(10,5))\n",
    "ax_box_2020 = sns.boxplot(x=\"NewLabel\", y=\"upper_prob\", data=df_2020, palette = \"flare\")\n",
    "ax_box_2020.set_xticklabels(list_label,rotation=90, fontsize = 13)\n",
    "ax_box_2020.set_title(\"코로나 시기(2020)의 기준가 대비 가격 상승 일수 비율\", fontsize = 20)\n",
    "ax_box_2020.set_xlabel(\"기준일의 가격(이전 30일 대비)\", fontsize = 15)\n",
    "ax_box_2020.set_ylabel(\"상승일 비율(모두 상승하면 100%)\", fontsize = 15);"
>>>>>>> 7ba98dc4f677a234b26d770b4cd8222ea5a4b90f
   ]
  },
  {
   "cell_type": "code",
<<<<<<< HEAD
   "execution_count": 237,
   "metadata": {
    "ExecuteTime": {
     "end_time": "2021-12-05T04:37:54.042425Z",
     "start_time": "2021-12-05T04:37:53.874353Z"
    }
   },
   "outputs": [
    {
     "name": "stderr",
     "output_type": "stream",
     "text": [
      "C:\\Users\\HOME\\anaconda3\\lib\\site-packages\\numpy\\core\\_asarray.py:83: VisibleDeprecationWarning: Creating an ndarray from ragged nested sequences (which is a list-or-tuple of lists-or-tuples-or ndarrays with different lengths or shapes) is deprecated. If you meant to do this, you must specify 'dtype=object' when creating the ndarray\n",
      "  return array(a, dtype, copy=False, order=order)\n"
     ]
    },
    {
     "data": {
      "image/png": "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\n",
      "text/plain": [
       "<Figure size 432x288 with 1 Axes>"
=======
   "execution_count": null,
   "metadata": {},
   "outputs": [],
   "source": []
  },
  {
   "cell_type": "code",
   "execution_count": 230,
   "metadata": {},
   "outputs": [
    {
     "data": {
      "image/png": "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\n",
      "text/plain": [
       "<Figure size 720x432 with 11 Axes>"
>>>>>>> 7ba98dc4f677a234b26d770b4cd8222ea5a4b90f
      ]
     },
     "metadata": {
      "needs_background": "light"
     },
     "output_type": "display_data"
    }
   ],
   "source": [
<<<<<<< HEAD
    "boxplot = df_test.boxplot(column=['upper_prob'], by=\"percentile_group\")"
=======
    "joyplot(df_2019, by = 'NewLabel', column = 'upper_prob', figsize = (10,6), color = 'Blue'\n",
    "        , fade = True, overlap = 0, hist = True, alpha=0.5)\n",
    "plt.title(\"코로나 이전(2019)의 기준가 대비 가격 상승 일수 비율\", fontsize = 20)\n",
    "plt.xlabel(\"상승일 비율(모두 상승하면 100%)\", fontsize = 15)\n",
    "plt.show()"
>>>>>>> 7ba98dc4f677a234b26d770b4cd8222ea5a4b90f
   ]
  },
  {
   "cell_type": "code",
<<<<<<< HEAD
   "execution_count": 256,
   "metadata": {
    "ExecuteTime": {
     "end_time": "2021-12-05T04:50:52.202410Z",
     "start_time": "2021-12-05T04:50:52.198413Z"
=======
   "execution_count": 188,
   "metadata": {
    "ExecuteTime": {
     "end_time": "2021-12-05T04:48:37.999559Z",
     "start_time": "2021-12-05T04:48:37.526970Z"
>>>>>>> 7ba98dc4f677a234b26d770b4cd8222ea5a4b90f
    }
   },
   "outputs": [
    {
     "data": {
<<<<<<< HEAD
      "text/plain": [
       "0.0"
      ]
     },
     "execution_count": 256,
     "metadata": {},
     "output_type": "execute_result"
    }
   ],
   "source": [
    "round(0.3, 0)"
=======
      "image/png": "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\n",
      "text/plain": [
       "<Figure size 720x432 with 11 Axes>"
      ]
     },
     "metadata": {
      "needs_background": "light"
     },
     "output_type": "display_data"
    }
   ],
   "source": [
    "joyplot(df_2020, by = 'NewLabel', column = 'upper_prob', figsize = (10,6), color = 'Red'\n",
    "        , fade = True, overlap = 0, hist = True)\n",
    "plt.title(\"코로나 시기(2020)의 기준가 대비 가격 상승 일수 비율\", fontsize = 20)\n",
    "plt.xlabel(\"상승일 비율(모두 상승하면 100%)\", fontsize = 15)\n",
    "plt.show()"
>>>>>>> 7ba98dc4f677a234b26d770b4cd8222ea5a4b90f
   ]
  },
  {
   "cell_type": "code",
<<<<<<< HEAD
   "execution_count": 250,
   "metadata": {
    "ExecuteTime": {
     "end_time": "2021-12-05T04:48:37.999559Z",
     "start_time": "2021-12-05T04:48:37.526970Z"
    }
   },
   "outputs": [
    {
     "data": {
      "image/png": "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\n",
      "text/plain": [
       "<Figure size 576x576 with 12 Axes>"
=======
   "execution_count": null,
   "metadata": {},
   "outputs": [],
   "source": []
  },
  {
   "cell_type": "code",
   "execution_count": 225,
   "metadata": {},
   "outputs": [
    {
     "data": {
      "image/png": "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\n",
      "text/plain": [
       "<Figure size 720x432 with 11 Axes>"
>>>>>>> 7ba98dc4f677a234b26d770b4cd8222ea5a4b90f
      ]
     },
     "metadata": {
      "needs_background": "light"
     },
     "output_type": "display_data"
    }
   ],
   "source": [
<<<<<<< HEAD
    "joyplot(df_test, by = 'percentile_group', column = 'upper_prob', figsize = (8,8), colormap = cm.autumn\n",
    "        , fade = True, overlap = 0, hist = True)\n",
=======
    "joyplot(df_2019, by = 'NewLabel', column = 'slope', figsize = (10,6), color = 'Blue'\n",
    "        , fade = True, overlap = 0, hist = True, alpha=0.5)\n",
    "plt.title(\"코로나 이전(2019)의 기준가 대비 가격 상승 일수 비율\", fontsize = 20)\n",
    "plt.xlabel(\"상승일 비율(모두 상승하면 100%)\", fontsize = 15)\n",
>>>>>>> 7ba98dc4f677a234b26d770b4cd8222ea5a4b90f
    "plt.show()"
   ]
  },
  {
   "cell_type": "code",
   "execution_count": null,
   "metadata": {},
   "outputs": [],
   "source": []
  }
 ],
 "metadata": {
  "kernelspec": {
   "display_name": "Python 3",
   "language": "python",
   "name": "python3"
  },
  "language_info": {
   "codemirror_mode": {
    "name": "ipython",
    "version": 3
   },
   "file_extension": ".py",
   "mimetype": "text/x-python",
   "name": "python",
   "nbconvert_exporter": "python",
   "pygments_lexer": "ipython3",
<<<<<<< HEAD
   "version": "3.8.3"
=======
   "version": "3.8.5"
>>>>>>> 7ba98dc4f677a234b26d770b4cd8222ea5a4b90f
  },
  "toc": {
   "base_numbering": 1,
   "nav_menu": {},
   "number_sections": true,
   "sideBar": true,
   "skip_h1_title": false,
   "title_cell": "Table of Contents",
   "title_sidebar": "Contents",
   "toc_cell": false,
   "toc_position": {},
   "toc_section_display": true,
   "toc_window_display": false
  }
 },
 "nbformat": 4,
 "nbformat_minor": 4
}
