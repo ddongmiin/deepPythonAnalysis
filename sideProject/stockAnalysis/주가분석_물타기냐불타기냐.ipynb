{
 "cells": [
  {
   "cell_type": "markdown",
   "metadata": {},
   "source": [
    "# 환경 세팅"
   ]
  },
  {
   "cell_type": "markdown",
   "metadata": {},
   "source": [
    "## 라이브러리 세팅"
   ]
  },
  {
   "cell_type": "code",
   "execution_count": 221,
   "metadata": {
    "ExecuteTime": {
     "end_time": "2021-12-04T01:15:44.551451Z",
     "start_time": "2021-12-04T01:15:43.238406Z"
    }
   },
   "outputs": [],
   "source": [
    "import pandas as pd\n",
    "import numpy as np\n",
    "import pandas_datareader as pdr\n",
    "from datetime import datetime, timedelta\n",
    "import radar\n",
    "import random\n",
    "import statsmodels.formula.api as sm"
   ]
  },
  {
   "cell_type": "code",
   "execution_count": 226,
   "metadata": {
    "ExecuteTime": {
     "end_time": "2021-12-04T01:16:13.324317Z",
     "start_time": "2021-12-04T01:16:13.313318Z"
    }
   },
   "outputs": [
    {
     "name": "stdout",
     "output_type": "stream",
     "text": [
      "Intercept    9.0\n",
      "B            0.7\n",
      "dtype: float64\n"
     ]
    }
   ],
   "source": [
    "df = pd.DataFrame({\"A\": [10,20,30,40,50], \"B\": [20, 30, 10, 40, 50], \"C\": [32, 234, 23, 23, 42523]})\n",
    "result = sm.ols(formula=\"A ~ B\", data=df).fit()\n",
    "print(result.params)"
   ]
  },
  {
   "cell_type": "code",
   "execution_count": 85,
   "metadata": {
    "ExecuteTime": {
     "end_time": "2021-12-03T16:17:02.117190Z",
     "start_time": "2021-12-03T16:17:02.113191Z"
    }
   },
   "outputs": [
    {
     "data": {
      "text/plain": [
       "'2021-01-04'"
      ]
     },
     "execution_count": 85,
     "metadata": {},
     "output_type": "execute_result"
    }
   ],
   "source": [
    "(datetime(2021, 1, 1) + timedelta(days=3)).strftime(\"%Y-%m-%d\")"
   ]
  },
  {
   "cell_type": "code",
   "execution_count": 88,
   "metadata": {
    "ExecuteTime": {
     "end_time": "2021-12-03T16:17:31.957671Z",
     "start_time": "2021-12-03T16:17:31.952656Z"
    }
   },
   "outputs": [
    {
     "data": {
      "text/plain": [
       "'2013-05-09'"
      ]
     },
     "execution_count": 88,
     "metadata": {},
     "output_type": "execute_result"
    }
   ],
   "source": [
    "radar.random_datetime(\n",
    "    start = datetime(year=2000, month=5, day=24),\n",
    "    stop = datetime(year=2013, month=5, day=24)\n",
    ").strftime(\"%Y-%m-%d\")"
   ]
  },
  {
   "cell_type": "markdown",
   "metadata": {},
   "source": [
    "# 데이터 테스트"
   ]
  },
  {
   "cell_type": "markdown",
   "metadata": {},
   "source": [
    "## 상장법인목록"
   ]
  },
  {
   "cell_type": "code",
   "execution_count": 3,
   "metadata": {
    "ExecuteTime": {
     "end_time": "2021-12-03T13:29:19.821738Z",
     "start_time": "2021-12-03T13:29:19.800717Z"
    }
   },
   "outputs": [],
   "source": [
    "krx_list = pd.read_csv(\"상장법인목록.csv\", encoding='cp949')"
   ]
  },
  {
   "cell_type": "code",
   "execution_count": 45,
   "metadata": {
    "ExecuteTime": {
     "end_time": "2021-12-03T15:01:01.916258Z",
     "start_time": "2021-12-03T15:01:01.906229Z"
    }
   },
   "outputs": [
    {
     "data": {
      "text/html": [
       "<div>\n",
       "<style scoped>\n",
       "    .dataframe tbody tr th:only-of-type {\n",
       "        vertical-align: middle;\n",
       "    }\n",
       "\n",
       "    .dataframe tbody tr th {\n",
       "        vertical-align: top;\n",
       "    }\n",
       "\n",
       "    .dataframe thead th {\n",
       "        text-align: right;\n",
       "    }\n",
       "</style>\n",
       "<table border=\"1\" class=\"dataframe\">\n",
       "  <thead>\n",
       "    <tr style=\"text-align: right;\">\n",
       "      <th></th>\n",
       "      <th>회사명</th>\n",
       "      <th>종목코드</th>\n",
       "      <th>업종</th>\n",
       "      <th>주요제품</th>\n",
       "      <th>상장일</th>\n",
       "      <th>결산월</th>\n",
       "      <th>대표자명</th>\n",
       "      <th>홈페이지</th>\n",
       "      <th>지역</th>\n",
       "    </tr>\n",
       "  </thead>\n",
       "  <tbody>\n",
       "    <tr>\n",
       "      <th>0</th>\n",
       "      <td>미래에셋글로벌리츠</td>\n",
       "      <td>396690</td>\n",
       "      <td>부동산 임대 및 공급업</td>\n",
       "      <td>부동산 임대업</td>\n",
       "      <td>2021-12-03</td>\n",
       "      <td>03월</td>\n",
       "      <td>신현준</td>\n",
       "      <td>NaN</td>\n",
       "      <td>서울특별시</td>\n",
       "    </tr>\n",
       "    <tr>\n",
       "      <th>1</th>\n",
       "      <td>대신밸런스제11호스팩</td>\n",
       "      <td>397500</td>\n",
       "      <td>금융 지원 서비스업</td>\n",
       "      <td>금융 지원 서비스업</td>\n",
       "      <td>2021-12-02</td>\n",
       "      <td>12월</td>\n",
       "      <td>정재중</td>\n",
       "      <td>NaN</td>\n",
       "      <td>서울특별시</td>\n",
       "    </tr>\n",
       "    <tr>\n",
       "      <th>2</th>\n",
       "      <td>켈스</td>\n",
       "      <td>402420</td>\n",
       "      <td>의료용 기기 제조업</td>\n",
       "      <td>체외진단 의료기기</td>\n",
       "      <td>2021-11-30</td>\n",
       "      <td>12월</td>\n",
       "      <td>이동호</td>\n",
       "      <td>http://www.thecalth.com/</td>\n",
       "      <td>경기도</td>\n",
       "    </tr>\n",
       "    <tr>\n",
       "      <th>3</th>\n",
       "      <td>SK스퀘어</td>\n",
       "      <td>402340</td>\n",
       "      <td>기타 금융업</td>\n",
       "      <td>지주회사</td>\n",
       "      <td>2021-11-29</td>\n",
       "      <td>12월</td>\n",
       "      <td>박정호</td>\n",
       "      <td>http://www.sksquare.com</td>\n",
       "      <td>서울특별시</td>\n",
       "    </tr>\n",
       "    <tr>\n",
       "      <th>4</th>\n",
       "      <td>마인즈랩</td>\n",
       "      <td>377480</td>\n",
       "      <td>소프트웨어 개발 및 공급업</td>\n",
       "      <td>종합 인공지능 엔진 및 플랫폼</td>\n",
       "      <td>2021-11-23</td>\n",
       "      <td>12월</td>\n",
       "      <td>유태준</td>\n",
       "      <td>maum.ai</td>\n",
       "      <td>대전광역시</td>\n",
       "    </tr>\n",
       "  </tbody>\n",
       "</table>\n",
       "</div>"
      ],
      "text/plain": [
       "           회사명    종목코드              업종              주요제품         상장일  결산월  \\\n",
       "0    미래에셋글로벌리츠  396690    부동산 임대 및 공급업           부동산 임대업  2021-12-03  03월   \n",
       "1  대신밸런스제11호스팩  397500      금융 지원 서비스업        금융 지원 서비스업  2021-12-02  12월   \n",
       "2           켈스  402420      의료용 기기 제조업         체외진단 의료기기  2021-11-30  12월   \n",
       "3        SK스퀘어  402340          기타 금융업              지주회사  2021-11-29  12월   \n",
       "4         마인즈랩  377480  소프트웨어 개발 및 공급업  종합 인공지능 엔진 및 플랫폼  2021-11-23  12월   \n",
       "\n",
       "  대표자명                      홈페이지     지역  \n",
       "0  신현준                       NaN  서울특별시  \n",
       "1  정재중                       NaN  서울특별시  \n",
       "2  이동호  http://www.thecalth.com/    경기도  \n",
       "3  박정호   http://www.sksquare.com  서울특별시  \n",
       "4  유태준                   maum.ai  대전광역시  "
      ]
     },
     "execution_count": 45,
     "metadata": {},
     "output_type": "execute_result"
    }
   ],
   "source": [
    "krx_list.head()"
   ]
  },
  {
   "cell_type": "code",
   "execution_count": 13,
   "metadata": {
    "ExecuteTime": {
     "end_time": "2021-12-03T13:47:36.335906Z",
     "start_time": "2021-12-03T13:47:36.329876Z"
    }
   },
   "outputs": [],
   "source": [
    "kospi_list = pd.read_csv(\"코스피200.csv\", encoding='cp949')"
   ]
  },
  {
   "cell_type": "code",
   "execution_count": 127,
   "metadata": {
    "ExecuteTime": {
     "end_time": "2021-12-03T16:42:17.734381Z",
     "start_time": "2021-12-03T16:42:17.729381Z"
    }
   },
   "outputs": [],
   "source": [
    "kospi_list['종목코드'] = kospi_list['종목코드'].map('{:06d}'.format)"
   ]
  },
  {
   "cell_type": "code",
   "execution_count": 131,
   "metadata": {
    "ExecuteTime": {
     "end_time": "2021-12-03T16:46:27.409539Z",
     "start_time": "2021-12-03T16:46:27.400514Z"
    }
   },
   "outputs": [
    {
     "data": {
      "text/html": [
       "<div>\n",
       "<style scoped>\n",
       "    .dataframe tbody tr th:only-of-type {\n",
       "        vertical-align: middle;\n",
       "    }\n",
       "\n",
       "    .dataframe tbody tr th {\n",
       "        vertical-align: top;\n",
       "    }\n",
       "\n",
       "    .dataframe thead th {\n",
       "        text-align: right;\n",
       "    }\n",
       "</style>\n",
       "<table border=\"1\" class=\"dataframe\">\n",
       "  <thead>\n",
       "    <tr style=\"text-align: right;\">\n",
       "      <th></th>\n",
       "      <th>종목코드</th>\n",
       "      <th>종목명</th>\n",
       "      <th>종가</th>\n",
       "      <th>대비</th>\n",
       "      <th>등락률</th>\n",
       "      <th>상장시가총액</th>\n",
       "    </tr>\n",
       "  </thead>\n",
       "  <tbody>\n",
       "    <tr>\n",
       "      <th>0</th>\n",
       "      <td>005930</td>\n",
       "      <td>삼성전자</td>\n",
       "      <td>75600</td>\n",
       "      <td>-200</td>\n",
       "      <td>-0.26</td>\n",
       "      <td>451315561.0</td>\n",
       "    </tr>\n",
       "    <tr>\n",
       "      <th>1</th>\n",
       "      <td>000660</td>\n",
       "      <td>SK하이닉스</td>\n",
       "      <td>118000</td>\n",
       "      <td>-2000</td>\n",
       "      <td>-1.67</td>\n",
       "      <td>85904279.0</td>\n",
       "    </tr>\n",
       "    <tr>\n",
       "      <th>2</th>\n",
       "      <td>035420</td>\n",
       "      <td>NAVER</td>\n",
       "      <td>402000</td>\n",
       "      <td>3500</td>\n",
       "      <td>0.88</td>\n",
       "      <td>66033885.0</td>\n",
       "    </tr>\n",
       "    <tr>\n",
       "      <th>3</th>\n",
       "      <td>207940</td>\n",
       "      <td>삼성바이오로직스</td>\n",
       "      <td>900000</td>\n",
       "      <td>8000</td>\n",
       "      <td>0.90</td>\n",
       "      <td>59548500.0</td>\n",
       "    </tr>\n",
       "    <tr>\n",
       "      <th>4</th>\n",
       "      <td>035720</td>\n",
       "      <td>카카오</td>\n",
       "      <td>123500</td>\n",
       "      <td>1000</td>\n",
       "      <td>0.82</td>\n",
       "      <td>55043733.0</td>\n",
       "    </tr>\n",
       "  </tbody>\n",
       "</table>\n",
       "</div>"
      ],
      "text/plain": [
       "     종목코드       종목명      종가    대비   등락률       상장시가총액\n",
       "0  005930      삼성전자   75600  -200 -0.26  451315561.0\n",
       "1  000660    SK하이닉스  118000 -2000 -1.67   85904279.0\n",
       "2  035420     NAVER  402000  3500  0.88   66033885.0\n",
       "3  207940  삼성바이오로직스  900000  8000  0.90   59548500.0\n",
       "4  035720       카카오  123500  1000  0.82   55043733.0"
      ]
     },
     "execution_count": 131,
     "metadata": {},
     "output_type": "execute_result"
    }
   ],
   "source": [
    "kospi_list.head()"
   ]
  },
  {
   "cell_type": "markdown",
   "metadata": {},
   "source": [
    "## pandas_datareader 테스트"
   ]
  },
  {
   "cell_type": "code",
   "execution_count": 69,
   "metadata": {
    "ExecuteTime": {
     "end_time": "2021-12-03T15:51:13.626968Z",
     "start_time": "2021-12-03T15:51:13.622966Z"
    }
   },
   "outputs": [],
   "source": [
    "dayInterval = 30\n",
    "baseDate = datetime.strptime(\"2021-09-10\", \"%Y-%m-%d\")\n",
    "startDate = (baseDate + timedelta(days = -dayInterval)).strftime(\"%Y-%m-%d\")\n",
    "endDate = (baseDate + timedelta(days = +dayInterval)).strftime(\"%Y-%m-%d\")"
   ]
  },
  {
   "cell_type": "code",
   "execution_count": 111,
   "metadata": {
    "ExecuteTime": {
     "end_time": "2021-12-03T16:34:44.597614Z",
     "start_time": "2021-12-03T16:34:43.283232Z"
    }
   },
   "outputs": [],
   "source": [
    "stock_test2 = pdr.get_data_yahoo('000660.ks', f'2020-02-01', f'2020-11-30')"
   ]
  },
  {
   "cell_type": "code",
   "execution_count": 110,
   "metadata": {
    "ExecuteTime": {
     "end_time": "2021-12-03T16:34:38.925117Z",
     "start_time": "2021-12-03T16:34:37.607027Z"
    }
   },
   "outputs": [],
   "source": [
    "stock_test = pdr.get_data_yahoo('000660.ks', f'{startDate}', f'{endDate}')"
   ]
  },
  {
   "cell_type": "code",
   "execution_count": 125,
   "metadata": {
    "ExecuteTime": {
     "end_time": "2021-12-03T16:36:44.200324Z",
     "start_time": "2021-12-03T16:36:44.194296Z"
    }
   },
   "outputs": [
    {
     "data": {
      "text/plain": [
       "[Timestamp('2020-02-10 00:00:00'),\n",
       " Timestamp('2020-05-11 00:00:00'),\n",
       " Timestamp('2020-02-12 00:00:00')]"
      ]
     },
     "execution_count": 125,
     "metadata": {},
     "output_type": "execute_result"
    }
   ],
   "source": [
    "random.sample(stock_test2.index.tolist(),3)"
   ]
  },
  {
   "cell_type": "code",
   "execution_count": 117,
   "metadata": {
    "ExecuteTime": {
     "end_time": "2021-12-03T16:35:44.809158Z",
     "start_time": "2021-12-03T16:35:44.805128Z"
    }
   },
   "outputs": [
    {
     "data": {
      "text/plain": [
       "'2020-02-03'"
      ]
     },
     "execution_count": 117,
     "metadata": {},
     "output_type": "execute_result"
    }
   ],
   "source": [
    "stock_test2.index.tolist()[0].strftime(\"%Y-%m-%d\")"
   ]
  },
  {
   "cell_type": "code",
   "execution_count": 70,
   "metadata": {
    "ExecuteTime": {
     "end_time": "2021-12-03T15:51:15.111448Z",
     "start_time": "2021-12-03T15:51:14.133936Z"
    }
   },
   "outputs": [],
   "source": [
    "stock_test = pdr.get_data_yahoo('000660.ks', f'{startDate}', f'{endDate}')"
   ]
  },
  {
   "cell_type": "code",
   "execution_count": 71,
   "metadata": {
    "ExecuteTime": {
     "end_time": "2021-12-03T15:51:15.116449Z",
     "start_time": "2021-12-03T15:51:15.112448Z"
    }
   },
   "outputs": [
    {
     "data": {
      "text/plain": [
       "Index(['High', 'Low', 'Open', 'Close', 'Volume', 'Adj Close'], dtype='object')"
      ]
     },
     "execution_count": 71,
     "metadata": {},
     "output_type": "execute_result"
    }
   ],
   "source": [
    "stock_test.columns"
   ]
  },
  {
   "cell_type": "markdown",
   "metadata": {},
   "source": [
    "# 분석함수 만들기"
   ]
  },
  {
   "cell_type": "markdown",
   "metadata": {},
   "source": [
    "* 구성요소\n",
    "    1. 날짜 추출 함수\n",
    "    2. 이전과 이후 한달 간의 주가 확인\n",
    "    3. 추출 당일의 주가가 이전 한달에 비해 어느 정도 수준인지 확인\n",
    "    4. 백분율로 환산\n",
    "    5. 위치가 어느정도 되는지 판단\n",
    "    6. 기간 _ 증가/감소 확인\n",
    "    7. aaa"
   ]
  },
  {
   "cell_type": "markdown",
   "metadata": {},
   "source": [
    "## 작동테스트"
   ]
  },
  {
   "cell_type": "code",
   "execution_count": 208,
   "metadata": {
    "ExecuteTime": {
     "end_time": "2021-12-04T01:09:26.570499Z",
     "start_time": "2021-12-04T01:09:26.565500Z"
    }
   },
   "outputs": [
    {
     "name": "stdout",
     "output_type": "stream",
     "text": [
      "40455\n"
     ]
    }
   ],
   "source": [
    "mdate = \"2010-10-05\"\n",
    "rdate = \"1899-12-31\"\n",
    "mdate1 = datetime.strptime(mdate, \"%Y-%m-%d\").date()\n",
    "rdate1 = datetime.strptime(rdate, \"%Y-%m-%d\").date()\n",
    "delta =  (mdate1 - rdate1).days\n",
    "print(delta)"
   ]
  },
  {
   "cell_type": "code",
   "execution_count": 74,
   "metadata": {
    "ExecuteTime": {
     "end_time": "2021-12-03T15:51:18.578219Z",
     "start_time": "2021-12-03T15:51:18.575250Z"
    }
   },
   "outputs": [],
   "source": [
    "#이전기간에서 상대적인 위치"
   ]
  },
  {
   "cell_type": "code",
   "execution_count": 202,
   "metadata": {
    "ExecuteTime": {
     "end_time": "2021-12-04T01:07:49.336794Z",
     "start_time": "2021-12-04T01:07:49.333794Z"
    }
   },
   "outputs": [],
   "source": [
    "stock_test_before = stock_test.loc[(stock_test.index <= baseDate.strftime(\"%Y-%m-%d\")),].copy()"
   ]
  },
  {
   "cell_type": "code",
   "execution_count": 217,
   "metadata": {
    "ExecuteTime": {
     "end_time": "2021-12-04T01:13:19.642142Z",
     "start_time": "2021-12-04T01:13:19.636141Z"
    }
   },
   "outputs": [],
   "source": [
    "stock_test_before['rank_pct'] = stock_test_before['Close'].rank(pct=True, ascending=False)*100/10\n",
    "stock_test_before['rank_pct'] = stock_test_before['rank_pct'].round(0)"
   ]
  },
  {
   "cell_type": "code",
   "execution_count": 204,
   "metadata": {
    "ExecuteTime": {
     "end_time": "2021-12-04T01:07:49.834549Z",
     "start_time": "2021-12-04T01:07:49.829550Z"
    }
   },
   "outputs": [
    {
     "data": {
      "text/plain": [
       "2021"
      ]
     },
     "execution_count": 204,
     "metadata": {},
     "output_type": "execute_result"
    }
   ],
   "source": [
    "stock_test_before.index[0].year"
   ]
  },
  {
   "cell_type": "code",
   "execution_count": 228,
   "metadata": {
    "ExecuteTime": {
     "end_time": "2021-12-04T01:23:10.285445Z",
     "start_time": "2021-12-04T01:23:10.280422Z"
    }
   },
   "outputs": [],
   "source": [
    "min_date = min(stock_test_before.index.tolist()).date()\n",
    "stock_test_before['dateInt'] = stock_test_before.index.map(lambda x : (x.date() - min_date).days + 1)"
   ]
  },
  {
   "cell_type": "code",
   "execution_count": 229,
   "metadata": {
    "ExecuteTime": {
     "end_time": "2021-12-04T01:23:10.658288Z",
     "start_time": "2021-12-04T01:23:10.648718Z"
    }
   },
   "outputs": [
    {
     "data": {
      "text/html": [
       "<div>\n",
       "<style scoped>\n",
       "    .dataframe tbody tr th:only-of-type {\n",
       "        vertical-align: middle;\n",
       "    }\n",
       "\n",
       "    .dataframe tbody tr th {\n",
       "        vertical-align: top;\n",
       "    }\n",
       "\n",
       "    .dataframe thead th {\n",
       "        text-align: right;\n",
       "    }\n",
       "</style>\n",
       "<table border=\"1\" class=\"dataframe\">\n",
       "  <thead>\n",
       "    <tr style=\"text-align: right;\">\n",
       "      <th></th>\n",
       "      <th>High</th>\n",
       "      <th>Low</th>\n",
       "      <th>Open</th>\n",
       "      <th>Close</th>\n",
       "      <th>Volume</th>\n",
       "      <th>Adj Close</th>\n",
       "      <th>rank_pct</th>\n",
       "      <th>dateInt</th>\n",
       "    </tr>\n",
       "    <tr>\n",
       "      <th>Date</th>\n",
       "      <th></th>\n",
       "      <th></th>\n",
       "      <th></th>\n",
       "      <th></th>\n",
       "      <th></th>\n",
       "      <th></th>\n",
       "      <th></th>\n",
       "      <th></th>\n",
       "    </tr>\n",
       "  </thead>\n",
       "  <tbody>\n",
       "    <tr>\n",
       "      <th>2021-08-11</th>\n",
       "      <td>110000</td>\n",
       "      <td>105000</td>\n",
       "      <td>109000</td>\n",
       "      <td>105500</td>\n",
       "      <td>13715267</td>\n",
       "      <td>105500</td>\n",
       "      <td>3.0</td>\n",
       "      <td>1</td>\n",
       "    </tr>\n",
       "    <tr>\n",
       "      <th>2021-08-12</th>\n",
       "      <td>104000</td>\n",
       "      <td>99800</td>\n",
       "      <td>102000</td>\n",
       "      <td>100500</td>\n",
       "      <td>19150647</td>\n",
       "      <td>100500</td>\n",
       "      <td>10.0</td>\n",
       "      <td>2</td>\n",
       "    </tr>\n",
       "    <tr>\n",
       "      <th>2021-08-13</th>\n",
       "      <td>101500</td>\n",
       "      <td>98900</td>\n",
       "      <td>99600</td>\n",
       "      <td>101500</td>\n",
       "      <td>11622957</td>\n",
       "      <td>101500</td>\n",
       "      <td>9.0</td>\n",
       "      <td>3</td>\n",
       "    </tr>\n",
       "    <tr>\n",
       "      <th>2021-08-17</th>\n",
       "      <td>103500</td>\n",
       "      <td>100500</td>\n",
       "      <td>101000</td>\n",
       "      <td>101500</td>\n",
       "      <td>7851717</td>\n",
       "      <td>101500</td>\n",
       "      <td>9.0</td>\n",
       "      <td>7</td>\n",
       "    </tr>\n",
       "    <tr>\n",
       "      <th>2021-08-18</th>\n",
       "      <td>105500</td>\n",
       "      <td>101500</td>\n",
       "      <td>103000</td>\n",
       "      <td>104000</td>\n",
       "      <td>8047599</td>\n",
       "      <td>104000</td>\n",
       "      <td>5.0</td>\n",
       "      <td>8</td>\n",
       "    </tr>\n",
       "    <tr>\n",
       "      <th>2021-08-19</th>\n",
       "      <td>105500</td>\n",
       "      <td>101500</td>\n",
       "      <td>103000</td>\n",
       "      <td>102500</td>\n",
       "      <td>6161038</td>\n",
       "      <td>102500</td>\n",
       "      <td>8.0</td>\n",
       "      <td>9</td>\n",
       "    </tr>\n",
       "    <tr>\n",
       "      <th>2021-08-20</th>\n",
       "      <td>104500</td>\n",
       "      <td>102000</td>\n",
       "      <td>104000</td>\n",
       "      <td>102500</td>\n",
       "      <td>4719139</td>\n",
       "      <td>102500</td>\n",
       "      <td>8.0</td>\n",
       "      <td>10</td>\n",
       "    </tr>\n",
       "    <tr>\n",
       "      <th>2021-08-23</th>\n",
       "      <td>105000</td>\n",
       "      <td>103000</td>\n",
       "      <td>104500</td>\n",
       "      <td>103000</td>\n",
       "      <td>4515699</td>\n",
       "      <td>103000</td>\n",
       "      <td>8.0</td>\n",
       "      <td>13</td>\n",
       "    </tr>\n",
       "    <tr>\n",
       "      <th>2021-08-24</th>\n",
       "      <td>105500</td>\n",
       "      <td>104000</td>\n",
       "      <td>104500</td>\n",
       "      <td>105000</td>\n",
       "      <td>4454743</td>\n",
       "      <td>105000</td>\n",
       "      <td>4.0</td>\n",
       "      <td>14</td>\n",
       "    </tr>\n",
       "    <tr>\n",
       "      <th>2021-08-25</th>\n",
       "      <td>106000</td>\n",
       "      <td>102500</td>\n",
       "      <td>106000</td>\n",
       "      <td>103500</td>\n",
       "      <td>3194555</td>\n",
       "      <td>103500</td>\n",
       "      <td>6.0</td>\n",
       "      <td>15</td>\n",
       "    </tr>\n",
       "    <tr>\n",
       "      <th>2021-08-26</th>\n",
       "      <td>106500</td>\n",
       "      <td>103500</td>\n",
       "      <td>106000</td>\n",
       "      <td>104000</td>\n",
       "      <td>3694741</td>\n",
       "      <td>104000</td>\n",
       "      <td>5.0</td>\n",
       "      <td>16</td>\n",
       "    </tr>\n",
       "    <tr>\n",
       "      <th>2021-08-27</th>\n",
       "      <td>104500</td>\n",
       "      <td>101000</td>\n",
       "      <td>103500</td>\n",
       "      <td>103500</td>\n",
       "      <td>3507782</td>\n",
       "      <td>103500</td>\n",
       "      <td>6.0</td>\n",
       "      <td>17</td>\n",
       "    </tr>\n",
       "    <tr>\n",
       "      <th>2021-08-30</th>\n",
       "      <td>105500</td>\n",
       "      <td>103500</td>\n",
       "      <td>105000</td>\n",
       "      <td>103500</td>\n",
       "      <td>1815758</td>\n",
       "      <td>103500</td>\n",
       "      <td>6.0</td>\n",
       "      <td>20</td>\n",
       "    </tr>\n",
       "    <tr>\n",
       "      <th>2021-08-31</th>\n",
       "      <td>106500</td>\n",
       "      <td>102000</td>\n",
       "      <td>103500</td>\n",
       "      <td>106500</td>\n",
       "      <td>4979276</td>\n",
       "      <td>106500</td>\n",
       "      <td>2.0</td>\n",
       "      <td>21</td>\n",
       "    </tr>\n",
       "    <tr>\n",
       "      <th>2021-09-01</th>\n",
       "      <td>108000</td>\n",
       "      <td>104500</td>\n",
       "      <td>106000</td>\n",
       "      <td>108000</td>\n",
       "      <td>4736183</td>\n",
       "      <td>108000</td>\n",
       "      <td>0.0</td>\n",
       "      <td>22</td>\n",
       "    </tr>\n",
       "    <tr>\n",
       "      <th>2021-09-02</th>\n",
       "      <td>108500</td>\n",
       "      <td>106000</td>\n",
       "      <td>108000</td>\n",
       "      <td>106500</td>\n",
       "      <td>2724565</td>\n",
       "      <td>106500</td>\n",
       "      <td>2.0</td>\n",
       "      <td>23</td>\n",
       "    </tr>\n",
       "    <tr>\n",
       "      <th>2021-09-03</th>\n",
       "      <td>107500</td>\n",
       "      <td>106000</td>\n",
       "      <td>106500</td>\n",
       "      <td>107000</td>\n",
       "      <td>2513486</td>\n",
       "      <td>107000</td>\n",
       "      <td>1.0</td>\n",
       "      <td>24</td>\n",
       "    </tr>\n",
       "    <tr>\n",
       "      <th>2021-09-06</th>\n",
       "      <td>107000</td>\n",
       "      <td>105000</td>\n",
       "      <td>106500</td>\n",
       "      <td>106000</td>\n",
       "      <td>1888595</td>\n",
       "      <td>106000</td>\n",
       "      <td>2.0</td>\n",
       "      <td>27</td>\n",
       "    </tr>\n",
       "    <tr>\n",
       "      <th>2021-09-07</th>\n",
       "      <td>106000</td>\n",
       "      <td>104000</td>\n",
       "      <td>105500</td>\n",
       "      <td>104500</td>\n",
       "      <td>2547667</td>\n",
       "      <td>104500</td>\n",
       "      <td>5.0</td>\n",
       "      <td>28</td>\n",
       "    </tr>\n",
       "    <tr>\n",
       "      <th>2021-09-08</th>\n",
       "      <td>107500</td>\n",
       "      <td>103500</td>\n",
       "      <td>104000</td>\n",
       "      <td>106000</td>\n",
       "      <td>2891267</td>\n",
       "      <td>106000</td>\n",
       "      <td>2.0</td>\n",
       "      <td>29</td>\n",
       "    </tr>\n",
       "    <tr>\n",
       "      <th>2021-09-09</th>\n",
       "      <td>106000</td>\n",
       "      <td>103000</td>\n",
       "      <td>105000</td>\n",
       "      <td>103000</td>\n",
       "      <td>3233011</td>\n",
       "      <td>103000</td>\n",
       "      <td>8.0</td>\n",
       "      <td>30</td>\n",
       "    </tr>\n",
       "    <tr>\n",
       "      <th>2021-09-10</th>\n",
       "      <td>105500</td>\n",
       "      <td>103000</td>\n",
       "      <td>103500</td>\n",
       "      <td>105000</td>\n",
       "      <td>1999369</td>\n",
       "      <td>105000</td>\n",
       "      <td>4.0</td>\n",
       "      <td>31</td>\n",
       "    </tr>\n",
       "  </tbody>\n",
       "</table>\n",
       "</div>"
      ],
      "text/plain": [
       "              High     Low    Open   Close    Volume  Adj Close  rank_pct  \\\n",
       "Date                                                                        \n",
       "2021-08-11  110000  105000  109000  105500  13715267     105500       3.0   \n",
       "2021-08-12  104000   99800  102000  100500  19150647     100500      10.0   \n",
       "2021-08-13  101500   98900   99600  101500  11622957     101500       9.0   \n",
       "2021-08-17  103500  100500  101000  101500   7851717     101500       9.0   \n",
       "2021-08-18  105500  101500  103000  104000   8047599     104000       5.0   \n",
       "2021-08-19  105500  101500  103000  102500   6161038     102500       8.0   \n",
       "2021-08-20  104500  102000  104000  102500   4719139     102500       8.0   \n",
       "2021-08-23  105000  103000  104500  103000   4515699     103000       8.0   \n",
       "2021-08-24  105500  104000  104500  105000   4454743     105000       4.0   \n",
       "2021-08-25  106000  102500  106000  103500   3194555     103500       6.0   \n",
       "2021-08-26  106500  103500  106000  104000   3694741     104000       5.0   \n",
       "2021-08-27  104500  101000  103500  103500   3507782     103500       6.0   \n",
       "2021-08-30  105500  103500  105000  103500   1815758     103500       6.0   \n",
       "2021-08-31  106500  102000  103500  106500   4979276     106500       2.0   \n",
       "2021-09-01  108000  104500  106000  108000   4736183     108000       0.0   \n",
       "2021-09-02  108500  106000  108000  106500   2724565     106500       2.0   \n",
       "2021-09-03  107500  106000  106500  107000   2513486     107000       1.0   \n",
       "2021-09-06  107000  105000  106500  106000   1888595     106000       2.0   \n",
       "2021-09-07  106000  104000  105500  104500   2547667     104500       5.0   \n",
       "2021-09-08  107500  103500  104000  106000   2891267     106000       2.0   \n",
       "2021-09-09  106000  103000  105000  103000   3233011     103000       8.0   \n",
       "2021-09-10  105500  103000  103500  105000   1999369     105000       4.0   \n",
       "\n",
       "            dateInt  \n",
       "Date                 \n",
       "2021-08-11        1  \n",
       "2021-08-12        2  \n",
       "2021-08-13        3  \n",
       "2021-08-17        7  \n",
       "2021-08-18        8  \n",
       "2021-08-19        9  \n",
       "2021-08-20       10  \n",
       "2021-08-23       13  \n",
       "2021-08-24       14  \n",
       "2021-08-25       15  \n",
       "2021-08-26       16  \n",
       "2021-08-27       17  \n",
       "2021-08-30       20  \n",
       "2021-08-31       21  \n",
       "2021-09-01       22  \n",
       "2021-09-02       23  \n",
       "2021-09-03       24  \n",
       "2021-09-06       27  \n",
       "2021-09-07       28  \n",
       "2021-09-08       29  \n",
       "2021-09-09       30  \n",
       "2021-09-10       31  "
      ]
     },
     "execution_count": 229,
     "metadata": {},
     "output_type": "execute_result"
    }
   ],
   "source": [
    "stock_test_before"
   ]
  },
  {
   "cell_type": "code",
   "execution_count": 179,
   "metadata": {
    "ExecuteTime": {
     "end_time": "2021-12-03T17:36:45.032896Z",
     "start_time": "2021-12-03T17:36:45.027864Z"
    }
   },
   "outputs": [
    {
     "data": {
      "text/plain": [
       "4.0"
      ]
     },
     "execution_count": 179,
     "metadata": {},
     "output_type": "execute_result"
    }
   ],
   "source": [
    "stock_test_before[stock_test_before.index == \"2021-09-10\"][\"rank_pct\"][0]"
   ]
  },
  {
   "cell_type": "code",
   "execution_count": 180,
   "metadata": {
    "ExecuteTime": {
     "end_time": "2021-12-03T17:36:47.332354Z",
     "start_time": "2021-12-03T17:36:47.328357Z"
    }
   },
   "outputs": [],
   "source": [
    "def randomStocks(cntStocks: int):\n",
    "    \n",
    "    \"\"\"\n",
    "    랜덤하게 종목 선정\n",
    "    \"\"\"\n",
    "    \n",
    "    return random.sample(kospi_list['종목코드'].tolist(), cntStocks)"
   ]
  },
  {
   "cell_type": "code",
   "execution_count": 181,
   "metadata": {
    "ExecuteTime": {
     "end_time": "2021-12-03T17:36:47.506873Z",
     "start_time": "2021-12-03T17:36:47.503871Z"
    }
   },
   "outputs": [],
   "source": [
    "def getDateList(startDate : str, endDate : str, code: str, cntDays: int):\n",
    "    \n",
    "    \"\"\"\n",
    "    yahoo 패키지의 경우 빈 값이 많음 이에 따라 값이 있는 데이터들에서 \n",
    "    랜덤하게 날짜를 추출해 보기로 함\n",
    "    \"\"\"\n",
    "    \n",
    "    stockDf = pdr.get_data_yahoo(f'{code}.ks', f'{startDate}', f'{endDate}')\n",
    "    \n",
    "    \n",
    "    return random.sample(stockDf.index.tolist(), cntDays)"
   ]
  },
  {
   "cell_type": "code",
   "execution_count": 184,
   "metadata": {
    "ExecuteTime": {
     "end_time": "2021-12-04T00:40:59.345285Z",
     "start_time": "2021-12-04T00:40:59.340283Z"
    }
   },
   "outputs": [
    {
     "data": {
      "text/plain": [
       "'2020-10-11'"
      ]
     },
     "execution_count": 184,
     "metadata": {},
     "output_type": "execute_result"
    }
   ],
   "source": [
    "randomDate(\"2020-01-01\", \"2020-12-30\")"
   ]
  },
  {
   "cell_type": "code",
   "execution_count": 182,
   "metadata": {
    "ExecuteTime": {
     "end_time": "2021-12-04T00:40:54.777641Z",
     "start_time": "2021-12-04T00:40:54.772611Z"
    }
   },
   "outputs": [],
   "source": [
    "def getDateVal(valDate : datetime, dayInterval : int):\n",
    "    \n",
    "    \"\"\"\n",
    "    문자형식으로 날짜를 받아, interval 간격 만큼의 기간 범위를 설정합니다.\n",
    "    \"\"\"\n",
    "    \n",
    "    baseDate_str = valDate.strftime(\"%Y-%m-%d\")\n",
    "    startDate = (valDate + timedelta(days = -dayInterval)).strftime(\"%Y-%m-%d\")\n",
    "    endDate = (valDate + timedelta(days = +dayInterval)).strftime(\"%Y-%m-%d\")\n",
    "    \n",
    "    return baseDate_str, startDate, endDate"
   ]
  },
  {
   "cell_type": "code",
   "execution_count": 231,
   "metadata": {
    "ExecuteTime": {
     "end_time": "2021-12-04T01:39:24.713277Z",
     "start_time": "2021-12-04T01:39:24.705238Z"
    }
   },
   "outputs": [],
   "source": [
    "def getStockValue(baseDate: datetime, code: str, dayInterval: int):\n",
    "    \n",
    "    \"\"\"\n",
    "    \n",
    "    \n",
    "    \"\"\"\n",
    "    \n",
    "    baseDate_str = baseDate.strftime(\"%Y-%m-%d\")\n",
    "    startDate = (baseDate + timedelta(days = -dayInterval)).strftime(\"%Y-%m-%d\")\n",
    "    endDate = (baseDate + timedelta(days = +dayInterval)).strftime(\"%Y-%m-%d\")    \n",
    "    \n",
    "    stockDf = pdr.get_data_yahoo(f'{code}.ks', f'{startDate}', f'{endDate}')\n",
    "    \n",
    "    #1. baseDate의 값 위치\n",
    "    stockDf_before = stockDf.loc[(stockDf.index <= baseDate_str),].copy()\n",
    "    stockDf_before['rank_pct'] = stockDf_before['Close'].rank(pct=True, ascending=True)*100/10\n",
    "    stockDf_before['rank_pct'] = stockDf_before['rank_pct'].round(0)\n",
    "    \n",
    "    #1. Output\n",
    "    stockDf_baseDate_rank - stockDf_before[stockDf_before.index == f\"{baseDate_str}\"][\"rank_pct\"][0]\n",
    "    stockDf_baseDate_Close - stockDf_before[stockDf_before.index == f\"{baseDate_str}\"][\"Close\"][0]\n",
    "    \n",
    "    \n",
    "    #2. baseDate 이후의 종가가 baseDate의 종가보다 높거나 낮은 일수\n",
    "    stockDf_after = stockDf.loc[(stockDf.index > baseDate_str),].copy()\n",
    "    stockDf_after['basePrice'] = stockDf_baseDate_Close\n",
    "    stockDf_after['priceGroup'] = stockDf_after['Close'].map(lambda x : 1 if x > stockDf_baseDate_Close else 0)\n",
    "    \n",
    "    upperCnt = sum(stockDf_after['priceGroup'].tolist())\n",
    "    totalCnt = len(stockDf_after['priceGroup'].tolist())\n",
    "    \n",
    "    #2. Output\n",
    "    probUpperCnt = int((upperCnt/totalCnt)*100)\n",
    "    \n",
    "    \n",
    "    #3. baseDate 이후의 주가 기울기\n",
    "    min_date = min(stockDf_after.index.tolist()).date()\n",
    "    stockDf_after['dateInt'] = stockDf_after.index.map(lambda x : (x.date() - min_date).days + 1)\n",
    "    regResult = sm.ols(fomula = \"Close ~ dateInt\", data = stockDf_after).fit()\n",
    "    \n",
    "    #3, Ouput\n",
    "    regSlope = regResult.params[1]\n",
    "    \n",
    "    return stockDf_baseDate_rank, probUpperCnt, regSlope"
   ]
  },
  {
   "cell_type": "code",
   "execution_count": 187,
   "metadata": {
    "ExecuteTime": {
     "end_time": "2021-12-04T00:51:19.754998Z",
     "start_time": "2021-12-04T00:51:19.750999Z"
    }
   },
   "outputs": [
    {
     "data": {
      "text/plain": [
       "5"
      ]
     },
     "execution_count": 187,
     "metadata": {},
     "output_type": "execute_result"
    }
   ],
   "source": [
    "len([1, 2, 3, 0, 0])"
   ]
  },
  {
   "cell_type": "code",
   "execution_count": 194,
   "metadata": {
    "ExecuteTime": {
     "end_time": "2021-12-04T00:59:07.374430Z",
     "start_time": "2021-12-04T00:59:07.371430Z"
    }
   },
   "outputs": [
    {
     "data": {
      "text/plain": [
       "34"
      ]
     },
     "execution_count": 194,
     "metadata": {},
     "output_type": "execute_result"
    }
   ],
   "source": [
    "int(0.335)"
   ]
  },
  {
   "cell_type": "code",
   "execution_count": 196,
   "metadata": {
    "ExecuteTime": {
     "end_time": "2021-12-04T00:59:18.687379Z",
     "start_time": "2021-12-04T00:59:18.683350Z"
    }
   },
   "outputs": [
    {
     "data": {
      "text/plain": [
       "33"
      ]
     },
     "execution_count": 196,
     "metadata": {},
     "output_type": "execute_result"
    }
   ],
   "source": [
    "int(0.335*100)"
   ]
  },
  {
   "cell_type": "code",
   "execution_count": null,
   "metadata": {},
   "outputs": [],
   "source": [
    "def getStockDict():\n",
    "    \n",
    "    #하락하락하락하락 횡보횡보 상승상승상승상승\n",
    "    \n",
    "    dictProbUpperCnt = dict()\n",
    "    dictRegSlope = dict()\n",
    "    \n",
    "    for stock_val in randomStocks():\n",
    "        \n",
    "        for date_val in getDateList():\n",
    "            \n",
    "            \n",
    "            "
   ]
  }
 ],
 "metadata": {
  "kernelspec": {
   "display_name": "Python 3",
   "language": "python",
   "name": "python3"
  },
  "language_info": {
   "codemirror_mode": {
    "name": "ipython",
    "version": 3
   },
   "file_extension": ".py",
   "mimetype": "text/x-python",
   "name": "python",
   "nbconvert_exporter": "python",
   "pygments_lexer": "ipython3",
   "version": "3.8.3"
  },
  "toc": {
   "base_numbering": 1,
   "nav_menu": {},
   "number_sections": true,
   "sideBar": true,
   "skip_h1_title": false,
   "title_cell": "Table of Contents",
   "title_sidebar": "Contents",
   "toc_cell": false,
   "toc_position": {},
   "toc_section_display": true,
   "toc_window_display": false
  }
 },
 "nbformat": 4,
 "nbformat_minor": 4
}
